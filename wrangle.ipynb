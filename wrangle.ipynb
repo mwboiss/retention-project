{
 "cells": [
  {
   "cell_type": "markdown",
   "id": "551eb511-a0ea-48fb-a9fa-55ffb883c9c0",
   "metadata": {
    "tags": []
   },
   "source": [
    "# Retention Project Wrangle Workbook"
   ]
  },
  {
   "cell_type": "code",
   "execution_count": 1,
   "id": "cb31f482-477f-425a-a092-6a3060bdae81",
   "metadata": {
    "tags": []
   },
   "outputs": [],
   "source": [
    "# Import for Data Manipulation\n",
    "import pandas as pd\n",
    "import numpy as np \n",
    "\n",
    "# Import for Data Visualization\n",
    "import seaborn as sns\n",
    "from matplotlib import pyplot as plt\n",
    "import squarify\n",
    "\n",
    "# Import for data acquisition and prep\n",
    "import wrangle\n",
    "\n",
    "# Import for Scaling and Spliting the data\n",
    "from sklearn.model_selection import train_test_split\n",
    "from sklearn.preprocessing import MinMaxScaler\n",
    "from sklearn.impute import SimpleImputer\n",
    "\n",
    "# Import for hypothesis testing\n",
    "from scipy import stats\n",
    "\n",
    "# Import for Classification models\n",
    "from sklearn.tree import DecisionTreeClassifier, plot_tree\n",
    "from sklearn.ensemble import RandomForestClassifier\n",
    "from sklearn.neighbors import KNeighborsClassifier\n",
    "from sklearn.linear_model import LogisticRegression\n",
    "\n",
    "# Import for analysis of classification models\n",
    "from sklearn.metrics import classification_report\n",
    "from sklearn.metrics import confusion_matrix\n",
    "\n",
    "# Import for Clustering\n",
    "from sklearn.cluster import KMeans\n",
    "\n",
    "# Import to ignore warnings\n",
    "import warnings\n",
    "warnings.filterwarnings('ignore')\n",
    "\n",
    "# Set to see all rows and columns\n",
    "pd.options.display.max_columns = None\n",
    "pd.options.display.max_rows = None\n",
    "pd.options.display.max_colwidth = None"
   ]
  },
  {
   "cell_type": "code",
   "execution_count": 2,
   "id": "d5c24468-77d8-4f15-a6fc-efdf170c3d75",
   "metadata": {
    "tags": []
   },
   "outputs": [],
   "source": [
    "# Test Functions\n",
    "df = wrangle.acquire_student_data()\n",
    "# df.head()"
   ]
  },
  {
   "cell_type": "code",
   "execution_count": 3,
   "id": "407f51df-7842-4725-a88a-29ad2d4f019d",
   "metadata": {},
   "outputs": [],
   "source": [
    "students, sparse_dummies = wrangle.prep_student_data(df)\n",
    "# students.head()"
   ]
  },
  {
   "cell_type": "code",
   "execution_count": 4,
   "id": "590ae7c5-84ba-4ec4-87fc-64ee5ec3a475",
   "metadata": {},
   "outputs": [],
   "source": [
    "# sparse_dummies.head()"
   ]
  },
  {
   "cell_type": "markdown",
   "id": "5a703992-8a41-4806-9e15-79030ac8714d",
   "metadata": {},
   "source": [
    "## Questions beyond the data\n",
    "\n",
    "- Does data account for major changes? \n",
    "- Which students were fall to fall and spring to spring?\n",
    "- How to account for students who skip a semester?\n",
    "- How to make each student a single row and seperate students into subsamples?\n"
   ]
  },
  {
   "cell_type": "markdown",
   "id": "a80e5104-3787-4007-8873-d74738ac0ad9",
   "metadata": {
    "tags": []
   },
   "source": [
    "# Acquire"
   ]
  },
  {
   "cell_type": "code",
   "execution_count": 5,
   "id": "b2bda9ce-417b-4dc4-b8e6-f5b231feea29",
   "metadata": {
    "tags": []
   },
   "outputs": [],
   "source": [
    "# students = pd.read_excel('college_retention_data.xlsx')"
   ]
  },
  {
   "cell_type": "code",
   "execution_count": 6,
   "id": "039392b8-a767-4ac1-bffa-adeaf02191a8",
   "metadata": {
    "tags": []
   },
   "outputs": [],
   "source": [
    "# def acquire_student_data():\n",
    "#     '''\n",
    "#     This function reads in a excel file and returns it as a dataframe.\n",
    "#     '''\n",
    "#     # Read excel into df\n",
    "#     df = pd.read_excel('college_retention_data.xlsx')\n",
    "#     # Return df\n",
    "#     return df"
   ]
  },
  {
   "cell_type": "code",
   "execution_count": 7,
   "id": "5ed31b53-c40a-4117-8327-9521a3f4e0c8",
   "metadata": {
    "tags": []
   },
   "outputs": [],
   "source": [
    "# Read in Data dictionary\n",
    "# data_dict = pd.read_excel('college_retention_data.xlsx',sheet_name=1)"
   ]
  },
  {
   "cell_type": "code",
   "execution_count": 8,
   "id": "204b82b8-9fee-411b-8eb7-864ad9faae1d",
   "metadata": {
    "tags": []
   },
   "outputs": [],
   "source": [
    "# def acquire_data_dict():\n",
    "#     '''\n",
    "#     This funciton acquires the included data dictionary.\n",
    "#     '''\n",
    "#     # Read dictionary into dataframe\n",
    "#     df = pd.read_excel('college_retention_data.xlsx',sheet_name=1)\n",
    "#     # Return the dataframe\n",
    "#     return df"
   ]
  },
  {
   "cell_type": "markdown",
   "id": "39a097fd-8c11-4bd1-9a74-eb03b8e8352a",
   "metadata": {
    "tags": []
   },
   "source": [
    "# Prep"
   ]
  },
  {
   "cell_type": "markdown",
   "id": "91a9af19-7755-4ef5-a1c6-b35ecbaafee6",
   "metadata": {
    "tags": []
   },
   "source": [
    "## Student Data Prep"
   ]
  },
  {
   "cell_type": "code",
   "execution_count": 9,
   "id": "56998b2a-e377-41ee-b87a-82941520f7f7",
   "metadata": {
    "tags": []
   },
   "outputs": [],
   "source": [
    "# # Create function to manipulate cip df for ease of use\n",
    "# def get_cip_codes():\n",
    "#     # read in df\n",
    "#     cip = pd.read_csv('cip_codes.csv')\n",
    "#     # Narrow down df\n",
    "#     cip = cip[['Title','CIP Code']]\n",
    "#     # Fix columns\n",
    "#     cip.columns = [col.lower().replace(' ','_') for col in cip]\n",
    "#     # fix cip values\n",
    "#     cip['cip_code'] = cip.cip_code.apply(lambda x: x[2:4])\n",
    "#     # make int\n",
    "#     cip['cip_code'] = cip.cip_code.astype('int')\n",
    "#     # Rename cip column\n",
    "#     cip = cip.rename(columns={'cip_code':'cip'})\n",
    "#     # fix title vlaues\n",
    "#     cip['title'] = cip.title.apply(lambda x: x.lower().replace(' ' , '_').replace( '.' , ''))\n",
    "#     # return df\n",
    "#     return cip"
   ]
  },
  {
   "cell_type": "code",
   "execution_count": 10,
   "id": "1a2b4021-2f13-4d47-a71e-6af55e49196c",
   "metadata": {
    "tags": []
   },
   "outputs": [],
   "source": [
    "# # Test Function from wrangle.py\n",
    "# students = wrangle.acquire_student_data()"
   ]
  },
  {
   "cell_type": "code",
   "execution_count": 11,
   "id": "585d6d95-cf83-4069-914d-20ef595af13a",
   "metadata": {
    "tags": []
   },
   "outputs": [],
   "source": [
    "# # Lowercase all column names\n",
    "# students.columns = [col.lower() for col in students]"
   ]
  },
  {
   "cell_type": "code",
   "execution_count": 12,
   "id": "9ee28685-0fea-4bf3-92eb-6a456c5f2104",
   "metadata": {
    "tags": []
   },
   "outputs": [],
   "source": [
    "# # Change column names for ease of use\n",
    "# students = students.rename(columns={'fakeid':'id','enrolled_1_back':'enrolled_between','student_classif':'student_year',\\\n",
    "#                                     'originaltype':'enroll_type','cip_2dig':'cip','astd':'academic_standing',\\\n",
    "#                                     'dubya_count_term':'withdrawal','span':'yrs_since_start','days_between':'reg_before_start'})"
   ]
  },
  {
   "cell_type": "code",
   "execution_count": 13,
   "id": "bc2ffad2-723c-44cf-a294-3e5c7b9aaf39",
   "metadata": {
    "tags": []
   },
   "outputs": [],
   "source": [
    "# # Drop Nulls for initial pass\n",
    "# students = students.dropna()"
   ]
  },
  {
   "cell_type": "code",
   "execution_count": 14,
   "id": "95d1ff4f-478b-46ae-9085-bf21c1bdb677",
   "metadata": {
    "tags": []
   },
   "outputs": [],
   "source": [
    "# # Drop UN cip value\n",
    "# students = students[students['cip'] != 'UN']\n",
    "# # Retrieve cip codes with descriptions and return dataframe\n",
    "# cip = get_cip_codes()"
   ]
  },
  {
   "cell_type": "code",
   "execution_count": 15,
   "id": "d751a91f-1a7a-463b-b84f-bec73710a844",
   "metadata": {
    "tags": []
   },
   "outputs": [],
   "source": [
    "# students = pd.merge(students,cip, on='cip', how='left')"
   ]
  },
  {
   "cell_type": "code",
   "execution_count": 16,
   "id": "84dcc606-536b-439f-890b-e84ac687d7b6",
   "metadata": {
    "tags": []
   },
   "outputs": [],
   "source": [
    "# students.withdrawal.value_counts()"
   ]
  },
  {
   "cell_type": "code",
   "execution_count": 17,
   "id": "b7e65217-61b5-4f75-8cd8-09d92e623448",
   "metadata": {
    "tags": []
   },
   "outputs": [],
   "source": [
    "# # One hot encode categorical columns\n",
    "# # Replace (1,0): retained, enrolled_between, sex, time_status, pell_ever, academic_standing, fa_recd, withdrawal\n",
    "# students['retained'] = students.retained.str.replace('Y', '1').str.replace('N', '0')\n",
    "# students['enrolled_between'] = students.enrolled_between.str.replace('Y', '1').str.replace('N', '0')\n",
    "# students['sex'] = students.sex.str.replace('F', '1').str.replace('M', '0')\n",
    "# students['time_status'] = students.time_status.str.replace('FULL', '1').str.replace('PART', '0')\n",
    "# students['pell_ever'] = students.pell_ever.str.replace('Y', '1').str.replace('N', '0')\n",
    "# students['academic_standing'] = students.academic_standing.str.replace('GOODBIN', '1').str.replace('ISSUEBIN', '0')\n",
    "# students['fa_recd'] = students.fa_recd.str.replace('Y', '1').str.replace('N', '0')\n",
    "# students['withdrawal'] = students.withdrawal.str.replace('ONE_OR_MORE', '1').str.replace('NONE', '0')\n",
    "# # Reassign as int type\n",
    "# students[['retained','enrolled_between','sex','time_status','pell_ever','academic_standing','fa_recd','withdrawal']] = \\\n",
    "# students[['retained','enrolled_between','sex','time_status','pell_ever','academic_standing','fa_recd','withdrawal']].astype('int')\n",
    "# # Create dummies: race_ethn, fgen, student_year, enroll_type, cip, age_at_start_term, act, depend_status, yrs_since_start\n",
    "# dummy_name = pd.get_dummies(students[['race_ethn','fgen','student_year','enroll_type','title','age_at_start_term','act','depend_status','yrs_since_start']],dummy_na=False)\n",
    "# # Combine df's\n",
    "# students = pd.concat([students,dummy_name],axis=1)"
   ]
  },
  {
   "cell_type": "code",
   "execution_count": 18,
   "id": "4c78d485-de66-4965-ab30-7453fbbba0a4",
   "metadata": {
    "tags": []
   },
   "outputs": [],
   "source": [
    "# # Create prep function\n",
    "# def prep_student_data(df):\n",
    "#     '''\n",
    "#     This function takes in the acquired dataframe and prepare the data for exploration.\n",
    "#     '''\n",
    "#     # Lowercase all column names\n",
    "#     df.columns = [col.lower() for col in df]\n",
    "#     # Change column names for ease of use\n",
    "#     df = df.rename(columns={'fakeid':'id','enrolled_1_back':'enrolled_between','student_classif':'student_year',\\\n",
    "#                                     'originaltype':'enroll_type','cip_2dig':'cip','astd':'academic_standing',\\\n",
    "#                                     'dubya_count_term':'withdrawal','span':'yrs_since_start','days_between':'reg_before_start'})\n",
    "#     # Drop Nulls for initial pass\n",
    "#     df = df.dropna()\n",
    "    \n",
    "#     # Drop UN cip value\n",
    "#     df = df[df['cip'] != 'UN']\n",
    "#     # Retrieve cip codes with descriptions and return dataframe\n",
    "#     cip = get_cip_codes()\n",
    "#     # Merge the df's\n",
    "#     students = pd.merge(students,cip, on='cip', how='left')\n",
    "\n",
    "#     # fix age at start term variables (23 - 29, to 23-29)\n",
    "#     df['age_at_start_term'] = df.age_at_start_term.str.replace(' ','')\n",
    "    \n",
    "#     # One hot encode categorical columns\n",
    "#     # Replace (1,0): retained, enrolled_between, sex, time_status, pell_ever, academic_standing, fa_recd, withdrawal\n",
    "#     df['retained'] = df.retained.str.replace('Y', '1').str.replace('N', '0')\n",
    "#     df['enrolled_between'] = df.enrolled_between.str.replace('Y', '1').str.replace('N', '0')\n",
    "#     df['sex'] = df.sex.str.replace('F', '1').str.replace('M', '0')\n",
    "#     df['time_status'] = df.time_status.str.replace('FULL', '1').str.replace('PART', '0')\n",
    "#     df['pell_ever'] = df.pell_ever.str.replace('Y', '1').str.replace('N', '0')\n",
    "#     df['academic_standing'] = df.academic_standing.str.replace('GOODBIN', '1').str.replace('ISSUEBIN', '0')\n",
    "#     df['fa_recd'] = df.fa_recd.str.replace('Y', '1').str.replace('N', '0')\n",
    "#     df['withdrawal'] = df.withdrawal.str.replace('ONE_OR_MORE', '1').str.replace('NONE', '0')\n",
    "\n",
    "#     # Reassign as int type\n",
    "#     df[['retained','enrolled_between','sex','time_status','pell_ever','academic_standing','fa_recd','withdrawal']] = \\\n",
    "#     df[['retained','enrolled_between','sex','time_status','pell_ever','academic_standing','fa_recd','withdrawal']].astype('int')\n",
    "     \n",
    "#     # Create dummies: race_ethn, fgen, student_year, enroll_type, cip, age_at_start_term, act, depend_status, yrs_since_start\n",
    "#     dummy_name = pd.get_dummies(df[['race_ethn','fgen','student_year','enroll_type','title','age_at_start_term','act','depend_status','yrs_since_start']],dummy_na=False)\n",
    "\n",
    "#     # Combine df's\n",
    "#     df = pd.concat([df,dummy_name],axis=1)\n",
    "    \n",
    "#     # Return cleaned df\n",
    "#     return df"
   ]
  },
  {
   "cell_type": "markdown",
   "id": "e6ceaba5-c60f-4dbe-866c-fa3e26eedb3f",
   "metadata": {
    "tags": []
   },
   "source": [
    "# TODO\n",
    "\n",
    "- Research where to impute, scale and split\n",
    "\n",
    "\n",
    "\n",
    "- Address nulls\n",
    "\n",
    "    - efc: 1/3 missing, suspicious max (impute?)\n",
    "\n",
    "    - hs_gpa: 55% missing, potentially drop, normal distribution possibly (impute or drop?)"
   ]
  },
  {
   "cell_type": "markdown",
   "id": "5c2082ce-af67-4061-8bca-681ce0da8fbc",
   "metadata": {
    "tags": []
   },
   "source": [
    "## Split"
   ]
  },
  {
   "cell_type": "code",
   "execution_count": 19,
   "id": "b39ee5ff-1f03-4d95-9d0a-894ee7d71eef",
   "metadata": {},
   "outputs": [],
   "source": [
    "# def split_data(df,target):\n",
    "#     '''\n",
    "#     This funciton splits the dataset for modeling into:\n",
    "#     train - for exploring the data, and fitting the models\n",
    "#     validate - for ensuring the model is not overfit\n",
    "#     test - for testing the model on unseen data\n",
    "#     '''\n",
    "#     # This seperates out the test data from the train and validate data. Test makes up 20 % of the data.\n",
    "#     train_validate, test = train_test_split(df, random_state=1729, test_size=0.2, stratify=df[target])\n",
    "    \n",
    "#     # This seperates out the train and validates sets. Train makes up 56 % of the data and Validate makes up 24 %.\n",
    "#     train, validate = train_test_split(train_validate, random_state=1729, test_size=0.3, stratify=train_validate[target])\n",
    "    \n",
    "#     # The funciton returns the split sets\n",
    "#     return train, validate, test\n"
   ]
  },
  {
   "cell_type": "code",
   "execution_count": 20,
   "id": "398952cb-3191-4ebf-93ee-bc5eff2890b6",
   "metadata": {
    "tags": []
   },
   "outputs": [],
   "source": [
    "# Split Data for further exploration\n",
    "target = 'retained'\n",
    "train, validate, test = wrangle.split_data(students, target)\n",
    "# train.head()"
   ]
  },
  {
   "cell_type": "markdown",
   "id": "b89ccc42-59a9-497a-9bd3-84a3bf20943b",
   "metadata": {
    "tags": []
   },
   "source": [
    "## Scaling"
   ]
  },
  {
   "cell_type": "code",
   "execution_count": 21,
   "id": "45d949d5-41d2-4e97-8208-b9dbadfa144e",
   "metadata": {},
   "outputs": [],
   "source": [
    "# def scale_data(train, validate, test, return_scaler=False):\n",
    "#     '''\n",
    "#     This function scales the split data and returns a scaled version of the dataset.\n",
    "    \n",
    "#     If return_scaler is true, the scaler will be returned as well.\n",
    "#     '''\n",
    "    \n",
    "#     col = train.columns[train.dtypes == 'float']\n",
    "#     col = col.append(train.columns[train.dtypes == 'int'])\n",
    "\n",
    "#     train_scaled = train[col]\n",
    "#     validate_scaled = validate[col]\n",
    "#     test_scaled = test[col]\n",
    "\n",
    "#     scaler = MinMaxScaler()\n",
    "#     scaler.fit(train[col])\n",
    "    \n",
    "#     train_scaled[col] = scaler.transform(train[col])\n",
    "#     validate_scaled[col] = scaler.transform(validate[col])\n",
    "#     test_scaled[col] = scaler.transform(test[col])\n",
    "    \n",
    "#     if return_scaler:\n",
    "#         return train_scaled, validate_scaled, test_scaled, scaler\n",
    "#     else:\n",
    "#         return train_scaled, validate_scaled, test_scaled\n"
   ]
  },
  {
   "cell_type": "code",
   "execution_count": 22,
   "id": "3ddc4ec4-027e-4ee9-92a2-e0e169cd0cdf",
   "metadata": {
    "tags": []
   },
   "outputs": [],
   "source": [
    "# Scale data\n",
    "train_scaled, validate_scaled, test_scaled = wrangle.scale_data(train,validate,test)\n",
    "# train_scaled.head()"
   ]
  },
  {
   "cell_type": "markdown",
   "id": "9c03f183-1925-466f-bf9b-3a8fd7375906",
   "metadata": {
    "tags": []
   },
   "source": [
    "## Impute"
   ]
  },
  {
   "cell_type": "markdown",
   "id": "27141f82-e937-4e56-90c3-6afb04711c30",
   "metadata": {
    "tags": []
   },
   "source": [
    "### efc"
   ]
  },
  {
   "cell_type": "code",
   "execution_count": 23,
   "id": "69cd878f-231d-4644-8ed7-6fc153aaccb8",
   "metadata": {},
   "outputs": [],
   "source": [
    "# Impute efc Function\n",
    "#def impute_efc():"
   ]
  },
  {
   "cell_type": "code",
   "execution_count": 24,
   "id": "bb57aad2-7901-4603-8295-6f8491b5e806",
   "metadata": {},
   "outputs": [],
   "source": [
    "#df.isnull().sum()"
   ]
  },
  {
   "cell_type": "code",
   "execution_count": 25,
   "id": "0c053ddb-7d87-4f59-900a-9f292c87b407",
   "metadata": {},
   "outputs": [],
   "source": [
    "#df.efc.isnull().value_counts(normalize=True)"
   ]
  },
  {
   "cell_type": "code",
   "execution_count": 26,
   "id": "ce33f579-ae2e-4cf8-b1fc-e766bc9f9a47",
   "metadata": {},
   "outputs": [],
   "source": [
    "#df.drop(columns=['efc','hs_gpa']).dropna().shape"
   ]
  },
  {
   "cell_type": "code",
   "execution_count": 27,
   "id": "0c657d7b-10a0-4eff-8cfa-642710493a6c",
   "metadata": {},
   "outputs": [],
   "source": [
    "#df[~df.hs_gpa.isnull()].efc.isnull().value_counts(normalize=True)"
   ]
  },
  {
   "cell_type": "code",
   "execution_count": 28,
   "id": "49faa047-e3e9-4c7a-8190-6c73a6445a12",
   "metadata": {},
   "outputs": [],
   "source": [
    "#df[~df.hs_gpa.isnull()].efc.isnull().shape"
   ]
  },
  {
   "cell_type": "code",
   "execution_count": 29,
   "id": "9b283208-5a08-4588-9530-09481558a9b3",
   "metadata": {},
   "outputs": [],
   "source": [
    "#df[df.hs_gpa.isnull()].efc.isnull().value_counts(normalize=True)"
   ]
  },
  {
   "cell_type": "code",
   "execution_count": 30,
   "id": "97a8d851-399c-40b5-b517-75e34b1cdb19",
   "metadata": {},
   "outputs": [],
   "source": [
    "#df[df.hs_gpa.isnull()].efc.isnull().shape"
   ]
  },
  {
   "cell_type": "code",
   "execution_count": 31,
   "id": "1d046169-9191-46de-97f8-390ccd804b84",
   "metadata": {},
   "outputs": [],
   "source": [
    "# students.students[students.efc == 0].value_counts()[0] / 319861"
   ]
  },
  {
   "cell_type": "code",
   "execution_count": 32,
   "id": "f92653d2-d586-49b5-adb0-d905c60ab5f5",
   "metadata": {},
   "outputs": [],
   "source": [
    "# students.efc.isnull().value_counts(normalize=True)"
   ]
  },
  {
   "cell_type": "markdown",
   "id": "b28fa537-f6dd-41ed-adf3-c88c3717dc32",
   "metadata": {},
   "source": [
    "- 30 percent of students have an efc of 0 even after the drop null"
   ]
  },
  {
   "cell_type": "code",
   "execution_count": 33,
   "id": "9faa1689-83fe-47da-aaec-a46a27e45e49",
   "metadata": {},
   "outputs": [
    {
     "data": {
      "text/plain": [
       "count    319931.000000\n",
       "mean       9144.643736\n",
       "std       21718.309328\n",
       "min           0.000000\n",
       "25%           0.000000\n",
       "50%        3441.000000\n",
       "75%       10704.000000\n",
       "max      999999.000000\n",
       "Name: efc, dtype: float64"
      ]
     },
     "execution_count": 33,
     "metadata": {},
     "output_type": "execute_result"
    }
   ],
   "source": [
    "df.efc.describe()"
   ]
  },
  {
   "cell_type": "code",
   "execution_count": 34,
   "id": "4996c76d-e214-4be2-9199-4075a7e37618",
   "metadata": {},
   "outputs": [],
   "source": [
    "lost_data_efc = df[df.efc.isnull() == True]"
   ]
  },
  {
   "cell_type": "code",
   "execution_count": 35,
   "id": "2d269077-68f7-40db-9234-54e0f6bc7d3d",
   "metadata": {},
   "outputs": [],
   "source": [
    "# lost_data_efc.head()"
   ]
  },
  {
   "cell_type": "code",
   "execution_count": 36,
   "id": "a4943b97-ba11-4d7b-9d7c-fdbb0372b28a",
   "metadata": {},
   "outputs": [
    {
     "data": {
      "text/plain": [
       "(128245, 22)"
      ]
     },
     "execution_count": 36,
     "metadata": {},
     "output_type": "execute_result"
    }
   ],
   "source": [
    "lost_data_efc.shape"
   ]
  },
  {
   "cell_type": "code",
   "execution_count": 37,
   "id": "cfd5de90-b36e-4817-9ab9-3a16fd99827d",
   "metadata": {},
   "outputs": [
    {
     "data": {
      "text/plain": [
       "unk    128244\n",
       "DEP         1\n",
       "Name: depend_status, dtype: int64"
      ]
     },
     "execution_count": 37,
     "metadata": {},
     "output_type": "execute_result"
    }
   ],
   "source": [
    "lost_data_efc.depend_status.value_counts()"
   ]
  },
  {
   "cell_type": "code",
   "execution_count": null,
   "id": "4c689f28-3359-4cf5-a05a-dbb198e0b0fa",
   "metadata": {},
   "outputs": [],
   "source": []
  },
  {
   "cell_type": "code",
   "execution_count": null,
   "id": "1a22ce60-846d-4b6a-b335-f0e37d835e17",
   "metadata": {},
   "outputs": [],
   "source": []
  },
  {
   "cell_type": "code",
   "execution_count": null,
   "id": "99c6d896-212c-4cca-8ab5-969bb4d0a03e",
   "metadata": {},
   "outputs": [],
   "source": []
  },
  {
   "cell_type": "markdown",
   "id": "edd4e106-55b6-4181-95c3-3160473838cc",
   "metadata": {
    "tags": []
   },
   "source": [
    "### hs_gpa"
   ]
  },
  {
   "cell_type": "code",
   "execution_count": 38,
   "id": "49dc4890-bddc-4cfa-8912-22fc17f0b867",
   "metadata": {},
   "outputs": [
    {
     "data": {
      "text/plain": [
       "(200811, 22)"
      ]
     },
     "execution_count": 38,
     "metadata": {},
     "output_type": "execute_result"
    }
   ],
   "source": [
    "df[~df.hs_gpa.isnull()].shape"
   ]
  },
  {
   "cell_type": "code",
   "execution_count": 39,
   "id": "621fac7d-93e5-42e1-9108-2a8d9ecacfa0",
   "metadata": {},
   "outputs": [
    {
     "data": {
      "text/plain": [
       "(247365, 22)"
      ]
     },
     "execution_count": 39,
     "metadata": {},
     "output_type": "execute_result"
    }
   ],
   "source": [
    "df[df.hs_gpa.isnull()].shape"
   ]
  },
  {
   "cell_type": "code",
   "execution_count": 40,
   "id": "18d9d8e7-eff2-4af3-9ed4-fb6dc876e66f",
   "metadata": {},
   "outputs": [
    {
     "data": {
      "text/plain": [
       "(448176, 22)"
      ]
     },
     "execution_count": 40,
     "metadata": {},
     "output_type": "execute_result"
    }
   ],
   "source": [
    "df.shape"
   ]
  },
  {
   "cell_type": "code",
   "execution_count": 41,
   "id": "d4a0f878-712f-4e0a-bbde-3732542d79da",
   "metadata": {},
   "outputs": [],
   "source": [
    "# Impute hs_gpa function\n",
    "#def impute_hs_gpa():"
   ]
  },
  {
   "cell_type": "code",
   "execution_count": 42,
   "id": "d9307318-a20a-4692-ba34-054f1f129316",
   "metadata": {},
   "outputs": [],
   "source": [
    "# students.hs_gpa.describe()"
   ]
  },
  {
   "cell_type": "code",
   "execution_count": 43,
   "id": "1cb67c1a-4723-4da1-9929-b6a4de5fe1d0",
   "metadata": {},
   "outputs": [],
   "source": [
    "# students[students.efc > 4]"
   ]
  },
  {
   "cell_type": "code",
   "execution_count": 44,
   "id": "82fe5739-75c5-4f00-87cc-82f651488d2b",
   "metadata": {},
   "outputs": [
    {
     "data": {
      "text/plain": [
       "(448086, 87)"
      ]
     },
     "execution_count": 44,
     "metadata": {},
     "output_type": "execute_result"
    }
   ],
   "source": [
    "students.shape"
   ]
  },
  {
   "cell_type": "code",
   "execution_count": 45,
   "id": "c86c8f6c-437a-46c9-80d2-25bd38cb17aa",
   "metadata": {},
   "outputs": [],
   "source": [
    "lost_data_hs_gpa = df[df.hs_gpa.isnull() == True]"
   ]
  },
  {
   "cell_type": "code",
   "execution_count": 46,
   "id": "ab246d2a-d1f6-4cd4-a8f1-90a5280be5e5",
   "metadata": {},
   "outputs": [],
   "source": [
    "# lost_data_hs_gpa.head()"
   ]
  },
  {
   "cell_type": "code",
   "execution_count": 47,
   "id": "c50c2e66-4ed5-46ce-8c0b-e50a9ceea186",
   "metadata": {},
   "outputs": [
    {
     "data": {
      "text/plain": [
       "(247365, 22)"
      ]
     },
     "execution_count": 47,
     "metadata": {},
     "output_type": "execute_result"
    }
   ],
   "source": [
    "lost_data_hs_gpa.shape"
   ]
  },
  {
   "cell_type": "code",
   "execution_count": 48,
   "id": "b76bc36e-8eae-4d61-9938-e9961a1446e7",
   "metadata": {},
   "outputs": [
    {
     "data": {
      "text/plain": [
       "IND    137960\n",
       "unk     68274\n",
       "DEP     41131\n",
       "Name: depend_status, dtype: int64"
      ]
     },
     "execution_count": 48,
     "metadata": {},
     "output_type": "execute_result"
    }
   ],
   "source": [
    "lost_data_hs_gpa.depend_status.value_counts()"
   ]
  },
  {
   "cell_type": "code",
   "execution_count": null,
   "id": "85747161-de49-42de-aa33-f1ad8e31d2b3",
   "metadata": {},
   "outputs": [],
   "source": []
  }
 ],
 "metadata": {
  "kernelspec": {
   "display_name": "Python 3 (ipykernel)",
   "language": "python",
   "name": "python3"
  },
  "language_info": {
   "codemirror_mode": {
    "name": "ipython",
    "version": 3
   },
   "file_extension": ".py",
   "mimetype": "text/x-python",
   "name": "python",
   "nbconvert_exporter": "python",
   "pygments_lexer": "ipython3",
   "version": "3.9.7"
  }
 },
 "nbformat": 4,
 "nbformat_minor": 5
}
