{
 "cells": [
  {
   "cell_type": "markdown",
   "id": "8fd17a9e-33fd-4ddf-8a45-18caef689296",
   "metadata": {},
   "source": [
    "# College Retention Predictions"
   ]
  },
  {
   "cell_type": "markdown",
   "id": "2357c1b2-1df7-4d6b-9b45-794484e79ce4",
   "metadata": {},
   "source": [
    "by: Mathias Boissevain 2022-04-27"
   ]
  },
  {
   "cell_type": "markdown",
   "id": "c9fba8bd-8c79-4244-b797-831f8267cf9a",
   "metadata": {},
   "source": [
    "## Project Goal:"
   ]
  },
  {
   "cell_type": "markdown",
   "id": "6c0c08df-0f57-4da8-8584-5e428962d6eb",
   "metadata": {},
   "source": [
    "The goal of this project is"
   ]
  },
  {
   "cell_type": "markdown",
   "id": "83fa931e-649c-49d2-902f-beb48a0d319c",
   "metadata": {},
   "source": [
    "## Project Description"
   ]
  },
  {
   "cell_type": "markdown",
   "id": "998670d8-87ce-4ac4-a99b-ec91e1ed4dfd",
   "metadata": {},
   "source": [
    "Describe Project"
   ]
  },
  {
   "cell_type": "markdown",
   "id": "7aade2eb-b85e-4db2-89e7-9ba50c268d57",
   "metadata": {},
   "source": [
    "## Initial Questions"
   ]
  },
  {
   "cell_type": "markdown",
   "id": "ff555932-896a-4f24-8902-f1079c33f9f0",
   "metadata": {},
   "source": [
    "- Question 1\n",
    "- Question 2\n",
    "- Question 3\n",
    "- Question 4\n",
    "- Question 5\n",
    "- Question 6"
   ]
  },
  {
   "cell_type": "markdown",
   "id": "79a1eae5-d631-44a0-9b4e-a38d13b12f84",
   "metadata": {},
   "source": [
    "## Data Dictionary"
   ]
  },
  {
   "cell_type": "markdown",
   "id": "fe667fc7-6212-46ff-9c1e-81fb8fec8ec5",
   "metadata": {},
   "source": [
    "|Column Name|Column Description|\n",
    "|:-:|:--|\n",
    "|id|Proxy student ID|\n",
    "|retained|Y/N flag for whether a student was retained fall-fall or spring-spring|\n",
    "|enrolled_between|Y/N flag for whether a student was enrolled in the fall or spring semester in between the retained span|\n",
    "|race_ethn|Race/ ethnicity|\n",
    "|sex|Sex|\n",
    "|time_status|Full or part time status based on credits attempted|\n",
    "|fgen|First generation student status|\n",
    "|student_year|Student Classification (freshmen, sophomore,etc)|\n",
    "|pell_ever|Whether or a not a student has ever been Pell grant eligible|\n",
    "|efc|Expected Family Contribution (null where no FAFSA received)|\n",
    "|hs_gpa|High School GPA where available|\n",
    "|term_gpa|Term grade point average in base semester of retention calculation|\t\n",
    "|enroll_type|A student's original student type when beginning at the university|\n",
    "|cip|2 digit classification of instrucitonal program|\n",
    "|age_at_start_term|Age at the start of the term for the base semester of the retention calculation|\n",
    "|act|ACT score bucket where available|\n",
    "|academic_standing|Academic standing bucket (here grouped into good or issue bins)\t|\n",
    "|fa_recd|Whether or a not a student received financial aid in the base semester of retention calculation|\n",
    "|depend_status|Students' financial dependency status|\n",
    "|w_count|Count of W grades received in base semester of retention calculation|\n",
    "|yr_since_start|Groupings of years between when a student began and the start date of the base semester of the retention calculation|\n",
    "|reg_before_start|Number of days between when a student registered for the base semester of the retention calculation and that semester's start date|"
   ]
  },
  {
   "cell_type": "markdown",
   "id": "dac9eafd-f286-48bd-9ccc-3ee8df693ede",
   "metadata": {},
   "source": [
    "# Wrangle University Data"
   ]
  },
  {
   "cell_type": "code",
   "execution_count": 1,
   "id": "7f924fc1-8121-4e1e-bd7e-514a6f090686",
   "metadata": {},
   "outputs": [],
   "source": [
    "# Import for Data manipulation\n",
    "import pandas as pd\n",
    "# Import for Data acquisition and prep\n",
    "import wrangle\n",
    "\n",
    "students = wrangle.prep_student_data(wrangle.acquire_student_data())\n"
   ]
  },
  {
   "cell_type": "code",
   "execution_count": 2,
   "id": "498d31cf-060a-4888-9dad-4eb24c5f6584",
   "metadata": {},
   "outputs": [
    {
     "name": "stdout",
     "output_type": "stream",
     "text": [
      "<class 'pandas.core.frame.DataFrame'>\n",
      "Int64Index: 140800 entries, 0 to 140799\n",
      "Data columns (total 87 columns):\n",
      " #   Column                                                                                  Non-Null Count   Dtype  \n",
      "---  ------                                                                                  --------------   -----  \n",
      " 0   id                                                                                      140800 non-null  int64  \n",
      " 1   retained                                                                                140800 non-null  int64  \n",
      " 2   enrolled_between                                                                        140800 non-null  int64  \n",
      " 3   race_ethn                                                                               140800 non-null  object \n",
      " 4   sex                                                                                     140800 non-null  int64  \n",
      " 5   time_status                                                                             140800 non-null  int64  \n",
      " 6   fgen                                                                                    140800 non-null  object \n",
      " 7   student_year                                                                            140800 non-null  object \n",
      " 8   pell_ever                                                                               140800 non-null  int64  \n",
      " 9   efc                                                                                     140800 non-null  float64\n",
      " 10  hs_gpa                                                                                  140800 non-null  float64\n",
      " 11  term_gpa                                                                                140800 non-null  float64\n",
      " 12  enroll_type                                                                             140800 non-null  object \n",
      " 13  cip                                                                                     140800 non-null  object \n",
      " 14  age_at_start_term                                                                       140800 non-null  object \n",
      " 15  act                                                                                     140800 non-null  object \n",
      " 16  academic_standing                                                                       140800 non-null  int64  \n",
      " 17  fa_recd                                                                                 140800 non-null  int64  \n",
      " 18  depend_status                                                                           140800 non-null  object \n",
      " 19  w_count                                                                                 140800 non-null  int64  \n",
      " 20  yrs_since_start                                                                         140800 non-null  object \n",
      " 21  reg_before_start                                                                        140800 non-null  int64  \n",
      " 22  title                                                                                   140800 non-null  object \n",
      " 23  race_ethn_African American                                                              140800 non-null  uint8  \n",
      " 24  race_ethn_American Indian/Alaskan Native                                                140800 non-null  uint8  \n",
      " 25  race_ethn_Asian                                                                         140800 non-null  uint8  \n",
      " 26  race_ethn_Hispanic                                                                      140800 non-null  uint8  \n",
      " 27  race_ethn_International                                                                 140800 non-null  uint8  \n",
      " 28  race_ethn_Missing/Unknown                                                               140800 non-null  uint8  \n",
      " 29  race_ethn_Native Hawaiian/Pacific Islander                                              140800 non-null  uint8  \n",
      " 30  race_ethn_Two or More Races                                                             140800 non-null  uint8  \n",
      " 31  race_ethn_Two or more races                                                             140800 non-null  uint8  \n",
      " 32  race_ethn_White                                                                         140800 non-null  uint8  \n",
      " 33  fgen_1GN                                                                                140800 non-null  uint8  \n",
      " 34  fgen_1GX                                                                                140800 non-null  uint8  \n",
      " 35  fgen_1GY                                                                                140800 non-null  uint8  \n",
      " 36  student_year_FR                                                                         140800 non-null  uint8  \n",
      " 37  student_year_JU                                                                         140800 non-null  uint8  \n",
      " 38  student_year_SE                                                                         140800 non-null  uint8  \n",
      " 39  student_year_SO                                                                         140800 non-null  uint8  \n",
      " 40  enroll_type_CONC                                                                        140800 non-null  uint8  \n",
      " 41  enroll_type_FIRST                                                                       140800 non-null  uint8  \n",
      " 42  enroll_type_TRANSFER                                                                    140800 non-null  uint8  \n",
      " 43  title_area,_ethnic,_cultural,_gender,_and_group_studies                                 140800 non-null  uint8  \n",
      " 44  title_biological_and_biomedical_sciences                                                140800 non-null  uint8  \n",
      " 45  title_business,_management,_marketing,_and_related_support_services                     140800 non-null  uint8  \n",
      " 46  title_communication,_journalism,_and_related_programs                                   140800 non-null  uint8  \n",
      " 47  title_communications_technologies/technicians_and_support_services                      140800 non-null  uint8  \n",
      " 48  title_computer_and_information_sciences_and_support_services                            140800 non-null  uint8  \n",
      " 49  title_education                                                                         140800 non-null  uint8  \n",
      " 50  title_engineering                                                                       140800 non-null  uint8  \n",
      " 51  title_engineering/engineering-related_technologies/technicians                          140800 non-null  uint8  \n",
      " 52  title_english_language_and_literature/letters                                           140800 non-null  uint8  \n",
      " 53  title_foreign_languages,_literatures,_and_linguistics                                   140800 non-null  uint8  \n",
      " 54  title_health_professions_and_related_programs                                           140800 non-null  uint8  \n",
      " 55  title_history                                                                           140800 non-null  uint8  \n",
      " 56  title_homeland_security,_law_enforcement,_firefighting_and_related_protective_services  140800 non-null  uint8  \n",
      " 57  title_liberal_arts_and_sciences,_general_studies_and_humanities                         140800 non-null  uint8  \n",
      " 58  title_mathematics_and_statistics                                                        140800 non-null  uint8  \n",
      " 59  title_multi/interdisciplinary_studies                                                   140800 non-null  uint8  \n",
      " 60  title_natural_resources_and_conservation                                                140800 non-null  uint8  \n",
      " 61  title_parks,_recreation,_leisure,_fitness,_and_kinesiology                              140800 non-null  uint8  \n",
      " 62  title_philosophy_and_religious_studies                                                  140800 non-null  uint8  \n",
      " 63  title_physical_sciences                                                                 140800 non-null  uint8  \n",
      " 64  title_psychology                                                                        140800 non-null  uint8  \n",
      " 65  title_public_administration_and_social_service_professions                              140800 non-null  uint8  \n",
      " 66  title_social_sciences                                                                   140800 non-null  uint8  \n",
      " 67  title_transportation_and_materials_moving                                               140800 non-null  uint8  \n",
      " 68  title_visual_and_performing_arts                                                        140800 non-null  uint8  \n",
      " 69  age_at_start_term_18 or younger                                                         140800 non-null  uint8  \n",
      " 70  age_at_start_term_19 - 22                                                               140800 non-null  uint8  \n",
      " 71  age_at_start_term_23 - 29                                                               140800 non-null  uint8  \n",
      " 72  age_at_start_term_23-29                                                                 140800 non-null  uint8  \n",
      " 73  age_at_start_term_30 or older                                                           140800 non-null  uint8  \n",
      " 74  act_20 or more                                                                          140800 non-null  uint8  \n",
      " 75  act_NADA                                                                                140800 non-null  uint8  \n",
      " 76  act_Under 20                                                                            140800 non-null  uint8  \n",
      " 77  depend_status_DEP                                                                       140800 non-null  uint8  \n",
      " 78  depend_status_IND                                                                       140800 non-null  uint8  \n",
      " 79  depend_status_unk                                                                       140800 non-null  uint8  \n",
      " 80  yrs_since_start_0                                                                       140800 non-null  uint8  \n",
      " 81  yrs_since_start_1                                                                       140800 non-null  uint8  \n",
      " 82  yrs_since_start_2                                                                       140800 non-null  uint8  \n",
      " 83  yrs_since_start_3                                                                       140800 non-null  uint8  \n",
      " 84  yrs_since_start_4                                                                       140800 non-null  uint8  \n",
      " 85  yrs_since_start_5                                                                       140800 non-null  uint8  \n",
      " 86  yrs_since_start_6 or more                                                               140800 non-null  uint8  \n",
      "dtypes: float64(3), int64(10), object(10), uint8(64)\n",
      "memory usage: 34.4+ MB\n"
     ]
    }
   ],
   "source": [
    "students.info()\n"
   ]
  },
  {
   "cell_type": "markdown",
   "id": "5e61edb7-4940-4757-a28b-1426d74673df",
   "metadata": {},
   "source": [
    "Question explore:\n",
    "\n"
   ]
  },
  {
   "cell_type": "markdown",
   "id": "d99c27f1-5ca1-43f8-8593-81c2f83c8d53",
   "metadata": {},
   "source": [
    "Further exploration:\n",
    "\n",
    "Did students just drop out or did they transfer?\n",
    "Were they fall to fall or spring to spring and did that affect how early they registered?\n",
    "Further exploration of senior retention? Did they graduate? What happened?\n",
    "18 and under students have lowest retention while being second biggest population. did they transfer? \n",
    "Did students transfer between majors?\n",
    "\n",
    "\n"
   ]
  },
  {
   "cell_type": "code",
   "execution_count": null,
   "id": "a0ced8be-aee1-4c88-9d86-8dcd400fb888",
   "metadata": {},
   "outputs": [],
   "source": []
  }
 ],
 "metadata": {
  "kernelspec": {
   "display_name": "Python 3 (ipykernel)",
   "language": "python",
   "name": "python3"
  },
  "language_info": {
   "codemirror_mode": {
    "name": "ipython",
    "version": 3
   },
   "file_extension": ".py",
   "mimetype": "text/x-python",
   "name": "python",
   "nbconvert_exporter": "python",
   "pygments_lexer": "ipython3",
   "version": "3.9.7"
  }
 },
 "nbformat": 4,
 "nbformat_minor": 5
}
