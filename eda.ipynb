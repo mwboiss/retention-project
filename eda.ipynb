{
 "cells": [
  {
   "cell_type": "markdown",
   "id": "b2ab6691-60f9-4460-a91e-c5dd038ad7c9",
   "metadata": {
    "tags": []
   },
   "source": [
    "# Retention Project Εxploritory Data Analysis Workbook"
   ]
  },
  {
   "cell_type": "markdown",
   "id": "2765af49-024d-4cb9-8369-ee7fe57ab5c2",
   "metadata": {
    "tags": []
   },
   "source": [
    "## Questions beyond the data\n",
    "\n",
    "- Does data account for major changes? \n",
    "- Which students were fall to fall and spring to spring?\n",
    "- How to account for students who skip a semester (Counted as not retained but returned the following semester)?\n",
    "- How to make each student a single row and seperate students into subsamples?\n"
   ]
  },
  {
   "cell_type": "code",
   "execution_count": 1,
   "id": "4774481f-9b6c-4c67-af54-846f196f228b",
   "metadata": {},
   "outputs": [],
   "source": [
    "# Import for Data Manipulation\n",
    "import pandas as pd\n",
    "import numpy as np \n",
    "\n",
    "# Import for Data Visualization\n",
    "import seaborn as sns\n",
    "from matplotlib import pyplot as plt\n",
    "import squarify\n",
    "\n",
    "# Import for data acquisition and prep\n",
    "import wrangle\n",
    "\n",
    "# Import for Scaling and Spliting the data\n",
    "from sklearn.model_selection import train_test_split\n",
    "from sklearn.preprocessing import MinMaxScaler\n",
    "from sklearn.impute import SimpleImputer\n",
    "\n",
    "# Import for hypothesis testing\n",
    "from scipy import stats\n",
    "\n",
    "# Import for Classification models\n",
    "from sklearn.tree import DecisionTreeClassifier, plot_tree\n",
    "from sklearn.ensemble import RandomForestClassifier\n",
    "from sklearn.neighbors import KNeighborsClassifier\n",
    "from sklearn.linear_model import LogisticRegression\n",
    "\n",
    "# Import for analysis of classification models\n",
    "from sklearn.metrics import classification_report\n",
    "from sklearn.metrics import confusion_matrix\n",
    "\n",
    "# Import for Clustering\n",
    "from sklearn.cluster import KMeans\n",
    "\n",
    "# Import to ignore warnings\n",
    "import warnings\n",
    "warnings.filterwarnings('ignore')\n",
    "\n",
    "# Set to see all rows and columns\n",
    "pd.options.display.max_columns = None\n",
    "pd.options.display.max_rows = None\n",
    "pd.options.display.max_colwidth = None"
   ]
  },
  {
   "cell_type": "code",
   "execution_count": 2,
   "id": "8e588f56-09eb-48e5-9562-b83013022beb",
   "metadata": {
    "tags": []
   },
   "outputs": [
    {
     "data": {
      "text/html": [
       "<div>\n",
       "<style scoped>\n",
       "    .dataframe tbody tr th:only-of-type {\n",
       "        vertical-align: middle;\n",
       "    }\n",
       "\n",
       "    .dataframe tbody tr th {\n",
       "        vertical-align: top;\n",
       "    }\n",
       "\n",
       "    .dataframe thead th {\n",
       "        text-align: right;\n",
       "    }\n",
       "</style>\n",
       "<table border=\"1\" class=\"dataframe\">\n",
       "  <thead>\n",
       "    <tr style=\"text-align: right;\">\n",
       "      <th></th>\n",
       "      <th>id</th>\n",
       "      <th>retained</th>\n",
       "      <th>enrolled_between</th>\n",
       "      <th>race_ethn</th>\n",
       "      <th>sex</th>\n",
       "      <th>time_status</th>\n",
       "      <th>fgen</th>\n",
       "      <th>student_year</th>\n",
       "      <th>pell_ever</th>\n",
       "      <th>term_gpa</th>\n",
       "      <th>enroll_type</th>\n",
       "      <th>cip</th>\n",
       "      <th>age_at_start_term</th>\n",
       "      <th>act</th>\n",
       "      <th>academic_standing</th>\n",
       "      <th>fa_recd</th>\n",
       "      <th>depend_status</th>\n",
       "      <th>w_count</th>\n",
       "      <th>yrs_since_start</th>\n",
       "      <th>reg_before_start</th>\n",
       "      <th>title</th>\n",
       "      <th>race_ethn_African American</th>\n",
       "      <th>race_ethn_American Indian/Alaskan Native</th>\n",
       "      <th>race_ethn_Asian</th>\n",
       "      <th>race_ethn_Hispanic</th>\n",
       "      <th>race_ethn_International</th>\n",
       "      <th>race_ethn_Missing/Unknown</th>\n",
       "      <th>race_ethn_Native Hawaiian/Pacific Islander</th>\n",
       "      <th>race_ethn_Two or More Races</th>\n",
       "      <th>race_ethn_Two or more races</th>\n",
       "      <th>race_ethn_White</th>\n",
       "      <th>fgen_1GN</th>\n",
       "      <th>fgen_1GX</th>\n",
       "      <th>fgen_1GY</th>\n",
       "      <th>student_year_FR</th>\n",
       "      <th>student_year_JU</th>\n",
       "      <th>student_year_SE</th>\n",
       "      <th>student_year_SO</th>\n",
       "      <th>enroll_type_CONC</th>\n",
       "      <th>enroll_type_FIRST</th>\n",
       "      <th>enroll_type_TRANSFER</th>\n",
       "      <th>title_agricultural/animal/plant/veterinary_science_and_related_fields</th>\n",
       "      <th>title_area,_ethnic,_cultural,_gender,_and_group_studies</th>\n",
       "      <th>title_basic_skills_and_developmental/remedial_education</th>\n",
       "      <th>title_biological_and_biomedical_sciences</th>\n",
       "      <th>title_business,_management,_marketing,_and_related_support_services</th>\n",
       "      <th>title_communication,_journalism,_and_related_programs</th>\n",
       "      <th>title_communications_technologies/technicians_and_support_services</th>\n",
       "      <th>title_computer_and_information_sciences_and_support_services</th>\n",
       "      <th>title_education</th>\n",
       "      <th>title_engineering</th>\n",
       "      <th>title_engineering/engineering-related_technologies/technicians</th>\n",
       "      <th>title_english_language_and_literature/letters</th>\n",
       "      <th>title_foreign_languages,_literatures,_and_linguistics</th>\n",
       "      <th>title_health_professions_and_related_programs</th>\n",
       "      <th>title_history</th>\n",
       "      <th>title_homeland_security,_law_enforcement,_firefighting_and_related_protective_services</th>\n",
       "      <th>title_liberal_arts_and_sciences,_general_studies_and_humanities</th>\n",
       "      <th>title_mathematics_and_statistics</th>\n",
       "      <th>title_military_technologies_and_applied_sciences</th>\n",
       "      <th>title_multi/interdisciplinary_studies</th>\n",
       "      <th>title_natural_resources_and_conservation</th>\n",
       "      <th>title_parks,_recreation,_leisure,_fitness,_and_kinesiology</th>\n",
       "      <th>title_philosophy_and_religious_studies</th>\n",
       "      <th>title_physical_sciences</th>\n",
       "      <th>title_psychology</th>\n",
       "      <th>title_public_administration_and_social_service_professions</th>\n",
       "      <th>title_social_sciences</th>\n",
       "      <th>title_transportation_and_materials_moving</th>\n",
       "      <th>title_visual_and_performing_arts</th>\n",
       "      <th>age_at_start_term_18-younger</th>\n",
       "      <th>age_at_start_term_19-22</th>\n",
       "      <th>age_at_start_term_23-29</th>\n",
       "      <th>age_at_start_term_30-older</th>\n",
       "      <th>act_20 or more</th>\n",
       "      <th>act_NADA</th>\n",
       "      <th>act_Under 20</th>\n",
       "      <th>depend_status_DEP</th>\n",
       "      <th>depend_status_IND</th>\n",
       "      <th>depend_status_unk</th>\n",
       "      <th>yrs_since_start_0</th>\n",
       "      <th>yrs_since_start_1</th>\n",
       "      <th>yrs_since_start_2</th>\n",
       "      <th>yrs_since_start_3</th>\n",
       "      <th>yrs_since_start_4</th>\n",
       "      <th>yrs_since_start_5</th>\n",
       "      <th>yrs_since_start_6 or more</th>\n",
       "    </tr>\n",
       "  </thead>\n",
       "  <tbody>\n",
       "    <tr>\n",
       "      <th>0</th>\n",
       "      <td>356453</td>\n",
       "      <td>1</td>\n",
       "      <td>1</td>\n",
       "      <td>White</td>\n",
       "      <td>1</td>\n",
       "      <td>1</td>\n",
       "      <td>1GX</td>\n",
       "      <td>SO</td>\n",
       "      <td>0</td>\n",
       "      <td>2.000000</td>\n",
       "      <td>TRANSFER</td>\n",
       "      <td>24</td>\n",
       "      <td>19-22</td>\n",
       "      <td>NADA</td>\n",
       "      <td>1</td>\n",
       "      <td>0</td>\n",
       "      <td>unk</td>\n",
       "      <td>0</td>\n",
       "      <td>1</td>\n",
       "      <td>89</td>\n",
       "      <td>liberal_arts_and_sciences,_general_studies_and_humanities</td>\n",
       "      <td>0</td>\n",
       "      <td>0</td>\n",
       "      <td>0</td>\n",
       "      <td>0</td>\n",
       "      <td>0</td>\n",
       "      <td>0</td>\n",
       "      <td>0</td>\n",
       "      <td>0</td>\n",
       "      <td>0</td>\n",
       "      <td>1</td>\n",
       "      <td>0</td>\n",
       "      <td>1</td>\n",
       "      <td>0</td>\n",
       "      <td>0</td>\n",
       "      <td>0</td>\n",
       "      <td>0</td>\n",
       "      <td>1</td>\n",
       "      <td>0</td>\n",
       "      <td>0</td>\n",
       "      <td>1</td>\n",
       "      <td>0</td>\n",
       "      <td>0</td>\n",
       "      <td>0</td>\n",
       "      <td>0</td>\n",
       "      <td>0</td>\n",
       "      <td>0</td>\n",
       "      <td>0</td>\n",
       "      <td>0</td>\n",
       "      <td>0</td>\n",
       "      <td>0</td>\n",
       "      <td>0</td>\n",
       "      <td>0</td>\n",
       "      <td>0</td>\n",
       "      <td>0</td>\n",
       "      <td>0</td>\n",
       "      <td>0</td>\n",
       "      <td>1</td>\n",
       "      <td>0</td>\n",
       "      <td>0</td>\n",
       "      <td>0</td>\n",
       "      <td>0</td>\n",
       "      <td>0</td>\n",
       "      <td>0</td>\n",
       "      <td>0</td>\n",
       "      <td>0</td>\n",
       "      <td>0</td>\n",
       "      <td>0</td>\n",
       "      <td>0</td>\n",
       "      <td>0</td>\n",
       "      <td>0</td>\n",
       "      <td>1</td>\n",
       "      <td>0</td>\n",
       "      <td>0</td>\n",
       "      <td>0</td>\n",
       "      <td>1</td>\n",
       "      <td>0</td>\n",
       "      <td>0</td>\n",
       "      <td>0</td>\n",
       "      <td>1</td>\n",
       "      <td>0</td>\n",
       "      <td>1</td>\n",
       "      <td>0</td>\n",
       "      <td>0</td>\n",
       "      <td>0</td>\n",
       "      <td>0</td>\n",
       "      <td>0</td>\n",
       "    </tr>\n",
       "    <tr>\n",
       "      <th>1</th>\n",
       "      <td>876229</td>\n",
       "      <td>0</td>\n",
       "      <td>0</td>\n",
       "      <td>Hispanic</td>\n",
       "      <td>0</td>\n",
       "      <td>1</td>\n",
       "      <td>1GN</td>\n",
       "      <td>FR</td>\n",
       "      <td>1</td>\n",
       "      <td>0.462308</td>\n",
       "      <td>FIRST</td>\n",
       "      <td>11</td>\n",
       "      <td>19-22</td>\n",
       "      <td>20 or more</td>\n",
       "      <td>0</td>\n",
       "      <td>1</td>\n",
       "      <td>DEP</td>\n",
       "      <td>0</td>\n",
       "      <td>0</td>\n",
       "      <td>15</td>\n",
       "      <td>computer_and_information_sciences_and_support_services</td>\n",
       "      <td>0</td>\n",
       "      <td>0</td>\n",
       "      <td>0</td>\n",
       "      <td>1</td>\n",
       "      <td>0</td>\n",
       "      <td>0</td>\n",
       "      <td>0</td>\n",
       "      <td>0</td>\n",
       "      <td>0</td>\n",
       "      <td>0</td>\n",
       "      <td>1</td>\n",
       "      <td>0</td>\n",
       "      <td>0</td>\n",
       "      <td>1</td>\n",
       "      <td>0</td>\n",
       "      <td>0</td>\n",
       "      <td>0</td>\n",
       "      <td>0</td>\n",
       "      <td>1</td>\n",
       "      <td>0</td>\n",
       "      <td>0</td>\n",
       "      <td>0</td>\n",
       "      <td>0</td>\n",
       "      <td>0</td>\n",
       "      <td>0</td>\n",
       "      <td>0</td>\n",
       "      <td>0</td>\n",
       "      <td>1</td>\n",
       "      <td>0</td>\n",
       "      <td>0</td>\n",
       "      <td>0</td>\n",
       "      <td>0</td>\n",
       "      <td>0</td>\n",
       "      <td>0</td>\n",
       "      <td>0</td>\n",
       "      <td>0</td>\n",
       "      <td>0</td>\n",
       "      <td>0</td>\n",
       "      <td>0</td>\n",
       "      <td>0</td>\n",
       "      <td>0</td>\n",
       "      <td>0</td>\n",
       "      <td>0</td>\n",
       "      <td>0</td>\n",
       "      <td>0</td>\n",
       "      <td>0</td>\n",
       "      <td>0</td>\n",
       "      <td>0</td>\n",
       "      <td>0</td>\n",
       "      <td>0</td>\n",
       "      <td>1</td>\n",
       "      <td>0</td>\n",
       "      <td>0</td>\n",
       "      <td>1</td>\n",
       "      <td>0</td>\n",
       "      <td>0</td>\n",
       "      <td>1</td>\n",
       "      <td>0</td>\n",
       "      <td>0</td>\n",
       "      <td>1</td>\n",
       "      <td>0</td>\n",
       "      <td>0</td>\n",
       "      <td>0</td>\n",
       "      <td>0</td>\n",
       "      <td>0</td>\n",
       "      <td>0</td>\n",
       "    </tr>\n",
       "    <tr>\n",
       "      <th>2</th>\n",
       "      <td>476074</td>\n",
       "      <td>1</td>\n",
       "      <td>0</td>\n",
       "      <td>White</td>\n",
       "      <td>1</td>\n",
       "      <td>1</td>\n",
       "      <td>1GY</td>\n",
       "      <td>SE</td>\n",
       "      <td>1</td>\n",
       "      <td>3.500625</td>\n",
       "      <td>TRANSFER</td>\n",
       "      <td>26</td>\n",
       "      <td>19-22</td>\n",
       "      <td>20 or more</td>\n",
       "      <td>1</td>\n",
       "      <td>1</td>\n",
       "      <td>DEP</td>\n",
       "      <td>0</td>\n",
       "      <td>3</td>\n",
       "      <td>97</td>\n",
       "      <td>biological_and_biomedical_sciences</td>\n",
       "      <td>0</td>\n",
       "      <td>0</td>\n",
       "      <td>0</td>\n",
       "      <td>0</td>\n",
       "      <td>0</td>\n",
       "      <td>0</td>\n",
       "      <td>0</td>\n",
       "      <td>0</td>\n",
       "      <td>0</td>\n",
       "      <td>1</td>\n",
       "      <td>0</td>\n",
       "      <td>0</td>\n",
       "      <td>1</td>\n",
       "      <td>0</td>\n",
       "      <td>0</td>\n",
       "      <td>1</td>\n",
       "      <td>0</td>\n",
       "      <td>0</td>\n",
       "      <td>0</td>\n",
       "      <td>1</td>\n",
       "      <td>0</td>\n",
       "      <td>0</td>\n",
       "      <td>0</td>\n",
       "      <td>1</td>\n",
       "      <td>0</td>\n",
       "      <td>0</td>\n",
       "      <td>0</td>\n",
       "      <td>0</td>\n",
       "      <td>0</td>\n",
       "      <td>0</td>\n",
       "      <td>0</td>\n",
       "      <td>0</td>\n",
       "      <td>0</td>\n",
       "      <td>0</td>\n",
       "      <td>0</td>\n",
       "      <td>0</td>\n",
       "      <td>0</td>\n",
       "      <td>0</td>\n",
       "      <td>0</td>\n",
       "      <td>0</td>\n",
       "      <td>0</td>\n",
       "      <td>0</td>\n",
       "      <td>0</td>\n",
       "      <td>0</td>\n",
       "      <td>0</td>\n",
       "      <td>0</td>\n",
       "      <td>0</td>\n",
       "      <td>0</td>\n",
       "      <td>0</td>\n",
       "      <td>0</td>\n",
       "      <td>1</td>\n",
       "      <td>0</td>\n",
       "      <td>0</td>\n",
       "      <td>1</td>\n",
       "      <td>0</td>\n",
       "      <td>0</td>\n",
       "      <td>1</td>\n",
       "      <td>0</td>\n",
       "      <td>0</td>\n",
       "      <td>0</td>\n",
       "      <td>0</td>\n",
       "      <td>0</td>\n",
       "      <td>1</td>\n",
       "      <td>0</td>\n",
       "      <td>0</td>\n",
       "      <td>0</td>\n",
       "    </tr>\n",
       "    <tr>\n",
       "      <th>3</th>\n",
       "      <td>818465</td>\n",
       "      <td>1</td>\n",
       "      <td>0</td>\n",
       "      <td>White</td>\n",
       "      <td>1</td>\n",
       "      <td>1</td>\n",
       "      <td>1GY</td>\n",
       "      <td>SE</td>\n",
       "      <td>1</td>\n",
       "      <td>3.562500</td>\n",
       "      <td>FIRST</td>\n",
       "      <td>52</td>\n",
       "      <td>23-29</td>\n",
       "      <td>20 or more</td>\n",
       "      <td>1</td>\n",
       "      <td>1</td>\n",
       "      <td>IND</td>\n",
       "      <td>0</td>\n",
       "      <td>5</td>\n",
       "      <td>91</td>\n",
       "      <td>business,_management,_marketing,_and_related_support_services</td>\n",
       "      <td>0</td>\n",
       "      <td>0</td>\n",
       "      <td>0</td>\n",
       "      <td>0</td>\n",
       "      <td>0</td>\n",
       "      <td>0</td>\n",
       "      <td>0</td>\n",
       "      <td>0</td>\n",
       "      <td>0</td>\n",
       "      <td>1</td>\n",
       "      <td>0</td>\n",
       "      <td>0</td>\n",
       "      <td>1</td>\n",
       "      <td>0</td>\n",
       "      <td>0</td>\n",
       "      <td>1</td>\n",
       "      <td>0</td>\n",
       "      <td>0</td>\n",
       "      <td>1</td>\n",
       "      <td>0</td>\n",
       "      <td>0</td>\n",
       "      <td>0</td>\n",
       "      <td>0</td>\n",
       "      <td>0</td>\n",
       "      <td>1</td>\n",
       "      <td>0</td>\n",
       "      <td>0</td>\n",
       "      <td>0</td>\n",
       "      <td>0</td>\n",
       "      <td>0</td>\n",
       "      <td>0</td>\n",
       "      <td>0</td>\n",
       "      <td>0</td>\n",
       "      <td>0</td>\n",
       "      <td>0</td>\n",
       "      <td>0</td>\n",
       "      <td>0</td>\n",
       "      <td>0</td>\n",
       "      <td>0</td>\n",
       "      <td>0</td>\n",
       "      <td>0</td>\n",
       "      <td>0</td>\n",
       "      <td>0</td>\n",
       "      <td>0</td>\n",
       "      <td>0</td>\n",
       "      <td>0</td>\n",
       "      <td>0</td>\n",
       "      <td>0</td>\n",
       "      <td>0</td>\n",
       "      <td>0</td>\n",
       "      <td>0</td>\n",
       "      <td>1</td>\n",
       "      <td>0</td>\n",
       "      <td>1</td>\n",
       "      <td>0</td>\n",
       "      <td>0</td>\n",
       "      <td>0</td>\n",
       "      <td>1</td>\n",
       "      <td>0</td>\n",
       "      <td>0</td>\n",
       "      <td>0</td>\n",
       "      <td>0</td>\n",
       "      <td>0</td>\n",
       "      <td>0</td>\n",
       "      <td>1</td>\n",
       "      <td>0</td>\n",
       "    </tr>\n",
       "    <tr>\n",
       "      <th>4</th>\n",
       "      <td>973275</td>\n",
       "      <td>1</td>\n",
       "      <td>1</td>\n",
       "      <td>White</td>\n",
       "      <td>1</td>\n",
       "      <td>1</td>\n",
       "      <td>1GN</td>\n",
       "      <td>SO</td>\n",
       "      <td>0</td>\n",
       "      <td>3.333333</td>\n",
       "      <td>TRANSFER</td>\n",
       "      <td>52</td>\n",
       "      <td>19-22</td>\n",
       "      <td>20 or more</td>\n",
       "      <td>1</td>\n",
       "      <td>1</td>\n",
       "      <td>DEP</td>\n",
       "      <td>0</td>\n",
       "      <td>1</td>\n",
       "      <td>156</td>\n",
       "      <td>business,_management,_marketing,_and_related_support_services</td>\n",
       "      <td>0</td>\n",
       "      <td>0</td>\n",
       "      <td>0</td>\n",
       "      <td>0</td>\n",
       "      <td>0</td>\n",
       "      <td>0</td>\n",
       "      <td>0</td>\n",
       "      <td>0</td>\n",
       "      <td>0</td>\n",
       "      <td>1</td>\n",
       "      <td>1</td>\n",
       "      <td>0</td>\n",
       "      <td>0</td>\n",
       "      <td>0</td>\n",
       "      <td>0</td>\n",
       "      <td>0</td>\n",
       "      <td>1</td>\n",
       "      <td>0</td>\n",
       "      <td>0</td>\n",
       "      <td>1</td>\n",
       "      <td>0</td>\n",
       "      <td>0</td>\n",
       "      <td>0</td>\n",
       "      <td>0</td>\n",
       "      <td>1</td>\n",
       "      <td>0</td>\n",
       "      <td>0</td>\n",
       "      <td>0</td>\n",
       "      <td>0</td>\n",
       "      <td>0</td>\n",
       "      <td>0</td>\n",
       "      <td>0</td>\n",
       "      <td>0</td>\n",
       "      <td>0</td>\n",
       "      <td>0</td>\n",
       "      <td>0</td>\n",
       "      <td>0</td>\n",
       "      <td>0</td>\n",
       "      <td>0</td>\n",
       "      <td>0</td>\n",
       "      <td>0</td>\n",
       "      <td>0</td>\n",
       "      <td>0</td>\n",
       "      <td>0</td>\n",
       "      <td>0</td>\n",
       "      <td>0</td>\n",
       "      <td>0</td>\n",
       "      <td>0</td>\n",
       "      <td>0</td>\n",
       "      <td>0</td>\n",
       "      <td>1</td>\n",
       "      <td>0</td>\n",
       "      <td>0</td>\n",
       "      <td>1</td>\n",
       "      <td>0</td>\n",
       "      <td>0</td>\n",
       "      <td>1</td>\n",
       "      <td>0</td>\n",
       "      <td>0</td>\n",
       "      <td>0</td>\n",
       "      <td>1</td>\n",
       "      <td>0</td>\n",
       "      <td>0</td>\n",
       "      <td>0</td>\n",
       "      <td>0</td>\n",
       "      <td>0</td>\n",
       "    </tr>\n",
       "  </tbody>\n",
       "</table>\n",
       "</div>"
      ],
      "text/plain": [
       "       id  retained  enrolled_between race_ethn  sex  time_status fgen  \\\n",
       "0  356453         1                 1     White    1            1  1GX   \n",
       "1  876229         0                 0  Hispanic    0            1  1GN   \n",
       "2  476074         1                 0     White    1            1  1GY   \n",
       "3  818465         1                 0     White    1            1  1GY   \n",
       "4  973275         1                 1     White    1            1  1GN   \n",
       "\n",
       "  student_year  pell_ever  term_gpa enroll_type cip age_at_start_term  \\\n",
       "0           SO          0  2.000000    TRANSFER  24             19-22   \n",
       "1           FR          1  0.462308       FIRST  11             19-22   \n",
       "2           SE          1  3.500625    TRANSFER  26             19-22   \n",
       "3           SE          1  3.562500       FIRST  52             23-29   \n",
       "4           SO          0  3.333333    TRANSFER  52             19-22   \n",
       "\n",
       "          act  academic_standing  fa_recd depend_status  w_count  \\\n",
       "0        NADA                  1        0           unk        0   \n",
       "1  20 or more                  0        1           DEP        0   \n",
       "2  20 or more                  1        1           DEP        0   \n",
       "3  20 or more                  1        1           IND        0   \n",
       "4  20 or more                  1        1           DEP        0   \n",
       "\n",
       "  yrs_since_start  reg_before_start  \\\n",
       "0               1                89   \n",
       "1               0                15   \n",
       "2               3                97   \n",
       "3               5                91   \n",
       "4               1               156   \n",
       "\n",
       "                                                           title  \\\n",
       "0      liberal_arts_and_sciences,_general_studies_and_humanities   \n",
       "1         computer_and_information_sciences_and_support_services   \n",
       "2                             biological_and_biomedical_sciences   \n",
       "3  business,_management,_marketing,_and_related_support_services   \n",
       "4  business,_management,_marketing,_and_related_support_services   \n",
       "\n",
       "   race_ethn_African American  race_ethn_American Indian/Alaskan Native  \\\n",
       "0                           0                                         0   \n",
       "1                           0                                         0   \n",
       "2                           0                                         0   \n",
       "3                           0                                         0   \n",
       "4                           0                                         0   \n",
       "\n",
       "   race_ethn_Asian  race_ethn_Hispanic  race_ethn_International  \\\n",
       "0                0                   0                        0   \n",
       "1                0                   1                        0   \n",
       "2                0                   0                        0   \n",
       "3                0                   0                        0   \n",
       "4                0                   0                        0   \n",
       "\n",
       "   race_ethn_Missing/Unknown  race_ethn_Native Hawaiian/Pacific Islander  \\\n",
       "0                          0                                           0   \n",
       "1                          0                                           0   \n",
       "2                          0                                           0   \n",
       "3                          0                                           0   \n",
       "4                          0                                           0   \n",
       "\n",
       "   race_ethn_Two or More Races  race_ethn_Two or more races  race_ethn_White  \\\n",
       "0                            0                            0                1   \n",
       "1                            0                            0                0   \n",
       "2                            0                            0                1   \n",
       "3                            0                            0                1   \n",
       "4                            0                            0                1   \n",
       "\n",
       "   fgen_1GN  fgen_1GX  fgen_1GY  student_year_FR  student_year_JU  \\\n",
       "0         0         1         0                0                0   \n",
       "1         1         0         0                1                0   \n",
       "2         0         0         1                0                0   \n",
       "3         0         0         1                0                0   \n",
       "4         1         0         0                0                0   \n",
       "\n",
       "   student_year_SE  student_year_SO  enroll_type_CONC  enroll_type_FIRST  \\\n",
       "0                0                1                 0                  0   \n",
       "1                0                0                 0                  1   \n",
       "2                1                0                 0                  0   \n",
       "3                1                0                 0                  1   \n",
       "4                0                1                 0                  0   \n",
       "\n",
       "   enroll_type_TRANSFER  \\\n",
       "0                     1   \n",
       "1                     0   \n",
       "2                     1   \n",
       "3                     0   \n",
       "4                     1   \n",
       "\n",
       "   title_agricultural/animal/plant/veterinary_science_and_related_fields  \\\n",
       "0                                                                      0   \n",
       "1                                                                      0   \n",
       "2                                                                      0   \n",
       "3                                                                      0   \n",
       "4                                                                      0   \n",
       "\n",
       "   title_area,_ethnic,_cultural,_gender,_and_group_studies  \\\n",
       "0                                                        0   \n",
       "1                                                        0   \n",
       "2                                                        0   \n",
       "3                                                        0   \n",
       "4                                                        0   \n",
       "\n",
       "   title_basic_skills_and_developmental/remedial_education  \\\n",
       "0                                                        0   \n",
       "1                                                        0   \n",
       "2                                                        0   \n",
       "3                                                        0   \n",
       "4                                                        0   \n",
       "\n",
       "   title_biological_and_biomedical_sciences  \\\n",
       "0                                         0   \n",
       "1                                         0   \n",
       "2                                         1   \n",
       "3                                         0   \n",
       "4                                         0   \n",
       "\n",
       "   title_business,_management,_marketing,_and_related_support_services  \\\n",
       "0                                                                    0   \n",
       "1                                                                    0   \n",
       "2                                                                    0   \n",
       "3                                                                    1   \n",
       "4                                                                    1   \n",
       "\n",
       "   title_communication,_journalism,_and_related_programs  \\\n",
       "0                                                      0   \n",
       "1                                                      0   \n",
       "2                                                      0   \n",
       "3                                                      0   \n",
       "4                                                      0   \n",
       "\n",
       "   title_communications_technologies/technicians_and_support_services  \\\n",
       "0                                                                   0   \n",
       "1                                                                   0   \n",
       "2                                                                   0   \n",
       "3                                                                   0   \n",
       "4                                                                   0   \n",
       "\n",
       "   title_computer_and_information_sciences_and_support_services  \\\n",
       "0                                                             0   \n",
       "1                                                             1   \n",
       "2                                                             0   \n",
       "3                                                             0   \n",
       "4                                                             0   \n",
       "\n",
       "   title_education  title_engineering  \\\n",
       "0                0                  0   \n",
       "1                0                  0   \n",
       "2                0                  0   \n",
       "3                0                  0   \n",
       "4                0                  0   \n",
       "\n",
       "   title_engineering/engineering-related_technologies/technicians  \\\n",
       "0                                                               0   \n",
       "1                                                               0   \n",
       "2                                                               0   \n",
       "3                                                               0   \n",
       "4                                                               0   \n",
       "\n",
       "   title_english_language_and_literature/letters  \\\n",
       "0                                              0   \n",
       "1                                              0   \n",
       "2                                              0   \n",
       "3                                              0   \n",
       "4                                              0   \n",
       "\n",
       "   title_foreign_languages,_literatures,_and_linguistics  \\\n",
       "0                                                      0   \n",
       "1                                                      0   \n",
       "2                                                      0   \n",
       "3                                                      0   \n",
       "4                                                      0   \n",
       "\n",
       "   title_health_professions_and_related_programs  title_history  \\\n",
       "0                                              0              0   \n",
       "1                                              0              0   \n",
       "2                                              0              0   \n",
       "3                                              0              0   \n",
       "4                                              0              0   \n",
       "\n",
       "   title_homeland_security,_law_enforcement,_firefighting_and_related_protective_services  \\\n",
       "0                                                                                       0   \n",
       "1                                                                                       0   \n",
       "2                                                                                       0   \n",
       "3                                                                                       0   \n",
       "4                                                                                       0   \n",
       "\n",
       "   title_liberal_arts_and_sciences,_general_studies_and_humanities  \\\n",
       "0                                                                1   \n",
       "1                                                                0   \n",
       "2                                                                0   \n",
       "3                                                                0   \n",
       "4                                                                0   \n",
       "\n",
       "   title_mathematics_and_statistics  \\\n",
       "0                                 0   \n",
       "1                                 0   \n",
       "2                                 0   \n",
       "3                                 0   \n",
       "4                                 0   \n",
       "\n",
       "   title_military_technologies_and_applied_sciences  \\\n",
       "0                                                 0   \n",
       "1                                                 0   \n",
       "2                                                 0   \n",
       "3                                                 0   \n",
       "4                                                 0   \n",
       "\n",
       "   title_multi/interdisciplinary_studies  \\\n",
       "0                                      0   \n",
       "1                                      0   \n",
       "2                                      0   \n",
       "3                                      0   \n",
       "4                                      0   \n",
       "\n",
       "   title_natural_resources_and_conservation  \\\n",
       "0                                         0   \n",
       "1                                         0   \n",
       "2                                         0   \n",
       "3                                         0   \n",
       "4                                         0   \n",
       "\n",
       "   title_parks,_recreation,_leisure,_fitness,_and_kinesiology  \\\n",
       "0                                                           0   \n",
       "1                                                           0   \n",
       "2                                                           0   \n",
       "3                                                           0   \n",
       "4                                                           0   \n",
       "\n",
       "   title_philosophy_and_religious_studies  title_physical_sciences  \\\n",
       "0                                       0                        0   \n",
       "1                                       0                        0   \n",
       "2                                       0                        0   \n",
       "3                                       0                        0   \n",
       "4                                       0                        0   \n",
       "\n",
       "   title_psychology  \\\n",
       "0                 0   \n",
       "1                 0   \n",
       "2                 0   \n",
       "3                 0   \n",
       "4                 0   \n",
       "\n",
       "   title_public_administration_and_social_service_professions  \\\n",
       "0                                                           0   \n",
       "1                                                           0   \n",
       "2                                                           0   \n",
       "3                                                           0   \n",
       "4                                                           0   \n",
       "\n",
       "   title_social_sciences  title_transportation_and_materials_moving  \\\n",
       "0                      0                                          0   \n",
       "1                      0                                          0   \n",
       "2                      0                                          0   \n",
       "3                      0                                          0   \n",
       "4                      0                                          0   \n",
       "\n",
       "   title_visual_and_performing_arts  age_at_start_term_18-younger  \\\n",
       "0                                 0                             0   \n",
       "1                                 0                             0   \n",
       "2                                 0                             0   \n",
       "3                                 0                             0   \n",
       "4                                 0                             0   \n",
       "\n",
       "   age_at_start_term_19-22  age_at_start_term_23-29  \\\n",
       "0                        1                        0   \n",
       "1                        1                        0   \n",
       "2                        1                        0   \n",
       "3                        0                        1   \n",
       "4                        1                        0   \n",
       "\n",
       "   age_at_start_term_30-older  act_20 or more  act_NADA  act_Under 20  \\\n",
       "0                           0               0         1             0   \n",
       "1                           0               1         0             0   \n",
       "2                           0               1         0             0   \n",
       "3                           0               1         0             0   \n",
       "4                           0               1         0             0   \n",
       "\n",
       "   depend_status_DEP  depend_status_IND  depend_status_unk  yrs_since_start_0  \\\n",
       "0                  0                  0                  1                  0   \n",
       "1                  1                  0                  0                  1   \n",
       "2                  1                  0                  0                  0   \n",
       "3                  0                  1                  0                  0   \n",
       "4                  1                  0                  0                  0   \n",
       "\n",
       "   yrs_since_start_1  yrs_since_start_2  yrs_since_start_3  yrs_since_start_4  \\\n",
       "0                  1                  0                  0                  0   \n",
       "1                  0                  0                  0                  0   \n",
       "2                  0                  0                  1                  0   \n",
       "3                  0                  0                  0                  0   \n",
       "4                  1                  0                  0                  0   \n",
       "\n",
       "   yrs_since_start_5  yrs_since_start_6 or more  \n",
       "0                  0                          0  \n",
       "1                  0                          0  \n",
       "2                  0                          0  \n",
       "3                  1                          0  \n",
       "4                  0                          0  "
      ]
     },
     "execution_count": 2,
     "metadata": {},
     "output_type": "execute_result"
    }
   ],
   "source": [
    "# Test Functions\n",
    "students, sparce_dummies = wrangle.prep_student_data(wrangle.acquire_student_data())\n",
    "students.head()"
   ]
  },
  {
   "cell_type": "code",
   "execution_count": 3,
   "id": "7784e6ed-e9e2-451e-ad28-982ee211e4fc",
   "metadata": {
    "tags": []
   },
   "outputs": [
    {
     "data": {
      "text/html": [
       "<div>\n",
       "<style scoped>\n",
       "    .dataframe tbody tr th:only-of-type {\n",
       "        vertical-align: middle;\n",
       "    }\n",
       "\n",
       "    .dataframe tbody tr th {\n",
       "        vertical-align: top;\n",
       "    }\n",
       "\n",
       "    .dataframe thead th {\n",
       "        text-align: right;\n",
       "    }\n",
       "</style>\n",
       "<table border=\"1\" class=\"dataframe\">\n",
       "  <thead>\n",
       "    <tr style=\"text-align: right;\">\n",
       "      <th></th>\n",
       "      <th>id</th>\n",
       "      <th>retained</th>\n",
       "      <th>enrolled_between</th>\n",
       "      <th>race_ethn</th>\n",
       "      <th>sex</th>\n",
       "      <th>time_status</th>\n",
       "      <th>fgen</th>\n",
       "      <th>student_year</th>\n",
       "      <th>pell_ever</th>\n",
       "      <th>term_gpa</th>\n",
       "      <th>enroll_type</th>\n",
       "      <th>cip</th>\n",
       "      <th>age_at_start_term</th>\n",
       "      <th>act</th>\n",
       "      <th>academic_standing</th>\n",
       "      <th>fa_recd</th>\n",
       "      <th>depend_status</th>\n",
       "      <th>w_count</th>\n",
       "      <th>yrs_since_start</th>\n",
       "      <th>reg_before_start</th>\n",
       "      <th>title</th>\n",
       "      <th>race_ethn_African American</th>\n",
       "      <th>race_ethn_American Indian/Alaskan Native</th>\n",
       "      <th>race_ethn_Asian</th>\n",
       "      <th>race_ethn_Hispanic</th>\n",
       "      <th>race_ethn_International</th>\n",
       "      <th>race_ethn_Missing/Unknown</th>\n",
       "      <th>race_ethn_Native Hawaiian/Pacific Islander</th>\n",
       "      <th>race_ethn_Two or More Races</th>\n",
       "      <th>race_ethn_Two or more races</th>\n",
       "      <th>race_ethn_White</th>\n",
       "      <th>fgen_1GN</th>\n",
       "      <th>fgen_1GX</th>\n",
       "      <th>fgen_1GY</th>\n",
       "      <th>student_year_FR</th>\n",
       "      <th>student_year_JU</th>\n",
       "      <th>student_year_SE</th>\n",
       "      <th>student_year_SO</th>\n",
       "      <th>enroll_type_CONC</th>\n",
       "      <th>enroll_type_FIRST</th>\n",
       "      <th>enroll_type_TRANSFER</th>\n",
       "      <th>title_agricultural/animal/plant/veterinary_science_and_related_fields</th>\n",
       "      <th>title_area,_ethnic,_cultural,_gender,_and_group_studies</th>\n",
       "      <th>title_basic_skills_and_developmental/remedial_education</th>\n",
       "      <th>title_biological_and_biomedical_sciences</th>\n",
       "      <th>title_business,_management,_marketing,_and_related_support_services</th>\n",
       "      <th>title_communication,_journalism,_and_related_programs</th>\n",
       "      <th>title_communications_technologies/technicians_and_support_services</th>\n",
       "      <th>title_computer_and_information_sciences_and_support_services</th>\n",
       "      <th>title_education</th>\n",
       "      <th>title_engineering</th>\n",
       "      <th>title_engineering/engineering-related_technologies/technicians</th>\n",
       "      <th>title_english_language_and_literature/letters</th>\n",
       "      <th>title_foreign_languages,_literatures,_and_linguistics</th>\n",
       "      <th>title_health_professions_and_related_programs</th>\n",
       "      <th>title_history</th>\n",
       "      <th>title_homeland_security,_law_enforcement,_firefighting_and_related_protective_services</th>\n",
       "      <th>title_liberal_arts_and_sciences,_general_studies_and_humanities</th>\n",
       "      <th>title_mathematics_and_statistics</th>\n",
       "      <th>title_military_technologies_and_applied_sciences</th>\n",
       "      <th>title_multi/interdisciplinary_studies</th>\n",
       "      <th>title_natural_resources_and_conservation</th>\n",
       "      <th>title_parks,_recreation,_leisure,_fitness,_and_kinesiology</th>\n",
       "      <th>title_philosophy_and_religious_studies</th>\n",
       "      <th>title_physical_sciences</th>\n",
       "      <th>title_psychology</th>\n",
       "      <th>title_public_administration_and_social_service_professions</th>\n",
       "      <th>title_social_sciences</th>\n",
       "      <th>title_transportation_and_materials_moving</th>\n",
       "      <th>title_visual_and_performing_arts</th>\n",
       "      <th>age_at_start_term_18-younger</th>\n",
       "      <th>age_at_start_term_19-22</th>\n",
       "      <th>age_at_start_term_23-29</th>\n",
       "      <th>age_at_start_term_30-older</th>\n",
       "      <th>act_20 or more</th>\n",
       "      <th>act_NADA</th>\n",
       "      <th>act_Under 20</th>\n",
       "      <th>depend_status_DEP</th>\n",
       "      <th>depend_status_IND</th>\n",
       "      <th>depend_status_unk</th>\n",
       "      <th>yrs_since_start_0</th>\n",
       "      <th>yrs_since_start_1</th>\n",
       "      <th>yrs_since_start_2</th>\n",
       "      <th>yrs_since_start_3</th>\n",
       "      <th>yrs_since_start_4</th>\n",
       "      <th>yrs_since_start_5</th>\n",
       "      <th>yrs_since_start_6 or more</th>\n",
       "    </tr>\n",
       "  </thead>\n",
       "  <tbody>\n",
       "    <tr>\n",
       "      <th>434221</th>\n",
       "      <td>607703</td>\n",
       "      <td>0</td>\n",
       "      <td>0</td>\n",
       "      <td>Two or more races</td>\n",
       "      <td>1</td>\n",
       "      <td>0</td>\n",
       "      <td>1GY</td>\n",
       "      <td>SO</td>\n",
       "      <td>1</td>\n",
       "      <td>1.222222</td>\n",
       "      <td>FIRST</td>\n",
       "      <td>26</td>\n",
       "      <td>23-29</td>\n",
       "      <td>Under 20</td>\n",
       "      <td>1</td>\n",
       "      <td>1</td>\n",
       "      <td>unk</td>\n",
       "      <td>0</td>\n",
       "      <td>6 or more</td>\n",
       "      <td>150</td>\n",
       "      <td>biological_and_biomedical_sciences</td>\n",
       "      <td>0</td>\n",
       "      <td>0</td>\n",
       "      <td>0</td>\n",
       "      <td>0</td>\n",
       "      <td>0</td>\n",
       "      <td>0</td>\n",
       "      <td>0</td>\n",
       "      <td>0</td>\n",
       "      <td>1</td>\n",
       "      <td>0</td>\n",
       "      <td>0</td>\n",
       "      <td>0</td>\n",
       "      <td>1</td>\n",
       "      <td>0</td>\n",
       "      <td>0</td>\n",
       "      <td>0</td>\n",
       "      <td>1</td>\n",
       "      <td>0</td>\n",
       "      <td>1</td>\n",
       "      <td>0</td>\n",
       "      <td>0</td>\n",
       "      <td>0</td>\n",
       "      <td>0</td>\n",
       "      <td>1</td>\n",
       "      <td>0</td>\n",
       "      <td>0</td>\n",
       "      <td>0</td>\n",
       "      <td>0</td>\n",
       "      <td>0</td>\n",
       "      <td>0</td>\n",
       "      <td>0</td>\n",
       "      <td>0</td>\n",
       "      <td>0</td>\n",
       "      <td>0</td>\n",
       "      <td>0</td>\n",
       "      <td>0</td>\n",
       "      <td>0</td>\n",
       "      <td>0</td>\n",
       "      <td>0</td>\n",
       "      <td>0</td>\n",
       "      <td>0</td>\n",
       "      <td>0</td>\n",
       "      <td>0</td>\n",
       "      <td>0</td>\n",
       "      <td>0</td>\n",
       "      <td>0</td>\n",
       "      <td>0</td>\n",
       "      <td>0</td>\n",
       "      <td>0</td>\n",
       "      <td>0</td>\n",
       "      <td>0</td>\n",
       "      <td>1</td>\n",
       "      <td>0</td>\n",
       "      <td>0</td>\n",
       "      <td>0</td>\n",
       "      <td>1</td>\n",
       "      <td>0</td>\n",
       "      <td>0</td>\n",
       "      <td>1</td>\n",
       "      <td>0</td>\n",
       "      <td>0</td>\n",
       "      <td>0</td>\n",
       "      <td>0</td>\n",
       "      <td>0</td>\n",
       "      <td>0</td>\n",
       "      <td>1</td>\n",
       "    </tr>\n",
       "    <tr>\n",
       "      <th>357083</th>\n",
       "      <td>1125873</td>\n",
       "      <td>1</td>\n",
       "      <td>1</td>\n",
       "      <td>White</td>\n",
       "      <td>1</td>\n",
       "      <td>0</td>\n",
       "      <td>1GY</td>\n",
       "      <td>SE</td>\n",
       "      <td>0</td>\n",
       "      <td>3.000000</td>\n",
       "      <td>TRANSFER</td>\n",
       "      <td>42</td>\n",
       "      <td>23-29</td>\n",
       "      <td>20 or more</td>\n",
       "      <td>1</td>\n",
       "      <td>0</td>\n",
       "      <td>unk</td>\n",
       "      <td>0</td>\n",
       "      <td>2</td>\n",
       "      <td>40</td>\n",
       "      <td>psychology</td>\n",
       "      <td>0</td>\n",
       "      <td>0</td>\n",
       "      <td>0</td>\n",
       "      <td>0</td>\n",
       "      <td>0</td>\n",
       "      <td>0</td>\n",
       "      <td>0</td>\n",
       "      <td>0</td>\n",
       "      <td>0</td>\n",
       "      <td>1</td>\n",
       "      <td>0</td>\n",
       "      <td>0</td>\n",
       "      <td>1</td>\n",
       "      <td>0</td>\n",
       "      <td>0</td>\n",
       "      <td>1</td>\n",
       "      <td>0</td>\n",
       "      <td>0</td>\n",
       "      <td>0</td>\n",
       "      <td>1</td>\n",
       "      <td>0</td>\n",
       "      <td>0</td>\n",
       "      <td>0</td>\n",
       "      <td>0</td>\n",
       "      <td>0</td>\n",
       "      <td>0</td>\n",
       "      <td>0</td>\n",
       "      <td>0</td>\n",
       "      <td>0</td>\n",
       "      <td>0</td>\n",
       "      <td>0</td>\n",
       "      <td>0</td>\n",
       "      <td>0</td>\n",
       "      <td>0</td>\n",
       "      <td>0</td>\n",
       "      <td>0</td>\n",
       "      <td>0</td>\n",
       "      <td>0</td>\n",
       "      <td>0</td>\n",
       "      <td>0</td>\n",
       "      <td>0</td>\n",
       "      <td>0</td>\n",
       "      <td>0</td>\n",
       "      <td>0</td>\n",
       "      <td>1</td>\n",
       "      <td>0</td>\n",
       "      <td>0</td>\n",
       "      <td>0</td>\n",
       "      <td>0</td>\n",
       "      <td>0</td>\n",
       "      <td>0</td>\n",
       "      <td>1</td>\n",
       "      <td>0</td>\n",
       "      <td>1</td>\n",
       "      <td>0</td>\n",
       "      <td>0</td>\n",
       "      <td>0</td>\n",
       "      <td>0</td>\n",
       "      <td>1</td>\n",
       "      <td>0</td>\n",
       "      <td>0</td>\n",
       "      <td>1</td>\n",
       "      <td>0</td>\n",
       "      <td>0</td>\n",
       "      <td>0</td>\n",
       "      <td>0</td>\n",
       "    </tr>\n",
       "    <tr>\n",
       "      <th>418485</th>\n",
       "      <td>593732</td>\n",
       "      <td>1</td>\n",
       "      <td>1</td>\n",
       "      <td>African American</td>\n",
       "      <td>1</td>\n",
       "      <td>0</td>\n",
       "      <td>1GY</td>\n",
       "      <td>JU</td>\n",
       "      <td>1</td>\n",
       "      <td>2.000000</td>\n",
       "      <td>FIRST</td>\n",
       "      <td>26</td>\n",
       "      <td>23-29</td>\n",
       "      <td>NADA</td>\n",
       "      <td>1</td>\n",
       "      <td>1</td>\n",
       "      <td>IND</td>\n",
       "      <td>0</td>\n",
       "      <td>6 or more</td>\n",
       "      <td>83</td>\n",
       "      <td>biological_and_biomedical_sciences</td>\n",
       "      <td>1</td>\n",
       "      <td>0</td>\n",
       "      <td>0</td>\n",
       "      <td>0</td>\n",
       "      <td>0</td>\n",
       "      <td>0</td>\n",
       "      <td>0</td>\n",
       "      <td>0</td>\n",
       "      <td>0</td>\n",
       "      <td>0</td>\n",
       "      <td>0</td>\n",
       "      <td>0</td>\n",
       "      <td>1</td>\n",
       "      <td>0</td>\n",
       "      <td>1</td>\n",
       "      <td>0</td>\n",
       "      <td>0</td>\n",
       "      <td>0</td>\n",
       "      <td>1</td>\n",
       "      <td>0</td>\n",
       "      <td>0</td>\n",
       "      <td>0</td>\n",
       "      <td>0</td>\n",
       "      <td>1</td>\n",
       "      <td>0</td>\n",
       "      <td>0</td>\n",
       "      <td>0</td>\n",
       "      <td>0</td>\n",
       "      <td>0</td>\n",
       "      <td>0</td>\n",
       "      <td>0</td>\n",
       "      <td>0</td>\n",
       "      <td>0</td>\n",
       "      <td>0</td>\n",
       "      <td>0</td>\n",
       "      <td>0</td>\n",
       "      <td>0</td>\n",
       "      <td>0</td>\n",
       "      <td>0</td>\n",
       "      <td>0</td>\n",
       "      <td>0</td>\n",
       "      <td>0</td>\n",
       "      <td>0</td>\n",
       "      <td>0</td>\n",
       "      <td>0</td>\n",
       "      <td>0</td>\n",
       "      <td>0</td>\n",
       "      <td>0</td>\n",
       "      <td>0</td>\n",
       "      <td>0</td>\n",
       "      <td>0</td>\n",
       "      <td>1</td>\n",
       "      <td>0</td>\n",
       "      <td>0</td>\n",
       "      <td>1</td>\n",
       "      <td>0</td>\n",
       "      <td>0</td>\n",
       "      <td>1</td>\n",
       "      <td>0</td>\n",
       "      <td>0</td>\n",
       "      <td>0</td>\n",
       "      <td>0</td>\n",
       "      <td>0</td>\n",
       "      <td>0</td>\n",
       "      <td>0</td>\n",
       "      <td>1</td>\n",
       "    </tr>\n",
       "    <tr>\n",
       "      <th>178811</th>\n",
       "      <td>934538</td>\n",
       "      <td>1</td>\n",
       "      <td>1</td>\n",
       "      <td>White</td>\n",
       "      <td>1</td>\n",
       "      <td>0</td>\n",
       "      <td>1GY</td>\n",
       "      <td>SE</td>\n",
       "      <td>1</td>\n",
       "      <td>4.000000</td>\n",
       "      <td>TRANSFER</td>\n",
       "      <td>13</td>\n",
       "      <td>30-older</td>\n",
       "      <td>NADA</td>\n",
       "      <td>1</td>\n",
       "      <td>1</td>\n",
       "      <td>IND</td>\n",
       "      <td>0</td>\n",
       "      <td>4</td>\n",
       "      <td>68</td>\n",
       "      <td>education</td>\n",
       "      <td>0</td>\n",
       "      <td>0</td>\n",
       "      <td>0</td>\n",
       "      <td>0</td>\n",
       "      <td>0</td>\n",
       "      <td>0</td>\n",
       "      <td>0</td>\n",
       "      <td>0</td>\n",
       "      <td>0</td>\n",
       "      <td>1</td>\n",
       "      <td>0</td>\n",
       "      <td>0</td>\n",
       "      <td>1</td>\n",
       "      <td>0</td>\n",
       "      <td>0</td>\n",
       "      <td>1</td>\n",
       "      <td>0</td>\n",
       "      <td>0</td>\n",
       "      <td>0</td>\n",
       "      <td>1</td>\n",
       "      <td>0</td>\n",
       "      <td>0</td>\n",
       "      <td>0</td>\n",
       "      <td>0</td>\n",
       "      <td>0</td>\n",
       "      <td>0</td>\n",
       "      <td>0</td>\n",
       "      <td>0</td>\n",
       "      <td>1</td>\n",
       "      <td>0</td>\n",
       "      <td>0</td>\n",
       "      <td>0</td>\n",
       "      <td>0</td>\n",
       "      <td>0</td>\n",
       "      <td>0</td>\n",
       "      <td>0</td>\n",
       "      <td>0</td>\n",
       "      <td>0</td>\n",
       "      <td>0</td>\n",
       "      <td>0</td>\n",
       "      <td>0</td>\n",
       "      <td>0</td>\n",
       "      <td>0</td>\n",
       "      <td>0</td>\n",
       "      <td>0</td>\n",
       "      <td>0</td>\n",
       "      <td>0</td>\n",
       "      <td>0</td>\n",
       "      <td>0</td>\n",
       "      <td>0</td>\n",
       "      <td>0</td>\n",
       "      <td>0</td>\n",
       "      <td>1</td>\n",
       "      <td>0</td>\n",
       "      <td>1</td>\n",
       "      <td>0</td>\n",
       "      <td>0</td>\n",
       "      <td>1</td>\n",
       "      <td>0</td>\n",
       "      <td>0</td>\n",
       "      <td>0</td>\n",
       "      <td>0</td>\n",
       "      <td>0</td>\n",
       "      <td>1</td>\n",
       "      <td>0</td>\n",
       "      <td>0</td>\n",
       "    </tr>\n",
       "    <tr>\n",
       "      <th>100114</th>\n",
       "      <td>991406</td>\n",
       "      <td>1</td>\n",
       "      <td>1</td>\n",
       "      <td>Hispanic</td>\n",
       "      <td>0</td>\n",
       "      <td>1</td>\n",
       "      <td>1GY</td>\n",
       "      <td>FR</td>\n",
       "      <td>1</td>\n",
       "      <td>2.556667</td>\n",
       "      <td>FIRST</td>\n",
       "      <td>54</td>\n",
       "      <td>18-younger</td>\n",
       "      <td>Under 20</td>\n",
       "      <td>1</td>\n",
       "      <td>1</td>\n",
       "      <td>DEP</td>\n",
       "      <td>0</td>\n",
       "      <td>1</td>\n",
       "      <td>83</td>\n",
       "      <td>history</td>\n",
       "      <td>0</td>\n",
       "      <td>0</td>\n",
       "      <td>0</td>\n",
       "      <td>1</td>\n",
       "      <td>0</td>\n",
       "      <td>0</td>\n",
       "      <td>0</td>\n",
       "      <td>0</td>\n",
       "      <td>0</td>\n",
       "      <td>0</td>\n",
       "      <td>0</td>\n",
       "      <td>0</td>\n",
       "      <td>1</td>\n",
       "      <td>1</td>\n",
       "      <td>0</td>\n",
       "      <td>0</td>\n",
       "      <td>0</td>\n",
       "      <td>0</td>\n",
       "      <td>1</td>\n",
       "      <td>0</td>\n",
       "      <td>0</td>\n",
       "      <td>0</td>\n",
       "      <td>0</td>\n",
       "      <td>0</td>\n",
       "      <td>0</td>\n",
       "      <td>0</td>\n",
       "      <td>0</td>\n",
       "      <td>0</td>\n",
       "      <td>0</td>\n",
       "      <td>0</td>\n",
       "      <td>0</td>\n",
       "      <td>0</td>\n",
       "      <td>0</td>\n",
       "      <td>0</td>\n",
       "      <td>1</td>\n",
       "      <td>0</td>\n",
       "      <td>0</td>\n",
       "      <td>0</td>\n",
       "      <td>0</td>\n",
       "      <td>0</td>\n",
       "      <td>0</td>\n",
       "      <td>0</td>\n",
       "      <td>0</td>\n",
       "      <td>0</td>\n",
       "      <td>0</td>\n",
       "      <td>0</td>\n",
       "      <td>0</td>\n",
       "      <td>0</td>\n",
       "      <td>0</td>\n",
       "      <td>1</td>\n",
       "      <td>0</td>\n",
       "      <td>0</td>\n",
       "      <td>0</td>\n",
       "      <td>0</td>\n",
       "      <td>0</td>\n",
       "      <td>1</td>\n",
       "      <td>1</td>\n",
       "      <td>0</td>\n",
       "      <td>0</td>\n",
       "      <td>0</td>\n",
       "      <td>1</td>\n",
       "      <td>0</td>\n",
       "      <td>0</td>\n",
       "      <td>0</td>\n",
       "      <td>0</td>\n",
       "      <td>0</td>\n",
       "    </tr>\n",
       "  </tbody>\n",
       "</table>\n",
       "</div>"
      ],
      "text/plain": [
       "             id  retained  enrolled_between          race_ethn  sex  \\\n",
       "434221   607703         0                 0  Two or more races    1   \n",
       "357083  1125873         1                 1              White    1   \n",
       "418485   593732         1                 1   African American    1   \n",
       "178811   934538         1                 1              White    1   \n",
       "100114   991406         1                 1           Hispanic    0   \n",
       "\n",
       "        time_status fgen student_year  pell_ever  term_gpa enroll_type cip  \\\n",
       "434221            0  1GY           SO          1  1.222222       FIRST  26   \n",
       "357083            0  1GY           SE          0  3.000000    TRANSFER  42   \n",
       "418485            0  1GY           JU          1  2.000000       FIRST  26   \n",
       "178811            0  1GY           SE          1  4.000000    TRANSFER  13   \n",
       "100114            1  1GY           FR          1  2.556667       FIRST  54   \n",
       "\n",
       "       age_at_start_term         act  academic_standing  fa_recd  \\\n",
       "434221             23-29    Under 20                  1        1   \n",
       "357083             23-29  20 or more                  1        0   \n",
       "418485             23-29        NADA                  1        1   \n",
       "178811          30-older        NADA                  1        1   \n",
       "100114        18-younger    Under 20                  1        1   \n",
       "\n",
       "       depend_status  w_count yrs_since_start  reg_before_start  \\\n",
       "434221           unk        0       6 or more               150   \n",
       "357083           unk        0               2                40   \n",
       "418485           IND        0       6 or more                83   \n",
       "178811           IND        0               4                68   \n",
       "100114           DEP        0               1                83   \n",
       "\n",
       "                                     title  race_ethn_African American  \\\n",
       "434221  biological_and_biomedical_sciences                           0   \n",
       "357083                          psychology                           0   \n",
       "418485  biological_and_biomedical_sciences                           1   \n",
       "178811                           education                           0   \n",
       "100114                             history                           0   \n",
       "\n",
       "        race_ethn_American Indian/Alaskan Native  race_ethn_Asian  \\\n",
       "434221                                         0                0   \n",
       "357083                                         0                0   \n",
       "418485                                         0                0   \n",
       "178811                                         0                0   \n",
       "100114                                         0                0   \n",
       "\n",
       "        race_ethn_Hispanic  race_ethn_International  \\\n",
       "434221                   0                        0   \n",
       "357083                   0                        0   \n",
       "418485                   0                        0   \n",
       "178811                   0                        0   \n",
       "100114                   1                        0   \n",
       "\n",
       "        race_ethn_Missing/Unknown  race_ethn_Native Hawaiian/Pacific Islander  \\\n",
       "434221                          0                                           0   \n",
       "357083                          0                                           0   \n",
       "418485                          0                                           0   \n",
       "178811                          0                                           0   \n",
       "100114                          0                                           0   \n",
       "\n",
       "        race_ethn_Two or More Races  race_ethn_Two or more races  \\\n",
       "434221                            0                            1   \n",
       "357083                            0                            0   \n",
       "418485                            0                            0   \n",
       "178811                            0                            0   \n",
       "100114                            0                            0   \n",
       "\n",
       "        race_ethn_White  fgen_1GN  fgen_1GX  fgen_1GY  student_year_FR  \\\n",
       "434221                0         0         0         1                0   \n",
       "357083                1         0         0         1                0   \n",
       "418485                0         0         0         1                0   \n",
       "178811                1         0         0         1                0   \n",
       "100114                0         0         0         1                1   \n",
       "\n",
       "        student_year_JU  student_year_SE  student_year_SO  enroll_type_CONC  \\\n",
       "434221                0                0                1                 0   \n",
       "357083                0                1                0                 0   \n",
       "418485                1                0                0                 0   \n",
       "178811                0                1                0                 0   \n",
       "100114                0                0                0                 0   \n",
       "\n",
       "        enroll_type_FIRST  enroll_type_TRANSFER  \\\n",
       "434221                  1                     0   \n",
       "357083                  0                     1   \n",
       "418485                  1                     0   \n",
       "178811                  0                     1   \n",
       "100114                  1                     0   \n",
       "\n",
       "        title_agricultural/animal/plant/veterinary_science_and_related_fields  \\\n",
       "434221                                                                      0   \n",
       "357083                                                                      0   \n",
       "418485                                                                      0   \n",
       "178811                                                                      0   \n",
       "100114                                                                      0   \n",
       "\n",
       "        title_area,_ethnic,_cultural,_gender,_and_group_studies  \\\n",
       "434221                                                        0   \n",
       "357083                                                        0   \n",
       "418485                                                        0   \n",
       "178811                                                        0   \n",
       "100114                                                        0   \n",
       "\n",
       "        title_basic_skills_and_developmental/remedial_education  \\\n",
       "434221                                                        0   \n",
       "357083                                                        0   \n",
       "418485                                                        0   \n",
       "178811                                                        0   \n",
       "100114                                                        0   \n",
       "\n",
       "        title_biological_and_biomedical_sciences  \\\n",
       "434221                                         1   \n",
       "357083                                         0   \n",
       "418485                                         1   \n",
       "178811                                         0   \n",
       "100114                                         0   \n",
       "\n",
       "        title_business,_management,_marketing,_and_related_support_services  \\\n",
       "434221                                                                    0   \n",
       "357083                                                                    0   \n",
       "418485                                                                    0   \n",
       "178811                                                                    0   \n",
       "100114                                                                    0   \n",
       "\n",
       "        title_communication,_journalism,_and_related_programs  \\\n",
       "434221                                                      0   \n",
       "357083                                                      0   \n",
       "418485                                                      0   \n",
       "178811                                                      0   \n",
       "100114                                                      0   \n",
       "\n",
       "        title_communications_technologies/technicians_and_support_services  \\\n",
       "434221                                                                   0   \n",
       "357083                                                                   0   \n",
       "418485                                                                   0   \n",
       "178811                                                                   0   \n",
       "100114                                                                   0   \n",
       "\n",
       "        title_computer_and_information_sciences_and_support_services  \\\n",
       "434221                                                             0   \n",
       "357083                                                             0   \n",
       "418485                                                             0   \n",
       "178811                                                             0   \n",
       "100114                                                             0   \n",
       "\n",
       "        title_education  title_engineering  \\\n",
       "434221                0                  0   \n",
       "357083                0                  0   \n",
       "418485                0                  0   \n",
       "178811                1                  0   \n",
       "100114                0                  0   \n",
       "\n",
       "        title_engineering/engineering-related_technologies/technicians  \\\n",
       "434221                                                               0   \n",
       "357083                                                               0   \n",
       "418485                                                               0   \n",
       "178811                                                               0   \n",
       "100114                                                               0   \n",
       "\n",
       "        title_english_language_and_literature/letters  \\\n",
       "434221                                              0   \n",
       "357083                                              0   \n",
       "418485                                              0   \n",
       "178811                                              0   \n",
       "100114                                              0   \n",
       "\n",
       "        title_foreign_languages,_literatures,_and_linguistics  \\\n",
       "434221                                                      0   \n",
       "357083                                                      0   \n",
       "418485                                                      0   \n",
       "178811                                                      0   \n",
       "100114                                                      0   \n",
       "\n",
       "        title_health_professions_and_related_programs  title_history  \\\n",
       "434221                                              0              0   \n",
       "357083                                              0              0   \n",
       "418485                                              0              0   \n",
       "178811                                              0              0   \n",
       "100114                                              0              1   \n",
       "\n",
       "        title_homeland_security,_law_enforcement,_firefighting_and_related_protective_services  \\\n",
       "434221                                                                                       0   \n",
       "357083                                                                                       0   \n",
       "418485                                                                                       0   \n",
       "178811                                                                                       0   \n",
       "100114                                                                                       0   \n",
       "\n",
       "        title_liberal_arts_and_sciences,_general_studies_and_humanities  \\\n",
       "434221                                                                0   \n",
       "357083                                                                0   \n",
       "418485                                                                0   \n",
       "178811                                                                0   \n",
       "100114                                                                0   \n",
       "\n",
       "        title_mathematics_and_statistics  \\\n",
       "434221                                 0   \n",
       "357083                                 0   \n",
       "418485                                 0   \n",
       "178811                                 0   \n",
       "100114                                 0   \n",
       "\n",
       "        title_military_technologies_and_applied_sciences  \\\n",
       "434221                                                 0   \n",
       "357083                                                 0   \n",
       "418485                                                 0   \n",
       "178811                                                 0   \n",
       "100114                                                 0   \n",
       "\n",
       "        title_multi/interdisciplinary_studies  \\\n",
       "434221                                      0   \n",
       "357083                                      0   \n",
       "418485                                      0   \n",
       "178811                                      0   \n",
       "100114                                      0   \n",
       "\n",
       "        title_natural_resources_and_conservation  \\\n",
       "434221                                         0   \n",
       "357083                                         0   \n",
       "418485                                         0   \n",
       "178811                                         0   \n",
       "100114                                         0   \n",
       "\n",
       "        title_parks,_recreation,_leisure,_fitness,_and_kinesiology  \\\n",
       "434221                                                           0   \n",
       "357083                                                           0   \n",
       "418485                                                           0   \n",
       "178811                                                           0   \n",
       "100114                                                           0   \n",
       "\n",
       "        title_philosophy_and_religious_studies  title_physical_sciences  \\\n",
       "434221                                       0                        0   \n",
       "357083                                       0                        0   \n",
       "418485                                       0                        0   \n",
       "178811                                       0                        0   \n",
       "100114                                       0                        0   \n",
       "\n",
       "        title_psychology  \\\n",
       "434221                 0   \n",
       "357083                 1   \n",
       "418485                 0   \n",
       "178811                 0   \n",
       "100114                 0   \n",
       "\n",
       "        title_public_administration_and_social_service_professions  \\\n",
       "434221                                                           0   \n",
       "357083                                                           0   \n",
       "418485                                                           0   \n",
       "178811                                                           0   \n",
       "100114                                                           0   \n",
       "\n",
       "        title_social_sciences  title_transportation_and_materials_moving  \\\n",
       "434221                      0                                          0   \n",
       "357083                      0                                          0   \n",
       "418485                      0                                          0   \n",
       "178811                      0                                          0   \n",
       "100114                      0                                          0   \n",
       "\n",
       "        title_visual_and_performing_arts  age_at_start_term_18-younger  \\\n",
       "434221                                 0                             0   \n",
       "357083                                 0                             0   \n",
       "418485                                 0                             0   \n",
       "178811                                 0                             0   \n",
       "100114                                 0                             1   \n",
       "\n",
       "        age_at_start_term_19-22  age_at_start_term_23-29  \\\n",
       "434221                        0                        1   \n",
       "357083                        0                        1   \n",
       "418485                        0                        1   \n",
       "178811                        0                        0   \n",
       "100114                        0                        0   \n",
       "\n",
       "        age_at_start_term_30-older  act_20 or more  act_NADA  act_Under 20  \\\n",
       "434221                           0               0         0             1   \n",
       "357083                           0               1         0             0   \n",
       "418485                           0               0         1             0   \n",
       "178811                           1               0         1             0   \n",
       "100114                           0               0         0             1   \n",
       "\n",
       "        depend_status_DEP  depend_status_IND  depend_status_unk  \\\n",
       "434221                  0                  0                  1   \n",
       "357083                  0                  0                  1   \n",
       "418485                  0                  1                  0   \n",
       "178811                  0                  1                  0   \n",
       "100114                  1                  0                  0   \n",
       "\n",
       "        yrs_since_start_0  yrs_since_start_1  yrs_since_start_2  \\\n",
       "434221                  0                  0                  0   \n",
       "357083                  0                  0                  1   \n",
       "418485                  0                  0                  0   \n",
       "178811                  0                  0                  0   \n",
       "100114                  0                  1                  0   \n",
       "\n",
       "        yrs_since_start_3  yrs_since_start_4  yrs_since_start_5  \\\n",
       "434221                  0                  0                  0   \n",
       "357083                  0                  0                  0   \n",
       "418485                  0                  0                  0   \n",
       "178811                  0                  1                  0   \n",
       "100114                  0                  0                  0   \n",
       "\n",
       "        yrs_since_start_6 or more  \n",
       "434221                          1  \n",
       "357083                          0  \n",
       "418485                          1  \n",
       "178811                          0  \n",
       "100114                          0  "
      ]
     },
     "execution_count": 3,
     "metadata": {},
     "output_type": "execute_result"
    }
   ],
   "source": [
    "# Split Data for further exploration\n",
    "target = 'retained'\n",
    "train, validate, test = wrangle.split_data(students, target)\n",
    "train.head()"
   ]
  },
  {
   "cell_type": "code",
   "execution_count": 4,
   "id": "1355e955-2b21-4f55-8656-e3312bc75019",
   "metadata": {
    "tags": []
   },
   "outputs": [
    {
     "data": {
      "text/html": [
       "<div>\n",
       "<style scoped>\n",
       "    .dataframe tbody tr th:only-of-type {\n",
       "        vertical-align: middle;\n",
       "    }\n",
       "\n",
       "    .dataframe tbody tr th {\n",
       "        vertical-align: top;\n",
       "    }\n",
       "\n",
       "    .dataframe thead th {\n",
       "        text-align: right;\n",
       "    }\n",
       "</style>\n",
       "<table border=\"1\" class=\"dataframe\">\n",
       "  <thead>\n",
       "    <tr style=\"text-align: right;\">\n",
       "      <th></th>\n",
       "      <th>reg_before_start</th>\n",
       "      <th>term_gpa</th>\n",
       "    </tr>\n",
       "  </thead>\n",
       "  <tbody>\n",
       "    <tr>\n",
       "      <th>434221</th>\n",
       "      <td>0.898204</td>\n",
       "      <td>0.305556</td>\n",
       "    </tr>\n",
       "    <tr>\n",
       "      <th>357083</th>\n",
       "      <td>0.239521</td>\n",
       "      <td>0.750000</td>\n",
       "    </tr>\n",
       "    <tr>\n",
       "      <th>418485</th>\n",
       "      <td>0.497006</td>\n",
       "      <td>0.500000</td>\n",
       "    </tr>\n",
       "    <tr>\n",
       "      <th>178811</th>\n",
       "      <td>0.407186</td>\n",
       "      <td>1.000000</td>\n",
       "    </tr>\n",
       "    <tr>\n",
       "      <th>100114</th>\n",
       "      <td>0.497006</td>\n",
       "      <td>0.639167</td>\n",
       "    </tr>\n",
       "  </tbody>\n",
       "</table>\n",
       "</div>"
      ],
      "text/plain": [
       "        reg_before_start  term_gpa\n",
       "434221          0.898204  0.305556\n",
       "357083          0.239521  0.750000\n",
       "418485          0.497006  0.500000\n",
       "178811          0.407186  1.000000\n",
       "100114          0.497006  0.639167"
      ]
     },
     "execution_count": 4,
     "metadata": {},
     "output_type": "execute_result"
    }
   ],
   "source": [
    "# Scale data\n",
    "train_scaled, validate_scaled, test_scaled = wrangle.scale_data(train,validate,test)\n",
    "train_scaled.head()"
   ]
  },
  {
   "cell_type": "markdown",
   "id": "8c4a6712-0ef2-481a-8067-385c8391172d",
   "metadata": {
    "jp-MarkdownHeadingCollapsed": true,
    "tags": []
   },
   "source": [
    "# TODO\n",
    "\n",
    "- w_count rename\n",
    "\n",
    "- Reassess all EDA\n",
    "\n",
    "- Ask more questions for year over year retention (Not accounting for individual students)\n",
    "\n",
    "- stacked bar chart showing percent of overall population for area of study with its retention stacked\n",
    "\n",
    "- Comparing subgroups to overall retention by scaling smaller groups up and see how it affects over all retention\n",
    "\n",
    "- Rank values by their Retention percentage (feature? or dimensionality reduction? (regularization?))"
   ]
  },
  {
   "cell_type": "markdown",
   "id": "0dc8aa06-4ad8-456c-9f06-1fcad0cde26d",
   "metadata": {
    "tags": []
   },
   "source": [
    "# Initial EDA"
   ]
  },
  {
   "cell_type": "markdown",
   "id": "6fa0e951-2ed6-4155-a172-5e8e9d0e2fac",
   "metadata": {
    "tags": []
   },
   "source": [
    "## Addressing unique students ID"
   ]
  },
  {
   "cell_type": "code",
   "execution_count": 5,
   "id": "87eaeafb-4832-4b3a-bcc9-c02868c6ca1c",
   "metadata": {
    "tags": []
   },
   "outputs": [
    {
     "data": {
      "text/plain": [
       "115863"
      ]
     },
     "execution_count": 5,
     "metadata": {},
     "output_type": "execute_result"
    }
   ],
   "source": [
    "students['id'].nunique()"
   ]
  },
  {
   "cell_type": "code",
   "execution_count": 6,
   "id": "dce53151-9819-4df4-9881-3e79c65db3cc",
   "metadata": {
    "tags": []
   },
   "outputs": [
    {
     "data": {
      "text/plain": [
       "448086"
      ]
     },
     "execution_count": 6,
     "metadata": {},
     "output_type": "execute_result"
    }
   ],
   "source": [
    "len(students)"
   ]
  },
  {
   "cell_type": "code",
   "execution_count": 7,
   "id": "42a87357-ec34-40d4-8d55-292b5de5e158",
   "metadata": {
    "tags": []
   },
   "outputs": [],
   "source": [
    "#[students['id'].value_counts() == 1]"
   ]
  },
  {
   "cell_type": "code",
   "execution_count": 8,
   "id": "adca6f7b-cd64-45f2-9e74-4c2f53e4caf8",
   "metadata": {
    "tags": []
   },
   "outputs": [],
   "source": [
    "# students.head()"
   ]
  },
  {
   "cell_type": "code",
   "execution_count": 9,
   "id": "ffd846d6-1d58-4275-88a6-99ba356b0c1d",
   "metadata": {
    "tags": []
   },
   "outputs": [],
   "source": [
    "student_zero = train[train['id'] == 459725]\n",
    "# student_zero"
   ]
  },
  {
   "cell_type": "code",
   "execution_count": 10,
   "id": "325b9b70-82c2-42d2-89cf-099eaa7cb28f",
   "metadata": {
    "tags": []
   },
   "outputs": [],
   "source": [
    "# student_zero[['enrolled_between','time_status','student_year','term_gpa','cip','age_at_start_term','depend_status','w_count','yrs_since_start','reg_before_start']]\\\n",
    "# .sort_values(by=['student_year','yrs_since_start','age_at_start_term',])"
   ]
  },
  {
   "cell_type": "code",
   "execution_count": 11,
   "id": "195f8c26-82e1-42a6-846d-81ea8c1efd82",
   "metadata": {
    "tags": []
   },
   "outputs": [],
   "source": [
    "freshman = students[students['student_year'] =='FR']"
   ]
  },
  {
   "cell_type": "code",
   "execution_count": 12,
   "id": "cf71c64d-8e18-4fde-9d06-b92b0bd6ed29",
   "metadata": {
    "tags": []
   },
   "outputs": [
    {
     "data": {
      "text/plain": [
       "59632"
      ]
     },
     "execution_count": 12,
     "metadata": {},
     "output_type": "execute_result"
    }
   ],
   "source": [
    "freshman['id'].nunique()"
   ]
  },
  {
   "cell_type": "code",
   "execution_count": 13,
   "id": "a8dba000-aa33-486f-a960-8880dbf88662",
   "metadata": {
    "tags": []
   },
   "outputs": [],
   "source": [
    "# freshman['id'].value_counts()"
   ]
  },
  {
   "cell_type": "code",
   "execution_count": 14,
   "id": "a39601c4-c9dd-4eee-a0bb-9454051733bc",
   "metadata": {
    "tags": []
   },
   "outputs": [],
   "source": [
    "freshman_zero = freshman[freshman['id'] == 508071]"
   ]
  },
  {
   "cell_type": "code",
   "execution_count": 15,
   "id": "89e75e6a-4332-4c40-8ac9-102cc13a2e60",
   "metadata": {
    "tags": []
   },
   "outputs": [],
   "source": [
    "# freshman_zero"
   ]
  },
  {
   "cell_type": "code",
   "execution_count": 16,
   "id": "1e37ffd8-e87a-4d22-91ac-7ad5e1f78ca8",
   "metadata": {
    "tags": []
   },
   "outputs": [],
   "source": [
    "# freshman_zero[['retained','enrolled_between','time_status','student_year','term_gpa','cip','age_at_start_term','depend_status','w_count','yrs_since_start','reg_before_start']]\\\n",
    "# .sort_values(by=['student_year','yrs_since_start','age_at_start_term',])"
   ]
  },
  {
   "cell_type": "code",
   "execution_count": 17,
   "id": "bbfbd3c9-13af-45bc-9a1b-a97b05494f5a",
   "metadata": {
    "tags": []
   },
   "outputs": [
    {
     "data": {
      "text/plain": [
       "3.8673778514279795"
      ]
     },
     "execution_count": 17,
     "metadata": {},
     "output_type": "execute_result"
    }
   ],
   "source": [
    "students.id.value_counts().mean()"
   ]
  },
  {
   "cell_type": "markdown",
   "id": "fe991e4a-96ba-4de4-8f1c-42d9d66e00dd",
   "metadata": {},
   "source": [
    "## Summary of ID assessment\n",
    "- Each individual row is considered an individual observation of retention year over a year based on variables provided. Individual students show up in dataset multiple times. So this is not a measure of whether an individual student is retained over time but a measure of individual instances of year over year retention. With more data provided and further exploration and analysis, more could be done to understand drivers of individual student retention."
   ]
  },
  {
   "cell_type": "markdown",
   "id": "a26fe17b-9a46-4d78-9f2b-4f34ef50d4ac",
   "metadata": {
    "tags": []
   },
   "source": [
    "## Univariate (students df used)"
   ]
  },
  {
   "cell_type": "code",
   "execution_count": 18,
   "id": "00dc5611-31fa-4131-9b44-62fec9eb3568",
   "metadata": {
    "tags": []
   },
   "outputs": [
    {
     "data": {
      "text/plain": [
       "(448086, 87)"
      ]
     },
     "execution_count": 18,
     "metadata": {},
     "output_type": "execute_result"
    }
   ],
   "source": [
    "students.shape"
   ]
  },
  {
   "cell_type": "markdown",
   "id": "b0607cbf-0477-4d01-984a-e88e88bfb6f7",
   "metadata": {},
   "source": [
    "- (448176, 22)"
   ]
  },
  {
   "cell_type": "code",
   "execution_count": 19,
   "id": "27ca65be-0fb1-439a-89f2-d759bc688eae",
   "metadata": {
    "tags": []
   },
   "outputs": [],
   "source": [
    "# students.describe(include='all')"
   ]
  },
  {
   "cell_type": "markdown",
   "id": "f47f0d7e-a29e-474d-a4a1-011d3b1644ef",
   "metadata": {},
   "source": [
    "- efc, hs_gpa, and term_gpa have missing data. efc has a suspicious max. \n",
    "- 1 key variable (id), 17 categorical, 4 continuous (efc,hs_gpa,term_gpa,reg_before_start)"
   ]
  },
  {
   "cell_type": "code",
   "execution_count": 20,
   "id": "9857fca9-0a7c-47dd-a575-8aa103e89611",
   "metadata": {
    "tags": []
   },
   "outputs": [],
   "source": [
    "# students.info()"
   ]
  },
  {
   "cell_type": "code",
   "execution_count": 21,
   "id": "20c9aa27-0bb4-4034-b3e3-43292bac67ac",
   "metadata": {},
   "outputs": [],
   "source": [
    "# students.isnull().sum()"
   ]
  },
  {
   "cell_type": "markdown",
   "id": "11bf70cd-ba18-48d7-80a2-a55c28428d79",
   "metadata": {},
   "source": [
    "Missing\n",
    "- efc: 128245\n",
    "- hs_gpa: 247365\n",
    "- term_gpa: 89"
   ]
  },
  {
   "cell_type": "code",
   "execution_count": 22,
   "id": "3505b6b3-a0bb-43e5-9531-9fe670f76d1c",
   "metadata": {},
   "outputs": [],
   "source": [
    "# students.isnull().mean()"
   ]
  },
  {
   "cell_type": "markdown",
   "id": "26b58f94-63b0-4060-bea9-fc316bdd7b25",
   "metadata": {},
   "source": [
    "Percent Missing\n",
    "- efc: 0.286149 (Impute efc)\n",
    "- hs_gpa: 0.551937 (Potentially drop hs_gpa)\n",
    "- term_gpa: 0.000199 (Do not worry about term_gpa)"
   ]
  },
  {
   "cell_type": "code",
   "execution_count": 23,
   "id": "f32418c3-5cfe-4f58-abba-e0e0119b2f45",
   "metadata": {},
   "outputs": [
    {
     "data": {
      "image/png": "[encoded data removed]",
      "text/plain": [
       "<Figure size 2880x1440 with 81 Axes>"
      ]
     },
     "metadata": {
      "needs_background": "light"
     },
     "output_type": "display_data"
    }
   ],
   "source": [
    "students.hist(figsize=(40,20), bins =20)\n",
    "plt.show()"
   ]
  },
  {
   "cell_type": "markdown",
   "id": "7c40d5c2-3db1-445d-93cc-98b1ae88c2ed",
   "metadata": {},
   "source": [
    "- Explore term_gpa: spike near 0.0, spike near 4.0, 2.0 and higher seems to be a much larger group than 2.0 and below.\n",
    "- Explore reg_before_start: spike between 75 and 100, below 75 higher than above 100, \n",
    "        - external research shows an average of 85 days for reg to spring semester and 140 for reg to fall (Possible Feature)\n",
    "- hs_gpa shows a normal distribution around just below 3.0. Could be good for impute.\n",
    "- efc looks suspect still"
   ]
  },
  {
   "cell_type": "code",
   "execution_count": 24,
   "id": "747eb597-c132-4d8f-97a9-1839efeaeb5c",
   "metadata": {},
   "outputs": [
    {
     "name": "stdout",
     "output_type": "stream",
     "text": [
      "race_ethn\n",
      "\n",
      "\n",
      "White                               263676\n",
      "Hispanic                             96997\n",
      "African American                     28147\n",
      "Two or more races                    18238\n",
      "Asian                                17760\n",
      "Missing/Unknown                      16043\n",
      "American Indian/Alaskan Native        2903\n",
      "Two or More Races                     2151\n",
      "International                         1405\n",
      "Native Hawaiian/Pacific Islander       766\n",
      "Name: race_ethn, dtype: int64\n",
      "\n",
      "\n",
      "fgen\n",
      "\n",
      "\n",
      "1GY    232156\n",
      "1GN    184874\n",
      "1GX     31056\n",
      "Name: fgen, dtype: int64\n",
      "\n",
      "\n",
      "student_year\n",
      "\n",
      "\n",
      "FR    122967\n",
      "JU    115323\n",
      "SE    105466\n",
      "SO    104330\n",
      "Name: student_year, dtype: int64\n",
      "\n",
      "\n",
      "enroll_type\n",
      "\n",
      "\n",
      "TRANSFER    232940\n",
      "FIRST       212915\n",
      "CONC          2231\n",
      "Name: enroll_type, dtype: int64\n",
      "\n",
      "\n",
      "cip\n",
      "\n",
      "\n",
      "52    84283\n",
      "24    53784\n",
      "50    29942\n",
      "42    28328\n",
      "26    27477\n",
      "43    22258\n",
      "13    19317\n",
      "23    17899\n",
      "15    17834\n",
      "30    16912\n",
      "51    16506\n",
      "44    14714\n",
      "31    14529\n",
      "45    13595\n",
      "11    11601\n",
      "49    11208\n",
      "54     9687\n",
      "9      9549\n",
      "40     8268\n",
      "3      7899\n",
      "27     4465\n",
      "16     4008\n",
      "38     1437\n",
      "5      1433\n",
      "14      970\n",
      "10      158\n",
      "1        20\n",
      "32        3\n",
      "29        2\n",
      "Name: cip, dtype: int64\n",
      "\n",
      "\n",
      "age_at_start_term\n",
      "\n",
      "\n",
      "19-22         171587\n",
      "23-29         146280\n",
      "30-older       91452\n",
      "18-younger     38767\n",
      "Name: age_at_start_term, dtype: int64\n",
      "\n",
      "\n",
      "act\n",
      "\n",
      "\n",
      "NADA          237743\n",
      "20 or more    123708\n",
      "Under 20       86635\n",
      "Name: act, dtype: int64\n",
      "\n",
      "\n",
      "depend_status\n",
      "\n",
      "\n",
      "IND    168514\n",
      "DEP    151344\n",
      "unk    128228\n",
      "Name: depend_status, dtype: int64\n",
      "\n",
      "\n",
      "yrs_since_start\n",
      "\n",
      "\n",
      "0            120882\n",
      "1            113863\n",
      "2             71936\n",
      "6 or more     48137\n",
      "3             46100\n",
      "4             29061\n",
      "5             18107\n",
      "Name: yrs_since_start, dtype: int64\n",
      "\n",
      "\n",
      "title\n",
      "\n",
      "\n",
      "business,_management,_marketing,_and_related_support_services                       84283\n",
      "liberal_arts_and_sciences,_general_studies_and_humanities                           53784\n",
      "visual_and_performing_arts                                                          29942\n",
      "psychology                                                                          28328\n",
      "biological_and_biomedical_sciences                                                  27477\n",
      "homeland_security,_law_enforcement,_firefighting_and_related_protective_services    22258\n",
      "education                                                                           19317\n",
      "english_language_and_literature/letters                                             17899\n",
      "engineering/engineering-related_technologies/technicians                            17834\n",
      "multi/interdisciplinary_studies                                                     16912\n",
      "health_professions_and_related_programs                                             16506\n",
      "public_administration_and_social_service_professions                                14714\n",
      "parks,_recreation,_leisure,_fitness,_and_kinesiology                                14529\n",
      "social_sciences                                                                     13595\n",
      "computer_and_information_sciences_and_support_services                              11601\n",
      "transportation_and_materials_moving                                                 11208\n",
      "history                                                                              9687\n",
      "communication,_journalism,_and_related_programs                                      9549\n",
      "physical_sciences                                                                    8268\n",
      "natural_resources_and_conservation                                                   7899\n",
      "mathematics_and_statistics                                                           4465\n",
      "foreign_languages,_literatures,_and_linguistics                                      4008\n",
      "philosophy_and_religious_studies                                                     1437\n",
      "area,_ethnic,_cultural,_gender,_and_group_studies                                    1433\n",
      "engineering                                                                           970\n",
      "communications_technologies/technicians_and_support_services                          158\n",
      "agricultural/animal/plant/veterinary_science_and_related_fields                        20\n",
      "basic_skills_and_developmental/remedial_education                                       3\n",
      "military_technologies_and_applied_sciences                                              2\n",
      "Name: title, dtype: int64\n",
      "\n",
      "\n"
     ]
    }
   ],
   "source": [
    "variables = students.columns[students.dtypes == 'object']\n",
    "\n",
    "for col in variables:\n",
    "    print(f'{col}\\n\\n\\n{students[col].value_counts(dropna=False)}\\n\\n')"
   ]
  },
  {
   "cell_type": "markdown",
   "id": "1d2b27b7-d342-4fe2-8305-c0e6ea752a36",
   "metadata": {},
   "source": [
    "- One hot encode categorical columns\n",
    "- Replace (1,0): retained, enrolled_between, sex, time_status, pell_ever, academic_standing, fa_recd, w_count\n",
    "- Create dummies: race_ethn, fgen, student_year, enroll_type, cip, age_at_start_term, act, depend_status, yrs_before_start"
   ]
  },
  {
   "cell_type": "code",
   "execution_count": 25,
   "id": "eeebb0ad-7754-459d-9e31-6539d225bdaa",
   "metadata": {},
   "outputs": [
    {
     "data": {
      "text/plain": [
       "52    0.188096\n",
       "24    0.120031\n",
       "50    0.066822\n",
       "42    0.063220\n",
       "26    0.061321\n",
       "43    0.049674\n",
       "13    0.043110\n",
       "23    0.039945\n",
       "15    0.039800\n",
       "30    0.037743\n",
       "51    0.036837\n",
       "44    0.032837\n",
       "31    0.032425\n",
       "45    0.030340\n",
       "11    0.025890\n",
       "49    0.025013\n",
       "54    0.021619\n",
       "9     0.021311\n",
       "40    0.018452\n",
       "3     0.017628\n",
       "27    0.009965\n",
       "16    0.008945\n",
       "38    0.003207\n",
       "5     0.003198\n",
       "14    0.002165\n",
       "10    0.000353\n",
       "1     0.000045\n",
       "32    0.000007\n",
       "29    0.000004\n",
       "Name: cip, dtype: float64"
      ]
     },
     "execution_count": 25,
     "metadata": {},
     "output_type": "execute_result"
    }
   ],
   "source": [
    "students.cip.value_counts(normalize = True)"
   ]
  },
  {
   "cell_type": "markdown",
   "id": "0df083ca-e34c-4ab3-bc12-d84b6c97c99d",
   "metadata": {},
   "source": [
    "- 52: almost 19% \n",
    "- 24: 12% \n",
    "- 50, 42, 26: 6%\n",
    "- 43, 13, 23, 15, 30, 51, 44, 31, 45, 11, 49, 54, 9, 40, 3, 27 between 5% and 1%\n",
    "- 16, 38, 5, 14, 10, 1, 32, 29 below 1$"
   ]
  },
  {
   "cell_type": "markdown",
   "id": "5ff990c9-698d-47dd-aae2-4e3ec7149f68",
   "metadata": {},
   "source": [
    "## Univariate Summary:\n",
    "\n",
    "- efc: 1/3 missing, suspicious max (impute?)\n",
    "- hs_gpa: 55% missing, potentially drop, normal distribution possibly (impute or drop?)\n",
    "- term_gpa only missing a few, spike near 0.0, spike near 4.0, 2.0 and higher seems to be a much larger group than 2.0 and below. (possible clusters?)\n",
    "- reg_before_start spike between 75 and 100, below 75 higher than above 100, external research shows an average of 85 days for reg to spring semester and 140 for reg to fall (Possible Feature, cluster or both)\n",
    "- Change cip into major types and one hot encode\n",
    "- Rank values by their Retention percentage (feature?)"
   ]
  },
  {
   "cell_type": "markdown",
   "id": "00c722bb-cc18-47ab-a2d6-e8eb8691c1f1",
   "metadata": {
    "tags": []
   },
   "source": [
    "##  Bivariate (Train df used)"
   ]
  },
  {
   "cell_type": "code",
   "execution_count": 26,
   "id": "626b76fb-f3ee-43ef-b49e-f7d50d6e04d5",
   "metadata": {},
   "outputs": [
    {
     "name": "stdout",
     "output_type": "stream",
     "text": [
      "<class 'pandas.core.frame.DataFrame'>\n",
      "Int64Index: 250927 entries, 434221 to 185529\n",
      "Data columns (total 87 columns):\n",
      " #   Column                                                                                  Non-Null Count   Dtype  \n",
      "---  ------                                                                                  --------------   -----  \n",
      " 0   id                                                                                      250927 non-null  int64  \n",
      " 1   retained                                                                                250927 non-null  int64  \n",
      " 2   enrolled_between                                                                        250927 non-null  int64  \n",
      " 3   race_ethn                                                                               250927 non-null  object \n",
      " 4   sex                                                                                     250927 non-null  int64  \n",
      " 5   time_status                                                                             250927 non-null  int64  \n",
      " 6   fgen                                                                                    250927 non-null  object \n",
      " 7   student_year                                                                            250927 non-null  object \n",
      " 8   pell_ever                                                                               250927 non-null  int64  \n",
      " 9   term_gpa                                                                                250927 non-null  float64\n",
      " 10  enroll_type                                                                             250927 non-null  object \n",
      " 11  cip                                                                                     250927 non-null  object \n",
      " 12  age_at_start_term                                                                       250927 non-null  object \n",
      " 13  act                                                                                     250927 non-null  object \n",
      " 14  academic_standing                                                                       250927 non-null  int64  \n",
      " 15  fa_recd                                                                                 250927 non-null  int64  \n",
      " 16  depend_status                                                                           250927 non-null  object \n",
      " 17  w_count                                                                                 250927 non-null  int64  \n",
      " 18  yrs_since_start                                                                         250927 non-null  object \n",
      " 19  reg_before_start                                                                        250927 non-null  int64  \n",
      " 20  title                                                                                   250927 non-null  object \n",
      " 21  race_ethn_African American                                                              250927 non-null  uint8  \n",
      " 22  race_ethn_American Indian/Alaskan Native                                                250927 non-null  uint8  \n",
      " 23  race_ethn_Asian                                                                         250927 non-null  uint8  \n",
      " 24  race_ethn_Hispanic                                                                      250927 non-null  uint8  \n",
      " 25  race_ethn_International                                                                 250927 non-null  uint8  \n",
      " 26  race_ethn_Missing/Unknown                                                               250927 non-null  uint8  \n",
      " 27  race_ethn_Native Hawaiian/Pacific Islander                                              250927 non-null  uint8  \n",
      " 28  race_ethn_Two or More Races                                                             250927 non-null  uint8  \n",
      " 29  race_ethn_Two or more races                                                             250927 non-null  uint8  \n",
      " 30  race_ethn_White                                                                         250927 non-null  uint8  \n",
      " 31  fgen_1GN                                                                                250927 non-null  uint8  \n",
      " 32  fgen_1GX                                                                                250927 non-null  uint8  \n",
      " 33  fgen_1GY                                                                                250927 non-null  uint8  \n",
      " 34  student_year_FR                                                                         250927 non-null  uint8  \n",
      " 35  student_year_JU                                                                         250927 non-null  uint8  \n",
      " 36  student_year_SE                                                                         250927 non-null  uint8  \n",
      " 37  student_year_SO                                                                         250927 non-null  uint8  \n",
      " 38  enroll_type_CONC                                                                        250927 non-null  uint8  \n",
      " 39  enroll_type_FIRST                                                                       250927 non-null  uint8  \n",
      " 40  enroll_type_TRANSFER                                                                    250927 non-null  uint8  \n",
      " 41  title_agricultural/animal/plant/veterinary_science_and_related_fields                   250927 non-null  uint8  \n",
      " 42  title_area,_ethnic,_cultural,_gender,_and_group_studies                                 250927 non-null  uint8  \n",
      " 43  title_basic_skills_and_developmental/remedial_education                                 250927 non-null  uint8  \n",
      " 44  title_biological_and_biomedical_sciences                                                250927 non-null  uint8  \n",
      " 45  title_business,_management,_marketing,_and_related_support_services                     250927 non-null  uint8  \n",
      " 46  title_communication,_journalism,_and_related_programs                                   250927 non-null  uint8  \n",
      " 47  title_communications_technologies/technicians_and_support_services                      250927 non-null  uint8  \n",
      " 48  title_computer_and_information_sciences_and_support_services                            250927 non-null  uint8  \n",
      " 49  title_education                                                                         250927 non-null  uint8  \n",
      " 50  title_engineering                                                                       250927 non-null  uint8  \n",
      " 51  title_engineering/engineering-related_technologies/technicians                          250927 non-null  uint8  \n",
      " 52  title_english_language_and_literature/letters                                           250927 non-null  uint8  \n",
      " 53  title_foreign_languages,_literatures,_and_linguistics                                   250927 non-null  uint8  \n",
      " 54  title_health_professions_and_related_programs                                           250927 non-null  uint8  \n",
      " 55  title_history                                                                           250927 non-null  uint8  \n",
      " 56  title_homeland_security,_law_enforcement,_firefighting_and_related_protective_services  250927 non-null  uint8  \n",
      " 57  title_liberal_arts_and_sciences,_general_studies_and_humanities                         250927 non-null  uint8  \n",
      " 58  title_mathematics_and_statistics                                                        250927 non-null  uint8  \n",
      " 59  title_military_technologies_and_applied_sciences                                        250927 non-null  uint8  \n",
      " 60  title_multi/interdisciplinary_studies                                                   250927 non-null  uint8  \n",
      " 61  title_natural_resources_and_conservation                                                250927 non-null  uint8  \n",
      " 62  title_parks,_recreation,_leisure,_fitness,_and_kinesiology                              250927 non-null  uint8  \n",
      " 63  title_philosophy_and_religious_studies                                                  250927 non-null  uint8  \n",
      " 64  title_physical_sciences                                                                 250927 non-null  uint8  \n",
      " 65  title_psychology                                                                        250927 non-null  uint8  \n",
      " 66  title_public_administration_and_social_service_professions                              250927 non-null  uint8  \n",
      " 67  title_social_sciences                                                                   250927 non-null  uint8  \n",
      " 68  title_transportation_and_materials_moving                                               250927 non-null  uint8  \n",
      " 69  title_visual_and_performing_arts                                                        250927 non-null  uint8  \n",
      " 70  age_at_start_term_18-younger                                                            250927 non-null  uint8  \n",
      " 71  age_at_start_term_19-22                                                                 250927 non-null  uint8  \n",
      " 72  age_at_start_term_23-29                                                                 250927 non-null  uint8  \n",
      " 73  age_at_start_term_30-older                                                              250927 non-null  uint8  \n",
      " 74  act_20 or more                                                                          250927 non-null  uint8  \n",
      " 75  act_NADA                                                                                250927 non-null  uint8  \n",
      " 76  act_Under 20                                                                            250927 non-null  uint8  \n",
      " 77  depend_status_DEP                                                                       250927 non-null  uint8  \n",
      " 78  depend_status_IND                                                                       250927 non-null  uint8  \n",
      " 79  depend_status_unk                                                                       250927 non-null  uint8  \n",
      " 80  yrs_since_start_0                                                                       250927 non-null  uint8  \n",
      " 81  yrs_since_start_1                                                                       250927 non-null  uint8  \n",
      " 82  yrs_since_start_2                                                                       250927 non-null  uint8  \n",
      " 83  yrs_since_start_3                                                                       250927 non-null  uint8  \n",
      " 84  yrs_since_start_4                                                                       250927 non-null  uint8  \n",
      " 85  yrs_since_start_5                                                                       250927 non-null  uint8  \n",
      " 86  yrs_since_start_6 or more                                                               250927 non-null  uint8  \n",
      "dtypes: float64(1), int64(10), object(10), uint8(66)\n",
      "memory usage: 57.9+ MB\n"
     ]
    }
   ],
   "source": [
    "train.info()"
   ]
  },
  {
   "cell_type": "code",
   "execution_count": 27,
   "id": "0df918d9-bc32-4912-9ae0-5866b93d712e",
   "metadata": {},
   "outputs": [
    {
     "name": "stdout",
     "output_type": "stream",
     "text": [
      "race_ethn\n",
      "\n",
      "--------------------------------------------------------------\n",
      "retained  race_ethn                       \n",
      "1         White                               102129\n",
      "0         White                                45492\n",
      "1         Hispanic                             36703\n",
      "0         Hispanic                             17628\n",
      "1         African American                      9416\n",
      "          Asian                                 7159\n",
      "          Two or more races                     6778\n",
      "0         African American                      6273\n",
      "1         Missing/Unknown                       5798\n",
      "0         Two or more races                     3493\n",
      "          Missing/Unknown                       3194\n",
      "          Asian                                 2793\n",
      "1         American Indian/Alaskan Native        1004\n",
      "          Two or More Races                      809\n",
      "0         American Indian/Alaskan Native         643\n",
      "1         International                          597\n",
      "0         Two or More Races                      402\n",
      "1         Native Hawaiian/Pacific Islander       283\n",
      "0         International                          191\n",
      "          Native Hawaiian/Pacific Islander       142\n",
      "Name: race_ethn, dtype: int64\n"
     ]
    },
    {
     "data": {
      "image/png": "[encoded data removed]",
      "text/plain": [
       "<Figure size 1080x576 with 1 Axes>"
      ]
     },
     "metadata": {
      "needs_background": "light"
     },
     "output_type": "display_data"
    },
    {
     "name": "stdout",
     "output_type": "stream",
     "text": [
      "race_ethn                         retained\n",
      "International                     1           0.757614\n",
      "Asian                             1           0.719353\n",
      "White                             1           0.691832\n",
      "Hispanic                          1           0.675544\n",
      "Two or More Races                 1           0.668043\n",
      "Native Hawaiian/Pacific Islander  1           0.665882\n",
      "Two or more races                 1           0.659916\n",
      "Missing/Unknown                   1           0.644795\n",
      "American Indian/Alaskan Native    1           0.609593\n",
      "African American                  1           0.600166\n",
      "                                  0           0.399834\n",
      "American Indian/Alaskan Native    0           0.390407\n",
      "Missing/Unknown                   0           0.355205\n",
      "Two or more races                 0           0.340084\n",
      "Native Hawaiian/Pacific Islander  0           0.334118\n",
      "Two or More Races                 0           0.331957\n",
      "Hispanic                          0           0.324456\n",
      "White                             0           0.308168\n",
      "Asian                             0           0.280647\n",
      "International                     0           0.242386\n",
      "Name: retained, dtype: float64\n",
      "=======================================================\n",
      "\n",
      "\n",
      "fgen\n",
      "\n",
      "--------------------------------------------------------------\n",
      "retained  fgen\n",
      "1         1GY     87551\n",
      "          1GN     71749\n",
      "0         1GY     42586\n",
      "          1GN     31801\n",
      "1         1GX     11376\n",
      "0         1GX      5864\n",
      "Name: fgen, dtype: int64\n"
     ]
    },
    {
     "data": {
      "image/png": "[encoded data removed]",
      "text/plain": [
       "<Figure size 1080x576 with 1 Axes>"
      ]
     },
     "metadata": {
      "needs_background": "light"
     },
     "output_type": "display_data"
    },
    {
     "name": "stdout",
     "output_type": "stream",
     "text": [
      "fgen  retained\n",
      "1GN   1           0.692892\n",
      "1GY   1           0.672760\n",
      "1GX   1           0.659861\n",
      "      0           0.340139\n",
      "1GY   0           0.327240\n",
      "1GN   0           0.307108\n",
      "Name: retained, dtype: float64\n",
      "=======================================================\n",
      "\n",
      "\n",
      "student_year\n",
      "\n",
      "--------------------------------------------------------------\n",
      "retained  student_year\n",
      "1         JU              51025\n",
      "          SO              41546\n",
      "          SE              40614\n",
      "          FR              37491\n",
      "0         FR              31482\n",
      "          SE              18432\n",
      "          SO              16959\n",
      "          JU              13378\n",
      "Name: student_year, dtype: int64\n"
     ]
    },
    {
     "data": {
      "image/png": "[encoded data removed]",
      "text/plain": [
       "<Figure size 1080x576 with 1 Axes>"
      ]
     },
     "metadata": {
      "needs_background": "light"
     },
     "output_type": "display_data"
    },
    {
     "name": "stdout",
     "output_type": "stream",
     "text": [
      "student_year  retained\n",
      "JU            1           0.792277\n",
      "SO            1           0.710127\n",
      "SE            1           0.687837\n",
      "FR            1           0.543561\n",
      "              0           0.456439\n",
      "SE            0           0.312163\n",
      "SO            0           0.289873\n",
      "JU            0           0.207723\n",
      "Name: retained, dtype: float64\n",
      "=======================================================\n",
      "\n",
      "\n",
      "enroll_type\n",
      "\n",
      "--------------------------------------------------------------\n",
      "retained  enroll_type\n",
      "1         TRANSFER       88601\n",
      "          FIRST          81261\n",
      "0         TRANSFER       41579\n",
      "          FIRST          38283\n",
      "1         CONC             814\n",
      "0         CONC             389\n",
      "Name: enroll_type, dtype: int64\n"
     ]
    },
    {
     "data": {
      "image/png": "[encoded data removed]",
      "text/plain": [
       "<Figure size 1080x576 with 1 Axes>"
      ]
     },
     "metadata": {
      "needs_background": "light"
     },
     "output_type": "display_data"
    },
    {
     "name": "stdout",
     "output_type": "stream",
     "text": [
      "enroll_type  retained\n",
      "TRANSFER     1           0.680604\n",
      "FIRST        1           0.679758\n",
      "CONC         1           0.676642\n",
      "             0           0.323358\n",
      "FIRST        0           0.320242\n",
      "TRANSFER     0           0.319396\n",
      "Name: retained, dtype: float64\n",
      "=======================================================\n",
      "\n",
      "\n",
      "cip\n",
      "\n",
      "--------------------------------------------------------------\n",
      "retained  cip\n",
      "1         52     32754\n",
      "          24     17167\n",
      "0         52     14512\n",
      "          24     13055\n",
      "1         50     11701\n",
      "          42     11294\n",
      "          26     10455\n",
      "          43      8596\n",
      "          23      7245\n",
      "          30      6854\n",
      "          15      6846\n",
      "          13      6741\n",
      "          51      6489\n",
      "          44      5969\n",
      "          31      5872\n",
      "          45      5086\n",
      "0         50      5040\n",
      "          26      4927\n",
      "          42      4584\n",
      "1         49      4421\n",
      "          11      4342\n",
      "0         13      4117\n",
      "1         54      3887\n",
      "0         43      3811\n",
      "1         9       3735\n",
      "          3       3162\n",
      "          40      3155\n",
      "0         15      3151\n",
      "          23      2765\n",
      "          51      2720\n",
      "          30      2571\n",
      "          45      2474\n",
      "          44      2249\n",
      "          31      2238\n",
      "          11      2199\n",
      "          49      1931\n",
      "1         27      1769\n",
      "          16      1613\n",
      "0         9       1575\n",
      "          54      1539\n",
      "          40      1461\n",
      "          3       1232\n",
      "          27       704\n",
      "          16       648\n",
      "1         5        588\n",
      "          38       518\n",
      "          14       354\n",
      "0         38       300\n",
      "          5        222\n",
      "          14       184\n",
      "1         10        60\n",
      "0         10        33\n",
      "          1          8\n",
      "1         1          3\n",
      "0         32         1\n",
      "Name: cip, dtype: int64\n"
     ]
    },
    {
     "data": {
      "image/png": "[encoded data removed]",
      "text/plain": [
       "<Figure size 1080x576 with 1 Axes>"
      ]
     },
     "metadata": {
      "needs_background": "light"
     },
     "output_type": "display_data"
    },
    {
     "name": "stdout",
     "output_type": "stream",
     "text": [
      "cip  retained\n",
      "32   0           1.000000\n",
      "1    0           0.727273\n",
      "30   1           0.727215\n",
      "44   1           0.726332\n",
      "5    1           0.725926\n",
      "31   1           0.724044\n",
      "23   1           0.723776\n",
      "3    1           0.719618\n",
      "54   1           0.716366\n",
      "27   1           0.715326\n",
      "16   1           0.713401\n",
      "42   1           0.711299\n",
      "51   1           0.704637\n",
      "9    1           0.703390\n",
      "50   1           0.698943\n",
      "49   1           0.696001\n",
      "52   1           0.692972\n",
      "43   1           0.692835\n",
      "15   1           0.684805\n",
      "40   1           0.683492\n",
      "26   1           0.679691\n",
      "45   1           0.672751\n",
      "11   1           0.663813\n",
      "14   1           0.657993\n",
      "10   1           0.645161\n",
      "38   1           0.633252\n",
      "13   1           0.620833\n",
      "24   1           0.568030\n",
      "     0           0.431970\n",
      "13   0           0.379167\n",
      "38   0           0.366748\n",
      "10   0           0.354839\n",
      "14   0           0.342007\n",
      "11   0           0.336187\n",
      "45   0           0.327249\n",
      "26   0           0.320309\n",
      "40   0           0.316508\n",
      "15   0           0.315195\n",
      "43   0           0.307165\n",
      "52   0           0.307028\n",
      "49   0           0.303999\n",
      "50   0           0.301057\n",
      "9    0           0.296610\n",
      "51   0           0.295363\n",
      "42   0           0.288701\n",
      "16   0           0.286599\n",
      "27   0           0.284674\n",
      "54   0           0.283634\n",
      "3    0           0.280382\n",
      "23   0           0.276224\n",
      "31   0           0.275956\n",
      "5    0           0.274074\n",
      "44   0           0.273668\n",
      "30   0           0.272785\n",
      "1    1           0.272727\n",
      "Name: retained, dtype: float64\n",
      "=======================================================\n",
      "\n",
      "\n",
      "age_at_start_term\n",
      "\n",
      "--------------------------------------------------------------\n",
      "retained  age_at_start_term\n",
      "1         19-22                68552\n",
      "          23-29                55366\n",
      "          30-older             33387\n",
      "0         19-22                27747\n",
      "          23-29                26300\n",
      "          30-older             17796\n",
      "1         18-younger           13371\n",
      "0         18-younger            8408\n",
      "Name: age_at_start_term, dtype: int64\n"
     ]
    },
    {
     "data": {
      "image/png": "[encoded data removed]",
      "text/plain": [
       "<Figure size 1080x576 with 1 Axes>"
      ]
     },
     "metadata": {
      "needs_background": "light"
     },
     "output_type": "display_data"
    },
    {
     "name": "stdout",
     "output_type": "stream",
     "text": [
      "age_at_start_term  retained\n",
      "19-22              1           0.711866\n",
      "23-29              1           0.677957\n",
      "30-older           1           0.652306\n",
      "18-younger         1           0.613940\n",
      "                   0           0.386060\n",
      "30-older           0           0.347694\n",
      "23-29              0           0.322043\n",
      "19-22              0           0.288134\n",
      "Name: retained, dtype: float64\n",
      "=======================================================\n",
      "\n",
      "\n",
      "act\n",
      "\n",
      "--------------------------------------------------------------\n",
      "retained  act       \n",
      "1         NADA          88088\n",
      "          20 or more    49167\n",
      "0         NADA          45088\n",
      "1         Under 20      33421\n",
      "0         20 or more    20073\n",
      "          Under 20      15090\n",
      "Name: act, dtype: int64\n"
     ]
    },
    {
     "data": {
      "image/png": "[encoded data removed]",
      "text/plain": [
       "<Figure size 1080x576 with 1 Axes>"
      ]
     },
     "metadata": {
      "needs_background": "light"
     },
     "output_type": "display_data"
    },
    {
     "name": "stdout",
     "output_type": "stream",
     "text": [
      "act         retained\n",
      "20 or more  1           0.710095\n",
      "Under 20    1           0.688937\n",
      "NADA        1           0.661440\n",
      "            0           0.338560\n",
      "Under 20    0           0.311063\n",
      "20 or more  0           0.289905\n",
      "Name: retained, dtype: float64\n",
      "=======================================================\n",
      "\n",
      "\n",
      "depend_status\n",
      "\n",
      "--------------------------------------------------------------\n",
      "retained  depend_status\n",
      "1         IND              64385\n",
      "          DEP              59744\n",
      "          unk              46547\n",
      "0         IND              29746\n",
      "          DEP              25340\n",
      "          unk              25165\n",
      "Name: depend_status, dtype: int64\n"
     ]
    },
    {
     "data": {
      "image/png": "[encoded data removed]",
      "text/plain": [
       "<Figure size 1080x576 with 1 Axes>"
      ]
     },
     "metadata": {
      "needs_background": "light"
     },
     "output_type": "display_data"
    },
    {
     "name": "stdout",
     "output_type": "stream",
     "text": [
      "depend_status  retained\n",
      "DEP            1           0.702177\n",
      "IND            1           0.683994\n",
      "unk            1           0.649082\n",
      "               0           0.350918\n",
      "IND            0           0.316006\n",
      "DEP            0           0.297823\n",
      "Name: retained, dtype: float64\n",
      "=======================================================\n",
      "\n",
      "\n",
      "yrs_since_start\n",
      "\n",
      "--------------------------------------------------------------\n",
      "retained  yrs_since_start\n",
      "1         1                  43864\n",
      "          0                  41738\n",
      "          2                  30128\n",
      "0         0                  26102\n",
      "          1                  19866\n",
      "1         3                  19323\n",
      "          6 or more          16927\n",
      "          4                  11799\n",
      "0         2                  10276\n",
      "          6 or more           9892\n",
      "1         5                   6897\n",
      "0         3                   6336\n",
      "          4                   4525\n",
      "          5                   3254\n",
      "Name: yrs_since_start, dtype: int64\n"
     ]
    },
    {
     "data": {
      "image/png": "[encoded data removed]",
      "text/plain": [
       "<Figure size 1080x576 with 1 Axes>"
      ]
     },
     "metadata": {
      "needs_background": "light"
     },
     "output_type": "display_data"
    },
    {
     "name": "stdout",
     "output_type": "stream",
     "text": [
      "yrs_since_start  retained\n",
      "3                1           0.753069\n",
      "2                1           0.745669\n",
      "4                1           0.722801\n",
      "1                1           0.688279\n",
      "5                1           0.679440\n",
      "6 or more        1           0.631157\n",
      "0                1           0.615242\n",
      "                 0           0.384758\n",
      "6 or more        0           0.368843\n",
      "5                0           0.320560\n",
      "1                0           0.311721\n",
      "4                0           0.277199\n",
      "2                0           0.254331\n",
      "3                0           0.246931\n",
      "Name: retained, dtype: float64\n",
      "=======================================================\n",
      "\n",
      "\n",
      "title\n",
      "\n",
      "--------------------------------------------------------------\n",
      "retained  title                                                                           \n",
      "1         business,_management,_marketing,_and_related_support_services                       32754\n",
      "          liberal_arts_and_sciences,_general_studies_and_humanities                           17167\n",
      "0         business,_management,_marketing,_and_related_support_services                       14512\n",
      "          liberal_arts_and_sciences,_general_studies_and_humanities                           13055\n",
      "1         visual_and_performing_arts                                                          11701\n",
      "          psychology                                                                          11294\n",
      "          biological_and_biomedical_sciences                                                  10455\n",
      "          homeland_security,_law_enforcement,_firefighting_and_related_protective_services     8596\n",
      "          english_language_and_literature/letters                                              7245\n",
      "          multi/interdisciplinary_studies                                                      6854\n",
      "          engineering/engineering-related_technologies/technicians                             6846\n",
      "          education                                                                            6741\n",
      "          health_professions_and_related_programs                                              6489\n",
      "          public_administration_and_social_service_professions                                 5969\n",
      "          parks,_recreation,_leisure,_fitness,_and_kinesiology                                 5872\n",
      "          social_sciences                                                                      5086\n",
      "0         visual_and_performing_arts                                                           5040\n",
      "          biological_and_biomedical_sciences                                                   4927\n",
      "          psychology                                                                           4584\n",
      "1         transportation_and_materials_moving                                                  4421\n",
      "          computer_and_information_sciences_and_support_services                               4342\n",
      "0         education                                                                            4117\n",
      "1         history                                                                              3887\n",
      "0         homeland_security,_law_enforcement,_firefighting_and_related_protective_services     3811\n",
      "1         communication,_journalism,_and_related_programs                                      3735\n",
      "          natural_resources_and_conservation                                                   3162\n",
      "          physical_sciences                                                                    3155\n",
      "0         engineering/engineering-related_technologies/technicians                             3151\n",
      "          english_language_and_literature/letters                                              2765\n",
      "          health_professions_and_related_programs                                              2720\n",
      "          multi/interdisciplinary_studies                                                      2571\n",
      "          social_sciences                                                                      2474\n",
      "          public_administration_and_social_service_professions                                 2249\n",
      "          parks,_recreation,_leisure,_fitness,_and_kinesiology                                 2238\n",
      "          computer_and_information_sciences_and_support_services                               2199\n",
      "          transportation_and_materials_moving                                                  1931\n",
      "1         mathematics_and_statistics                                                           1769\n",
      "          foreign_languages,_literatures,_and_linguistics                                      1613\n",
      "0         communication,_journalism,_and_related_programs                                      1575\n",
      "          history                                                                              1539\n",
      "          physical_sciences                                                                    1461\n",
      "          natural_resources_and_conservation                                                   1232\n",
      "          mathematics_and_statistics                                                            704\n",
      "          foreign_languages,_literatures,_and_linguistics                                       648\n",
      "1         area,_ethnic,_cultural,_gender,_and_group_studies                                     588\n",
      "          philosophy_and_religious_studies                                                      518\n",
      "          engineering                                                                           354\n",
      "0         philosophy_and_religious_studies                                                      300\n",
      "          area,_ethnic,_cultural,_gender,_and_group_studies                                     222\n",
      "          engineering                                                                           184\n",
      "1         communications_technologies/technicians_and_support_services                           60\n",
      "0         communications_technologies/technicians_and_support_services                           33\n",
      "          agricultural/animal/plant/veterinary_science_and_related_fields                         8\n",
      "1         agricultural/animal/plant/veterinary_science_and_related_fields                         3\n",
      "0         basic_skills_and_developmental/remedial_education                                       1\n",
      "Name: title, dtype: int64\n"
     ]
    },
    {
     "data": {
      "image/png": "[encoded data removed]",
      "text/plain": [
       "<Figure size 1080x576 with 1 Axes>"
      ]
     },
     "metadata": {
      "needs_background": "light"
     },
     "output_type": "display_data"
    },
    {
     "name": "stdout",
     "output_type": "stream",
     "text": [
      "title                                                                             retained\n",
      "basic_skills_and_developmental/remedial_education                                 0           1.000000\n",
      "agricultural/animal/plant/veterinary_science_and_related_fields                   0           0.727273\n",
      "multi/interdisciplinary_studies                                                   1           0.727215\n",
      "public_administration_and_social_service_professions                              1           0.726332\n",
      "area,_ethnic,_cultural,_gender,_and_group_studies                                 1           0.725926\n",
      "parks,_recreation,_leisure,_fitness,_and_kinesiology                              1           0.724044\n",
      "english_language_and_literature/letters                                           1           0.723776\n",
      "natural_resources_and_conservation                                                1           0.719618\n",
      "history                                                                           1           0.716366\n",
      "mathematics_and_statistics                                                        1           0.715326\n",
      "foreign_languages,_literatures,_and_linguistics                                   1           0.713401\n",
      "psychology                                                                        1           0.711299\n",
      "health_professions_and_related_programs                                           1           0.704637\n",
      "communication,_journalism,_and_related_programs                                   1           0.703390\n",
      "visual_and_performing_arts                                                        1           0.698943\n",
      "transportation_and_materials_moving                                               1           0.696001\n",
      "business,_management,_marketing,_and_related_support_services                     1           0.692972\n",
      "homeland_security,_law_enforcement,_firefighting_and_related_protective_services  1           0.692835\n",
      "engineering/engineering-related_technologies/technicians                          1           0.684805\n",
      "physical_sciences                                                                 1           0.683492\n",
      "biological_and_biomedical_sciences                                                1           0.679691\n",
      "social_sciences                                                                   1           0.672751\n",
      "computer_and_information_sciences_and_support_services                            1           0.663813\n",
      "engineering                                                                       1           0.657993\n",
      "communications_technologies/technicians_and_support_services                      1           0.645161\n",
      "philosophy_and_religious_studies                                                  1           0.633252\n",
      "education                                                                         1           0.620833\n",
      "liberal_arts_and_sciences,_general_studies_and_humanities                         1           0.568030\n",
      "                                                                                  0           0.431970\n",
      "education                                                                         0           0.379167\n",
      "philosophy_and_religious_studies                                                  0           0.366748\n",
      "communications_technologies/technicians_and_support_services                      0           0.354839\n",
      "engineering                                                                       0           0.342007\n",
      "computer_and_information_sciences_and_support_services                            0           0.336187\n",
      "social_sciences                                                                   0           0.327249\n",
      "biological_and_biomedical_sciences                                                0           0.320309\n",
      "physical_sciences                                                                 0           0.316508\n",
      "engineering/engineering-related_technologies/technicians                          0           0.315195\n",
      "homeland_security,_law_enforcement,_firefighting_and_related_protective_services  0           0.307165\n",
      "business,_management,_marketing,_and_related_support_services                     0           0.307028\n",
      "transportation_and_materials_moving                                               0           0.303999\n",
      "visual_and_performing_arts                                                        0           0.301057\n",
      "communication,_journalism,_and_related_programs                                   0           0.296610\n",
      "health_professions_and_related_programs                                           0           0.295363\n",
      "psychology                                                                        0           0.288701\n",
      "foreign_languages,_literatures,_and_linguistics                                   0           0.286599\n",
      "mathematics_and_statistics                                                        0           0.284674\n",
      "history                                                                           0           0.283634\n",
      "natural_resources_and_conservation                                                0           0.280382\n",
      "english_language_and_literature/letters                                           0           0.276224\n",
      "parks,_recreation,_leisure,_fitness,_and_kinesiology                              0           0.275956\n",
      "area,_ethnic,_cultural,_gender,_and_group_studies                                 0           0.274074\n",
      "public_administration_and_social_service_professions                              0           0.273668\n",
      "multi/interdisciplinary_studies                                                   0           0.272785\n",
      "agricultural/animal/plant/veterinary_science_and_related_fields                   1           0.272727\n",
      "Name: retained, dtype: float64\n",
      "=======================================================\n",
      "\n",
      "\n"
     ]
    }
   ],
   "source": [
    "columns = train.columns[train.dtypes == 'object']\n",
    "for col in columns:\n",
    "    plt.figure(figsize=(15,8))\n",
    "    print(f'{col}\\n\\n--------------------------------------------------------------')\n",
    "    print(f'{train.groupby(\"retained\")[col].value_counts().sort_values(ascending=False)}')\n",
    "    sns.countplot(train[col], hue=train['retained'])\n",
    "    plt.show()\n",
    "    print(f'{train.groupby(col)[\"retained\"].value_counts(normalize=True).sort_values(ascending=False)}')\n",
    "    print(f'=======================================================\\n\\n')"
   ]
  },
  {
   "cell_type": "code",
   "execution_count": null,
   "id": "ea4c935c-f93d-4d4f-b8ae-002ae7df7bca",
   "metadata": {},
   "outputs": [
    {
     "name": "stdout",
     "output_type": "stream",
     "text": [
      "id\n",
      "\n",
      "--------------------------------------------------------------\n"
     ]
    }
   ],
   "source": [
    "columns = train.columns[(train.dtypes == 'int') | (train.dtypes == 'float') | (train.dtypes == 'uint8')]\n",
    "# print(f'Not Retained:\\n\\n')\n",
    "# print(f'{train[train[\"retained\"]==\"N\"].describe()}\\n')\n",
    "# print(f'Retained:\\n\\n')\n",
    "# print(f'{train[train[\"retained\"]==\"Y\"].describe()}\\n')\n",
    "for col in columns:\n",
    "    print(f'{col}\\n\\n--------------------------------------------------------------')\n",
    "    sns.barplot(x=col, y='retained', data= train)\n",
    "    plt.show()\n",
    "    print(f'=======================================================\\n\\n')"
   ]
  },
  {
   "cell_type": "code",
   "execution_count": null,
   "id": "52da662b-00db-4bea-b628-c4775b85e0ee",
   "metadata": {},
   "outputs": [],
   "source": [
    "# sns.pairplot(train, kind='reg', plot_kws={'line_kws':{'color':'red'}},corner=True)"
   ]
  },
  {
   "cell_type": "code",
   "execution_count": null,
   "id": "848d89f2-339a-4630-b58a-93a042708dde",
   "metadata": {},
   "outputs": [],
   "source": [
    "# # Perform a Pearson Correlation on the dataset\n",
    "plt.figure(figsize=(4,20))\n",
    "correlate = train.corr()\n",
    "# Plot the Correlation on a heatmap\n",
    "sns.heatmap(correlate.loc[['retained']].T, annot=True, cmap='coolwarm')\n",
    "plt.show()"
   ]
  },
  {
   "cell_type": "markdown",
   "id": "a0aff7ae-7071-43d1-9281-c9f9a5364b17",
   "metadata": {},
   "source": [
    "- slight correlation between enrolled_between, term_gpa, academic standing. with a slight negative correlation to freshman status"
   ]
  },
  {
   "cell_type": "code",
   "execution_count": null,
   "id": "e1207da8-0388-4f42-a0a8-2da7133f3b9a",
   "metadata": {},
   "outputs": [],
   "source": [
    "plt.figure(figsize=(15,8))\n",
    "sns.relplot(x='term_gpa',y='reg_before_start',data=train,col='retained',row='title',height=10)\n",
    "plt.show()"
   ]
  },
  {
   "cell_type": "markdown",
   "id": "e4faf782-ff2c-44b5-afc7-71edef2258d3",
   "metadata": {
    "tags": []
   },
   "source": [
    "## Bivariate Summary: \n",
    "\n",
    "- race_ethn: mostly white/hispanic population\n",
    "- fgen: mostly first generation with little difference in retention\n",
    "- year: negative correlation between class year and population size. Juniors had the highest retention rate. \n",
    "- enroll_type: most students were first time college students out of high school. Did not show much difference in retention between different types.\n",
    "- cip: 52, 24 had highest population, 42,43,50,26 followed with next biggest group. (POSSIBLE CLUSTERS) Out of big groups 24 showed the lowest retention rate.\n",
    "- age: 19-22 by far the largest population. 18 and under had lowest retention(did they transfer?)\n",
    "- yr_since_start: 0 had lowest retention, 1 and 6 or more had next lowest, 5, 2, 4, 3 (EXPLORE IN MULTI)\n",
    "\n",
    "Following showed low retention stutus\n",
    "- w_count\n",
    "- communication major\n",
    "- computer information systems\n",
    "- engineering\n",
    "- liberal arts\n",
    "- philosophy and religious studies\n",
    "- 18 or younger\n",
    "- 23 to 29\n",
    "- act_NADA\n",
    "- depend_status_IND\n",
    "-yrs_since_start_0\n",
    "-yrs_since_start_1\n",
    "\n"
   ]
  },
  {
   "cell_type": "markdown",
   "id": "83256191-060d-4364-baa5-0b2f137a8351",
   "metadata": {
    "tags": []
   },
   "source": [
    "## Questions"
   ]
  },
  {
   "cell_type": "markdown",
   "id": "9ab8d105-8f69-4662-af3e-2e9bccb7a83e",
   "metadata": {
    "tags": []
   },
   "source": [
    "### Question 1: How did area of study affect retention?"
   ]
  },
  {
   "cell_type": "code",
   "execution_count": null,
   "id": "17c36034-b8af-4265-a5ce-aa8dbead724f",
   "metadata": {},
   "outputs": [],
   "source": [
    "ax = sns.catplot(x='retained',col='cip',col_wrap=9,data=train,kind='count')\n",
    "ax.set_xticklabels(rotation=90)"
   ]
  },
  {
   "cell_type": "markdown",
   "id": "8566468c-d088-47b8-9d49-3b8403fb9822",
   "metadata": {
    "tags": []
   },
   "source": [
    "#### Chi Sqaured Hypothesis Test\n",
    "\n",
    "- $H_o$: Area of study is independent of whether or not someone is retained.\n",
    "- $H_α$: Area of study is not imdependent of whether or not someone is retained."
   ]
  },
  {
   "cell_type": "code",
   "execution_count": null,
   "id": "63c92c08-f27a-48fc-bf64-f475a0d41feb",
   "metadata": {},
   "outputs": [],
   "source": [
    "contingency_table = pd.crosstab(train.title , train.retained)\n",
    "contingency_table"
   ]
  },
  {
   "cell_type": "code",
   "execution_count": null,
   "id": "833a6c46-9872-433b-8f07-4a534de5b410",
   "metadata": {},
   "outputs": [],
   "source": [
    "chi2, p, degf, expected = stats.chi2_contingency(contingency_table)\n",
    "\n",
    "print('Observed\\n')\n",
    "print(contingency_table.values)\n",
    "print('---\\nExpected\\n')\n",
    "print(expected)\n",
    "print('---\\n')\n",
    "print(f'chi^2 = {chi2:.4f}')\n",
    "print(f'p     = {p:.4f}')\n",
    "print(f'degree of freedom = {degf}')"
   ]
  },
  {
   "cell_type": "markdown",
   "id": "3fa29e27-404a-4c17-a81e-a00e5fa10de2",
   "metadata": {},
   "source": [
    "- We reject the null hypothesis."
   ]
  },
  {
   "cell_type": "markdown",
   "id": "98eeef9e-547b-408e-8ebc-0898276c3d39",
   "metadata": {
    "tags": []
   },
   "source": [
    "### Question 1 Summary: Out of the areas of study that had retention rates below the mean overall retention rate liberal_arts, visual_and_performing_arts and engineering had the biggest portions of the population. Using a Chi^2 test we that retention has a statistically significant association with area of study."
   ]
  },
  {
   "cell_type": "markdown",
   "id": "f28d3ccd-e945-428e-a581-f22305180904",
   "metadata": {
    "tags": []
   },
   "source": [
    "#### Attempts were made Q1"
   ]
  },
  {
   "cell_type": "code",
   "execution_count": null,
   "id": "e215ff8c-5112-4230-a82c-d1358cc4e29a",
   "metadata": {},
   "outputs": [],
   "source": [
    "def get_below_avg_retention():\n",
    "    # Count of instances of study catagory\n",
    "    count = list(train.title.value_counts().sort_index().values)\n",
    "    # Percent of each area of study to the whole\n",
    "    percent = [round(num, 4) for num in list(train.title.value_counts(normalize=True).sort_index().values)]\n",
    "    # Percent of retained in each area of study\n",
    "    percent_retained = list(train[['retained','title']].groupby('title').mean().round(4).retained.values)\n",
    "    # Percent not retained in each area of study\n",
    "    percent_not_retained = [round(num , 4) for num in list(1 - train[['retained','title']].groupby('title').mean().sort_index().retained.values)]\n",
    "    # Mean retention rate of all instances\n",
    "    overall_mean_retention = train.retained.mean()\n",
    "    # Variable names for df assignment\n",
    "    columns = list(train.title.sort_values().unique())\n",
    "    # Create Df\n",
    "    study_df = pd.DataFrame([count, percent, percent_retained, percent_not_retained] , index = ['count','percent','percent_retained','percent_not_retained'] ,columns = columns).T.reset_index()\n",
    "    # Show areas of study with less retention than the average and sort by not retained\n",
    "    df_q1 = study_df[study_df['percent_retained'] < overall_mean_retention].sort_values(by='percent_not_retained',ascending=False)\n",
    "    # return df\n",
    "    return df_q1"
   ]
  },
  {
   "cell_type": "code",
   "execution_count": null,
   "id": "0fffec73-494b-42ab-8f59-687b49ed30fc",
   "metadata": {},
   "outputs": [],
   "source": [
    "df_q1 = get_below_avg_retention()"
   ]
  },
  {
   "cell_type": "code",
   "execution_count": null,
   "id": "a3b68817-e328-4f42-8537-cf5a9ba3e7dd",
   "metadata": {},
   "outputs": [],
   "source": [
    "plt.figure(figsize=(12,8))\n",
    "ax = sns.barplot(x='index',y ='percent',data=df_q1)\n",
    "ax.set_xticklabels(ax.get_xticklabels(),rotation=90)\n",
    "plt.xticks(fontsize=20)\n",
    "plt.yticks(fontsize=20)\n",
    "plt.ylabel('Percent',fontsize=20)\n",
    "plt.xlabel('Major', fontsize=20)\n",
    "plt.show()\n",
    "plt.show()"
   ]
  },
  {
   "cell_type": "code",
   "execution_count": null,
   "id": "44a1af5d-6928-4471-afcd-b399066f3e3a",
   "metadata": {},
   "outputs": [],
   "source": [
    "plt.figure(figsize=(12,8))\n",
    "ax = sns.barplot(x='index',y ='percent_not_retained',data=df_q1)\n",
    "ax.set_xticklabels(ax.get_xticklabels(),rotation=90)\n",
    "plt.xticks(fontsize=20)\n",
    "plt.yticks(fontsize=20)\n",
    "plt.ylabel('Percent Not Retained',fontsize=20)\n",
    "plt.xlabel('Major', fontsize=20)\n",
    "plt.show()"
   ]
  },
  {
   "cell_type": "code",
   "execution_count": null,
   "id": "5d0bf9ef-2c71-4c34-939a-1c9557614d7e",
   "metadata": {},
   "outputs": [],
   "source": [
    "# Count of full dataset\n",
    "len(train)"
   ]
  },
  {
   "cell_type": "markdown",
   "id": "ce1410cf-612a-49e1-9188-62c7ffcfd47a",
   "metadata": {},
   "source": [
    "- 78848"
   ]
  },
  {
   "cell_type": "code",
   "execution_count": null,
   "id": "ae1026a2-be89-4685-b0f3-8972d916e88d",
   "metadata": {},
   "outputs": [],
   "source": [
    "# Individual count of retention\n",
    "train.retained.value_counts()"
   ]
  },
  {
   "cell_type": "markdown",
   "id": "281c0080-f301-4dd2-9700-486f3a78a5bc",
   "metadata": {},
   "source": [
    "- 1: 55277\n",
    "- 0: 23571"
   ]
  },
  {
   "cell_type": "code",
   "execution_count": null,
   "id": "86a39f84-9b56-41fc-bf66-7ca7ccb6da92",
   "metadata": {},
   "outputs": [],
   "source": [
    "# Count of all retained values\n",
    "train.retained.value_counts().sum()"
   ]
  },
  {
   "cell_type": "markdown",
   "id": "2fedd4ab-66fa-4c96-ab17-67e8c6319c24",
   "metadata": {},
   "source": [
    "- 78848"
   ]
  },
  {
   "cell_type": "code",
   "execution_count": null,
   "id": "4c8a8b39-73b0-4c5b-b4b1-1da5212abd75",
   "metadata": {},
   "outputs": [],
   "source": [
    "# value counts of titles\n",
    "train.title.value_counts().sort_index()"
   ]
  },
  {
   "cell_type": "code",
   "execution_count": null,
   "id": "68ef0383-83c5-424f-8805-6a762ea8ef95",
   "metadata": {},
   "outputs": [],
   "source": [
    "# Sum of value counts of titles\n",
    "train.title.value_counts().sum()"
   ]
  },
  {
   "cell_type": "markdown",
   "id": "26cd02de-c0d1-468f-bff6-d56f3b4f8ae5",
   "metadata": {},
   "source": [
    "- 78848"
   ]
  },
  {
   "cell_type": "code",
   "execution_count": null,
   "id": "236e7726-a48e-4206-a310-b197def349c1",
   "metadata": {},
   "outputs": [],
   "source": [
    "# Value Counts of not retained titles\n",
    "train[train['retained'] == 0]['title'].value_counts().sort_index()"
   ]
  },
  {
   "cell_type": "code",
   "execution_count": null,
   "id": "c727e6bb-bb8f-4052-a7fa-c5be9c634360",
   "metadata": {},
   "outputs": [],
   "source": [
    "# Sum of value counts of not retained titles\n",
    "train[train['retained'] == 0]['title'].value_counts().sort_index().sum()"
   ]
  },
  {
   "cell_type": "markdown",
   "id": "27135637-5334-4432-936d-ff43e7745c74",
   "metadata": {},
   "source": [
    "- 23571"
   ]
  },
  {
   "cell_type": "code",
   "execution_count": null,
   "id": "24eed2e2-76ea-47a1-a9be-8cc05b71af64",
   "metadata": {},
   "outputs": [],
   "source": [
    "# Value Counts of retained titles\n",
    "train[train['retained'] == 1]['title'].value_counts().sort_index()"
   ]
  },
  {
   "cell_type": "code",
   "execution_count": null,
   "id": "df55c239-4018-45a0-bfb3-afeacd74457d",
   "metadata": {},
   "outputs": [],
   "source": [
    "# Summ of value counts of retained titles\n",
    "train[train['retained'] == 1]['title'].value_counts().sort_index().sum()"
   ]
  },
  {
   "cell_type": "markdown",
   "id": "c1b04b1f-2e81-42b1-93b6-78de04518859",
   "metadata": {},
   "source": [
    "- 55277"
   ]
  },
  {
   "cell_type": "code",
   "execution_count": null,
   "id": "623b2c25-2a87-4628-8d21-197daa0b8296",
   "metadata": {},
   "outputs": [],
   "source": [
    "# Value Counts of all titles\n",
    "train[['retained','title']]['title'].value_counts().sort_index()"
   ]
  },
  {
   "cell_type": "code",
   "execution_count": null,
   "id": "0922857a-7f8f-4e02-a30f-e522ca7b683e",
   "metadata": {},
   "outputs": [],
   "source": [
    "# Sum of value counts of all titles\n",
    "train[['retained','title']]['title'].value_counts().sort_index().sum()"
   ]
  },
  {
   "cell_type": "markdown",
   "id": "4cae936c-9f4b-418f-b495-8ffbd7a0316a",
   "metadata": {},
   "source": [
    "- 78848"
   ]
  },
  {
   "cell_type": "code",
   "execution_count": null,
   "id": "1646311c-f261-4092-9fe4-5440535039a3",
   "metadata": {},
   "outputs": [],
   "source": [
    "# ax = sns.scatterplot(x='index',y='percent_not_retained',data=study_df)\n",
    "# ax.set_xticklabels(study_df['index'], rotation=90)\n",
    "# plt.show()"
   ]
  },
  {
   "cell_type": "code",
   "execution_count": null,
   "id": "c4a5b4c2-715d-4a2b-9909-cf08e0f700aa",
   "metadata": {},
   "outputs": [],
   "source": [
    "# # Assign figure size\n",
    "# plt.figure(figsize=(12,7))\n",
    "# # Use Squarify to create a tree map of segment counts\n",
    "# squarify.plot(sizes=cip_df['count'], \n",
    "#               label=cip_df['index'],\n",
    "#               value=cip_df['percent'],\n",
    "#               color = ['tab:blue','tab:orange','tab:green','tab:red','tab:purple','tab:brown','tab:olive','tab:cyan'],\n",
    "#               text_kwargs={'fontsize': 17})\n",
    "# # Assign titles\n",
    "# plt.title('CIP by Count', fontsize=27)\n",
    "# plt.axis('off')\n",
    "# plt.show()"
   ]
  },
  {
   "cell_type": "code",
   "execution_count": null,
   "id": "5afb9ca0-9c73-48b8-ae86-93681f12d4bd",
   "metadata": {},
   "outputs": [],
   "source": [
    "# # Assign figure size\n",
    "# plt.figure(figsize=(12,7))\n",
    "# # Use Squarify to create a tree map of segment counts\n",
    "# squarify.plot(sizes=df['count'], \n",
    "#               label=df['index'],\n",
    "#               value=df['percent_not_retained'],\n",
    "#               color = ['tab:blue','tab:orange','tab:green','tab:red','tab:purple','tab:brown','tab:olive','tab:cyan'],\n",
    "#               text_kwargs={'fontsize': 17})\n",
    "# # Assign titles\n",
    "# plt.title('CIP by Count', fontsize=27)\n",
    "# plt.axis('off')\n",
    "# plt.show()"
   ]
  },
  {
   "cell_type": "code",
   "execution_count": null,
   "id": "2831dc46-5045-4925-b413-689807eb07a1",
   "metadata": {},
   "outputs": [],
   "source": [
    "# # Count of instances of study catagory\n",
    "# count = list(train.cip.value_counts().sort_index().values)\n",
    "# # Percent of each area of study to the whole\n",
    "# percent = [round(num, 4) for num in list(train.cip.value_counts(normalize=True).sort_index().values)]\n",
    "# # Percent of retained in each area of study\n",
    "# percent_retained = list(train[['retained','cip']].groupby('cip').mean().round(4).retained.values)\n",
    "# # Percent not retained in each area of study\n",
    "# percent_not_retained = [round(num , 4) for num in list(1 - train[['retained','cip']].groupby('cip').mean().sort_index().retained.values)]\n",
    "# # Mean retention rate of all instances\n",
    "# overall_mean_retention = train.retained.mean()\n",
    "# # Variable names for df assignment\n",
    "# cip_columns = list(train.cip.sort_values().unique())\n",
    "# # Create Df\n",
    "# cip_study_df = pd.DataFrame([count, percent, percent_retained, percent_not_retained] , index = ['count','percent','percent_retained','percent_not_retained'] ,columns = cip_columns).T.reset_index()\n",
    "# # Show areas of study with less retention than the average and sort by not retained\n",
    "# cip_df = study_df[study_df['percent_retained'] < overall_mean_retention].sort_values(by='percent_not_retained',ascending=False)\n",
    "# # study_df"
   ]
  },
  {
   "cell_type": "code",
   "execution_count": null,
   "id": "93631d20-ed19-437b-a672-210dcbb7bec9",
   "metadata": {},
   "outputs": [],
   "source": [
    "# Percent not retained\n",
    "train[train['retained'] == 0]['title'].value_counts().sort_index() / train[['retained','title']]['title'].value_counts().sort_index()"
   ]
  },
  {
   "cell_type": "code",
   "execution_count": null,
   "id": "8f230a81-c6fd-4a00-b261-9120ca03f7c7",
   "metadata": {},
   "outputs": [],
   "source": [
    "# Percent retained\n",
    "train[train['retained'] == 1]['title'].value_counts().sort_index() / train[['retained','title']]['title'].value_counts().sort_index()"
   ]
  },
  {
   "cell_type": "markdown",
   "id": "8baa506c-dfda-44e2-95cc-e538a0ef2591",
   "metadata": {
    "tags": []
   },
   "source": [
    "### Question 2: Does a students age combined with area of study affect retention?"
   ]
  },
  {
   "cell_type": "code",
   "execution_count": null,
   "id": "9716be6c-07e7-41cf-96b4-16f7fb9f8ea4",
   "metadata": {},
   "outputs": [],
   "source": [
    "ax = sns.catplot(x='age_at_start_term',col='cip',col_wrap=9,data=train,kind='count',hue='retained',height=5, aspect=.8)\n",
    "ax.set_xticklabels(rotation=90)\n",
    "plt.show()"
   ]
  },
  {
   "cell_type": "code",
   "execution_count": null,
   "id": "496ab634-9a02-468e-86a2-8dbd81b03121",
   "metadata": {},
   "outputs": [],
   "source": [
    "train[['cip','age_at_start_term','retained']].value_counts(normalize=True).sort_index()"
   ]
  },
  {
   "cell_type": "code",
   "execution_count": null,
   "id": "f1c3db81-5e7d-4ef9-a625-c65b87f000d6",
   "metadata": {},
   "outputs": [],
   "source": [
    "cip = wrangle.get_cip_codes()\n",
    "cip.sort_values(by='cip',ascending=False)"
   ]
  },
  {
   "cell_type": "code",
   "execution_count": null,
   "id": "85f81dfd-dc3e-41bc-bc2e-c682efcfc1c5",
   "metadata": {},
   "outputs": [],
   "source": [
    "age_cip_percent = train[['cip','age_at_start_term','retained']].groupby(['cip','age_at_start_term']).mean()\n",
    "age_cip_percent = age_cip_percent.reset_index()\n",
    "age_cip_percent = age_cip_percent[age_cip_percent['retained'] != 0]\n",
    "age_cip_percent.sort_values(by='retained',ascending=False)"
   ]
  },
  {
   "cell_type": "code",
   "execution_count": null,
   "id": "5351b33a-1155-4538-870c-54c1437aaaca",
   "metadata": {},
   "outputs": [],
   "source": [
    "train[['cip','age_at_start_term','retained']].value_counts()"
   ]
  },
  {
   "cell_type": "code",
   "execution_count": null,
   "id": "7e8bbdd0-e8a4-4b52-b775-71685fd7ca85",
   "metadata": {},
   "outputs": [],
   "source": [
    "sns.set_style(\"darkgrid\")\n",
    "sns.relplot( x='cip', y='retained', data=age_cip_percent, col='age_at_start_term', col_wrap=2, kind='line',height=10)\n",
    "plt.show()"
   ]
  },
  {
   "cell_type": "markdown",
   "id": "bb923ae7-a83a-4b83-91d7-aecda0b73109",
   "metadata": {
    "tags": []
   },
   "source": [
    "### Question 2 Summary: There doesn't seem to be anthing of note here. Most students are 19-22 and are in cip 52 and 24. Further exploration into this main group should be done to see if there are notable aspects that drive retention in this bigger group."
   ]
  },
  {
   "cell_type": "markdown",
   "id": "8a409258-f433-4f4a-8c8e-241646befc04",
   "metadata": {
    "tags": []
   },
   "source": [
    "#### Attempts were made Q2"
   ]
  },
  {
   "cell_type": "code",
   "execution_count": null,
   "id": "af4ee29d-edeb-467d-b67d-e1c08c1dcd22",
   "metadata": {},
   "outputs": [],
   "source": [
    "# from matplotlib.cm import get_cmap\n",
    "# from matplotlib.patches import Patch\n",
    "\n",
    "# df = train[['title','age_at_start_term','retained']]\n",
    "\n",
    "# # This is now what I'd like to plot\n",
    "# grouped = df.groupby(by=['title','age_at_start_term','retained']).count().unstack()\n",
    "\n",
    "# # List of retained, to use later as categories in subplots\n",
    "# kinds = grouped.columns.levels[1]\n",
    "\n",
    "# # colors for bar graph\n",
    "# colors = [get_cmap('viridis')(v) for v in np.linspace(0,1,len(kinds))]\n",
    "\n",
    "# sns.set(context=\"talk\")\n",
    "# nxplots = len(grouped.index.levels[0])\n",
    "# nyplots = len(grouped.index.levels[1])\n",
    "# fig, axes = plt.subplots(nxplots,\n",
    "#                          nyplots,\n",
    "#                          sharey=True,\n",
    "#                          sharex=True,\n",
    "#                          figsize=(10,12))\n",
    "\n",
    "# fig.suptitle('Title, Age, and Retention')\n",
    "\n",
    "# # plot the data\n",
    "# for a, b in enumerate(grouped.index.levels[0]):\n",
    "#     for i, j in enumerate(grouped.index.levels[1]):\n",
    "#         axes[a,i].bar(kinds,grouped.loc[b,j],color=colors)\n",
    "#         axes[a,i].xaxis.set_ticks([])\n",
    "\n",
    "# axeslabels = fig.add_subplot(111, frameon=False)\n",
    "# plt.tick_params(labelcolor='none', top=False, bottom=False, left=False, right=False)\n",
    "# plt.grid(False)\n",
    "# axeslabels.set_ylabel('Title',rotation='horizontal',y=1,weight=\"bold\")\n",
    "# axeslabels.set_xlabel('Age',weight=\"bold\")\n",
    "\n",
    "# # x- and y-axis labels\n",
    "# for i, j in enumerate(grouped.index.levels[1]):\n",
    "#     axes[nyplots,i].set_xlabel(j)\n",
    "# for i, j in enumerate(grouped.index.levels[0]):\n",
    "#     axes[i,0].set_ylabel(j)\n",
    "\n",
    "# # Tune this manually to make room for the legend\n",
    "# fig.subplots_adjust(right=0.82)\n",
    "\n",
    "# fig.legend([Patch(facecolor = i) for i in colors],\n",
    "#            kinds,\n",
    "#            title=\"Retention\",\n",
    "#            loc=\"center right\")\n"
   ]
  },
  {
   "cell_type": "code",
   "execution_count": null,
   "id": "c776415c-62fd-499a-b166-435308218e2d",
   "metadata": {},
   "outputs": [],
   "source": [
    "g = sns.FacetGrid(train, col='age_at_start_term',row='cip',height=10)\n",
    "g.map(sns.histplot, 'retained')"
   ]
  },
  {
   "cell_type": "markdown",
   "id": "f7a2f63b-c38e-4e11-93d9-e817bd068d39",
   "metadata": {
    "tags": []
   },
   "source": [
    "### Question 3: How did the number of years since the student start affect retention?"
   ]
  },
  {
   "cell_type": "code",
   "execution_count": null,
   "id": "cc834b01-cca2-4712-a281-0054afe2af34",
   "metadata": {},
   "outputs": [],
   "source": [
    "# Value of year since start instances with retention counts\n",
    "train[['yrs_since_start','retained']].value_counts().sort_index()"
   ]
  },
  {
   "cell_type": "code",
   "execution_count": null,
   "id": "023455d4-416d-49e8-9d12-71a5634dcc3c",
   "metadata": {},
   "outputs": [],
   "source": [
    "# Percent of not retained per year instance\n",
    "yrs_percent = train[['yrs_since_start','retained']].groupby('yrs_since_start').mean()\n",
    "yrs_percent"
   ]
  },
  {
   "cell_type": "code",
   "execution_count": null,
   "id": "51726688-73f9-4dad-90af-51330c84a19b",
   "metadata": {},
   "outputs": [],
   "source": [
    "sns.barplot(x=yrs_percent.index,y='retained',data=yrs_percent)"
   ]
  },
  {
   "cell_type": "markdown",
   "id": "c9a55e6f-5839-40cf-9700-7bdde4263aa6",
   "metadata": {
    "tags": []
   },
   "source": [
    "#### Chi Sqaured Hypothesis Test\n",
    "\n",
    "- $H_o$: yrs_since_start is independent of whether or not someone is retained.\n",
    "- $H_α$: yrs_since_start is not imdependent of whether or not someone is retained."
   ]
  },
  {
   "cell_type": "code",
   "execution_count": null,
   "id": "548f149f-99a3-45ea-b7e9-31fec8195847",
   "metadata": {},
   "outputs": [],
   "source": [
    "contingency_table = pd.crosstab(train.yrs_since_start, train.retained)\n",
    "\n",
    "chi2, p, degf, expected = stats.chi2_contingency(contingency_table)\n",
    "\n",
    "print('Observed\\n')\n",
    "print(contingency_table.values)\n",
    "print('---\\nExpected\\n')\n",
    "print(expected)\n",
    "print('---\\n')\n",
    "print(f'chi^2 = {chi2:.4f}')\n",
    "print(f'p     = {p:.4f}')\n",
    "print(f'degree of freedom = {degf}')"
   ]
  },
  {
   "cell_type": "markdown",
   "id": "c31bc645-5951-4003-8b86-f6d5ab236805",
   "metadata": {},
   "source": [
    "- We reject null hypothesis"
   ]
  },
  {
   "cell_type": "markdown",
   "id": "36df57de-340f-46eb-8380-3f7696dff0e7",
   "metadata": {},
   "source": [
    "### Question 3 Summary: Running a chi^2 hypothesis test we see that yrs_since_start is not independent from retention. In the graph above we see that retention is lowest at yr 0 and it rises till yr 3 which seems to be our highest retention. Retention then starts to fall as the years continue past 3. "
   ]
  },
  {
   "cell_type": "markdown",
   "id": "0187d69d-658e-40d9-ba3f-65f953d26a02",
   "metadata": {
    "tags": []
   },
   "source": [
    "### Question 4: Does the students class status (Freshman, Sophmore,etc..) vs the years since a student started affect retention?"
   ]
  },
  {
   "cell_type": "code",
   "execution_count": null,
   "id": "603e6add-0c55-4ef4-b2d6-56203df25d31",
   "metadata": {},
   "outputs": [],
   "source": [
    "train[['student_year','yrs_since_start','retained']].value_counts(normalize=True)"
   ]
  },
  {
   "cell_type": "code",
   "execution_count": null,
   "id": "9ef307f5-55f0-463a-b7cf-fa1bab309b68",
   "metadata": {},
   "outputs": [],
   "source": [
    "class_and_yr = train[['student_year','yrs_since_start','retained']].groupby(['student_year','yrs_since_start']).mean().reset_index()\n",
    "\n",
    "\n",
    "class_and_yr['student_year'] = class_and_yr.student_year.str.replace('FR','1 - Freshman').str.replace('SO','2 - Sophomore').str.replace('JU','3 - Junior').str.replace('SE','4 - Senior')\n",
    "\n",
    "\n",
    "class_and_yr = class_and_yr.sort_values(by='student_year')"
   ]
  },
  {
   "cell_type": "code",
   "execution_count": null,
   "id": "c7ef6607-60c0-4c35-a73d-0543f6eab333",
   "metadata": {},
   "outputs": [],
   "source": [
    "ax = sns.catplot(x=\"yrs_since_start\", y=\"retained\", col=\"student_year\",\n",
    "                data=class_and_yr, height = 8,\n",
    "                kind=\"bar\", aspect=.6)\n",
    "\n",
    "(ax.set_axis_labels(\"\", \"Retention Rate\")\n",
    "  .set_xticklabels([\"0\", \"1\", \"2\", \"3\", \"4\", \"5\", \"6+\"])\n",
    "  .set_titles(\"{col_name} {col_var}\")\n",
    "  .set(ylim=(0, 1))\n",
    "  .despine(left=True))  "
   ]
  },
  {
   "cell_type": "markdown",
   "id": "d1ff5acc-63b4-4884-8947-acacda9d98fa",
   "metadata": {},
   "source": [
    "### Question 4 Summary: Freshman by far have the lowest retention across the yrs. Juniors and Seniors have the highest. Further exploration could be done with enrollment type to see how first time students compare to transfer students. As well populations can be seperated by full time and part time status. "
   ]
  },
  {
   "cell_type": "markdown",
   "id": "a9c0f1c6-6b17-4b6f-a8d3-e0676646abc2",
   "metadata": {
    "tags": []
   },
   "source": [
    "### Question 5: Does a students full time or part time status affect retention?"
   ]
  },
  {
   "cell_type": "code",
   "execution_count": null,
   "id": "74f88eb8-583c-4818-ab72-f8ca7c050b19",
   "metadata": {
    "tags": []
   },
   "outputs": [],
   "source": [
    "train[['time_status','retained']].value_counts(normalize=True)"
   ]
  },
  {
   "cell_type": "code",
   "execution_count": null,
   "id": "e986f2c9-6e3a-4f34-bbc7-7bea4e7360d1",
   "metadata": {},
   "outputs": [],
   "source": [
    "sns.countplot(x = 'time_status',data=train,hue='retained')"
   ]
  },
  {
   "cell_type": "markdown",
   "id": "8f83d811-29c1-411c-abf8-a37a052307e9",
   "metadata": {},
   "source": [
    "#### Chi Sqaured Hypothesis Test\n",
    "\n",
    "- $H_o$: time_status is independent of whether or not someone is retained.\n",
    "- $H_α$: time_status is not imdependent of whether or not someone is retained."
   ]
  },
  {
   "cell_type": "code",
   "execution_count": null,
   "id": "b4299acf-ad25-4c1e-938d-89c2819489d4",
   "metadata": {},
   "outputs": [],
   "source": [
    "contingency_table = pd.crosstab(train.time_status, train.retained)\n",
    "\n",
    "chi2, p, degf, expected = stats.chi2_contingency(contingency_table)\n",
    "\n",
    "print('Observed\\n')\n",
    "print(contingency_table.values)\n",
    "print('---\\nExpected\\n')\n",
    "print(expected)\n",
    "print('---\\n')\n",
    "print(f'chi^2 = {chi2:.4f}')\n",
    "print(f'p     = {p:.4f}')\n",
    "print(f'degree of freedom = {degf}')"
   ]
  },
  {
   "cell_type": "markdown",
   "id": "0224e079-27bd-4908-ad80-7394d76f3623",
   "metadata": {},
   "source": [
    "- We reject the null."
   ]
  },
  {
   "cell_type": "markdown",
   "id": "c5503d25-a5d1-4498-9bbf-ca05b74ed155",
   "metadata": {},
   "source": [
    "### Question 5 Summary: It does look as though full time students are more likely to be retained. The chi^2 test does show that there is a statistically significant relationship between time_status and retention."
   ]
  },
  {
   "cell_type": "markdown",
   "id": "86f6c763-8b4d-48f5-b2dc-7633158e21f0",
   "metadata": {
    "tags": []
   },
   "source": [
    "### Question 6: Does the students full time / part time status combined with the students dependent status affect retention?"
   ]
  },
  {
   "cell_type": "code",
   "execution_count": null,
   "id": "f8f6172e-a3ee-4703-a269-555320ecc4a3",
   "metadata": {},
   "outputs": [],
   "source": [
    "train.depend_status.value_counts(),\\\n",
    "train.depend_status.value_counts(normalize=True),\\\n",
    "train.time_status.value_counts(),\\\n",
    "train.time_status.value_counts(normalize=True),\\\n",
    "train[['time_status','depend_status']].value_counts(),\\\n",
    "train[['time_status','depend_status']].value_counts(normalize=True),\\\n",
    "train[['time_status','depend_status','retained']].value_counts(),\\\n",
    "train[['time_status','depend_status','retained']].value_counts(normalize=True)"
   ]
  },
  {
   "cell_type": "code",
   "execution_count": null,
   "id": "68dc074f-c885-40cd-a4a4-2877cb88f65c",
   "metadata": {},
   "outputs": [],
   "source": [
    "ax = sns.catplot(x=\"time_status\",\n",
    "                 y=\"retained\", \n",
    "                 col=\"depend_status\",\n",
    "                 data=train, \n",
    "                 height = 8,\n",
    "                 kind=\"bar\")\n",
    "\n",
    "(ax.set_axis_labels(\"\", \"Retention Rate\")\n",
    "  .set_xticklabels([\"Part time\", \"Full time\"])\n",
    "  .set_titles(\"{col_name} {col_var}\")\n",
    "  .set(ylim=(0, 1))\n",
    "  .despine(left=True))  \n",
    "plt.xlabel('time_status')\n",
    "plt.show()"
   ]
  },
  {
   "cell_type": "code",
   "execution_count": null,
   "id": "96a1ad00-f656-4165-8846-7d2b49b272f9",
   "metadata": {},
   "outputs": [],
   "source": [
    "ax = sns.catplot(x='time_status',\n",
    "                 hue='retained',\n",
    "                 col='depend_status',\n",
    "                 data=train,\n",
    "                 kind='count',\n",
    "                 height = 8)\n",
    "\n",
    "(ax.set_axis_labels(\"\", \"Retention Count\")\n",
    "  .set_xticklabels([\"Part time\", \"Full time\"])\n",
    "  .set_titles(\"{col_name} {col_var}\")\n",
    "  .despine(left=True))  \n",
    "plt.show()"
   ]
  },
  {
   "cell_type": "markdown",
   "id": "c51163ca-beea-41bd-8aa1-7d0aa6335827",
   "metadata": {},
   "source": [
    "### Question 6 Summary: There does not look to be a significant difference in retention for full time students between each dependent status. Independent students had a 5 percent higher retention rate to part time dependent status."
   ]
  },
  {
   "cell_type": "markdown",
   "id": "0df91d47-c595-4939-b8a0-47a2173b2467",
   "metadata": {
    "tags": []
   },
   "source": [
    "### Question 7: Does the students w_count affect retention?"
   ]
  },
  {
   "cell_type": "code",
   "execution_count": null,
   "id": "8b13a7db-96a3-4825-b358-d7ae5b026605",
   "metadata": {},
   "outputs": [],
   "source": [
    "train.retained.mean(),\\\n",
    "train[train['w_count'] == 1].retained.mean(),\\\n",
    "train[train['w_count'] == 0].retained.mean(),\\\n",
    "train.w_count.value_counts(),\\\n",
    "train.w_count.value_counts(normalize=True),\\\n",
    "train[['w_count','retained']].value_counts(),\\\n",
    "train[['w_count','retained']].value_counts(normalize=True)"
   ]
  },
  {
   "cell_type": "code",
   "execution_count": null,
   "id": "aa58b5ce-61dc-45e2-a1cf-49fb1ecdc3e0",
   "metadata": {},
   "outputs": [],
   "source": [
    "ax = sns.catplot(x='w_count',\n",
    "              hue='retained',\n",
    "              data=train,\n",
    "              kind='count',\n",
    "              height=8)\n",
    "\n",
    "(ax.set_xticklabels([\"No Withdraws\", \"Withdraws\"]))  \n",
    "\n",
    "plt.show()"
   ]
  },
  {
   "cell_type": "code",
   "execution_count": null,
   "id": "22015e6a-3e7a-4efa-b897-e5ea9b1bf249",
   "metadata": {},
   "outputs": [],
   "source": [
    "ax = sns.catplot(x=\"w_count\",\n",
    "                 y=\"retained\", \n",
    "                 data=train, \n",
    "                 height = 8,\n",
    "                 kind=\"bar\")\n",
    "\n",
    "(ax.set_xticklabels([\"No Withdraws\", \"Withdraws\"]))  \n",
    "\n",
    "plt.show()"
   ]
  },
  {
   "cell_type": "markdown",
   "id": "d1a7a265-9538-48fb-a702-92ff60cd5439",
   "metadata": {},
   "source": [
    "#### Chi Sqaured Hypothesis Test\n",
    "\n",
    "- $H_o$: w_count is independent of whether or not someone is retained.\n",
    "- $H_α$: w_count is not imdependent of whether or not someone is retained."
   ]
  },
  {
   "cell_type": "code",
   "execution_count": null,
   "id": "dc0bb184-0962-46c0-876b-bc9d7d7d9154",
   "metadata": {},
   "outputs": [],
   "source": [
    "contingency_table = pd.crosstab(train.time_status, train.retained)\n",
    "\n",
    "chi2, p, degf, expected = stats.chi2_contingency(contingency_table)\n",
    "\n",
    "print('Observed\\n')\n",
    "print(contingency_table.values)\n",
    "print('---\\nExpected\\n')\n",
    "print(expected)\n",
    "print('---\\n')\n",
    "print(f'chi^2 = {chi2:.4f}')\n",
    "print(f'p     = {p:.4f}')\n",
    "print(f'degree of freedom = {degf}')"
   ]
  },
  {
   "cell_type": "markdown",
   "id": "ce90310e-fa01-4fbb-900a-142dff850afa",
   "metadata": {},
   "source": [
    "- We reject the null hypothesis."
   ]
  },
  {
   "cell_type": "markdown",
   "id": "3dfa12a6-0c31-4a1e-b0c2-a9d74f3ef906",
   "metadata": {},
   "source": [
    "### Question 7 Summary: 70 percent of students did not have a w_count in the base semester of the retention calculation, out of those students the retention rate was higher than the average. The 30 percent of students with at least one withdraw had a much lower retention rate of 55 percent."
   ]
  },
  {
   "cell_type": "markdown",
   "id": "15eda83f-f93c-4830-8fcc-9fa10ad895fb",
   "metadata": {
    "tags": []
   },
   "source": [
    "### Question 8: Does the students financial aid status and pell_grant status affect retention?"
   ]
  },
  {
   "cell_type": "code",
   "execution_count": null,
   "id": "14ed55e8-2820-4267-9ffa-613b07d4da44",
   "metadata": {},
   "outputs": [],
   "source": [
    "train[['pell_ever']].value_counts(),\\\n",
    "train[['pell_ever']].value_counts(normalize=True),\\\n",
    "train[['fa_recd']].value_counts(),\\\n",
    "train[['fa_recd']].value_counts(normalize=True),\\\n",
    "train[['pell_ever','fa_recd']].value_counts(),\\\n",
    "train[['pell_ever','fa_recd']].value_counts(normalize=True),\\\n",
    "train[['pell_ever','fa_recd','retained']].value_counts(),\\\n",
    "train[['pell_ever','fa_recd','retained']].value_counts(normalize=True)"
   ]
  },
  {
   "cell_type": "code",
   "execution_count": null,
   "id": "f5163e60-acf3-4fc3-8677-a379f8b459dd",
   "metadata": {},
   "outputs": [],
   "source": [
    "ax = sns.catplot(x=\"fa_recd\",\n",
    "                 y=\"retained\", \n",
    "                 col=\"pell_ever\",\n",
    "                 data=train, \n",
    "                 height = 8,\n",
    "                 kind=\"bar\")\n",
    "\n",
    "(ax.set_axis_labels(\"\", \"Retention Rate\")\n",
    "  .set_xticklabels([\"No Financial Aid\", \"Financial Aid\"])\n",
    "  .set_titles(\"{col_name} {col_var}\")\n",
    "  .set(ylim=(0, 1))\n",
    "  .despine(left=True))  \n",
    "plt.xlabel('time_status')\n",
    "plt.show()"
   ]
  },
  {
   "cell_type": "code",
   "execution_count": null,
   "id": "607f55b1-78fb-4127-b5b8-70e3a895274e",
   "metadata": {},
   "outputs": [],
   "source": [
    "ax = sns.catplot(x='fa_recd',\n",
    "                 hue='retained',\n",
    "                 col='pell_ever',\n",
    "                 data=train,\n",
    "                 kind='count',\n",
    "                 height = 8)\n",
    "\n",
    "(ax.set_axis_labels(\"\", \"Retention Count\")\n",
    "  .set_xticklabels([\"No Financial Aid\", \"Financial Aid\"])\n",
    "  .set_titles(\"{col_name} {col_var}\")\n",
    "  .despine(left=True))  \n",
    "plt.show()"
   ]
  },
  {
   "cell_type": "markdown",
   "id": "7f9b03bd-f45c-408b-800e-68f9e0cafc56",
   "metadata": {},
   "source": [
    "### Question 8 Summary: Students who recieved financial aid were more likely to be retained whether they had ever been pell eligible before or not. Out of those that had not received financial aid the retention rate was almost the same but those that had never been pell eligible had a slightly higher retention rate."
   ]
  },
  {
   "cell_type": "markdown",
   "id": "f5f4aa71-8f20-4af8-aa4a-3e874f65e2eb",
   "metadata": {
    "tags": []
   },
   "source": [
    "### Question 9: How does a students expected family contribution affect retention? (efc removed for this iteration)"
   ]
  },
  {
   "cell_type": "code",
   "execution_count": null,
   "id": "90f6dc49-0fbf-4c5d-b33c-d988dc0ea3d7",
   "metadata": {},
   "outputs": [],
   "source": [
    "# train[['efc','retained']].groupby('retained').mean()"
   ]
  },
  {
   "cell_type": "code",
   "execution_count": null,
   "id": "1bc8e0e8-4dd4-42f6-8a98-34c824f67bb9",
   "metadata": {},
   "outputs": [],
   "source": [
    "# efc_nonzero = train[train['efc'] != 0][['efc','retained']]\n",
    "# efc_nonzero['efc_bin'] = pd.qcut(train.efc, 4, labels =['lowest','low','high','highest'])\n",
    "# efc_nonzero.groupby('efc_bin').mean()"
   ]
  },
  {
   "cell_type": "code",
   "execution_count": null,
   "id": "337ccf29-81a1-48d6-b8b9-6550a3c51687",
   "metadata": {},
   "outputs": [],
   "source": [
    "# # boxplot efc by retention\n",
    "# sns.relplot(x='retained',y='efc',kind='line',data= efc_nonzero)\n",
    "# plt.show()"
   ]
  },
  {
   "cell_type": "code",
   "execution_count": null,
   "id": "222313b7-6983-4d60-96f1-572777251f51",
   "metadata": {},
   "outputs": [],
   "source": [
    "# efc_zero = train[train['efc'] == 0][['efc','retained']]\n",
    "# efc_zero.retained.mean()"
   ]
  },
  {
   "cell_type": "code",
   "execution_count": null,
   "id": "b9b11102-10c8-4e59-b85c-d8782e44122f",
   "metadata": {},
   "outputs": [],
   "source": [
    "# # boxplot efc by retention\n",
    "# sns.countplot(x='retained',data= efc_zero)"
   ]
  },
  {
   "cell_type": "markdown",
   "id": "037984b3-06d5-4936-a633-40a7d6839f4c",
   "metadata": {
    "tags": []
   },
   "source": [
    "### Question 9 Summary: Almost 25 percent of students had no expected family contribution recorded. Out of those that did the bottom 25 % had a average retention rate that was 3.5 percent lower than the top 25 %. Those with no efc values had a 6.6 percent lower efc than the top 25 percent."
   ]
  },
  {
   "cell_type": "markdown",
   "id": "6b00393b-467d-4d14-a46c-73fbf0851ea3",
   "metadata": {
    "tags": []
   },
   "source": [
    "##### Attemps were made: Q8"
   ]
  },
  {
   "cell_type": "code",
   "execution_count": null,
   "id": "cc5a3f36-ba74-4a0f-b6ca-23e2299686a0",
   "metadata": {},
   "outputs": [],
   "source": [
    "# len(train),\\\n",
    "# len(train[train.efc != 0]),\\\n",
    "# len(train[train.efc != 0]) / len(train),\\\n",
    "# len(train[train.efc == 0]),\\\n",
    "# len(train[train.efc == 0]) / len(train),\\\n",
    "# len(train[train.efc > 100_000]),\\\n",
    "# len(train[train.efc > 100_000]) / len(train),\\\n",
    "# len(train[train.efc > 50_000]),\\\n",
    "# len(train[train.efc > 50_000]) / len(train),\\\n",
    "# len(train[train.efc > 5_000]),\\\n",
    "# len(train[train.efc > 5_000]) / len(train)"
   ]
  },
  {
   "cell_type": "code",
   "execution_count": null,
   "id": "4919ee90-436d-4cbd-a12c-d19cf339efc4",
   "metadata": {},
   "outputs": [],
   "source": [
    "# efc[efc['efc_bin'] == 'lowest'].describe(),\\\n",
    "# efc[efc['efc_bin'] == 'low'].describe(),\\\n",
    "# efc[efc['efc_bin'] == 'high'].describe(),\\\n",
    "# efc[efc['efc_bin'] == 'highest'].describe(),\\\n",
    "# len(efc[efc['efc']==999999]),\\\n",
    "# efc['efc'].value_counts().index.max()"
   ]
  },
  {
   "cell_type": "markdown",
   "id": "117fb027-5523-42ec-852b-d6aac18184e0",
   "metadata": {
    "tags": []
   },
   "source": [
    "### Question 10: Does a students term gpa or hs gpa affect retention? (hs_gpa removed for this iteration)"
   ]
  },
  {
   "cell_type": "code",
   "execution_count": null,
   "id": "c4e3396f-e638-4258-8792-07a6be34ebf7",
   "metadata": {},
   "outputs": [],
   "source": [
    "train[['retained','term_gpa']].groupby('retained').mean()"
   ]
  },
  {
   "cell_type": "code",
   "execution_count": null,
   "id": "adc039b9-841f-4f81-b8a3-a898ad152c89",
   "metadata": {},
   "outputs": [],
   "source": [
    "# sns.catplot(x='retained',y='hs_gpa',data = train, kind ='box')"
   ]
  },
  {
   "cell_type": "code",
   "execution_count": null,
   "id": "5ff2baef-247f-444d-8619-002fabee1ba2",
   "metadata": {},
   "outputs": [],
   "source": [
    "sns.catplot(x='retained',y='term_gpa',data = train, kind ='box')"
   ]
  },
  {
   "cell_type": "markdown",
   "id": "09ef5302-1714-4846-a1aa-a7d3b266d7e1",
   "metadata": {},
   "source": [
    "#### Independent T-Test(1-tail,2-sample) Hypothesis test\n",
    "\n",
    "- $H_o$: Those who are not retained have the same term_gpa as those who are retained.\n",
    "- $H_α$: Those who are not retained have a lower term_gpa than those who are retained"
   ]
  },
  {
   "cell_type": "code",
   "execution_count": null,
   "id": "050b0ce4-624b-452d-a9fb-1a64c9b940e8",
   "metadata": {},
   "outputs": [],
   "source": [
    "retained = train[train.retained == 1].term_gpa\n",
    "retained.hist()"
   ]
  },
  {
   "cell_type": "code",
   "execution_count": null,
   "id": "c248ed34-f77e-4a9d-9730-23926c22101f",
   "metadata": {},
   "outputs": [],
   "source": [
    "retained.mean(),\\\n",
    "len(retained),\\\n",
    "(retained == 0).mean()"
   ]
  },
  {
   "cell_type": "code",
   "execution_count": null,
   "id": "3d5018f0-0566-4cd0-ab56-7cf87ea5e0d9",
   "metadata": {},
   "outputs": [],
   "source": [
    "not_retained = train[train.retained == 0].term_gpa\n",
    "not_retained.hist()"
   ]
  },
  {
   "cell_type": "code",
   "execution_count": null,
   "id": "2e722104-8980-4c38-8908-ed3174a50cc4",
   "metadata": {},
   "outputs": [],
   "source": [
    "not_retained.mean(),\\\n",
    "len(not_retained),\\\n",
    "(not_retained == 0).mean()"
   ]
  },
  {
   "cell_type": "code",
   "execution_count": null,
   "id": "d6a57a21-bf6c-4ccd-acba-9ca3fec7c294",
   "metadata": {},
   "outputs": [],
   "source": [
    "retained.var(),\\\n",
    "not_retained.var()"
   ]
  },
  {
   "cell_type": "code",
   "execution_count": null,
   "id": "c6596f63-4982-410f-97f9-1bf36a0ce048",
   "metadata": {},
   "outputs": [],
   "source": [
    "α = 0.05"
   ]
  },
  {
   "cell_type": "code",
   "execution_count": null,
   "id": "603884de-b247-4171-adf1-f667ddf17713",
   "metadata": {},
   "outputs": [],
   "source": [
    "t, p = stats.ttest_ind(not_retained, retained, equal_var=False)\n",
    "t, p"
   ]
  },
  {
   "cell_type": "code",
   "execution_count": null,
   "id": "7d4831a1-d094-4595-a80b-8bfdbbb3bef1",
   "metadata": {},
   "outputs": [],
   "source": [
    "if p/2 > α:\n",
    "    print('We fail to reject the null')\n",
    "elif t < 0:\n",
    "    print('We fail to reject the null')\n",
    "else:\n",
    "    print('We reject the null')"
   ]
  },
  {
   "cell_type": "markdown",
   "id": "f188e767-e0b1-439e-a5bf-8934e7202802",
   "metadata": {},
   "source": [
    "- According to the T-test we do not reject the null which goes against what I would think. This should be revisted and checked for validity. Sample are not really normal. The retained sample has 2 % zero values while the not retained has almost 25 % zero values. Variance is not equal so it was run as a welch's t-test. "
   ]
  },
  {
   "cell_type": "code",
   "execution_count": null,
   "id": "72493879-f429-4f83-a28d-f109562895fb",
   "metadata": {},
   "outputs": [],
   "source": [
    "len(train[train.term_gpa == 0]) / len(train),\\\n",
    "train[train.term_gpa == 0].retained.mean(),\\\n",
    "train[train.term_gpa == 0].term_gpa.mean(),\\\n",
    "len(train[train.term_gpa < 0.5]) / len(train),\\\n",
    "train[train.term_gpa < 0.5].retained.mean(),\\\n",
    "train[train.term_gpa < 0.5].term_gpa.mean(),\\\n",
    "len(train[(train.retained == 0) & (train.term_gpa != 0)]) / len(train),\\\n",
    "train[(train.retained == 0) & (train.term_gpa != 0)].retained.mean(),\\\n",
    "train[(train.retained == 0) & (train.term_gpa != 0)].term_gpa.mean(),\\\n",
    "train.term_gpa.mean(),\\\n",
    "# train.hs_gpa.mean()"
   ]
  },
  {
   "cell_type": "markdown",
   "id": "c2383775-cb15-48d6-8c56-c2088915a077",
   "metadata": {
    "tags": []
   },
   "source": [
    "### Question 10 Summary: Term gpa seems to be a better predictor than hs_gpa. Bottom 75 % of students in the not retained category had a term_gpa less than the bottom 50 % of those retained. Also note for later analysis hs_gpa does not change with a student over time but term_gpa does. Hs_gpa variables could be skewed because of repeats for each semester a student takes, while term_gpa changes semester to semester. "
   ]
  },
  {
   "cell_type": "markdown",
   "id": "35bc90b5-c9bb-458d-9c0e-22accf307f88",
   "metadata": {
    "tags": []
   },
   "source": [
    "### Question 11: Does enrollment type and yrs_since_start affect retention?"
   ]
  },
  {
   "cell_type": "code",
   "execution_count": null,
   "id": "5240aa32-dee4-4407-b2e4-50b75f18bfb9",
   "metadata": {},
   "outputs": [],
   "source": [
    "train[['enroll_type','retained']].value_counts(), train[['enroll_type','retained']].value_counts(normalize=True)"
   ]
  },
  {
   "cell_type": "code",
   "execution_count": null,
   "id": "5e87ae66-0be6-495c-8228-469e9b695cc0",
   "metadata": {},
   "outputs": [],
   "source": [
    "train.groupby('enroll_type').retained.mean()"
   ]
  },
  {
   "cell_type": "code",
   "execution_count": null,
   "id": "9d859a77-d9c5-4ed8-9ca9-6da1f62fb4a6",
   "metadata": {},
   "outputs": [],
   "source": [
    "train.groupby('yrs_since_start').retained.mean()"
   ]
  },
  {
   "cell_type": "code",
   "execution_count": null,
   "id": "7a358056-5db9-4ead-aafd-6f0e78dedca4",
   "metadata": {},
   "outputs": [],
   "source": [
    "train.groupby(['enroll_type','yrs_since_start']).retained.mean().sort_index()"
   ]
  },
  {
   "cell_type": "code",
   "execution_count": null,
   "id": "17474e13-7330-49e4-b1f5-bd6ef1f59d5a",
   "metadata": {},
   "outputs": [],
   "source": [
    "ax = sns.catplot(x=\"yrs_since_start\",\n",
    "                 y=\"retained\", \n",
    "                 col=\"enroll_type\",\n",
    "                 data=train, \n",
    "                 height = 8,\n",
    "                 kind=\"bar\")\n",
    "\n",
    "(ax.set_axis_labels(\"\", \"Retention Rate\")\n",
    "  .set_xticklabels([\"0\",\"1\",\"2\",\"3\",\"4\",\"5\",\"6+\"])\n",
    "  .set_titles(\"{col_name} {col_var}\")\n",
    "  .set(ylim=(0, 1))\n",
    "  .despine(left=True))  \n",
    "plt.xlabel('enroll_type')\n",
    "plt.show()"
   ]
  },
  {
   "cell_type": "code",
   "execution_count": null,
   "id": "8441a511-5a48-4e1c-bccd-0dde2a6ef54a",
   "metadata": {},
   "outputs": [],
   "source": [
    "ax = sns.catplot(x='yrs_since_start',\n",
    "                 hue='retained',\n",
    "                 col='enroll_type',\n",
    "                 data=train,\n",
    "                 kind='count',\n",
    "                 height = 8)\n",
    "\n",
    "(ax.set_axis_labels(\"\", \"Retention Count\")\n",
    "  .set_xticklabels([\"0\",\"1\",\"2\",\"3\",\"4\",\"5\",\"6+\"])\n",
    "  .set_titles(\"{col_name} {col_var}\")\n",
    "  .despine(left=True))  \n",
    "plt.show()"
   ]
  },
  {
   "cell_type": "markdown",
   "id": "e8dfac4f-670c-4f9a-87fe-7c69702533f3",
   "metadata": {
    "tags": []
   },
   "source": [
    "### Question 11 Summary: It does look as though overall students in their first year have the lowest retention across the board. Concurant students seem to have a peak in retetention around year 4, Transfer students seem to have a peak around year 2 and first term students seem to have a peak around year 3. First term students make up over 3/4 of the population so. it seems the trend in first term students is closer to what is seen over the overall population."
   ]
  },
  {
   "cell_type": "markdown",
   "id": "7dbceedf-77e1-492a-af36-a9e8ac0d9403",
   "metadata": {
    "tags": []
   },
   "source": [
    "### Question 12: Does whether a student was enrolled between the retention semester affect retention?"
   ]
  },
  {
   "cell_type": "code",
   "execution_count": null,
   "id": "88c6d592-85a2-4a0f-a295-126d5bc514a5",
   "metadata": {},
   "outputs": [],
   "source": [
    "train.enrolled_between.value_counts()"
   ]
  },
  {
   "cell_type": "code",
   "execution_count": null,
   "id": "d69ae0db-edca-4a39-9c7a-bcc1a7c3d556",
   "metadata": {},
   "outputs": [],
   "source": [
    "train.groupby('enrolled_between').retained.mean()"
   ]
  },
  {
   "cell_type": "code",
   "execution_count": null,
   "id": "134b4a26-a491-4874-8dd3-c8621d547858",
   "metadata": {},
   "outputs": [],
   "source": [
    "sns.countplot(x='enrolled_between',hue='retained',data=train)"
   ]
  },
  {
   "cell_type": "code",
   "execution_count": null,
   "id": "0125927b-e46a-4098-a7af-8e05c8b4a4fe",
   "metadata": {},
   "outputs": [],
   "source": [
    "sns.catplot(x='enrolled_between',y='retained',data=train, kind='bar')"
   ]
  },
  {
   "cell_type": "markdown",
   "id": "6b97d15e-5d2b-4239-b512-199e1e8eb5b3",
   "metadata": {
    "tags": []
   },
   "source": [
    "### Question 12 Summary: If a student was not enrolled between the retention semester it seems to be the biggest indicator that they will not be retained.\n"
   ]
  },
  {
   "cell_type": "code",
   "execution_count": null,
   "id": "2744227a-0eda-4447-b375-1d91f8455c5a",
   "metadata": {},
   "outputs": [],
   "source": [
    "train.id.value_counts().plot()"
   ]
  },
  {
   "cell_type": "markdown",
   "id": "c423c9d7-1992-4c39-8643-d23cc8a29018",
   "metadata": {
    "jp-MarkdownHeadingCollapsed": true,
    "tags": []
   },
   "source": [
    "# Initial EDA Summary:"
   ]
  },
  {
   "cell_type": "markdown",
   "id": "4d84f9d3-1121-4c1a-ad78-a460d69145cd",
   "metadata": {
    "tags": []
   },
   "source": [
    "# Questions Summary:\n",
    "\n",
    "Question 1: How did area of study affect retention?\n",
    "- Q1: Out of the areas of study that had retention rates below the mean overall retention rate liberal_arts, visual_and_performing_arts and engineering had the biggest portions of the population. Using a Chi^2 test we that retention has a statistically significant association with area of study.\n",
    "\n",
    "Question 2: Does a students age combined with area of study affect retention?\n",
    "- Q2: There doesn't seem to be anthing of note here. Most students are 19-22 and are in cip 52 and 24. Further exploration into this main group should be done to see if there are notable aspects that drive retention in this bigger group.\n",
    "\n",
    "Question 3: How did the number of years since the student start affect retention?\n",
    "- Q3: Running a chi^2 hypothesis test we see that yrs_since_start is not independent from retention. In the graph above we see that retention is highest at yr 0 and it drop till yr 3 which seems to be our lowest retention. Retention then starts to rise the years continue past 3.\n",
    "\n",
    "Question 4: Does the students class status (Freshman, Sophmore,etc..) vs the years since a student started affect retention?\n",
    "- Q4: Freshman by far have the lowest retention across the yrs. Juniors and Seniors have the highest. Further exploration could be done with enrollment type to see how first time students compare to transfer students. As well populations can be seperated by full time and part time status. \n",
    "\n",
    "Question 5: Does a students full time or part time status affect retention?\n",
    "- Q5: It does look as though full time students are more likely to be retained. The chi^2 test does show that there is a statistically significant relationship between time_status and retention.\n",
    "\n",
    "Question 6: Does the students full time / part time status combined with the students dependent status affect retention?\n",
    "- Q6: There does not look to be a significant difference in retention for full time students between each dependent status. Independent students had a 5 percent higher retention rate to part time dependent status.\n",
    "\n",
    "Question 7: Does the students w_count affect retention?\n",
    "- Q7: 70 percent of students did not have a w_count in the base semester of the retention calculation, out of those students the retention rate was higher than the average. The 30 percent of students with at least one withdraw had a much lower retention rate of 55 percent.\n",
    "\n",
    "Question 8: Does the students financial aid status and pell_grant status affect retention?\n",
    "- Q8: Students who recieved financial aid were more likely to be retained whether they had ever been pell eligible before or not. Out of those that had not received financial aid the retention rate was almost the same but those that had never been pell eligible had a slightly higher retention rate.\n",
    "\n",
    "Question 9: How does a students expected family contribution affect retention?\n",
    "- Q9: Almost 25 percent of students had no expected family contribution recorded. Out of those that did the bottom 25 % had a average retention rate that was 3.5 percent lower than the top 25 %. Those with no efc values had a 6.6 percent lower efc than the top 25 percent.\n",
    "\n",
    "Question 10: Does a students term gpa or hs gpa affect retention?\n",
    "- Q10: Term gpa seems to be a better predictor than hs_gpa. Bottom 75 % of students in the not retained category had a term_gpa less than the bottom 50 % of those retained. Also note for later analysis hs_gpa does not change with a student over time but term_gpa does. Hs_gpa variables could be skewed because of repeats for each semester a student takes, while term_gpa changes semester to semester. \n",
    "\n",
    "Question 11: Does enrollment type affect retention?\n",
    "- Q11: It does look as though overall students in their first year have the lowest retention across the board. Concurant students seem to have a peak in retetention around year 4, Transfer students seem to have a peak around year 2 and first term students seem to have a peak around year 3. First term students make up over 3/4 of the population so. it seems the trend in first term students is closer to what is seen over the overall population.\n",
    "\n",
    "Question 12: Does whether a student was enrolled between the retention semester affect retention?\n",
    "- Q12: If a student was not enrolled between the retention semester it seems to be the biggest indicator that they will not be retained."
   ]
  }
 ],
 "metadata": {
  "kernelspec": {
   "display_name": "Python 3 (ipykernel)",
   "language": "python",
   "name": "python3"
  },
  "language_info": {
   "codemirror_mode": {
    "name": "ipython",
    "version": 3
   },
   "file_extension": ".py",
   "mimetype": "text/x-python",
   "name": "python",
   "nbconvert_exporter": "python",
   "pygments_lexer": "ipython3",
   "version": "3.9.7"
  }
 },
 "nbformat": 4,
 "nbformat_minor": 5
}
