{
 "cells": [
  {
   "cell_type": "markdown",
   "id": "ae725ad3-feae-43c4-becb-8f82e7143cfd",
   "metadata": {
    "tags": []
   },
   "source": [
    "# Retention Project Workbook (Full Data Science Pipeline)"
   ]
  },
  {
   "cell_type": "markdown",
   "id": "6ade2fef-a17e-4415-bcd6-9de253b5e849",
   "metadata": {},
   "source": [
    "**Target:** retained\n",
    "\n",
    "**Goals:**\n",
    "- Discover Drivers of retention through EDA and clustering.\n",
    "- Use features to run classification models and make predictions\n",
    "\n",
    "**Deliverables:**\n",
    "- Work Notebook (Github)\n",
    "- Report Notebook (Github)\n",
    "- Wrangle.py (Github)\n",
    "- README.md (Github)\n",
    "- Project Summary for README, Report, Portfolio/Resume\n",
    "\n",
    "**Initial thoughts and hypothesis:**\n",
    "- Group features into categories\n",
    "    - Target\n",
    "        - retained\n",
    "    - Student Demographics\n",
    "        - id\n",
    "        - race_ethn\n",
    "        - sex\n",
    "        - fgen\n",
    "        - age_at_start_term\n",
    "        - depend_status  \n",
    "    - Financials\n",
    "        - pell_ever\n",
    "        - efc\n",
    "        - fa_recd\n",
    "    - Educational Stats\n",
    "        - enrolled_1_back\n",
    "        - time_status\n",
    "        - sutdent_class\n",
    "        - hs_gpa\n",
    "        - term_gpa\n",
    "        - original_type\n",
    "        - cip_2dig\n",
    "        - act\n",
    "        - astd\n",
    "        - dubya_count_term\n",
    "        - span\n",
    "        - days_between\n",
    "- Educational Stats will probably have the most impact\n",
    "- age, fgen, depend_status and financial aid will probably also be drivers\n",
    "- retention is fall to fall and spring to spring"
   ]
  },
  {
   "cell_type": "code",
   "execution_count": 1,
   "id": "4774481f-9b6c-4c67-af54-846f196f228b",
   "metadata": {},
   "outputs": [],
   "source": [
    "# Import for Data Manipulation\n",
    "import pandas as pd\n",
    "import numpy as np \n",
    "\n",
    "# Import for Data Visualization\n",
    "import seaborn as sns\n",
    "from matplotlib import pyplot as plt\n",
    "import squarify\n",
    "\n",
    "# Import for data acquisition and prep\n",
    "import wrangle\n",
    "\n",
    "# Import for Scaling and Spliting the data\n",
    "from sklearn.model_selection import train_test_split\n",
    "from sklearn.preprocessing import MinMaxScaler\n",
    "from sklearn.impute import SimpleImputer\n",
    "\n",
    "# Import for hypothesis testing\n",
    "from scipy import stats\n",
    "\n",
    "# Import for Classification models\n",
    "from sklearn.tree import DecisionTreeClassifier, plot_tree\n",
    "from sklearn.ensemble import RandomForestClassifier\n",
    "from sklearn.neighbors import KNeighborsClassifier\n",
    "from sklearn.linear_model import LogisticRegression\n",
    "\n",
    "# Import for analysis of classification models\n",
    "from sklearn.metrics import classification_report\n",
    "from sklearn.metrics import confusion_matrix\n",
    "\n",
    "# Import for Clustering\n",
    "from sklearn.cluster import KMeans\n",
    "\n",
    "# Import to ignore warnings\n",
    "import warnings\n",
    "warnings.filterwarnings('ignore')\n",
    "\n",
    "# Set to see all rows and columns\n",
    "pd.options.display.max_columns = None\n",
    "pd.options.display.max_rows = None\n",
    "pd.options.display.max_colwidth = None"
   ]
  },
  {
   "cell_type": "markdown",
   "id": "28918aa9-ec68-4125-bf9d-87427939e27e",
   "metadata": {
    "tags": []
   },
   "source": [
    "# Acquire"
   ]
  },
  {
   "cell_type": "code",
   "execution_count": 2,
   "id": "2624caa3-3885-481f-8435-a938caaa6b8b",
   "metadata": {},
   "outputs": [],
   "source": [
    "# students = pd.read_excel('college_retention_data.xlsx')"
   ]
  },
  {
   "cell_type": "code",
   "execution_count": 3,
   "id": "16cbe493-d1fb-48b0-b234-4c9fa87c2093",
   "metadata": {},
   "outputs": [],
   "source": [
    "# def acquire_student_data():\n",
    "#     '''\n",
    "#     This function reads in a excel file and returns it as a dataframe.\n",
    "#     '''\n",
    "#     # Read excel into df\n",
    "#     df = pd.read_excel('college_retention_data.xlsx')\n",
    "#     # Return df\n",
    "#     return df"
   ]
  },
  {
   "cell_type": "code",
   "execution_count": 4,
   "id": "55ee5fc8-6c17-4aaa-b7e3-1824c965033f",
   "metadata": {},
   "outputs": [],
   "source": [
    "# Read in Data dictionary\n",
    "# data_dict = pd.read_excel('college_retention_data.xlsx',sheet_name=1)"
   ]
  },
  {
   "cell_type": "code",
   "execution_count": 5,
   "id": "f1a16e08-be21-44e1-b7b9-6785062fae88",
   "metadata": {},
   "outputs": [],
   "source": [
    "# def acquire_data_dict():\n",
    "#     '''\n",
    "#     This funciton acquires the included data dictionary.\n",
    "#     '''\n",
    "#     # Read dictionary into dataframe\n",
    "#     df = pd.read_excel('college_retention_data.xlsx',sheet_name=1)\n",
    "#     # Return the dataframe\n",
    "#     return df"
   ]
  },
  {
   "cell_type": "markdown",
   "id": "57b00c60-3fff-44e8-b2b9-6f487baf46c3",
   "metadata": {
    "tags": []
   },
   "source": [
    "# Prep"
   ]
  },
  {
   "cell_type": "markdown",
   "id": "aeea9599-f64f-4515-833e-c47d4efb99f5",
   "metadata": {
    "tags": []
   },
   "source": [
    "## Student Data Prep"
   ]
  },
  {
   "cell_type": "code",
   "execution_count": 6,
   "id": "edafe65e-9a4a-4ea7-a2ca-a9acba6e005f",
   "metadata": {},
   "outputs": [],
   "source": [
    "# # Create function to manipulate cip df for ease of use\n",
    "# def get_cip_codes():\n",
    "#     # read in df\n",
    "#     cip = pd.read_csv('cip_codes.csv')\n",
    "#     # Narrow down df\n",
    "#     cip = cip[['Title','CIP Code']]\n",
    "#     # Fix columns\n",
    "#     cip.columns = [col.lower().replace(' ','_') for col in cip]\n",
    "#     # fix cip values\n",
    "#     cip['cip_code'] = cip.cip_code.apply(lambda x: x[2:4])\n",
    "#     # make int\n",
    "#     cip['cip_code'] = cip.cip_code.astype('int')\n",
    "#     # Rename cip column\n",
    "#     cip = cip.rename(columns={'cip_code':'cip'})\n",
    "#     # fix title vlaues\n",
    "#     cip['title'] = cip.title.apply(lambda x: x.lower().replace(' ' , '_').replace( '.' , ''))\n",
    "#     # return df\n",
    "#     return cip"
   ]
  },
  {
   "cell_type": "code",
   "execution_count": 7,
   "id": "99ff5010-2654-48e0-8492-427c8f2e264b",
   "metadata": {},
   "outputs": [],
   "source": [
    "# # Test Function from wrangle.py\n",
    "# students = wrangle.acquire_student_data()"
   ]
  },
  {
   "cell_type": "code",
   "execution_count": 8,
   "id": "d3306282-1fa9-4793-87ec-1d4578645194",
   "metadata": {},
   "outputs": [],
   "source": [
    "# # Lowercase all column names\n",
    "# students.columns = [col.lower() for col in students]"
   ]
  },
  {
   "cell_type": "code",
   "execution_count": 9,
   "id": "942c6bcb-f805-4cb6-aaa1-0797be2633a7",
   "metadata": {},
   "outputs": [],
   "source": [
    "# # Change column names for ease of use\n",
    "# students = students.rename(columns={'fakeid':'id','enrolled_1_back':'enrolled_between','student_classif':'student_year',\\\n",
    "#                                     'originaltype':'enroll_type','cip_2dig':'cip','astd':'academic_standing',\\\n",
    "#                                     'dubya_count_term':'w_count','span':'yrs_since_start','days_between':'reg_before_start'})"
   ]
  },
  {
   "cell_type": "code",
   "execution_count": 10,
   "id": "02cee5c4-445c-4c9a-8b07-1bf8fd203a46",
   "metadata": {},
   "outputs": [],
   "source": [
    "# # Drop Nulls for initial pass\n",
    "# students = students.dropna()"
   ]
  },
  {
   "cell_type": "code",
   "execution_count": 11,
   "id": "9afd3b74-480b-4271-8d76-0bf13e6cd41b",
   "metadata": {},
   "outputs": [],
   "source": [
    "# # Drop UN cip value\n",
    "# students = students[students['cip'] != 'UN']\n",
    "# # Retrieve cip codes with descriptions and return dataframe\n",
    "# cip = get_cip_codes()"
   ]
  },
  {
   "cell_type": "code",
   "execution_count": 12,
   "id": "27bf45bb-92af-4c17-93cf-9f07c8590670",
   "metadata": {},
   "outputs": [],
   "source": [
    "# students = pd.merge(students,cip, on='cip', how='left')"
   ]
  },
  {
   "cell_type": "code",
   "execution_count": 13,
   "id": "de709d38-2184-4b60-8f3d-d74372219ff0",
   "metadata": {},
   "outputs": [],
   "source": [
    "# students.w_count.value_counts()"
   ]
  },
  {
   "cell_type": "code",
   "execution_count": 14,
   "id": "878b25c4-0836-45ff-842b-74b22a6c8a3b",
   "metadata": {},
   "outputs": [],
   "source": [
    "# # One hot encode categorical columns\n",
    "# # Replace (1,0): retained, enrolled_between, sex, time_status, pell_ever, academic_standing, fa_recd, w_count\n",
    "# students['retained'] = students.retained.str.replace('Y', '1').str.replace('N', '0')\n",
    "# students['enrolled_between'] = students.enrolled_between.str.replace('Y', '1').str.replace('N', '0')\n",
    "# students['sex'] = students.sex.str.replace('F', '1').str.replace('M', '0')\n",
    "# students['time_status'] = students.time_status.str.replace('FULL', '1').str.replace('PART', '0')\n",
    "# students['pell_ever'] = students.pell_ever.str.replace('Y', '1').str.replace('N', '0')\n",
    "# students['academic_standing'] = students.academic_standing.str.replace('GOODBIN', '1').str.replace('ISSUEBIN', '0')\n",
    "# students['fa_recd'] = students.fa_recd.str.replace('Y', '1').str.replace('N', '0')\n",
    "# students['w_count'] = students.w_count.str.replace('ONE_OR_MORE', '1').str.replace('NONE', '0')\n",
    "# # Reassign as int type\n",
    "# students[['retained','enrolled_between','sex','time_status','pell_ever','academic_standing','fa_recd','w_count']] = \\\n",
    "# students[['retained','enrolled_between','sex','time_status','pell_ever','academic_standing','fa_recd','w_count']].astype('int')\n",
    "# # Create dummies: race_ethn, fgen, student_year, enroll_type, cip, age_at_start_term, act, depend_status, yrs_since_start\n",
    "# dummy_name = pd.get_dummies(students[['race_ethn','fgen','student_year','enroll_type','title','age_at_start_term','act','depend_status','yrs_since_start']],dummy_na=False)\n",
    "# # Combine df's\n",
    "# students = pd.concat([students,dummy_name],axis=1)"
   ]
  },
  {
   "cell_type": "code",
   "execution_count": 15,
   "id": "19be3370-54b1-4ee8-9fb9-f8fb0fc7fb10",
   "metadata": {},
   "outputs": [],
   "source": [
    "# students.head()"
   ]
  },
  {
   "cell_type": "code",
   "execution_count": 16,
   "id": "134c1424-4b47-49f1-ad41-99fd5a726930",
   "metadata": {},
   "outputs": [],
   "source": [
    "# # Create prep function\n",
    "# def prep_student_data(df):\n",
    "#     '''\n",
    "#     This function takes in the acquired dataframe and prepare the data for exploration.\n",
    "#     '''\n",
    "#     # Lowercase all column names\n",
    "#     df.columns = [col.lower() for col in df]\n",
    "#     # Change column names for ease of use\n",
    "#     df = df.rename(columns={'fakeid':'id','enrolled_1_back':'enrolled_between','student_classif':'student_year',\\\n",
    "#                                     'originaltype':'enroll_type','cip_2dig':'cip','astd':'academic_standing',\\\n",
    "#                                     'dubya_count_term':'w_count','span':'yrs_since_start','days_between':'reg_before_start'})\n",
    "#     # Drop Nulls for initial pass\n",
    "#     df = df.dropna()\n",
    "    \n",
    "#     # Drop UN cip value\n",
    "#     df = df[df['cip'] != 'UN']\n",
    "#     # Retrieve cip codes with descriptions and return dataframe\n",
    "#     cip = get_cip_codes()\n",
    "#     # Merge the df's\n",
    "#     students = pd.merge(students,cip, on='cip', how='left')\n",
    "\n",
    "#     # fix age at start term variables (23 - 29, to 23-29)\n",
    "#     df['age_at_start_term'] = df.age_at_start_term.str.replace(' ','')\n",
    "    \n",
    "#     # One hot encode categorical columns\n",
    "#     # Replace (1,0): retained, enrolled_between, sex, time_status, pell_ever, academic_standing, fa_recd, w_count\n",
    "#     df['retained'] = df.retained.str.replace('Y', '1').str.replace('N', '0')\n",
    "#     df['enrolled_between'] = df.enrolled_between.str.replace('Y', '1').str.replace('N', '0')\n",
    "#     df['sex'] = df.sex.str.replace('F', '1').str.replace('M', '0')\n",
    "#     df['time_status'] = df.time_status.str.replace('FULL', '1').str.replace('PART', '0')\n",
    "#     df['pell_ever'] = df.pell_ever.str.replace('Y', '1').str.replace('N', '0')\n",
    "#     df['academic_standing'] = df.academic_standing.str.replace('GOODBIN', '1').str.replace('ISSUEBIN', '0')\n",
    "#     df['fa_recd'] = df.fa_recd.str.replace('Y', '1').str.replace('N', '0')\n",
    "#     df['w_count'] = df.w_count.str.replace('ONE_OR_MORE', '1').str.replace('NONE', '0')\n",
    "\n",
    "#     # Reassign as int type\n",
    "#     df[['retained','enrolled_between','sex','time_status','pell_ever','academic_standing','fa_recd','w_count']] = \\\n",
    "#     df[['retained','enrolled_between','sex','time_status','pell_ever','academic_standing','fa_recd','w_count']].astype('int')\n",
    "     \n",
    "#     # Create dummies: race_ethn, fgen, student_year, enroll_type, cip, age_at_start_term, act, depend_status, yrs_since_start\n",
    "#     dummy_name = pd.get_dummies(df[['race_ethn','fgen','student_year','enroll_type','title','age_at_start_term','act','depend_status','yrs_since_start']],dummy_na=False)\n",
    "\n",
    "#     # Combine df's\n",
    "#     df = pd.concat([df,dummy_name],axis=1)\n",
    "    \n",
    "#     # Return cleaned df\n",
    "#     return df"
   ]
  },
  {
   "cell_type": "markdown",
   "id": "2706c9a5-9543-4cd1-a71d-345987b77625",
   "metadata": {
    "tags": []
   },
   "source": [
    "## Addressing unique students ID"
   ]
  },
  {
   "cell_type": "code",
   "execution_count": 17,
   "id": "91c723a6-c3d1-4bf9-acc4-9f4e30fcb252",
   "metadata": {},
   "outputs": [],
   "source": [
    "# students['id'].nunique()"
   ]
  },
  {
   "cell_type": "code",
   "execution_count": 18,
   "id": "d49ecea7-32eb-4ff3-8d58-5811a489fc6d",
   "metadata": {},
   "outputs": [],
   "source": [
    "# len(students)"
   ]
  },
  {
   "cell_type": "code",
   "execution_count": 19,
   "id": "8b26ee83-afc3-466e-8042-2a8aeb1311e3",
   "metadata": {},
   "outputs": [],
   "source": [
    "# [students['id'].value_counts() == 1]"
   ]
  },
  {
   "cell_type": "code",
   "execution_count": 20,
   "id": "637aa872-055e-427d-aa97-cbbf3ae1a48b",
   "metadata": {},
   "outputs": [],
   "source": [
    "# students.head()"
   ]
  },
  {
   "cell_type": "code",
   "execution_count": 21,
   "id": "2a73fd1e-42d5-4a3c-8f4a-5dd0f79fddaa",
   "metadata": {},
   "outputs": [],
   "source": [
    "# student_zero[['enrolled_between','time_status','student_year','efc','term_gpa','cip','age_at_start_term','depend_status','w_count','yrs_since_start','reg_before_start']]\\\n",
    "# .sort_values(by=['student_year','yrs_since_start','age_at_start_term',])"
   ]
  },
  {
   "cell_type": "code",
   "execution_count": 22,
   "id": "ab0a8284-d8b1-491d-83f3-50ffe7060d33",
   "metadata": {},
   "outputs": [],
   "source": [
    "# student_zero = train[train['id'] == 459725]\n",
    "# student_zero"
   ]
  },
  {
   "cell_type": "code",
   "execution_count": 23,
   "id": "b85c151f-3b60-4de8-b6f9-79e2d112a70a",
   "metadata": {},
   "outputs": [],
   "source": [
    "# freshman = students[students['student_year'] =='FR']"
   ]
  },
  {
   "cell_type": "code",
   "execution_count": 24,
   "id": "e254b58f-827d-4bed-b936-8b7da0a8dec3",
   "metadata": {},
   "outputs": [],
   "source": [
    "# freshman['id'].nunique()"
   ]
  },
  {
   "cell_type": "code",
   "execution_count": 25,
   "id": "843a6066-5d35-43d9-961b-69d1bfd1e83a",
   "metadata": {},
   "outputs": [],
   "source": [
    "# freshman_zero"
   ]
  },
  {
   "cell_type": "code",
   "execution_count": 26,
   "id": "17b6f9ac-de61-4359-9caa-2b88d9f23e07",
   "metadata": {},
   "outputs": [],
   "source": [
    "# freshman['id'].value_counts()"
   ]
  },
  {
   "cell_type": "code",
   "execution_count": 27,
   "id": "48c9f53a-0d7f-416e-8d25-1fe871c25962",
   "metadata": {},
   "outputs": [],
   "source": [
    "# freshman_zero = freshman[freshman['id'] == 508071]"
   ]
  },
  {
   "cell_type": "code",
   "execution_count": 28,
   "id": "85b51932-b3ba-4d5e-b822-c2368e8fd3c5",
   "metadata": {},
   "outputs": [],
   "source": [
    "# freshman_zero[['retained','enrolled_between','time_status','student_year','efc','term_gpa','cip','age_at_start_term','depend_status','w_count','yrs_since_start','reg_before_start']]\\\n",
    "# .sort_values(by=['student_year','yrs_since_start','age_at_start_term',])"
   ]
  },
  {
   "cell_type": "code",
   "execution_count": 29,
   "id": "2d913dbe-1e92-4435-8ccf-095ca4e28e90",
   "metadata": {},
   "outputs": [],
   "source": [
    "# students.id.value_counts().mean()"
   ]
  },
  {
   "cell_type": "markdown",
   "id": "ca88c45a-9223-4612-9271-0d22c9d08b3d",
   "metadata": {},
   "source": [
    "### Summary of ID assessment\n",
    "- Each individual row is considered an individual observation of retention year over a year based on variables provided. Individual students show up in dataset multiple times. So this is not a measure of whether an individual student is retained over time but a measure of individual instances of year over year retention. With more data provided and further exploration and analysis, more could be done to understand drivers of individual student retention."
   ]
  },
  {
   "cell_type": "markdown",
   "id": "7675f540-fea0-4e03-95e4-9439538f07c0",
   "metadata": {
    "tags": []
   },
   "source": [
    "## Impute (Round 2)"
   ]
  },
  {
   "cell_type": "code",
   "execution_count": 30,
   "id": "b7c5e949-3133-4edd-8936-702bb40335b5",
   "metadata": {},
   "outputs": [],
   "source": [
    "# efc\n"
   ]
  },
  {
   "cell_type": "code",
   "execution_count": 31,
   "id": "189e48df-0fd9-4158-ac34-ad24c6c76c6d",
   "metadata": {},
   "outputs": [],
   "source": [
    "# hs_gpa"
   ]
  },
  {
   "cell_type": "markdown",
   "id": "7a700694-d05a-4d3c-bb6d-489410f48778",
   "metadata": {
    "tags": []
   },
   "source": [
    "## Split"
   ]
  },
  {
   "cell_type": "code",
   "execution_count": 34,
   "id": "26e4d39d-9b12-4b7c-9dc9-13c0fa39a1aa",
   "metadata": {
    "tags": []
   },
   "outputs": [],
   "source": [
    "# Test Functions\n",
    "students = wrangle.prep_student_data(wrangle.acquire_student_data())\n",
    "#students.head()"
   ]
  },
  {
   "cell_type": "code",
   "execution_count": 37,
   "id": "ad0c588c-6227-4393-bc4b-620c11931816",
   "metadata": {},
   "outputs": [],
   "source": [
    "# Split Data for further exploration\n",
    "# target = 'retained'\n",
    "# train, validate, test = wrangle.split_data(students, target)\n",
    "# #train.shape"
   ]
  },
  {
   "cell_type": "code",
   "execution_count": null,
   "id": "1994b14c-4aef-4122-87bb-3c2109e48327",
   "metadata": {},
   "outputs": [],
   "source": [
    "# # Split for modeling\n",
    "# target = 'retained'\n",
    "# X_train, y_train = wrangle.model_split(train,target)\n",
    "# X_validate, y_validate = wrangle.model_split(validate,target)\n",
    "# X_test, y_test = wrangle.model_split(test,target)\n",
    "# X_train.shape"
   ]
  },
  {
   "cell_type": "markdown",
   "id": "b478182b-e61b-4e9e-8e62-cdc30b46deb3",
   "metadata": {
    "tags": []
   },
   "source": [
    "### Scaling"
   ]
  },
  {
   "cell_type": "code",
   "execution_count": null,
   "id": "2328ce2a-ea7a-4700-80f1-286394f251a1",
   "metadata": {},
   "outputs": [],
   "source": [
    "# Scale data\n",
    "train_scaled, validate_scaled, test_scaled = wrangle.scale_data(train,validate,test)\n",
    "train_scaled.shape"
   ]
  },
  {
   "cell_type": "markdown",
   "id": "8bce4cff-e820-4298-9f07-b15e4227c8ba",
   "metadata": {},
   "source": [
    "# Initial EDA"
   ]
  },
  {
   "cell_type": "markdown",
   "id": "367f2f04-4912-49c9-850a-776f3f324e74",
   "metadata": {},
   "source": [
    "## Univariate (students df used)"
   ]
  },
  {
   "cell_type": "code",
   "execution_count": null,
   "id": "00dc5611-31fa-4131-9b44-62fec9eb3568",
   "metadata": {},
   "outputs": [],
   "source": [
    "students.shape"
   ]
  },
  {
   "cell_type": "markdown",
   "id": "987a2d44-2ce7-4edd-88a6-22c4c4b3e47c",
   "metadata": {},
   "source": [
    "- (448176, 22)"
   ]
  },
  {
   "cell_type": "code",
   "execution_count": null,
   "id": "27ca65be-0fb1-439a-89f2-d759bc688eae",
   "metadata": {},
   "outputs": [],
   "source": [
    "students.describe(include='all')"
   ]
  },
  {
   "cell_type": "markdown",
   "id": "d4bbca7f-4f28-497b-a895-48dcce44f219",
   "metadata": {},
   "source": [
    "- efc, hs_gpa, and term_gpa have missing data. efc has a suspicious max. \n",
    "- 1 key variable (id), 17 categorical, 4 continuous (efc,hs_gpa,term_gpa,reg_before_start)"
   ]
  },
  {
   "cell_type": "code",
   "execution_count": null,
   "id": "9857fca9-0a7c-47dd-a575-8aa103e89611",
   "metadata": {},
   "outputs": [],
   "source": [
    "students.info()"
   ]
  },
  {
   "cell_type": "code",
   "execution_count": null,
   "id": "20c9aa27-0bb4-4034-b3e3-43292bac67ac",
   "metadata": {},
   "outputs": [],
   "source": [
    "students.isnull().sum()"
   ]
  },
  {
   "cell_type": "markdown",
   "id": "52b385fb-7e8f-421c-b4d1-ebdfd28a0375",
   "metadata": {},
   "source": [
    "Missing\n",
    "- efc: 128245\n",
    "- hs_gpa: 247365\n",
    "- term_gpa: 89"
   ]
  },
  {
   "cell_type": "code",
   "execution_count": null,
   "id": "3505b6b3-a0bb-43e5-9531-9fe670f76d1c",
   "metadata": {},
   "outputs": [],
   "source": [
    "students.isnull().mean()"
   ]
  },
  {
   "cell_type": "markdown",
   "id": "45827ee7-8af7-42e1-8819-1b31ebdb8929",
   "metadata": {},
   "source": [
    "Percent Missing\n",
    "- efc: 0.286149 (Impute efc)\n",
    "- hs_gpa: 0.551937 (Potentially drop hs_gpa)\n",
    "- term_gpa: 0.000199 (Do not worry about term_gpa)"
   ]
  },
  {
   "cell_type": "code",
   "execution_count": null,
   "id": "f32418c3-5cfe-4f58-abba-e0e0119b2f45",
   "metadata": {},
   "outputs": [],
   "source": [
    "students.hist(figsize=(40,20), bins =20)\n",
    "plt.show()"
   ]
  },
  {
   "cell_type": "markdown",
   "id": "b78ff197-45d5-4dd8-8268-4a850f427253",
   "metadata": {},
   "source": [
    "- Explore term_gpa: spike near 0.0, spike near 4.0, 2.0 and higher seems to be a much larger group than 2.0 and below.\n",
    "- Explore reg_before_start: spike between 75 and 100, below 75 higher than above 100, \n",
    "        - external research shows an average of 85 days for reg to spring semester and 140 for reg to fall (Possible Feature)\n",
    "- hs_gpa shows a normal distribution around just below 3.0. Could be good for impute.\n",
    "- efc looks suspect still"
   ]
  },
  {
   "cell_type": "code",
   "execution_count": null,
   "id": "747eb597-c132-4d8f-97a9-1839efeaeb5c",
   "metadata": {},
   "outputs": [],
   "source": [
    "variables = students.columns[students.dtypes == 'object']\n",
    "\n",
    "for col in variables:\n",
    "    print(f'{col}\\n\\n\\n{students[col].value_counts(dropna=False)}\\n\\n')"
   ]
  },
  {
   "cell_type": "markdown",
   "id": "f7687501-607c-4b81-bdd3-1e01a1b48bb6",
   "metadata": {},
   "source": [
    "- One hot encode categorical columns\n",
    "- Replace (1,0): retained, enrolled_between, sex, time_status, pell_ever, academic_standing, fa_recd, w_count\n",
    "- Create dummies: race_ethn, fgen, student_year, enroll_type, cip, age_at_start_term, act, depend_status, yrs_before_start"
   ]
  },
  {
   "cell_type": "code",
   "execution_count": null,
   "id": "eeebb0ad-7754-459d-9e31-6539d225bdaa",
   "metadata": {},
   "outputs": [],
   "source": [
    "students.cip.value_counts(normalize = True)"
   ]
  },
  {
   "cell_type": "markdown",
   "id": "c91db8cf-cfa2-4b52-aa51-df834b025d55",
   "metadata": {},
   "source": [
    "- 52: almost 19% \n",
    "- 24: 12% \n",
    "- 50, 42, 26: 6%\n",
    "- 43, 13, 23, 15, 30, 51, 44, 31, 45, 11, 49, 54, 9, 40, 3, 27 between 5% and 1%\n",
    "- 16, 38, 5, 14, 10, 1, 32, 29 below 1$"
   ]
  },
  {
   "cell_type": "markdown",
   "id": "834ffe80-92d1-47a4-8766-a06065ab0534",
   "metadata": {},
   "source": [
    "### Univariate Summary:\n",
    "\n",
    "- efc: 1/3 missing, suspicious max (impute?)\n",
    "- hs_gpa: 55% missing, potentially drop, normal distribution possibly (impute or drop?)\n",
    "- term_gpa only missing a few, spike near 0.0, spike near 4.0, 2.0 and higher seems to be a much larger group than 2.0 and below. (possible clusters?)\n",
    "- reg_before_start spike between 75 and 100, below 75 higher than above 100, external research shows an average of 85 days for reg to spring semester and 140 for reg to fall (Possible Feature, cluster or both)\n",
    "- Change cip into major types and one hot encode\n",
    "- Rank values by their Retention percentage (feature?)"
   ]
  },
  {
   "cell_type": "markdown",
   "id": "4259e635-2b40-4143-8dc4-54b085899b7c",
   "metadata": {},
   "source": [
    "##  Bivariate (Train df used)"
   ]
  },
  {
   "cell_type": "code",
   "execution_count": null,
   "id": "626b76fb-f3ee-43ef-b49e-f7d50d6e04d5",
   "metadata": {},
   "outputs": [],
   "source": [
    "train.info()"
   ]
  },
  {
   "cell_type": "code",
   "execution_count": null,
   "id": "0df918d9-bc32-4912-9ae0-5866b93d712e",
   "metadata": {},
   "outputs": [],
   "source": [
    "columns = train.columns[train.dtypes == 'object']\n",
    "for col in columns:\n",
    "    plt.figure(figsize=(15,8))\n",
    "    print(f'{col}\\n\\n--------------------------------------------------------------')\n",
    "    print(f'{train.groupby(\"retained\")[col].value_counts().sort_values(ascending=False)}')\n",
    "    sns.countplot(train[col], hue=train['retained'])\n",
    "    plt.show()\n",
    "    print(f'{train.groupby(col)[\"retained\"].value_counts(normalize=True).sort_values(ascending=False)}')\n",
    "    print(f'=======================================================\\n\\n')"
   ]
  },
  {
   "cell_type": "code",
   "execution_count": null,
   "id": "ea4c935c-f93d-4d4f-b8ae-002ae7df7bca",
   "metadata": {},
   "outputs": [],
   "source": [
    "columns = train.columns[(train.dtypes == 'int') | (train.dtypes == 'float') | (train.dtypes == 'uint8')]\n",
    "# print(f'Not Retained:\\n\\n')\n",
    "# print(f'{train[train[\"retained\"]==\"N\"].describe()}\\n')\n",
    "# print(f'Retained:\\n\\n')\n",
    "# print(f'{train[train[\"retained\"]==\"Y\"].describe()}\\n')\n",
    "for col in columns:\n",
    "    print(f'{col}\\n\\n--------------------------------------------------------------')\n",
    "    sns.barplot(x=col, y='retained', data= train)\n",
    "    plt.show()\n",
    "    print(f'=======================================================\\n\\n')"
   ]
  },
  {
   "cell_type": "code",
   "execution_count": null,
   "id": "52da662b-00db-4bea-b628-c4775b85e0ee",
   "metadata": {},
   "outputs": [],
   "source": [
    "sns.pairplot(train, kind='reg', plot_kws={'line_kws':{'color':'red'}},corner=True)"
   ]
  },
  {
   "cell_type": "code",
   "execution_count": null,
   "id": "848d89f2-339a-4630-b58a-93a042708dde",
   "metadata": {},
   "outputs": [],
   "source": [
    "# # Perform a Pearson Correlation on the dataset\n",
    "plt.figure(figsize=(4,20))\n",
    "correlate = train.corr()\n",
    "# Plot the Correlation on a heatmap\n",
    "sns.heatmap(correlate.loc[['retained']].T, annot=True, cmap='coolwarm')\n",
    "plt.show()"
   ]
  },
  {
   "cell_type": "markdown",
   "id": "23b8f798-1c5d-440f-83c8-edcbeab921d5",
   "metadata": {},
   "source": [
    "- slight correlation between enrolled_between, term_gpa, academic standing. with a slight negative correlation to freshman status"
   ]
  },
  {
   "cell_type": "code",
   "execution_count": null,
   "id": "e1207da8-0388-4f42-a0a8-2da7133f3b9a",
   "metadata": {},
   "outputs": [],
   "source": [
    "plt.figure(figsize=(15,8))\n",
    "sns.relplot(x='term_gpa',y='reg_before_start',data=train,col='retained',row='title',height=10)\n",
    "plt.show()"
   ]
  },
  {
   "cell_type": "markdown",
   "id": "ef6473dd-3e04-448c-80ad-010062844619",
   "metadata": {},
   "source": [
    "### Bivariate Summary: \n",
    "\n",
    "- race_ethn: mostly white/hispanic population\n",
    "- fgen: mostly first generation with little difference in retention\n",
    "- year: negative correlation between class year and population size. Juniors had the highest retention rate. \n",
    "- enroll_type: most students were first time college students out of high school. Did not show much difference in retention between different types.\n",
    "- cip: 52, 24 had highest population, 42,43,50,26 followed with next biggest group. (POSSIBLE CLUSTERS) Out of big groups 24 showed the lowest retention rate.\n",
    "- age: 19-22 by far the largest population. 18 and under had lowest retention(did they transfer?)\n",
    "- yr_since_start: 0 had lowest retention, 1 and 6 or more had next lowest, 5, 2, 4, 3 (EXPLORE IN MULTI)\n",
    "\n",
    "Following showed low retention stutus\n",
    "- w_count\n",
    "- communication major\n",
    "- computer information systems\n",
    "- engineering\n",
    "- liberal arts\n",
    "- philosophy and religious studies\n",
    "- 18 or younger\n",
    "- 23 to 29\n",
    "- act_NADA\n",
    "- depend_status_IND\n",
    "-yrs_since_start_0\n",
    "-yrs_since_start_1\n",
    "\n"
   ]
  },
  {
   "cell_type": "markdown",
   "id": "71a84e77-b94c-4af3-b769-72539083e5fb",
   "metadata": {},
   "source": [
    "## Questions"
   ]
  },
  {
   "cell_type": "markdown",
   "id": "1c76d314-e941-466b-a9d5-3a92ab6fe635",
   "metadata": {},
   "source": [
    "## Question 1: How did area of study affect retention?"
   ]
  },
  {
   "cell_type": "code",
   "execution_count": null,
   "id": "17c36034-b8af-4265-a5ce-aa8dbead724f",
   "metadata": {},
   "outputs": [],
   "source": [
    "ax = sns.catplot(x='retained',col='cip',col_wrap=9,data=train,kind='count')\n",
    "ax.set_xticklabels(rotation=90)"
   ]
  },
  {
   "cell_type": "markdown",
   "id": "19dfce01-74cb-41c9-8e0b-512f2294ea82",
   "metadata": {},
   "source": [
    "#### Chi Sqaured Hypothesis Test\n",
    "\n",
    "- $H_o$: Area of study is independent of whether or not someone is retained.\n",
    "- $H_α$: Area of study is not imdependent of whether or not someone is retained."
   ]
  },
  {
   "cell_type": "code",
   "execution_count": null,
   "id": "63c92c08-f27a-48fc-bf64-f475a0d41feb",
   "metadata": {},
   "outputs": [],
   "source": [
    "contingency_table = pd.crosstab(train.title , train.retained)\n",
    "contingency_table"
   ]
  },
  {
   "cell_type": "code",
   "execution_count": null,
   "id": "833a6c46-9872-433b-8f07-4a534de5b410",
   "metadata": {},
   "outputs": [],
   "source": [
    "chi2, p, degf, expected = stats.chi2_contingency(contingency_table)\n",
    "\n",
    "print('Observed\\n')\n",
    "print(contingency_table.values)\n",
    "print('---\\nExpected\\n')\n",
    "print(expected)\n",
    "print('---\\n')\n",
    "print(f'chi^2 = {chi2:.4f}')\n",
    "print(f'p     = {p:.4f}')\n",
    "print(f'degree of freedom = {degf}')"
   ]
  },
  {
   "cell_type": "markdown",
   "id": "b64a7cfe-1c6e-495b-9b43-4c5be3b6411f",
   "metadata": {},
   "source": [
    "- We reject the null hypothesis."
   ]
  },
  {
   "cell_type": "markdown",
   "id": "0214bc84-7a93-4396-8500-5d7086ebe440",
   "metadata": {},
   "source": [
    "#### Question 1 Summary: Out of the areas of study that had retention rates below the mean overall retention rate liberal_arts, visual_and_performing_arts and engineering had the biggest portions of the population. Using a Chi^2 test we that retention has a statistically significant association with area of study."
   ]
  },
  {
   "cell_type": "markdown",
   "id": "5534d1e2-c721-46c8-92ae-76c50eada014",
   "metadata": {},
   "source": [
    "#### Attempts were made Q1"
   ]
  },
  {
   "cell_type": "code",
   "execution_count": null,
   "id": "e215ff8c-5112-4230-a82c-d1358cc4e29a",
   "metadata": {},
   "outputs": [],
   "source": [
    "def get_below_avg_retention():\n",
    "    # Count of instances of study catagory\n",
    "    count = list(train.title.value_counts().sort_index().values)\n",
    "    # Percent of each area of study to the whole\n",
    "    percent = [round(num, 4) for num in list(train.title.value_counts(normalize=True).sort_index().values)]\n",
    "    # Percent of retained in each area of study\n",
    "    percent_retained = list(train[['retained','title']].groupby('title').mean().round(4).retained.values)\n",
    "    # Percent not retained in each area of study\n",
    "    percent_not_retained = [round(num , 4) for num in list(1 - train[['retained','title']].groupby('title').mean().sort_index().retained.values)]\n",
    "    # Mean retention rate of all instances\n",
    "    overall_mean_retention = train.retained.mean()\n",
    "    # Variable names for df assignment\n",
    "    columns = list(train.title.sort_values().unique())\n",
    "    # Create Df\n",
    "    study_df = pd.DataFrame([count, percent, percent_retained, percent_not_retained] , index = ['count','percent','percent_retained','percent_not_retained'] ,columns = columns).T.reset_index()\n",
    "    # Show areas of study with less retention than the average and sort by not retained\n",
    "    df_q1 = study_df[study_df['percent_retained'] < overall_mean_retention].sort_values(by='percent_not_retained',ascending=False)\n",
    "    # return df\n",
    "    return df_q1"
   ]
  },
  {
   "cell_type": "code",
   "execution_count": null,
   "id": "0fffec73-494b-42ab-8f59-687b49ed30fc",
   "metadata": {},
   "outputs": [],
   "source": [
    "df_q1 = get_below_avg_retention()"
   ]
  },
  {
   "cell_type": "code",
   "execution_count": null,
   "id": "a3b68817-e328-4f42-8537-cf5a9ba3e7dd",
   "metadata": {},
   "outputs": [],
   "source": [
    "plt.figure(figsize=(12,8))\n",
    "ax = sns.barplot(x='index',y ='percent',data=df_q1)\n",
    "ax.set_xticklabels(ax.get_xticklabels(),rotation=90)\n",
    "plt.xticks(fontsize=20)\n",
    "plt.yticks(fontsize=20)\n",
    "plt.ylabel('Percent',fontsize=20)\n",
    "plt.xlabel('Major', fontsize=20)\n",
    "plt.show()\n",
    "plt.show()"
   ]
  },
  {
   "cell_type": "code",
   "execution_count": null,
   "id": "44a1af5d-6928-4471-afcd-b399066f3e3a",
   "metadata": {},
   "outputs": [],
   "source": [
    "plt.figure(figsize=(12,8))\n",
    "ax = sns.barplot(x='index',y ='percent_not_retained',data=df_q1)\n",
    "ax.set_xticklabels(ax.get_xticklabels(),rotation=90)\n",
    "plt.xticks(fontsize=20)\n",
    "plt.yticks(fontsize=20)\n",
    "plt.ylabel('Percent Not Retained',fontsize=20)\n",
    "plt.xlabel('Major', fontsize=20)\n",
    "plt.show()"
   ]
  },
  {
   "cell_type": "code",
   "execution_count": null,
   "id": "5d0bf9ef-2c71-4c34-939a-1c9557614d7e",
   "metadata": {},
   "outputs": [],
   "source": [
    "# Count of full dataset\n",
    "len(train)"
   ]
  },
  {
   "cell_type": "markdown",
   "id": "434ed018-e675-4953-b3fb-09ee50d73570",
   "metadata": {},
   "source": [
    "- 78848"
   ]
  },
  {
   "cell_type": "code",
   "execution_count": null,
   "id": "ae1026a2-be89-4685-b0f3-8972d916e88d",
   "metadata": {},
   "outputs": [],
   "source": [
    "# Individual count of retention\n",
    "train.retained.value_counts()"
   ]
  },
  {
   "cell_type": "markdown",
   "id": "51c74ad7-fb7c-4e85-814a-41eefc11532a",
   "metadata": {},
   "source": [
    "- 1: 55277\n",
    "- 0: 23571"
   ]
  },
  {
   "cell_type": "code",
   "execution_count": null,
   "id": "86a39f84-9b56-41fc-bf66-7ca7ccb6da92",
   "metadata": {},
   "outputs": [],
   "source": [
    "# Count of all retained values\n",
    "train.retained.value_counts().sum()"
   ]
  },
  {
   "cell_type": "markdown",
   "id": "b9d64517-9358-4460-a7b2-7feccb2dc0bb",
   "metadata": {},
   "source": [
    "- 78848"
   ]
  },
  {
   "cell_type": "code",
   "execution_count": null,
   "id": "4c8a8b39-73b0-4c5b-b4b1-1da5212abd75",
   "metadata": {},
   "outputs": [],
   "source": [
    "# value counts of titles\n",
    "train.title.value_counts().sort_index()"
   ]
  },
  {
   "cell_type": "code",
   "execution_count": null,
   "id": "68ef0383-83c5-424f-8805-6a762ea8ef95",
   "metadata": {},
   "outputs": [],
   "source": [
    "# Sum of value counts of titles\n",
    "train.title.value_counts().sum()"
   ]
  },
  {
   "cell_type": "markdown",
   "id": "7f69c4cf-c77b-44a3-bbd2-e5a64ee5a2d1",
   "metadata": {},
   "source": [
    "- 78848"
   ]
  },
  {
   "cell_type": "code",
   "execution_count": null,
   "id": "236e7726-a48e-4206-a310-b197def349c1",
   "metadata": {},
   "outputs": [],
   "source": [
    "# Value Counts of not retained titles\n",
    "train[train['retained'] == 0]['title'].value_counts().sort_index()"
   ]
  },
  {
   "cell_type": "code",
   "execution_count": null,
   "id": "c727e6bb-bb8f-4052-a7fa-c5be9c634360",
   "metadata": {},
   "outputs": [],
   "source": [
    "# Sum of value counts of not retained titles\n",
    "train[train['retained'] == 0]['title'].value_counts().sort_index().sum()"
   ]
  },
  {
   "cell_type": "markdown",
   "id": "c46b11e6-9409-453b-ad0e-a563f29cc4ce",
   "metadata": {},
   "source": [
    "- 23571"
   ]
  },
  {
   "cell_type": "code",
   "execution_count": null,
   "id": "24eed2e2-76ea-47a1-a9be-8cc05b71af64",
   "metadata": {},
   "outputs": [],
   "source": [
    "# Value Counts of retained titles\n",
    "train[train['retained'] == 1]['title'].value_counts().sort_index()"
   ]
  },
  {
   "cell_type": "code",
   "execution_count": null,
   "id": "df55c239-4018-45a0-bfb3-afeacd74457d",
   "metadata": {},
   "outputs": [],
   "source": [
    "# Summ of value counts of retained titles\n",
    "train[train['retained'] == 1]['title'].value_counts().sort_index().sum()"
   ]
  },
  {
   "cell_type": "markdown",
   "id": "48b84b0f-5a80-458e-ac35-0894a637685a",
   "metadata": {},
   "source": [
    "- 55277"
   ]
  },
  {
   "cell_type": "code",
   "execution_count": null,
   "id": "623b2c25-2a87-4628-8d21-197daa0b8296",
   "metadata": {},
   "outputs": [],
   "source": [
    "# Value Counts of all titles\n",
    "train[['retained','title']]['title'].value_counts().sort_index()"
   ]
  },
  {
   "cell_type": "code",
   "execution_count": null,
   "id": "0922857a-7f8f-4e02-a30f-e522ca7b683e",
   "metadata": {},
   "outputs": [],
   "source": [
    "# Sum of value counts of all titles\n",
    "train[['retained','title']]['title'].value_counts().sort_index().sum()"
   ]
  },
  {
   "cell_type": "markdown",
   "id": "10bb7e4d-221a-40de-8570-11c5cda5e55b",
   "metadata": {},
   "source": [
    "- 78848"
   ]
  },
  {
   "cell_type": "code",
   "execution_count": null,
   "id": "1646311c-f261-4092-9fe4-5440535039a3",
   "metadata": {},
   "outputs": [],
   "source": [
    "ax = sns.scatterplot(x='index',y='percent_not_retained',data=study_df)\n",
    "ax.set_xticklabels(study_df['index'], rotation=90)\n",
    "plt.show()"
   ]
  },
  {
   "cell_type": "code",
   "execution_count": null,
   "id": "c4a5b4c2-715d-4a2b-9909-cf08e0f700aa",
   "metadata": {},
   "outputs": [],
   "source": [
    "# Assign figure size\n",
    "plt.figure(figsize=(12,7))\n",
    "# Use Squarify to create a tree map of segment counts\n",
    "squarify.plot(sizes=cip_df['count'], \n",
    "              label=cip_df['index'],\n",
    "              value=cip_df['percent'],\n",
    "              color = ['tab:blue','tab:orange','tab:green','tab:red','tab:purple','tab:brown','tab:olive','tab:cyan'],\n",
    "              text_kwargs={'fontsize': 17})\n",
    "# Assign titles\n",
    "plt.title('CIP by Count', fontsize=27)\n",
    "plt.axis('off')\n",
    "plt.show()"
   ]
  },
  {
   "cell_type": "code",
   "execution_count": null,
   "id": "5afb9ca0-9c73-48b8-ae86-93681f12d4bd",
   "metadata": {},
   "outputs": [],
   "source": [
    "# Assign figure size\n",
    "plt.figure(figsize=(12,7))\n",
    "# Use Squarify to create a tree map of segment counts\n",
    "squarify.plot(sizes=df['count'], \n",
    "              label=df['index'],\n",
    "              value=df['percent_not_retained'],\n",
    "              color = ['tab:blue','tab:orange','tab:green','tab:red','tab:purple','tab:brown','tab:olive','tab:cyan'],\n",
    "              text_kwargs={'fontsize': 17})\n",
    "# Assign titles\n",
    "plt.title('CIP by Count', fontsize=27)\n",
    "plt.axis('off')\n",
    "plt.show()"
   ]
  },
  {
   "cell_type": "code",
   "execution_count": null,
   "id": "2831dc46-5045-4925-b413-689807eb07a1",
   "metadata": {},
   "outputs": [],
   "source": [
    "# Count of instances of study catagory\n",
    "count = list(train.cip.value_counts().sort_index().values)\n",
    "# Percent of each area of study to the whole\n",
    "percent = [round(num, 4) for num in list(train.cip.value_counts(normalize=True).sort_index().values)]\n",
    "# Percent of retained in each area of study\n",
    "percent_retained = list(train[['retained','cip']].groupby('cip').mean().round(4).retained.values)\n",
    "# Percent not retained in each area of study\n",
    "percent_not_retained = [round(num , 4) for num in list(1 - train[['retained','cip']].groupby('cip').mean().sort_index().retained.values)]\n",
    "# Mean retention rate of all instances\n",
    "overall_mean_retention = train.retained.mean()\n",
    "# Variable names for df assignment\n",
    "cip_columns = list(train.cip.sort_values().unique())\n",
    "# Create Df\n",
    "cip_study_df = pd.DataFrame([count, percent, percent_retained, percent_not_retained] , index = ['count','percent','percent_retained','percent_not_retained'] ,columns = cip_columns).T.reset_index()\n",
    "# Show areas of study with less retention than the average and sort by not retained\n",
    "cip_df = study_df[study_df['percent_retained'] < overall_mean_retention].sort_values(by='percent_not_retained',ascending=False)\n",
    "# study_df"
   ]
  },
  {
   "cell_type": "code",
   "execution_count": null,
   "id": "93631d20-ed19-437b-a672-210dcbb7bec9",
   "metadata": {},
   "outputs": [],
   "source": [
    "# Percent not retained\n",
    "train[train['retained'] == 0]['title'].value_counts().sort_index() / train[['retained','title']]['title'].value_counts().sort_index()"
   ]
  },
  {
   "cell_type": "code",
   "execution_count": null,
   "id": "8f230a81-c6fd-4a00-b261-9120ca03f7c7",
   "metadata": {},
   "outputs": [],
   "source": [
    "# Percent retained\n",
    "train[train['retained'] == 1]['title'].value_counts().sort_index() / train[['retained','title']]['title'].value_counts().sort_index()"
   ]
  },
  {
   "cell_type": "markdown",
   "id": "26528f5c-8832-44ec-b4a7-7938481a3650",
   "metadata": {},
   "source": [
    "## Question 2: Does a students age combined with area of study affect retention?"
   ]
  },
  {
   "cell_type": "code",
   "execution_count": null,
   "id": "9716be6c-07e7-41cf-96b4-16f7fb9f8ea4",
   "metadata": {},
   "outputs": [],
   "source": [
    "ax = sns.catplot(x='age_at_start_term',col='cip',col_wrap=9,data=train,kind='count',hue='retained',height=5, aspect=.8)\n",
    "ax.set_xticklabels(rotation=90)\n",
    "plt.show()"
   ]
  },
  {
   "cell_type": "code",
   "execution_count": null,
   "id": "496ab634-9a02-468e-86a2-8dbd81b03121",
   "metadata": {},
   "outputs": [],
   "source": [
    "train[['cip','age_at_start_term','retained']].value_counts(normalize=True).sort_index()"
   ]
  },
  {
   "cell_type": "code",
   "execution_count": null,
   "id": "f1c3db81-5e7d-4ef9-a625-c65b87f000d6",
   "metadata": {},
   "outputs": [],
   "source": [
    "cip = wrangle.get_cip_codes()\n",
    "cip.sort_values(by='cip',ascending=False)"
   ]
  },
  {
   "cell_type": "code",
   "execution_count": null,
   "id": "85f81dfd-dc3e-41bc-bc2e-c682efcfc1c5",
   "metadata": {},
   "outputs": [],
   "source": [
    "age_cip_percent = train[['cip','age_at_start_term','retained']].groupby(['cip','age_at_start_term']).mean()\n",
    "age_cip_percent = age_cip_percent.reset_index()\n",
    "age_cip_percent = age_cip_percent[age_cip_percent['retained'] != 0]\n",
    "age_cip_percent.sort_values(by='retained',ascending=False)"
   ]
  },
  {
   "cell_type": "code",
   "execution_count": null,
   "id": "5351b33a-1155-4538-870c-54c1437aaaca",
   "metadata": {},
   "outputs": [],
   "source": [
    "train[['cip','age_at_start_term','retained']].value_counts()"
   ]
  },
  {
   "cell_type": "code",
   "execution_count": null,
   "id": "7e8bbdd0-e8a4-4b52-b775-71685fd7ca85",
   "metadata": {},
   "outputs": [],
   "source": [
    "sns.set_style(\"darkgrid\")\n",
    "sns.relplot( x='cip', y='retained', data=age_cip_percent, col='age_at_start_term', col_wrap=2, kind='line',height=10)\n",
    "plt.show()"
   ]
  },
  {
   "cell_type": "markdown",
   "id": "bb5aa0e5-719a-42ea-90a5-9338b69cf891",
   "metadata": {},
   "source": [
    "### Question 2 Summary: There doesn't seem to be anthing of note here. Most students are 19-22 and are in cip 52 and 24. Further exploration into this main group should be done to see if there are notable aspects that drive retention in this bigger group."
   ]
  },
  {
   "cell_type": "markdown",
   "id": "4392f344-71e4-49e1-b0bd-edb693d48ea7",
   "metadata": {},
   "source": [
    "#### Attempts were made Q2"
   ]
  },
  {
   "cell_type": "code",
   "execution_count": null,
   "id": "af4ee29d-edeb-467d-b67d-e1c08c1dcd22",
   "metadata": {},
   "outputs": [],
   "source": [
    "# from matplotlib.cm import get_cmap\n",
    "# from matplotlib.patches import Patch\n",
    "\n",
    "# df = train[['title','age_at_start_term','retained']]\n",
    "\n",
    "# # This is now what I'd like to plot\n",
    "# grouped = df.groupby(by=['title','age_at_start_term','retained']).count().unstack()\n",
    "\n",
    "# # List of retained, to use later as categories in subplots\n",
    "# kinds = grouped.columns.levels[1]\n",
    "\n",
    "# # colors for bar graph\n",
    "# colors = [get_cmap('viridis')(v) for v in np.linspace(0,1,len(kinds))]\n",
    "\n",
    "# sns.set(context=\"talk\")\n",
    "# nxplots = len(grouped.index.levels[0])\n",
    "# nyplots = len(grouped.index.levels[1])\n",
    "# fig, axes = plt.subplots(nxplots,\n",
    "#                          nyplots,\n",
    "#                          sharey=True,\n",
    "#                          sharex=True,\n",
    "#                          figsize=(10,12))\n",
    "\n",
    "# fig.suptitle('Title, Age, and Retention')\n",
    "\n",
    "# # plot the data\n",
    "# for a, b in enumerate(grouped.index.levels[0]):\n",
    "#     for i, j in enumerate(grouped.index.levels[1]):\n",
    "#         axes[a,i].bar(kinds,grouped.loc[b,j],color=colors)\n",
    "#         axes[a,i].xaxis.set_ticks([])\n",
    "\n",
    "# axeslabels = fig.add_subplot(111, frameon=False)\n",
    "# plt.tick_params(labelcolor='none', top=False, bottom=False, left=False, right=False)\n",
    "# plt.grid(False)\n",
    "# axeslabels.set_ylabel('Title',rotation='horizontal',y=1,weight=\"bold\")\n",
    "# axeslabels.set_xlabel('Age',weight=\"bold\")\n",
    "\n",
    "# # x- and y-axis labels\n",
    "# for i, j in enumerate(grouped.index.levels[1]):\n",
    "#     axes[nyplots,i].set_xlabel(j)\n",
    "# for i, j in enumerate(grouped.index.levels[0]):\n",
    "#     axes[i,0].set_ylabel(j)\n",
    "\n",
    "# # Tune this manually to make room for the legend\n",
    "# fig.subplots_adjust(right=0.82)\n",
    "\n",
    "# fig.legend([Patch(facecolor = i) for i in colors],\n",
    "#            kinds,\n",
    "#            title=\"Retention\",\n",
    "#            loc=\"center right\")\n"
   ]
  },
  {
   "cell_type": "code",
   "execution_count": null,
   "id": "c776415c-62fd-499a-b166-435308218e2d",
   "metadata": {},
   "outputs": [],
   "source": [
    "g = sns.FacetGrid(train, col='age_at_start_term',row='cip',height=10)\n",
    "g.map(sns.histplot, 'retained')"
   ]
  },
  {
   "cell_type": "markdown",
   "id": "97418ed0-08c0-427f-b5d2-fc9f62774526",
   "metadata": {},
   "source": [
    "## Question 3: How did the number of years since the student start affect retention?"
   ]
  },
  {
   "cell_type": "code",
   "execution_count": null,
   "id": "cc834b01-cca2-4712-a281-0054afe2af34",
   "metadata": {},
   "outputs": [],
   "source": [
    "# Value of year since start instances with retention counts\n",
    "train[['yrs_since_start','retained']].value_counts().sort_index()"
   ]
  },
  {
   "cell_type": "code",
   "execution_count": null,
   "id": "023455d4-416d-49e8-9d12-71a5634dcc3c",
   "metadata": {},
   "outputs": [],
   "source": [
    "# Percent of not retained per year instance\n",
    "yrs_percent = train[['yrs_since_start','retained']].groupby('yrs_since_start').mean()\n",
    "yrs_percent"
   ]
  },
  {
   "cell_type": "code",
   "execution_count": null,
   "id": "51726688-73f9-4dad-90af-51330c84a19b",
   "metadata": {},
   "outputs": [],
   "source": [
    "sns.barplot(x=yrs_percent.index,y='retained',data=yrs_percent)"
   ]
  },
  {
   "cell_type": "markdown",
   "id": "5704149e-c05d-4df4-ba07-c4e8eebc5a16",
   "metadata": {},
   "source": [
    "#### Chi Sqaured Hypothesis Test\n",
    "\n",
    "- $H_o$: yrs_since_start is independent of whether or not someone is retained.\n",
    "- $H_α$: yrs_since_start is not imdependent of whether or not someone is retained."
   ]
  },
  {
   "cell_type": "code",
   "execution_count": null,
   "id": "548f149f-99a3-45ea-b7e9-31fec8195847",
   "metadata": {},
   "outputs": [],
   "source": [
    "contingency_table = pd.crosstab(train.yrs_since_start, train.retained)\n",
    "\n",
    "chi2, p, degf, expected = stats.chi2_contingency(contingency_table)\n",
    "\n",
    "print('Observed\\n')\n",
    "print(contingency_table.values)\n",
    "print('---\\nExpected\\n')\n",
    "print(expected)\n",
    "print('---\\n')\n",
    "print(f'chi^2 = {chi2:.4f}')\n",
    "print(f'p     = {p:.4f}')\n",
    "print(f'degree of freedom = {degf}')"
   ]
  },
  {
   "cell_type": "markdown",
   "id": "f0a04a9c-9143-43ac-90c3-bb2933a91496",
   "metadata": {},
   "source": [
    "- We reject null hypothesis"
   ]
  },
  {
   "cell_type": "markdown",
   "id": "00773b9d-20e8-4135-8b24-61231c009e9f",
   "metadata": {},
   "source": [
    "### Question 3 Summary: Running a chi^2 hypothesis test we see that yrs_since_start is not independent from retention. In the graph above we see that retention is lowest at yr 0 and it rises till yr 3 which seems to be our highest retention. Retention then starts to fall as the years continue past 3. "
   ]
  },
  {
   "cell_type": "markdown",
   "id": "275c3020-8651-4298-b57c-c05e82c0d707",
   "metadata": {},
   "source": [
    "## Question 4: Does the students class status (Freshman, Sophmore,etc..) vs the years since a student started affect retention?"
   ]
  },
  {
   "cell_type": "code",
   "execution_count": null,
   "id": "603e6add-0c55-4ef4-b2d6-56203df25d31",
   "metadata": {},
   "outputs": [],
   "source": [
    "train[['student_year','yrs_since_start','retained']].value_counts(normalize=True)"
   ]
  },
  {
   "cell_type": "code",
   "execution_count": null,
   "id": "9ef307f5-55f0-463a-b7cf-fa1bab309b68",
   "metadata": {},
   "outputs": [],
   "source": [
    "class_and_yr = train[['student_year','yrs_since_start','retained']].groupby(['student_year','yrs_since_start']).mean().reset_index()\n",
    "\n",
    "\n",
    "class_and_yr['student_year'] = class_and_yr.student_year.str.replace('FR','1 - Freshman').str.replace('SO','2 - Sophomore').str.replace('JU','3 - Junior').str.replace('SE','4 - Senior')\n",
    "\n",
    "\n",
    "class_and_yr = class_and_yr.sort_values(by='student_year')"
   ]
  },
  {
   "cell_type": "code",
   "execution_count": null,
   "id": "fc0ab073-8a24-4f24-a556-e17338a53468",
   "metadata": {},
   "outputs": [],
   "source": []
  },
  {
   "cell_type": "code",
   "execution_count": null,
   "id": "c7ef6607-60c0-4c35-a73d-0543f6eab333",
   "metadata": {},
   "outputs": [],
   "source": [
    "ax = sns.catplot(x=\"yrs_since_start\", y=\"retained\", col=\"student_year\",\n",
    "                data=class_and_yr, height = 8,\n",
    "                kind=\"bar\", aspect=.6)\n",
    "\n",
    "(ax.set_axis_labels(\"\", \"Retention Rate\")\n",
    "  .set_xticklabels([\"0\", \"1\", \"2\", \"3\", \"4\", \"5\", \"6+\"])\n",
    "  .set_titles(\"{col_name} {col_var}\")\n",
    "  .set(ylim=(0, 1))\n",
    "  .despine(left=True))  "
   ]
  },
  {
   "cell_type": "markdown",
   "id": "3b3cf4c2-dedf-41bb-8242-30267bf46473",
   "metadata": {},
   "source": [
    "### Question 4 Summary: Freshman by far have the lowest retention across the yrs. Juniors and Seniors have the highest. Further exploration could be done with enrollment type to see how first time students compare to transfer students. As well populations can be seperated by full time and part time status. "
   ]
  },
  {
   "cell_type": "markdown",
   "id": "81d23eb9-d84b-45a8-b77b-fb1d0afb78e6",
   "metadata": {},
   "source": [
    "## Question 5: Does a students full time or part time status affect retention?"
   ]
  },
  {
   "cell_type": "code",
   "execution_count": null,
   "id": "74f88eb8-583c-4818-ab72-f8ca7c050b19",
   "metadata": {},
   "outputs": [],
   "source": [
    "train[['time_status','retained']].value_counts(normalize=True)"
   ]
  },
  {
   "cell_type": "code",
   "execution_count": null,
   "id": "e986f2c9-6e3a-4f34-bbc7-7bea4e7360d1",
   "metadata": {},
   "outputs": [],
   "source": [
    "sns.countplot(x = 'time_status',data=train,hue='retained')"
   ]
  },
  {
   "cell_type": "markdown",
   "id": "ea5d0f29-8e45-4c3c-a0ab-a57b80f426dd",
   "metadata": {},
   "source": [
    "#### Chi Sqaured Hypothesis Test\n",
    "\n",
    "- $H_o$: time_status is independent of whether or not someone is retained.\n",
    "- $H_α$: time_status is not imdependent of whether or not someone is retained."
   ]
  },
  {
   "cell_type": "code",
   "execution_count": null,
   "id": "b4299acf-ad25-4c1e-938d-89c2819489d4",
   "metadata": {},
   "outputs": [],
   "source": [
    "contingency_table = pd.crosstab(train.time_status, train.retained)\n",
    "\n",
    "chi2, p, degf, expected = stats.chi2_contingency(contingency_table)\n",
    "\n",
    "print('Observed\\n')\n",
    "print(contingency_table.values)\n",
    "print('---\\nExpected\\n')\n",
    "print(expected)\n",
    "print('---\\n')\n",
    "print(f'chi^2 = {chi2:.4f}')\n",
    "print(f'p     = {p:.4f}')\n",
    "print(f'degree of freedom = {degf}')"
   ]
  },
  {
   "cell_type": "markdown",
   "id": "a12b5eb6-61f6-4b82-9862-ed4683f1c576",
   "metadata": {},
   "source": [
    "- We reject the null."
   ]
  },
  {
   "cell_type": "markdown",
   "id": "c1bea201-040f-4a59-9ee4-28f4217f0c7c",
   "metadata": {},
   "source": [
    "### Question 5 Summary: It does look as though full time students are more likely to be retained. The chi^2 test does show that there is a statistically significant relationship between time_status and retention."
   ]
  },
  {
   "cell_type": "markdown",
   "id": "df8366a2-b904-4fee-94af-cde783f02156",
   "metadata": {},
   "source": [
    "## Question 6: Does the students full time / part time status combined with the students dependent status affect retention?"
   ]
  },
  {
   "cell_type": "code",
   "execution_count": null,
   "id": "f8f6172e-a3ee-4703-a269-555320ecc4a3",
   "metadata": {},
   "outputs": [],
   "source": [
    "train.depend_status.value_counts(),\\\n",
    "train.depend_status.value_counts(normalize=True),\\\n",
    "train.time_status.value_counts(),\\\n",
    "train.time_status.value_counts(normalize=True),\\\n",
    "train[['time_status','depend_status']].value_counts(),\\\n",
    "train[['time_status','depend_status']].value_counts(normalize=True),\\\n",
    "train[['time_status','depend_status','retained']].value_counts(),\\\n",
    "train[['time_status','depend_status','retained']].value_counts(normalize=True)"
   ]
  },
  {
   "cell_type": "code",
   "execution_count": null,
   "id": "68dc074f-c885-40cd-a4a4-2877cb88f65c",
   "metadata": {},
   "outputs": [],
   "source": [
    "ax = sns.catplot(x=\"time_status\",\n",
    "                 y=\"retained\", \n",
    "                 col=\"depend_status\",\n",
    "                 data=train, \n",
    "                 height = 8,\n",
    "                 kind=\"bar\")\n",
    "\n",
    "(ax.set_axis_labels(\"\", \"Retention Rate\")\n",
    "  .set_xticklabels([\"Part time\", \"Full time\"])\n",
    "  .set_titles(\"{col_name} {col_var}\")\n",
    "  .set(ylim=(0, 1))\n",
    "  .despine(left=True))  \n",
    "plt.xlabel('time_status')\n",
    "plt.show()"
   ]
  },
  {
   "cell_type": "code",
   "execution_count": null,
   "id": "96a1ad00-f656-4165-8846-7d2b49b272f9",
   "metadata": {},
   "outputs": [],
   "source": [
    "ax = sns.catplot(x='time_status',\n",
    "                 hue='retained',\n",
    "                 col='depend_status',\n",
    "                 data=train,\n",
    "                 kind='count',\n",
    "                 height = 8)\n",
    "\n",
    "(ax.set_axis_labels(\"\", \"Retention Count\")\n",
    "  .set_xticklabels([\"Part time\", \"Full time\"])\n",
    "  .set_titles(\"{col_name} {col_var}\")\n",
    "  .despine(left=True))  \n",
    "plt.show()"
   ]
  },
  {
   "cell_type": "markdown",
   "id": "b3ca6f21-4ea0-495f-9c7b-9941a2705915",
   "metadata": {},
   "source": [
    "### Question 6 Summary: There does not look to be a significant difference in retention for full time students between each dependent status. Independent students had a 5 percent higher retention rate to part time dependent status."
   ]
  },
  {
   "cell_type": "markdown",
   "id": "c0bf6211-4bad-48bd-9af7-bf7426cfd782",
   "metadata": {},
   "source": [
    "## Question 7: Does the students w_count affect retention?"
   ]
  },
  {
   "cell_type": "code",
   "execution_count": null,
   "id": "8b13a7db-96a3-4825-b358-d7ae5b026605",
   "metadata": {},
   "outputs": [],
   "source": [
    "train.retained.mean(),\\\n",
    "train[train['w_count'] == 1].retained.mean(),\\\n",
    "train[train['w_count'] == 0].retained.mean(),\\\n",
    "train.w_count.value_counts(),\\\n",
    "train.w_count.value_counts(normalize=True),\\\n",
    "train[['w_count','retained']].value_counts(),\\\n",
    "train[['w_count','retained']].value_counts(normalize=True)"
   ]
  },
  {
   "cell_type": "code",
   "execution_count": null,
   "id": "aa58b5ce-61dc-45e2-a1cf-49fb1ecdc3e0",
   "metadata": {},
   "outputs": [],
   "source": [
    "ax = sns.catplot(x='w_count',\n",
    "              hue='retained',\n",
    "              data=train,\n",
    "              kind='count',\n",
    "              height=8)\n",
    "\n",
    "(ax.set_xticklabels([\"No Withdraws\", \"Withdraws\"]))  \n",
    "\n",
    "plt.show()"
   ]
  },
  {
   "cell_type": "code",
   "execution_count": null,
   "id": "22015e6a-3e7a-4efa-b897-e5ea9b1bf249",
   "metadata": {},
   "outputs": [],
   "source": [
    "ax = sns.catplot(x=\"w_count\",\n",
    "                 y=\"retained\", \n",
    "                 data=train, \n",
    "                 height = 8,\n",
    "                 kind=\"bar\")\n",
    "\n",
    "(ax.set_xticklabels([\"No Withdraws\", \"Withdraws\"]))  \n",
    "\n",
    "plt.show()"
   ]
  },
  {
   "cell_type": "markdown",
   "id": "42cf0389-bff5-4af5-8e1d-4316b3f66524",
   "metadata": {},
   "source": [
    "#### Chi Sqaured Hypothesis Test\n",
    "\n",
    "- $H_o$: w_count is independent of whether or not someone is retained.\n",
    "- $H_α$: w_count is not imdependent of whether or not someone is retained."
   ]
  },
  {
   "cell_type": "code",
   "execution_count": null,
   "id": "dc0bb184-0962-46c0-876b-bc9d7d7d9154",
   "metadata": {},
   "outputs": [],
   "source": [
    "contingency_table = pd.crosstab(train.time_status, train.retained)\n",
    "\n",
    "chi2, p, degf, expected = stats.chi2_contingency(contingency_table)\n",
    "\n",
    "print('Observed\\n')\n",
    "print(contingency_table.values)\n",
    "print('---\\nExpected\\n')\n",
    "print(expected)\n",
    "print('---\\n')\n",
    "print(f'chi^2 = {chi2:.4f}')\n",
    "print(f'p     = {p:.4f}')\n",
    "print(f'degree of freedom = {degf}')"
   ]
  },
  {
   "cell_type": "markdown",
   "id": "c3e84f04-7b64-4261-8dcb-bbd7169317e4",
   "metadata": {},
   "source": [
    "- We reject the null hypothesis."
   ]
  },
  {
   "cell_type": "markdown",
   "id": "cf1c06f3-93a8-48b2-9b60-d34c14ba61d2",
   "metadata": {},
   "source": [
    "### Question 7 Summary: 70 percent of students did not have a w_count in the base semester of the retention calculation, out of those students the retention rate was higher than the average. The 30 percent of students with at least one withdraw had a much lower retention rate of 55 percent."
   ]
  },
  {
   "cell_type": "markdown",
   "id": "be81fda3-8fe8-484f-a9bf-18b725ea9156",
   "metadata": {},
   "source": [
    "## Question 8: Does the students financial aid status and pell_grant status affect retention?"
   ]
  },
  {
   "cell_type": "code",
   "execution_count": null,
   "id": "14ed55e8-2820-4267-9ffa-613b07d4da44",
   "metadata": {},
   "outputs": [],
   "source": [
    "train[['pell_ever']].value_counts(),\\\n",
    "train[['pell_ever']].value_counts(normalize=True),\\\n",
    "train[['fa_recd']].value_counts(),\\\n",
    "train[['fa_recd']].value_counts(normalize=True),\\\n",
    "train[['pell_ever','fa_recd']].value_counts(),\\\n",
    "train[['pell_ever','fa_recd']].value_counts(normalize=True),\\\n",
    "train[['pell_ever','fa_recd','retained']].value_counts(),\\\n",
    "train[['pell_ever','fa_recd','retained']].value_counts(normalize=True)"
   ]
  },
  {
   "cell_type": "code",
   "execution_count": null,
   "id": "f5163e60-acf3-4fc3-8677-a379f8b459dd",
   "metadata": {},
   "outputs": [],
   "source": [
    "ax = sns.catplot(x=\"fa_recd\",\n",
    "                 y=\"retained\", \n",
    "                 col=\"pell_ever\",\n",
    "                 data=train, \n",
    "                 height = 8,\n",
    "                 kind=\"bar\")\n",
    "\n",
    "(ax.set_axis_labels(\"\", \"Retention Rate\")\n",
    "  .set_xticklabels([\"No Financial Aid\", \"Financial Aid\"])\n",
    "  .set_titles(\"{col_name} {col_var}\")\n",
    "  .set(ylim=(0, 1))\n",
    "  .despine(left=True))  \n",
    "plt.xlabel('time_status')\n",
    "plt.show()"
   ]
  },
  {
   "cell_type": "code",
   "execution_count": null,
   "id": "607f55b1-78fb-4127-b5b8-70e3a895274e",
   "metadata": {},
   "outputs": [],
   "source": [
    "ax = sns.catplot(x='fa_recd',\n",
    "                 hue='retained',\n",
    "                 col='pell_ever',\n",
    "                 data=train,\n",
    "                 kind='count',\n",
    "                 height = 8)\n",
    "\n",
    "(ax.set_axis_labels(\"\", \"Retention Count\")\n",
    "  .set_xticklabels([\"No Financial Aid\", \"Financial Aid\"])\n",
    "  .set_titles(\"{col_name} {col_var}\")\n",
    "  .despine(left=True))  \n",
    "plt.show()"
   ]
  },
  {
   "cell_type": "markdown",
   "id": "ed4c664c-6285-4397-ad2e-07a416bd2101",
   "metadata": {},
   "source": [
    "### Question 8 Summary: Students who recieved financial aid were more likely to be retained whether they had ever been pell eligible before or not. Out of those that had not received financial aid the retention rate was almost the same but those that had never been pell eligible had a slightly higher retention rate."
   ]
  },
  {
   "cell_type": "markdown",
   "id": "7d8f67e8-cf05-43fb-a31a-33e4b2714c20",
   "metadata": {},
   "source": [
    "## Question 9: How does a students expected family contribution affect retention?"
   ]
  },
  {
   "cell_type": "code",
   "execution_count": null,
   "id": "90f6dc49-0fbf-4c5d-b33c-d988dc0ea3d7",
   "metadata": {},
   "outputs": [],
   "source": [
    "train[['efc','retained']].groupby('retained').mean()"
   ]
  },
  {
   "cell_type": "code",
   "execution_count": null,
   "id": "1bc8e0e8-4dd4-42f6-8a98-34c824f67bb9",
   "metadata": {},
   "outputs": [],
   "source": [
    "efc_nonzero = train[train['efc'] != 0][['efc','retained']]\n",
    "efc_nonzero['efc_bin'] = pd.qcut(train.efc, 4, labels =['lowest','low','high','highest'])\n",
    "efc_nonzero.groupby('efc_bin').mean()"
   ]
  },
  {
   "cell_type": "code",
   "execution_count": null,
   "id": "337ccf29-81a1-48d6-b8b9-6550a3c51687",
   "metadata": {},
   "outputs": [],
   "source": [
    "# boxplot efc by retention\n",
    "sns.relplot(x='retained',y='efc',kind='line',data= efc_nonzero)\n",
    "plt.show()"
   ]
  },
  {
   "cell_type": "code",
   "execution_count": null,
   "id": "222313b7-6983-4d60-96f1-572777251f51",
   "metadata": {},
   "outputs": [],
   "source": [
    "efc_zero = train[train['efc'] == 0][['efc','retained']]\n",
    "efc_zero.retained.mean()"
   ]
  },
  {
   "cell_type": "code",
   "execution_count": null,
   "id": "b9b11102-10c8-4e59-b85c-d8782e44122f",
   "metadata": {},
   "outputs": [],
   "source": [
    "# boxplot efc by retention\n",
    "sns.countplot(x='retained',data= efc_zero)"
   ]
  },
  {
   "cell_type": "markdown",
   "id": "28ce6052-b4eb-4153-a29a-c212fc1592cc",
   "metadata": {},
   "source": [
    "### Question 9 Summary: Almost 25 percent of students had no expected family contribution recorded. Out of those that did the bottom 25 % had a average retention rate that was 3.5 percent lower than the top 25 %. Those with no efc values had a 6.6 percent lower efc than the top 25 percent."
   ]
  },
  {
   "cell_type": "markdown",
   "id": "079be3c3-5dde-4708-a936-e00febb147cf",
   "metadata": {},
   "source": [
    "##### Attemps were made: Q8"
   ]
  },
  {
   "cell_type": "code",
   "execution_count": null,
   "id": "cc5a3f36-ba74-4a0f-b6ca-23e2299686a0",
   "metadata": {},
   "outputs": [],
   "source": [
    "len(train),\\\n",
    "len(train[train.efc != 0]),\\\n",
    "len(train[train.efc != 0]) / len(train),\\\n",
    "len(train[train.efc == 0]),\\\n",
    "len(train[train.efc == 0]) / len(train),\\\n",
    "len(train[train.efc > 100_000]),\\\n",
    "len(train[train.efc > 100_000]) / len(train),\\\n",
    "len(train[train.efc > 50_000]),\\\n",
    "len(train[train.efc > 50_000]) / len(train),\\\n",
    "len(train[train.efc > 5_000]),\\\n",
    "len(train[train.efc > 5_000]) / len(train)"
   ]
  },
  {
   "cell_type": "code",
   "execution_count": null,
   "id": "4919ee90-436d-4cbd-a12c-d19cf339efc4",
   "metadata": {},
   "outputs": [],
   "source": [
    "efc[efc['efc_bin'] == 'lowest'].describe(),\\\n",
    "efc[efc['efc_bin'] == 'low'].describe(),\\\n",
    "efc[efc['efc_bin'] == 'high'].describe(),\\\n",
    "efc[efc['efc_bin'] == 'highest'].describe(),\\\n",
    "len(efc[efc['efc']==999999]),\\\n",
    "efc['efc'].value_counts().index.max()"
   ]
  },
  {
   "cell_type": "markdown",
   "id": "68a04548-5dcc-4526-b74a-79e9b0514dd7",
   "metadata": {},
   "source": [
    "## Question 10: Does a students term gpa or hs gpa affect retention?"
   ]
  },
  {
   "cell_type": "code",
   "execution_count": null,
   "id": "c4e3396f-e638-4258-8792-07a6be34ebf7",
   "metadata": {},
   "outputs": [],
   "source": [
    "train[['retained','hs_gpa','term_gpa']].groupby('retained').mean()"
   ]
  },
  {
   "cell_type": "code",
   "execution_count": null,
   "id": "adc039b9-841f-4f81-b8a3-a898ad152c89",
   "metadata": {},
   "outputs": [],
   "source": [
    "sns.catplot(x='retained',y='hs_gpa',data = train, kind ='box')"
   ]
  },
  {
   "cell_type": "code",
   "execution_count": null,
   "id": "5ff2baef-247f-444d-8619-002fabee1ba2",
   "metadata": {},
   "outputs": [],
   "source": [
    "sns.catplot(x='retained',y='term_gpa',data = train, kind ='box')"
   ]
  },
  {
   "cell_type": "markdown",
   "id": "6dab58bf-76a7-40ab-9355-069ddc7589c3",
   "metadata": {},
   "source": [
    "Independent T-Test(1-tail,2-sample) Hypothesis test\n",
    "\n",
    "- $H_o$: Those who are not retained have the same term_gpa as those who are retained.\n",
    "- $H_α$: Those who are not retained have a lower term_gpa than those who are retained"
   ]
  },
  {
   "cell_type": "code",
   "execution_count": null,
   "id": "050b0ce4-624b-452d-a9fb-1a64c9b940e8",
   "metadata": {},
   "outputs": [],
   "source": [
    "retained = train[train.retained == 1].term_gpa\n",
    "retained.hist()"
   ]
  },
  {
   "cell_type": "code",
   "execution_count": null,
   "id": "c248ed34-f77e-4a9d-9730-23926c22101f",
   "metadata": {},
   "outputs": [],
   "source": [
    "retained.mean(),\\\n",
    "len(retained),\\\n",
    "(retained == 0).mean()"
   ]
  },
  {
   "cell_type": "code",
   "execution_count": null,
   "id": "3d5018f0-0566-4cd0-ab56-7cf87ea5e0d9",
   "metadata": {},
   "outputs": [],
   "source": [
    "not_retained = train[train.retained == 0].term_gpa\n",
    "not_retained.hist()"
   ]
  },
  {
   "cell_type": "code",
   "execution_count": null,
   "id": "2e722104-8980-4c38-8908-ed3174a50cc4",
   "metadata": {},
   "outputs": [],
   "source": [
    "not_retained.mean(),\\\n",
    "len(not_retained),\\\n",
    "(not_retained == 0).mean()"
   ]
  },
  {
   "cell_type": "code",
   "execution_count": null,
   "id": "d6a57a21-bf6c-4ccd-acba-9ca3fec7c294",
   "metadata": {},
   "outputs": [],
   "source": [
    "retained.var(),\\\n",
    "not_retained.var()"
   ]
  },
  {
   "cell_type": "code",
   "execution_count": null,
   "id": "c6596f63-4982-410f-97f9-1bf36a0ce048",
   "metadata": {},
   "outputs": [],
   "source": [
    "α = 0.05"
   ]
  },
  {
   "cell_type": "code",
   "execution_count": null,
   "id": "603884de-b247-4171-adf1-f667ddf17713",
   "metadata": {},
   "outputs": [],
   "source": [
    "t, p = stats.ttest_ind(not_retained, retained, equal_var=False)\n",
    "t, p"
   ]
  },
  {
   "cell_type": "code",
   "execution_count": null,
   "id": "7d4831a1-d094-4595-a80b-8bfdbbb3bef1",
   "metadata": {},
   "outputs": [],
   "source": [
    "if p/2 > α:\n",
    "    print('We fail to reject the null')\n",
    "elif t < 0:\n",
    "    print('We fail to reject the null')\n",
    "else:\n",
    "    print('We reject the null')"
   ]
  },
  {
   "cell_type": "markdown",
   "id": "1cde9fc6-83cd-4efa-b89c-9fe1c565f17f",
   "metadata": {},
   "source": [
    "- According to the T-test we do not reject the null which goes against what I would think. This should be revisted and checked for validity. Sample are not really normal. The retained sample has 2 % zero values while the not retained has almost 25 % zero values. Variance is not equal so it was run as a welch's t-test. "
   ]
  },
  {
   "cell_type": "code",
   "execution_count": null,
   "id": "72493879-f429-4f83-a28d-f109562895fb",
   "metadata": {},
   "outputs": [],
   "source": [
    "len(train[train.term_gpa == 0]) / len(train),\\\n",
    "train[train.term_gpa == 0].retained.mean(),\\\n",
    "train[train.term_gpa == 0].term_gpa.mean(),\\\n",
    "len(train[train.term_gpa < 0.5]) / len(train),\\\n",
    "train[train.term_gpa < 0.5].retained.mean(),\\\n",
    "train[train.term_gpa < 0.5].term_gpa.mean(),\\\n",
    "len(train[(train.retained == 0) & (train.term_gpa != 0)]) / len(train),\\\n",
    "train[(train.retained == 0) & (train.term_gpa != 0)].retained.mean(),\\\n",
    "train[(train.retained == 0) & (train.term_gpa != 0)].term_gpa.mean(),\\\n",
    "train.term_gpa.mean(),\\\n",
    "train.hs_gpa.mean()"
   ]
  },
  {
   "cell_type": "markdown",
   "id": "ac0cc87b-b06b-44cf-af73-6a034ce797ee",
   "metadata": {},
   "source": [
    "### Question 10 Summary: Term gpa seems to be a better predictor than hs_gpa. Bottom 75 % of students in the not retained category had a term_gpa less than the bottom 50 % of those retained. Also note for later analysis hs_gpa does not change with a student over time but term_gpa does. Hs_gpa variables could be skewed because of repeats for each semester a student takes, while term_gpa changes semester to semester. "
   ]
  },
  {
   "cell_type": "markdown",
   "id": "26936eab-59f4-40bc-846d-8816b054352c",
   "metadata": {},
   "source": [
    "## Question 11: Does enrollment type and yrs_since_start affect retention?"
   ]
  },
  {
   "cell_type": "code",
   "execution_count": null,
   "id": "5240aa32-dee4-4407-b2e4-50b75f18bfb9",
   "metadata": {},
   "outputs": [],
   "source": [
    "train[['enroll_type','retained']].value_counts(), train[['enroll_type','retained']].value_counts(normalize=True)"
   ]
  },
  {
   "cell_type": "code",
   "execution_count": null,
   "id": "5e87ae66-0be6-495c-8228-469e9b695cc0",
   "metadata": {},
   "outputs": [],
   "source": [
    "train.groupby('enroll_type').retained.mean()"
   ]
  },
  {
   "cell_type": "code",
   "execution_count": null,
   "id": "9d859a77-d9c5-4ed8-9ca9-6da1f62fb4a6",
   "metadata": {},
   "outputs": [],
   "source": [
    "train.groupby('yrs_since_start').retained.mean()"
   ]
  },
  {
   "cell_type": "code",
   "execution_count": null,
   "id": "7a358056-5db9-4ead-aafd-6f0e78dedca4",
   "metadata": {},
   "outputs": [],
   "source": [
    "train.groupby(['enroll_type','yrs_since_start']).retained.mean().sort_index()"
   ]
  },
  {
   "cell_type": "code",
   "execution_count": null,
   "id": "17474e13-7330-49e4-b1f5-bd6ef1f59d5a",
   "metadata": {},
   "outputs": [],
   "source": [
    "ax = sns.catplot(x=\"yrs_since_start\",\n",
    "                 y=\"retained\", \n",
    "                 col=\"enroll_type\",\n",
    "                 data=train, \n",
    "                 height = 8,\n",
    "                 kind=\"bar\")\n",
    "\n",
    "(ax.set_axis_labels(\"\", \"Retention Rate\")\n",
    "  .set_xticklabels([\"0\",\"1\",\"2\",\"3\",\"4\",\"5\",\"6+\"])\n",
    "  .set_titles(\"{col_name} {col_var}\")\n",
    "  .set(ylim=(0, 1))\n",
    "  .despine(left=True))  \n",
    "plt.xlabel('enroll_type')\n",
    "plt.show()"
   ]
  },
  {
   "cell_type": "code",
   "execution_count": null,
   "id": "8441a511-5a48-4e1c-bccd-0dde2a6ef54a",
   "metadata": {},
   "outputs": [],
   "source": [
    "ax = sns.catplot(x='yrs_since_start',\n",
    "                 hue='retained',\n",
    "                 col='enroll_type',\n",
    "                 data=train,\n",
    "                 kind='count',\n",
    "                 height = 8)\n",
    "\n",
    "(ax.set_axis_labels(\"\", \"Retention Count\")\n",
    "  .set_xticklabels([\"0\",\"1\",\"2\",\"3\",\"4\",\"5\",\"6+\"])\n",
    "  .set_titles(\"{col_name} {col_var}\")\n",
    "  .despine(left=True))  \n",
    "plt.show()"
   ]
  },
  {
   "cell_type": "markdown",
   "id": "38f6813c-bc43-467a-ab5d-4eaa5ed11211",
   "metadata": {},
   "source": [
    "### Question 11 Summary: It does look as though overall students in their first year have the lowest retention across the board. Concurant students seem to have a peak in retetention around year 4, Transfer students seem to have a peak around year 2 and first term students seem to have a peak around year 3. First term students make up over 3/4 of the population so. it seems the trend in first term students is closer to what is seen over the overall population."
   ]
  },
  {
   "cell_type": "markdown",
   "id": "0d0cc860-c305-4818-a62e-2b8c23b62a77",
   "metadata": {},
   "source": [
    "## Question 12: Does whether a student was enrolled between the retention semester affect retention?"
   ]
  },
  {
   "cell_type": "code",
   "execution_count": null,
   "id": "88c6d592-85a2-4a0f-a295-126d5bc514a5",
   "metadata": {},
   "outputs": [],
   "source": [
    "train.enrolled_between.value_counts()"
   ]
  },
  {
   "cell_type": "code",
   "execution_count": null,
   "id": "d69ae0db-edca-4a39-9c7a-bcc1a7c3d556",
   "metadata": {},
   "outputs": [],
   "source": [
    "train.groupby('enrolled_between').retained.mean()"
   ]
  },
  {
   "cell_type": "code",
   "execution_count": null,
   "id": "134b4a26-a491-4874-8dd3-c8621d547858",
   "metadata": {},
   "outputs": [],
   "source": [
    "sns.countplot(x='enrolled_between',hue='retained',data=train)"
   ]
  },
  {
   "cell_type": "code",
   "execution_count": null,
   "id": "0125927b-e46a-4098-a7af-8e05c8b4a4fe",
   "metadata": {},
   "outputs": [],
   "source": [
    "sns.catplot(x='enrolled_between',y='retained',data=train, kind='bar')"
   ]
  },
  {
   "cell_type": "markdown",
   "id": "5017f41f-daf8-40b7-9925-9282b1ef869a",
   "metadata": {},
   "source": [
    "\n",
    "#### Question 12 Summary: If a student was not enrolled between the retention semester it seems to be the biggest indicator that they will not be retained.\n"
   ]
  },
  {
   "cell_type": "markdown",
   "id": "2bc7474f-a6b1-4a78-ae82-6bac2937e4f6",
   "metadata": {},
   "source": [
    "\n",
    "## Questions Summary:\n",
    "\n",
    "Question 1: How did area of study affect retention?\n",
    "- Q1: Out of the areas of study that had retention rates below the mean overall retention rate liberal_arts, visual_and_performing_arts and engineering had the biggest portions of the population. Using a Chi^2 test we that retention has a statistically significant association with area of study.\n",
    "\n",
    "Question 2: Does a students age combined with area of study affect retention?\n",
    "- Q2: There doesn't seem to be anthing of note here. Most students are 19-22 and are in cip 52 and 24. Further exploration into this main group should be done to see if there are notable aspects that drive retention in this bigger group.\n",
    "\n",
    "Question 3: How did the number of years since the student start affect retention?\n",
    "- Q3: Running a chi^2 hypothesis test we see that yrs_since_start is not independent from retention. In the graph above we see that retention is highest at yr 0 and it drop till yr 3 which seems to be our lowest retention. Retention then starts to rise the years continue past 3.\n",
    "\n",
    "Question 4: Does the students class status (Freshman, Sophmore,etc..) vs the years since a student started affect retention?\n",
    "- Q4: Freshman by far have the lowest retention across the yrs. Juniors and Seniors have the highest. Further exploration could be done with enrollment type to see how first time students compare to transfer students. As well populations can be seperated by full time and part time status. \n",
    "\n",
    "Question 5: Does a students full time or part time status affect retention?\n",
    "- Q5: It does look as though full time students are more likely to be retained. The chi^2 test does show that there is a statistically significant relationship between time_status and retention.\n",
    "\n",
    "Question 6: Does the students full time / part time status combined with the students dependent status affect retention?\n",
    "- Q6: There does not look to be a significant difference in retention for full time students between each dependent status. Independent students had a 5 percent higher retention rate to part time dependent status.\n",
    "\n",
    "Question 7: Does the students w_count affect retention?\n",
    "- Q7: 70 percent of students did not have a w_count in the base semester of the retention calculation, out of those students the retention rate was higher than the average. The 30 percent of students with at least one withdraw had a much lower retention rate of 55 percent.\n",
    "\n",
    "Question 8: Does the students financial aid status and pell_grant status affect retention?\n",
    "- Q8: Students who recieved financial aid were more likely to be retained whether they had ever been pell eligible before or not. Out of those that had not received financial aid the retention rate was almost the same but those that had never been pell eligible had a slightly higher retention rate.\n",
    "\n",
    "Question 9: How does a students expected family contribution affect retention?\n",
    "- Q9: Almost 25 percent of students had no expected family contribution recorded. Out of those that did the bottom 25 % had a average retention rate that was 3.5 percent lower than the top 25 %. Those with no efc values had a 6.6 percent lower efc than the top 25 percent.\n",
    "\n",
    "Question 10: Does a students term gpa or hs gpa affect retention?\n",
    "- Q10: Term gpa seems to be a better predictor than hs_gpa. Bottom 75 % of students in the not retained category had a term_gpa less than the bottom 50 % of those retained. Also note for later analysis hs_gpa does not change with a student over time but term_gpa does. Hs_gpa variables could be skewed because of repeats for each semester a student takes, while term_gpa changes semester to semester. \n",
    "\n",
    "Question 11: Does enrollment type affect retention?\n",
    "- Q11: It does look as though overall students in their first year have the lowest retention across the board. Concurant students seem to have a peak in retetention around year 4, Transfer students seem to have a peak around year 2 and first term students seem to have a peak around year 3. First term students make up over 3/4 of the population so. it seems the trend in first term students is closer to what is seen over the overall population.\n",
    "\n",
    "Question 12: Does whether a student was enrolled between the retention semester affect retention?\n",
    "- Q12: If a student was not enrolled between the retention semester it seems to be the biggest indicator that they will not be retained."
   ]
  },
  {
   "cell_type": "markdown",
   "id": "5b967753-d2b1-48f3-b239-76f1ed8a7009",
   "metadata": {},
   "source": [
    "## Initial EDA Summary:"
   ]
  },
  {
   "cell_type": "markdown",
   "id": "2e84cc68-6fa1-4b60-b492-00c4c5e6877d",
   "metadata": {},
   "source": [
    "# Feature Exploration (Round 2)"
   ]
  },
  {
   "cell_type": "markdown",
   "id": "1a9fa814-0ec8-4829-940a-6f400a81b96d",
   "metadata": {},
   "source": [
    "## Clustering (Round 2)"
   ]
  },
  {
   "cell_type": "markdown",
   "id": "6c8790eb-1ac4-4f57-80fd-78cd1cb5b9fb",
   "metadata": {},
   "source": [
    "### K-modes"
   ]
  },
  {
   "cell_type": "code",
   "execution_count": null,
   "id": "8cc97612-b54e-4a24-9add-5155992638bb",
   "metadata": {},
   "outputs": [],
   "source": [
    "# from kmodes.kmodes import KModes\n",
    "\n",
    "# # reproduce results on small soybean data set\n",
    "# x = np.genfromtxt('soybean.csv', dtype=int, delimiter=',')[:, :-1]\n",
    "# y = np.genfromtxt('soybean.csv', dtype=str, delimiter=',', usecols=(35, ))\n",
    "\n",
    "# kmodes_huang = KModes(n_clusters=4, init='Huang', verbose=1)\n",
    "# kmodes_huang.fit(x)\n",
    "\n",
    "# # Print cluster centroids of the trained model.\n",
    "# print('k-modes (Huang) centroids:')\n",
    "# print(kmodes_huang.cluster_centroids_)\n",
    "# # Print training statistics\n",
    "# print(f'Final training cost: {kmodes_huang.cost_}')\n",
    "# print(f'Training iterations: {kmodes_huang.n_iter_}')\n",
    "\n",
    "# kmodes_cao = KModes(n_clusters=4, init='Cao', verbose=1)\n",
    "# kmodes_cao.fit(x)\n",
    "\n",
    "# # Print cluster centroids of the trained model.\n",
    "# print('k-modes (Cao) centroids:')\n",
    "# print(kmodes_cao.cluster_centroids_)\n",
    "# # Print training statistics\n",
    "# print(f'Final training cost: {kmodes_cao.cost_}')\n",
    "# print(f'Training iterations: {kmodes_cao.n_iter_}')\n",
    "\n",
    "# print('Results tables:')\n",
    "# for result in (kmodes_huang, kmodes_cao):\n",
    "#     classtable = np.zeros((4, 4), dtype=int)\n",
    "#     for ii, _ in enumerate(y):\n",
    "#         classtable[int(y[ii][-1]) - 1, result.labels_[ii]] += 1\n",
    "\n",
    "#     print(\"\\n\")\n",
    "#     print(\"    | Cl. 1 | Cl. 2 | Cl. 3 | Cl. 4 |\")\n",
    "#     print(\"----|-------|-------|-------|-------|\")\n",
    "#     for ii in range(4):\n",
    "#         prargs = tuple([ii + 1] + list(classtable[ii, :]))\n",
    "#         print(\" D{0} |    {1:>2} |    {2:>2} |    {3:>2} |    {4:>2} |\".format(*prargs))\n"
   ]
  },
  {
   "cell_type": "markdown",
   "id": "b1bb693e-db0c-4ccf-9d4d-75c75592641a",
   "metadata": {},
   "source": [
    "#### K-Modes Summary:"
   ]
  },
  {
   "cell_type": "markdown",
   "id": "2c8ca5ff-2fa8-402a-a624-6a9a9b054bed",
   "metadata": {},
   "source": [
    "### K-prototypes"
   ]
  },
  {
   "cell_type": "code",
   "execution_count": null,
   "id": "4d32cdd2-d0c5-4532-a8d5-5b917b9d1d32",
   "metadata": {},
   "outputs": [],
   "source": [
    "# from kmodes.kprototypes import KPrototypes\n",
    "\n",
    "# # stocks with their market caps, sectors and countries\n",
    "# syms = np.genfromtxt('stocks.csv', dtype=str, delimiter=',')[:, 0]\n",
    "# X = np.genfromtxt('stocks.csv', dtype=object, delimiter=',')[:, 1:]\n",
    "# X[:, 0] = X[:, 0].astype(float)\n",
    "\n",
    "# kproto = KPrototypes(n_clusters=4, init='Cao', verbose=2)\n",
    "# clusters = kproto.fit_predict(X, categorical=[1, 2])\n",
    "\n",
    "# # Print cluster centroids of the trained model.\n",
    "# print(kproto.cluster_centroids_)\n",
    "# # Print training statistics\n",
    "# print(kproto.cost_)\n",
    "# print(kproto.n_iter_)\n",
    "\n",
    "# for s, c in zip(syms, clusters):\n",
    "#     print(f\"Symbol: {s}, cluster:{c}\")"
   ]
  },
  {
   "cell_type": "markdown",
   "id": "b557c4e0-2abb-4735-979f-c2b5cac40a4c",
   "metadata": {},
   "source": [
    "#### K-prototypes Summary: "
   ]
  },
  {
   "cell_type": "markdown",
   "id": "46206380-a486-4821-8dd7-2613493e62ea",
   "metadata": {},
   "source": [
    "### DBSCAN"
   ]
  },
  {
   "cell_type": "code",
   "execution_count": null,
   "id": "419f70cc-109a-4f6d-b492-5a30dfc14401",
   "metadata": {},
   "outputs": [],
   "source": []
  },
  {
   "cell_type": "markdown",
   "id": "fded7606-4ee8-4b15-80bc-859a9738ee21",
   "metadata": {},
   "source": [
    "#### DBSCAN Summary:"
   ]
  },
  {
   "cell_type": "markdown",
   "id": "0f95c50e-eb7d-4fe7-9877-dbc52623d691",
   "metadata": {},
   "source": [
    "### Hierarchical Clustering"
   ]
  },
  {
   "cell_type": "code",
   "execution_count": null,
   "id": "0d474b88-f9f5-4b9a-ad38-067be6f9ddc7",
   "metadata": {},
   "outputs": [],
   "source": []
  },
  {
   "cell_type": "markdown",
   "id": "d3f96e85-c205-431c-a6da-2250e74477c9",
   "metadata": {},
   "source": [
    "#### Hierarchical Clustering Summary:"
   ]
  },
  {
   "cell_type": "markdown",
   "id": "2772c4e1-5d91-433f-9aab-7e0343419c7f",
   "metadata": {},
   "source": [
    "### SVM or tree reduction"
   ]
  },
  {
   "cell_type": "code",
   "execution_count": null,
   "id": "a961560f-d929-4559-956e-4861cade2a85",
   "metadata": {},
   "outputs": [],
   "source": []
  },
  {
   "cell_type": "markdown",
   "id": "96b907cf-d3b5-41c7-b689-2ef1ff739fb5",
   "metadata": {},
   "source": [
    "#### SVM or tree reduction Summary:"
   ]
  },
  {
   "cell_type": "markdown",
   "id": "756ee6f2-b20f-4cf1-b5a5-7ac59e49a811",
   "metadata": {},
   "source": [
    "### Clustering Summary:"
   ]
  },
  {
   "cell_type": "markdown",
   "id": "c82f1f8a-d0c8-46b1-a996-bf4feb106b76",
   "metadata": {},
   "source": [
    "## Dimensionality Reduction (Round 2)"
   ]
  },
  {
   "cell_type": "code",
   "execution_count": null,
   "id": "fbeb523a-de98-41d0-b98d-65e3de992f28",
   "metadata": {},
   "outputs": [],
   "source": [
    "#train[train.columns[train.dtypes != 'object']].head()"
   ]
  },
  {
   "cell_type": "markdown",
   "id": "688ce6f9-ce11-4bdf-841a-d304bb7aab1b",
   "metadata": {},
   "source": [
    "### SelectKBest (Round 2)"
   ]
  },
  {
   "cell_type": "code",
   "execution_count": null,
   "id": "113de884-385a-4f22-ba24-c3521e9afd94",
   "metadata": {},
   "outputs": [],
   "source": [
    "# # Import selectkbest from sklearn\n",
    "# from sklearn.feature_selection import SelectKBest, chi2\n",
    "\n",
    "# df = train[train.columns[train.dtypes != 'object']].head()\n",
    "\n",
    "# X_df = df.drop(columns ='retained')\n",
    "# y_df = df.retained\n",
    "\n",
    "# # select K best features\n",
    "# X_best = SelectKBest(chi2, k='all').fit(X_df,y_df)\n",
    "\n",
    "# X_df_X_best = X_best.transform(X_df)\n",
    " \n",
    "# feature_mask = X_best.get_support()\n",
    "\n",
    "# f_feature = X_df.iloc[:,feature_mask].columns.tolist()\n",
    "\n",
    "# f_feature"
   ]
  },
  {
   "cell_type": "code",
   "execution_count": null,
   "id": "c692a619-6deb-44d6-8180-bff8155681f7",
   "metadata": {},
   "outputs": [],
   "source": [
    "# X_df.columns"
   ]
  },
  {
   "cell_type": "code",
   "execution_count": null,
   "id": "3a564875-96d9-416b-a677-f3cc2f9bef8b",
   "metadata": {},
   "outputs": [],
   "source": [
    "# train[['depend_status','yrs_since_start']].value_counts(normalize=True)\n",
    "# train.shape"
   ]
  },
  {
   "cell_type": "code",
   "execution_count": null,
   "id": "06541270-66c3-4437-ac1b-8fd24da2fe74",
   "metadata": {},
   "outputs": [],
   "source": [
    "# train.groupby(['depend_status','yrs_since_start']).retained.mean()"
   ]
  },
  {
   "cell_type": "code",
   "execution_count": null,
   "id": "5b9db248-4521-4788-b69e-97a2d1151503",
   "metadata": {},
   "outputs": [],
   "source": [
    "# train.act.value_counts(normalize=True)"
   ]
  },
  {
   "cell_type": "code",
   "execution_count": null,
   "id": "0473ed15-13a5-4e38-88a2-9e191ddcab96",
   "metadata": {},
   "outputs": [],
   "source": [
    "# train.groupby(['depend_status','yrs_since_start','act']).retained.mean().sort_values()"
   ]
  },
  {
   "cell_type": "markdown",
   "id": "eb028269-ebaa-4cf2-a2ca-47016e5a0d72",
   "metadata": {},
   "source": [
    "#### SelectKBest Summary: Need to fix later. SelectKBest is just returning the last columns in the column list with no data. Running low on time come back round 2."
   ]
  },
  {
   "cell_type": "markdown",
   "id": "0ef27f6b-98a2-4a46-8412-5ead9099597e",
   "metadata": {},
   "source": [
    "### Recursive Feature Elimination"
   ]
  },
  {
   "cell_type": "code",
   "execution_count": null,
   "id": "1bd4efe6-e2f8-4961-b4e9-2ef6bddffddc",
   "metadata": {},
   "outputs": [],
   "source": [
    "# # Import RFE from Sklearn\n",
    "# from sklearn.feature_selection import RFE\n",
    "\n",
    "# # initialize Linear Regression model\n",
    "# lm = LinearRegression()\n",
    "\n",
    "# # Create Recursive Feature Elimination model\n",
    "# rfe = RFE(lm, n_features_to_select=3)\n",
    "\n",
    "# # fit the model\n",
    "# rfe.fit(X_train_scaled, y_train)\n",
    "\n",
    "# # get mask of columns selected\n",
    "# feature_mask = rfe.support_\n",
    "\n",
    "# # get list of selected column names\n",
    "# rfe_feature = X_train_scaled.iloc[:,feature_mask].columns.tolist()\n",
    "\n",
    "# # Create list of variables and their ranking\n",
    "\n",
    "# # ranks\n",
    "# var_ranks = rfe.ranking_\n",
    "\n",
    "# # names\n",
    "# var_names = X_train_scaled.columns.tolist()\n",
    "\n",
    "# # combine to dataframe\n",
    "# rfe_ranks_df = pd.DataFrame({'Variable' : var_names, 'Rank' : var_ranks})\n",
    "\n",
    "# # sort\n",
    "# rfe_ranks_df.sort_values('Rank')"
   ]
  },
  {
   "cell_type": "markdown",
   "id": "3f371e24-b890-491f-a9c4-448af05e6817",
   "metadata": {},
   "source": [
    "### Dimensionality Reduction and Feature Exploration Summary:"
   ]
  },
  {
   "cell_type": "markdown",
   "id": "abe0501a-7f8e-426d-9601-53f417746220",
   "metadata": {},
   "source": [
    "# Modeling"
   ]
  },
  {
   "cell_type": "markdown",
   "id": "116a72c6-ef7a-41da-840b-6214f7f94348",
   "metadata": {},
   "source": [
    "## Baseline:"
   ]
  },
  {
   "cell_type": "code",
   "execution_count": null,
   "id": "241947e9-1582-423d-a35d-3bd181ad4c20",
   "metadata": {},
   "outputs": [],
   "source": [
    "#train.retained.value_counts()"
   ]
  },
  {
   "cell_type": "markdown",
   "id": "5a5b6f9f-d1c1-437c-8227-33e8be8559e1",
   "metadata": {},
   "source": [
    "### Baseline Summary: Our baseline value will be retained as it is the mode of retention predictions."
   ]
  },
  {
   "cell_type": "code",
   "execution_count": null,
   "id": "0df1642b-e3a3-4619-b6a5-6904bd8c8097",
   "metadata": {},
   "outputs": [],
   "source": [
    "# Setting a baseline of Retained or 1\n",
    "\n",
    "# We use the DummyClassifier from sklearn to create a baseline accuracy.\n",
    "from sklearn.dummy import DummyClassifier \n",
    "\n",
    "# Here we create and fit the model\n",
    "dummy = DummyClassifier(strategy='most_frequent', random_state = 1729, constant = None)\n",
    "dummy.fit(X_train, y_train)   \n",
    "\n",
    "# Here we create our predictions\n",
    "y_pred = dummy.predict(X_train)\n",
    "\n",
    "# Check report for current baseline accuracy: 0.73\n",
    "print(classification_report(y_train, y_pred))"
   ]
  },
  {
   "cell_type": "markdown",
   "id": "0fe808e6-aa27-4594-a3c3-f71c4a66965e",
   "metadata": {},
   "source": [
    "## Evaluation Metrics"
   ]
  },
  {
   "cell_type": "markdown",
   "id": "1d309e66-218a-43b5-b584-b7ab666c5f6b",
   "metadata": {},
   "source": [
    "The metric I will use for evaluation is \n"
   ]
  },
  {
   "cell_type": "markdown",
   "id": "1520f8c0-fab5-4254-b95d-8e31b0cbd207",
   "metadata": {},
   "source": [
    "## Train and Validate Initial Models:"
   ]
  },
  {
   "cell_type": "markdown",
   "id": "a6142f7c-9acd-4d8a-91f9-85e947a51654",
   "metadata": {},
   "source": [
    "### Decision Tree"
   ]
  },
  {
   "cell_type": "code",
   "execution_count": null,
   "id": "38d89631-2700-4e4c-94e0-75af77e318e7",
   "metadata": {},
   "outputs": [],
   "source": [
    "#train[train.columns[train.dtypes != 'object']].head()"
   ]
  },
  {
   "cell_type": "code",
   "execution_count": null,
   "id": "23746f93-466a-4d24-8fab-875f5b7f718b",
   "metadata": {},
   "outputs": [],
   "source": [
    "# Import the sklearn Decision Tree Classifier\n",
    "from sklearn.tree import DecisionTreeClassifier\n",
    "\n",
    "# Split the data\n",
    "x_train_dt, y_train_dt = wrangle.model_split(train[train.columns[train.dtypes != 'object']], 'retained')\n",
    "\n",
    "# Create the model\n",
    "dtc = DecisionTreeClassifier(max_depth=4, random_state=1729)\n",
    "\n",
    "# Fit the model to training set\n",
    "dtc = dtc.fit(x_train_dt, y_train_dt)\n",
    "\n",
    "# Predict on trianing set\n",
    "y_pred_dt = dtc.predict(x_train_dt)\n",
    "\n",
    "# Print the report\n",
    "print(classification_report(y_train_dt, y_pred_dt))"
   ]
  },
  {
   "cell_type": "code",
   "execution_count": null,
   "id": "953cfe00-59bc-4cef-9ecb-d50e71d0d3a6",
   "metadata": {},
   "outputs": [],
   "source": [
    "plt.figure(figsize=(25,20))\n",
    "plot_tree(dtc, feature_names = x_train_dt.columns, class_names=['Yes','No'])\n",
    "plt.show()"
   ]
  },
  {
   "cell_type": "code",
   "execution_count": null,
   "id": "f485430e-2646-40c1-beb3-1c571a41f682",
   "metadata": {},
   "outputs": [],
   "source": [
    "x_validate_dt, y_validate_dt = wrangle.model_split(validate[validate.columns[validate.dtypes != 'object']], 'retained')\n",
    "y_pred_val_dt = dtc.predict(x_validate_dt)\n",
    "\n",
    "print(classification_report(y_validate_dt, y_pred_val_dt))"
   ]
  },
  {
   "cell_type": "markdown",
   "id": "ddbdfead-bb2e-43bb-a7c9-a1779bd2069d",
   "metadata": {},
   "source": [
    "#### Decision Tree Summary: "
   ]
  },
  {
   "cell_type": "markdown",
   "id": "c0168990-f1da-4ddb-84cc-d683bbe0ced2",
   "metadata": {},
   "source": [
    "### Random Forest"
   ]
  },
  {
   "cell_type": "code",
   "execution_count": null,
   "id": "27caf08b-410c-4c74-9ba0-b4452e0229a5",
   "metadata": {},
   "outputs": [],
   "source": [
    "x_train_rf, y_train_rf = wrangle.model_split(train[train.columns[train.dtypes != 'object']], 'retained')\n",
    "rf = RandomForestClassifier(min_samples_leaf=3,\n",
    "                            max_depth=3, \n",
    "                            random_state=1729)\n",
    "rf.fit(x_train_rf, y_train_rf)\n",
    "y_pred_rf = rf.predict(x_train_rf)\n",
    "\n",
    "print(classification_report(y_train_rf, y_pred_rf))"
   ]
  },
  {
   "cell_type": "code",
   "execution_count": null,
   "id": "b552aa77-b2d3-4cb1-8fed-0fd2e06f3835",
   "metadata": {},
   "outputs": [],
   "source": [
    "x_validate_rf, y_validate_rf = wrangle.model_split(validate[validate.columns[validate.dtypes != 'object']], 'retained')\n",
    "y_pred_val_rf = rf.predict(x_validate_rf)\n",
    "\n",
    "print(classification_report(y_validate_rf, y_pred_val_rf))"
   ]
  },
  {
   "cell_type": "markdown",
   "id": "655ef631-1594-4bfe-ad23-ad9b9c6ab530",
   "metadata": {},
   "source": [
    "#### Random Forst Summary:"
   ]
  },
  {
   "cell_type": "markdown",
   "id": "57e869ff-b9c9-469f-83c2-f3af4d00239d",
   "metadata": {},
   "source": [
    "### KNN"
   ]
  },
  {
   "cell_type": "code",
   "execution_count": null,
   "id": "7c9e7aa8-cb65-4868-81a1-eb01aec98aff",
   "metadata": {},
   "outputs": [],
   "source": [
    "# # Import the sklearn knn classifier\n",
    "# from sklearn.neighbors import KNeighborsClassifier\n",
    "# from sklearn.preprocessing import StandardScaler\n",
    "\n",
    "# # split the data\n",
    "# x_train, y_train, = wrangle.model_split(train[train.columns[train.dtypes != 'object']], 'retained')\n",
    "# x_validate, y_validate, = wrangle.model_split(validate[validate.columns[validate.dtypes != 'object']], 'retained')\n",
    "# x_test, y_test, = wrangle.model_split(test[test.columns[test.dtypes != 'object']], 'retained')\n",
    "\n",
    "# stan_scal = StandardScaler()\n",
    "# x_train = stan_scal.fit_transform(x_train)\n",
    "# x_validate = stan_scal.transform(x_validate)\n",
    "# x_test = stan_scal.transform(x_test)\n",
    "\n",
    "# error_rate = []\n",
    "# for i in range(1,20):\n",
    "#     knn = KNeighborsClassifier(n_neighbors=i)\n",
    "#     knn.fit(x_train,y_train)\n",
    "#     pred_i = knn.predict(x_test)\n",
    "#     error_rate.append(np.mean(pred_i != y_test.T))\n",
    "\n",
    "# plt.figure(figsize=(10,6))\n",
    "# plt.plot(range(1,40),error_rate,color='blue', linestyle='dashed',marker='o',markerfacecolor='red', markersize=10)\n",
    "# plt.title('Error Rate vs. K Value')\n",
    "# plt.xlabel('K')\n",
    "# plt.ylabel('Error Rate')\n",
    "# req_k_value = error_rate.index(min(error_rate))+1\n",
    "# print(\"Minimum error:-\",min(error_rate),\"at K =\",req_k_value)\n"
   ]
  },
  {
   "cell_type": "code",
   "execution_count": null,
   "id": "f8f84bc2-36ad-4b89-9461-ec842495345f",
   "metadata": {},
   "outputs": [],
   "source": [
    "# pred_i.dtype"
   ]
  },
  {
   "cell_type": "code",
   "execution_count": null,
   "id": "39f1371f-0b60-467a-b3ce-08569b172993",
   "metadata": {},
   "outputs": [],
   "source": [
    "# # Create the model\n",
    "# knn = KNeighborsClassifier(n_neighbors=, metric='jaccard')\n",
    "\n",
    "# # Fit the model to training set\n",
    "# knn.fit(x_train_knn, y_train_knn)\n",
    "\n",
    "# # Predict on training set\n",
    "# y_pred_knn = knn.predict(x_train_knn)\n",
    "\n",
    "# # Print the report\n",
    "# print(classification_report(y_train_knn, y_pred_knn))"
   ]
  },
  {
   "cell_type": "code",
   "execution_count": null,
   "id": "30bee4cf-915b-4fbc-8b48-b187407fb82c",
   "metadata": {},
   "outputs": [],
   "source": [
    "# x_validate_knn, y_validate_knn = wrangle.model_split(validate[validate.columns[validate.dtypes != 'object']], 'retained')\n",
    "# y_pred_val_knn = knn.predict(x_validate_knn)\n",
    "\n",
    "# print(classification_report(y_validate_knn, y_pred_val_knn))"
   ]
  },
  {
   "cell_type": "markdown",
   "id": "01a7abc4-15cb-4507-9af0-c9fac7756dc0",
   "metadata": {},
   "source": [
    "#### KNN Summary:"
   ]
  },
  {
   "cell_type": "markdown",
   "id": "a45e6b76-ee34-459a-bd59-5b99934ba81a",
   "metadata": {},
   "source": [
    "### Logistic Regression"
   ]
  },
  {
   "cell_type": "code",
   "execution_count": null,
   "id": "f166ff10-f3b0-43f3-ab83-d8f7da905ba0",
   "metadata": {},
   "outputs": [],
   "source": [
    "# Import sklearn logistic Regression classifier\n",
    "from sklearn.linear_model import LogisticRegression\n",
    "\n",
    "# Split the data\n",
    "x_train_lr, y_train_lr = wrangle.model_split(train[train.columns[train.dtypes != 'object']], 'retained')\n",
    "\n",
    "# Create the model\n",
    "logit = LogisticRegression(C=10, random_state=1729)\n",
    "\n",
    "# Fit the model to training set\n",
    "logit.fit(x_train_lr, y_train_lr)\n",
    "\n",
    "# Predict on training set\n",
    "y_pred_lr = logit.predict(x_train_lr)\n",
    "\n",
    "# Print the report\n",
    "print(classification_report(y_train_lr, y_pred_lr))"
   ]
  },
  {
   "cell_type": "code",
   "execution_count": null,
   "id": "ef846933-f2a5-4979-b2a5-0de74cedf68a",
   "metadata": {},
   "outputs": [],
   "source": [
    "x_validate_lr, y_validate_lr = wrangle.model_split(validate[validate.columns[validate.dtypes != 'object']], 'retained')\n",
    "y_pred_val_lr = logit.predict(x_validate_lr)\n",
    "\n",
    "print(classification_report(y_validate_lr, y_pred_val_lr))"
   ]
  },
  {
   "cell_type": "markdown",
   "id": "2687dd48-484c-47bf-92fe-a5aa0deb2b9c",
   "metadata": {},
   "source": [
    "#### Logistic Regression Summary:"
   ]
  },
  {
   "cell_type": "markdown",
   "id": "bc60a288-9bff-4868-b68d-b98347e6d512",
   "metadata": {},
   "source": [
    "### SVM (Round 2)"
   ]
  },
  {
   "cell_type": "code",
   "execution_count": null,
   "id": "eebd9b79-1bc3-4402-9f8b-00f4d7e510f2",
   "metadata": {},
   "outputs": [],
   "source": []
  },
  {
   "cell_type": "markdown",
   "id": "573989b4-ecfb-4658-875f-f33ef7f50686",
   "metadata": {},
   "source": [
    "#### SVM Summary:"
   ]
  },
  {
   "cell_type": "markdown",
   "id": "b5677135-d179-4b20-925e-9e9122788870",
   "metadata": {},
   "source": [
    "### Ensemble (Round 2)"
   ]
  },
  {
   "cell_type": "code",
   "execution_count": null,
   "id": "c452a2e6-32c8-43e6-a02c-46d1ee03f295",
   "metadata": {},
   "outputs": [],
   "source": []
  },
  {
   "cell_type": "markdown",
   "id": "11ff80bf-9c09-40ad-bcd8-7902422855b0",
   "metadata": {},
   "source": [
    "#### Ensemble Summary:"
   ]
  },
  {
   "cell_type": "code",
   "execution_count": null,
   "id": "cbf388ab-2087-4ee1-8a56-79b3b3e281aa",
   "metadata": {},
   "outputs": [],
   "source": []
  },
  {
   "cell_type": "markdown",
   "id": "752bc558-4234-4dbc-9d60-b365ed2daaff",
   "metadata": {},
   "source": [
    "### Train and Validate Initial Models Summary:"
   ]
  },
  {
   "cell_type": "markdown",
   "id": "fd99a94b-195a-4dc5-bf95-e58a291d7563",
   "metadata": {},
   "source": [
    "## Test Final Models"
   ]
  },
  {
   "cell_type": "code",
   "execution_count": null,
   "id": "0a6c7151-82aa-4a5f-9142-274423319207",
   "metadata": {},
   "outputs": [],
   "source": [
    "# x_test_dt, y_test_dt, = model_split_telco(test)\n",
    "# y_pred_test_dt = clf.predict(x_test_dt)\n",
    "\n",
    "# print(classification_report(y_test_dt, y_pred_test_dt))"
   ]
  },
  {
   "cell_type": "markdown",
   "id": "c1d19514-1c22-4a70-ad37-f37aaa4d9de8",
   "metadata": {},
   "source": [
    "### Test Final Model Summary:"
   ]
  },
  {
   "cell_type": "markdown",
   "id": "51af8802-fa89-4251-937d-324d77d38c33",
   "metadata": {},
   "source": [
    "## Modeling Summary:"
   ]
  },
  {
   "cell_type": "markdown",
   "id": "7ece60a8-2480-4277-bbfd-47b6e40ff66b",
   "metadata": {},
   "source": [
    "# Conclusion:"
   ]
  },
  {
   "cell_type": "markdown",
   "id": "143407de-1443-4d8f-a371-70c87bc6f6ae",
   "metadata": {},
   "source": [
    "# TODO\n",
    "\n",
    "## Feature Engineering/Clustering\n",
    "\n",
    "- term_gpa only missing a few, spike near 0.0, spike near 4.0, 2.0 and higher seems to be a much larger group than 2.0 and below. (possible clusters?)\n",
    "\n",
    "- reg_before_start spike between 75 and 100, below 75 higher than above 100, external research shows an average of 85 days for reg to spring semester and 140 for reg to fall (Possible Feature, cluster or both)\n",
    "\n",
    "## Model\n",
    "\n",
    "- initial models\n",
    "\n",
    "- ensemable\n",
    "\n",
    "## Finish MVP\n",
    "\n",
    "# Questions beyond the data\n",
    "\n",
    "- Does data account for major changes? \n",
    "- Which students were fall to fall and spring to spring?\n",
    "- How to account for students who skip a semester?\n",
    "- How to make each student a single row and seperate students into subsamples?\n",
    "\n",
    "\n",
    "## Later TODO\n",
    "\n",
    "- Address nulls\n",
    "\n",
    "    - efc: 1/3 missing, suspicious max (impute?)\n",
    "\n",
    "    - hs_gpa: 55% missing, potentially drop, normal distribution possibly (impute or drop?)\n",
    "    \n",
    "- stacked bar chart showing percent of overall population for area of study with its retention stacked\n",
    "\n",
    "- Comparing subgroups to overall retention by scaling smaller groups up and see how it affects over all retention\n",
    "\n",
    "- Rank values by their Retention percentage (feature? or dimensionality reduction? (regularization?))\n",
    "\n",
    "- Spherical Kmeans"
   ]
  }
 ],
 "metadata": {
  "kernelspec": {
   "display_name": "Python 3 (ipykernel)",
   "language": "python",
   "name": "python3"
  },
  "language_info": {
   "codemirror_mode": {
    "name": "ipython",
    "version": 3
   },
   "file_extension": ".py",
   "mimetype": "text/x-python",
   "name": "python",
   "nbconvert_exporter": "python",
   "pygments_lexer": "ipython3",
   "version": "3.9.7"
  }
 },
 "nbformat": 4,
 "nbformat_minor": 5
}
