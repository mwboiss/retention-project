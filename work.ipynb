{
 "cells": [
  {
   "cell_type": "markdown",
   "id": "ae725ad3-feae-43c4-becb-8f82e7143cfd",
   "metadata": {
    "jp-MarkdownHeadingCollapsed": true,
    "tags": []
   },
   "source": [
    "# Retention Project Workbook (Full Data Science Pipeline)"
   ]
  },
  {
   "cell_type": "markdown",
   "id": "6ade2fef-a17e-4415-bcd6-9de253b5e849",
   "metadata": {},
   "source": [
    "**Target:** retained\n",
    "\n",
    "**Goals:**\n",
    "- Discover Drivers of retention through EDA and clustering.\n",
    "- Use features to run classification models and make predictions\n",
    "\n",
    "**Deliverables:**\n",
    "- Work Notebook (Github)\n",
    "- Report Notebook (Github)\n",
    "- Wrangle.py (Github)\n",
    "- README.md (Github)\n",
    "- Project Summary for README, Report, Portfolio/Resume\n",
    "\n",
    "**Initial thoughts and hypothesis:**\n",
    "- Group features into categories\n",
    "    - Target\n",
    "        - retained\n",
    "    - Student Demographics\n",
    "        - id\n",
    "        - race_ethn\n",
    "        - sex\n",
    "        - fgen\n",
    "        - age_at_start_term\n",
    "        - depend_status  \n",
    "    - Financials\n",
    "        - pell_ever\n",
    "        - efc\n",
    "        - fa_recd\n",
    "    - Educational Stats\n",
    "        - enrolled_1_back\n",
    "        - time_status\n",
    "        - sutdent_class\n",
    "        - hs_gpa\n",
    "        - term_gpa\n",
    "        - original_type\n",
    "        - cip_2dig\n",
    "        - act\n",
    "        - astd\n",
    "        - dubya_count_term\n",
    "        - span\n",
    "        - days_between\n",
    "- Educational Stats will probably have the most impact\n",
    "- age, fgen, depend_status and financial aid will probably also be drivers\n",
    "- retention is fall to fall and spring to spring"
   ]
  },
  {
   "cell_type": "code",
   "execution_count": 1,
   "id": "4774481f-9b6c-4c67-af54-846f196f228b",
   "metadata": {},
   "outputs": [],
   "source": [
    "# Import for Data Manipulation\n",
    "import pandas as pd\n",
    "import numpy as np \n",
    "\n",
    "# Import for Data Visualization\n",
    "import seaborn as sns\n",
    "from matplotlib import pyplot as plt\n",
    "import squarify\n",
    "\n",
    "# Import for data acquisition and prep\n",
    "import wrangle\n",
    "\n",
    "# Import for Scaling and Spliting the data\n",
    "from sklearn.model_selection import train_test_split\n",
    "from sklearn.preprocessing import MinMaxScaler\n",
    "from sklearn.impute import SimpleImputer\n",
    "\n",
    "# Import for Classification models\n",
    "from sklearn.tree import DecisionTreeClassifier, plot_tree\n",
    "from sklearn.ensemble import RandomForestClassifier\n",
    "from sklearn.neighbors import KNeighborsClassifier\n",
    "from sklearn.linear_model import LogisticRegression\n",
    "\n",
    "# Import for analysis of classification models\n",
    "from sklearn.metrics import classification_report\n",
    "from sklearn.metrics import confusion_matrix\n",
    "\n",
    "# Import for Clustering\n",
    "from sklearn.cluster import KMeans\n",
    "\n",
    "# Import to ignore warnings\n",
    "import warnings\n",
    "warnings.filterwarnings('ignore')\n",
    "\n",
    "# Set to see all rows and columns\n",
    "pd.options.display.max_columns = None\n",
    "pd.options.display.max_rows = None\n",
    "pd.options.display.max_colwidth = None"
   ]
  },
  {
   "cell_type": "markdown",
   "id": "28918aa9-ec68-4125-bf9d-87427939e27e",
   "metadata": {
    "jp-MarkdownHeadingCollapsed": true,
    "tags": []
   },
   "source": [
    "# Acquire"
   ]
  },
  {
   "cell_type": "code",
   "execution_count": 2,
   "id": "2624caa3-3885-481f-8435-a938caaa6b8b",
   "metadata": {},
   "outputs": [],
   "source": [
    "# students = pd.read_excel('college_retention_data.xlsx')"
   ]
  },
  {
   "cell_type": "code",
   "execution_count": 3,
   "id": "16cbe493-d1fb-48b0-b234-4c9fa87c2093",
   "metadata": {},
   "outputs": [],
   "source": [
    "# def acquire_student_data():\n",
    "#     '''\n",
    "#     This function reads in a excel file and returns it as a dataframe.\n",
    "#     '''\n",
    "#     # Read excel into df\n",
    "#     df = pd.read_excel('college_retention_data.xlsx')\n",
    "#     # Return df\n",
    "#     return df"
   ]
  },
  {
   "cell_type": "code",
   "execution_count": 4,
   "id": "55ee5fc8-6c17-4aaa-b7e3-1824c965033f",
   "metadata": {},
   "outputs": [],
   "source": [
    "# Read in Data dictionary\n",
    "# data_dict = pd.read_excel('college_retention_data.xlsx',sheet_name=1)"
   ]
  },
  {
   "cell_type": "code",
   "execution_count": 5,
   "id": "f1a16e08-be21-44e1-b7b9-6785062fae88",
   "metadata": {},
   "outputs": [],
   "source": [
    "# def acquire_data_dict():\n",
    "#     '''\n",
    "#     This funciton acquires the included data dictionary.\n",
    "#     '''\n",
    "#     # Read dictionary into dataframe\n",
    "#     df = pd.read_excel('college_retention_data.xlsx',sheet_name=1)\n",
    "#     # Return the dataframe\n",
    "#     return df"
   ]
  },
  {
   "cell_type": "markdown",
   "id": "57b00c60-3fff-44e8-b2b9-6f487baf46c3",
   "metadata": {
    "jp-MarkdownHeadingCollapsed": true,
    "tags": []
   },
   "source": [
    "# Prep"
   ]
  },
  {
   "cell_type": "markdown",
   "id": "aeea9599-f64f-4515-833e-c47d4efb99f5",
   "metadata": {
    "jp-MarkdownHeadingCollapsed": true,
    "tags": []
   },
   "source": [
    "## Student Data Prep"
   ]
  },
  {
   "cell_type": "code",
   "execution_count": 6,
   "id": "edafe65e-9a4a-4ea7-a2ca-a9acba6e005f",
   "metadata": {},
   "outputs": [],
   "source": [
    "# # Create function to manipulate cip df for ease of use\n",
    "# def get_cip_codes():\n",
    "#     # read in df\n",
    "#     cip = pd.read_csv('cip_codes.csv')\n",
    "#     # Narrow down df\n",
    "#     cip = cip[['Title','CIP Code']]\n",
    "#     # Fix columns\n",
    "#     cip.columns = [col.lower().replace(' ','_') for col in cip]\n",
    "#     # fix cip values\n",
    "#     cip['cip_code'] = cip.cip_code.apply(lambda x: x[2:4])\n",
    "#     # make int\n",
    "#     cip['cip_code'] = cip.cip_code.astype('int')\n",
    "#     # Rename cip column\n",
    "#     cip = cip.rename(columns={'cip_code':'cip'})\n",
    "#     # fix title vlaues\n",
    "#     cip['title'] = cip.title.apply(lambda x: x.lower().replace(' ' , '_').replace( '.' , ''))\n",
    "#     # return df\n",
    "#     return cip"
   ]
  },
  {
   "cell_type": "code",
   "execution_count": 7,
   "id": "99ff5010-2654-48e0-8492-427c8f2e264b",
   "metadata": {},
   "outputs": [],
   "source": [
    "# # Test Function from wrangle.py\n",
    "# students = wrangle.acquire_student_data()"
   ]
  },
  {
   "cell_type": "code",
   "execution_count": 8,
   "id": "d3306282-1fa9-4793-87ec-1d4578645194",
   "metadata": {},
   "outputs": [],
   "source": [
    "# # Lowercase all column names\n",
    "# students.columns = [col.lower() for col in students]"
   ]
  },
  {
   "cell_type": "code",
   "execution_count": 9,
   "id": "942c6bcb-f805-4cb6-aaa1-0797be2633a7",
   "metadata": {},
   "outputs": [],
   "source": [
    "# # Change column names for ease of use\n",
    "# students = students.rename(columns={'fakeid':'id','enrolled_1_back':'enrolled_between','student_classif':'student_year',\\\n",
    "#                                     'originaltype':'enroll_type','cip_2dig':'cip','astd':'academic_standing',\\\n",
    "#                                     'dubya_count_term':'w_count','span':'yrs_since_start','days_between':'reg_before_start'})"
   ]
  },
  {
   "cell_type": "code",
   "execution_count": 10,
   "id": "02cee5c4-445c-4c9a-8b07-1bf8fd203a46",
   "metadata": {},
   "outputs": [],
   "source": [
    "# # Drop Nulls for initial pass\n",
    "# students = students.dropna()"
   ]
  },
  {
   "cell_type": "code",
   "execution_count": 11,
   "id": "9afd3b74-480b-4271-8d76-0bf13e6cd41b",
   "metadata": {},
   "outputs": [],
   "source": [
    "# # Drop UN cip value\n",
    "# students = students[students['cip'] != 'UN']\n",
    "# # Retrieve cip codes with descriptions and return dataframe\n",
    "# cip = get_cip_codes()"
   ]
  },
  {
   "cell_type": "code",
   "execution_count": 12,
   "id": "27bf45bb-92af-4c17-93cf-9f07c8590670",
   "metadata": {},
   "outputs": [],
   "source": [
    "# students = pd.merge(students,cip, on='cip', how='left')"
   ]
  },
  {
   "cell_type": "code",
   "execution_count": 13,
   "id": "de709d38-2184-4b60-8f3d-d74372219ff0",
   "metadata": {},
   "outputs": [],
   "source": [
    "# students.w_count.value_counts()"
   ]
  },
  {
   "cell_type": "code",
   "execution_count": 14,
   "id": "878b25c4-0836-45ff-842b-74b22a6c8a3b",
   "metadata": {},
   "outputs": [],
   "source": [
    "# # One hot encode categorical columns\n",
    "# # Replace (1,0): retained, enrolled_between, sex, time_status, pell_ever, academic_standing, fa_recd, w_count\n",
    "# students['retained'] = students.retained.str.replace('Y', '1').str.replace('N', '0')\n",
    "# students['enrolled_between'] = students.enrolled_between.str.replace('Y', '1').str.replace('N', '0')\n",
    "# students['sex'] = students.sex.str.replace('F', '1').str.replace('M', '0')\n",
    "# students['time_status'] = students.time_status.str.replace('FULL', '1').str.replace('PART', '0')\n",
    "# students['pell_ever'] = students.pell_ever.str.replace('Y', '1').str.replace('N', '0')\n",
    "# students['academic_standing'] = students.academic_standing.str.replace('GOODBIN', '1').str.replace('ISSUEBIN', '0')\n",
    "# students['fa_recd'] = students.fa_recd.str.replace('Y', '1').str.replace('N', '0')\n",
    "# students['w_count'] = students.w_count.str.replace('ONE_OR_MORE', '1').str.replace('NONE', '0')\n",
    "# # Reassign as int type\n",
    "# students[['retained','enrolled_between','sex','time_status','pell_ever','academic_standing','fa_recd','w_count']] = \\\n",
    "# students[['retained','enrolled_between','sex','time_status','pell_ever','academic_standing','fa_recd','w_count']].astype('int')\n",
    "# # Create dummies: race_ethn, fgen, student_year, enroll_type, cip, age_at_start_term, act, depend_status, yrs_since_start\n",
    "# dummy_name = pd.get_dummies(students[['race_ethn','fgen','student_year','enroll_type','title','age_at_start_term','act','depend_status','yrs_since_start']],dummy_na=False)\n",
    "# # Combine df's\n",
    "# students = pd.concat([students,dummy_name],axis=1)"
   ]
  },
  {
   "cell_type": "code",
   "execution_count": 15,
   "id": "19be3370-54b1-4ee8-9fb9-f8fb0fc7fb10",
   "metadata": {},
   "outputs": [],
   "source": [
    "# students.head()"
   ]
  },
  {
   "cell_type": "code",
   "execution_count": 16,
   "id": "134c1424-4b47-49f1-ad41-99fd5a726930",
   "metadata": {},
   "outputs": [],
   "source": [
    "# # Create prep function\n",
    "# def prep_student_data(df):\n",
    "#     '''\n",
    "#     This function takes in the acquired dataframe and prepare the data for exploration.\n",
    "#     '''\n",
    "#     # Lowercase all column names\n",
    "#     df.columns = [col.lower() for col in df]\n",
    "#     # Change column names for ease of use\n",
    "#     df = df.rename(columns={'fakeid':'id','enrolled_1_back':'enrolled_between','student_classif':'student_year',\\\n",
    "#                                     'originaltype':'enroll_type','cip_2dig':'cip','astd':'academic_standing',\\\n",
    "#                                     'dubya_count_term':'w_count','span':'yrs_since_start','days_between':'reg_before_start'})\n",
    "#     # Drop Nulls for initial pass\n",
    "#     df = df.dropna()\n",
    "    \n",
    "#     # Drop UN cip value\n",
    "#     df = df[df['cip'] != 'UN']\n",
    "#     # Retrieve cip codes with descriptions and return dataframe\n",
    "#     cip = get_cip_codes()\n",
    "#     # Merge the df's\n",
    "#     students = pd.merge(students,cip, on='cip', how='left')\n",
    "    \n",
    "#     # One hot encode categorical columns\n",
    "#     # Replace (1,0): retained, enrolled_between, sex, time_status, pell_ever, academic_standing, fa_recd, w_count\n",
    "#     df['retained'] = df.retained.str.replace('Y', '1').str.replace('N', '0')\n",
    "#     df['enrolled_between'] = df.enrolled_between.str.replace('Y', '1').str.replace('N', '0')\n",
    "#     df['sex'] = df.sex.str.replace('F', '1').str.replace('M', '0')\n",
    "#     df['time_status'] = df.time_status.str.replace('FULL', '1').str.replace('PART', '0')\n",
    "#     df['pell_ever'] = df.pell_ever.str.replace('Y', '1').str.replace('N', '0')\n",
    "#     df['academic_standing'] = df.academic_standing.str.replace('GOODBIN', '1').str.replace('ISSUEBIN', '0')\n",
    "#     df['fa_recd'] = df.fa_recd.str.replace('Y', '1').str.replace('N', '0')\n",
    "#     df['w_count'] = df.w_count.str.replace('ONE_OR_MORE', '1').str.replace('NONE', '0')\n",
    "#     # Reassign as int type\n",
    "#     df[['retained','enrolled_between','sex','time_status','pell_ever','academic_standing','fa_recd','w_count']] = \\\n",
    "#     df[['retained','enrolled_between','sex','time_status','pell_ever','academic_standing','fa_recd','w_count']].astype('int')\n",
    "#     # Create dummies: race_ethn, fgen, student_year, enroll_type, cip, age_at_start_term, act, depend_status, yrs_since_start\n",
    "#     dummy_name = pd.get_dummies(df[['race_ethn','fgen','student_year','enroll_type','title','age_at_start_term','act','depend_status','yrs_since_start']],dummy_na=False)\n",
    "#     # Combine df's\n",
    "#     df = pd.concat([df,dummy_name],axis=1)\n",
    "    \n",
    "#     # Return cleaned df\n",
    "#     return df"
   ]
  },
  {
   "cell_type": "markdown",
   "id": "2706c9a5-9543-4cd1-a71d-345987b77625",
   "metadata": {
    "jp-MarkdownHeadingCollapsed": true,
    "tags": []
   },
   "source": [
    "## Addressing unique students ID"
   ]
  },
  {
   "cell_type": "code",
   "execution_count": 153,
   "id": "91c723a6-c3d1-4bf9-acc4-9f4e30fcb252",
   "metadata": {},
   "outputs": [],
   "source": [
    "# students['id'].nunique()"
   ]
  },
  {
   "cell_type": "code",
   "execution_count": 155,
   "id": "d49ecea7-32eb-4ff3-8d58-5811a489fc6d",
   "metadata": {},
   "outputs": [],
   "source": [
    "# len(students)"
   ]
  },
  {
   "cell_type": "code",
   "execution_count": 156,
   "id": "8b26ee83-afc3-466e-8042-2a8aeb1311e3",
   "metadata": {},
   "outputs": [],
   "source": [
    "# [students['id'].value_counts() == 1]"
   ]
  },
  {
   "cell_type": "code",
   "execution_count": 157,
   "id": "637aa872-055e-427d-aa97-cbbf3ae1a48b",
   "metadata": {},
   "outputs": [],
   "source": [
    "# students.head()"
   ]
  },
  {
   "cell_type": "code",
   "execution_count": 152,
   "id": "2a73fd1e-42d5-4a3c-8f4a-5dd0f79fddaa",
   "metadata": {},
   "outputs": [],
   "source": [
    "# student_zero[['enrolled_between','time_status','student_year','efc','term_gpa','cip','age_at_start_term','depend_status','w_count','yrs_since_start','reg_before_start']]\\\n",
    "# .sort_values(by=['student_year','yrs_since_start','age_at_start_term',])"
   ]
  },
  {
   "cell_type": "code",
   "execution_count": 151,
   "id": "ab0a8284-d8b1-491d-83f3-50ffe7060d33",
   "metadata": {},
   "outputs": [],
   "source": [
    "# student_zero = train[train['id'] == 459725]\n",
    "# student_zero"
   ]
  },
  {
   "cell_type": "code",
   "execution_count": 158,
   "id": "b85c151f-3b60-4de8-b6f9-79e2d112a70a",
   "metadata": {},
   "outputs": [],
   "source": [
    "# freshman = students[students['student_year'] =='FR']"
   ]
  },
  {
   "cell_type": "code",
   "execution_count": 159,
   "id": "e254b58f-827d-4bed-b936-8b7da0a8dec3",
   "metadata": {},
   "outputs": [],
   "source": [
    "# freshman['id'].nunique()"
   ]
  },
  {
   "cell_type": "code",
   "execution_count": 160,
   "id": "843a6066-5d35-43d9-961b-69d1bfd1e83a",
   "metadata": {},
   "outputs": [],
   "source": [
    "# freshman_zero"
   ]
  },
  {
   "cell_type": "code",
   "execution_count": 115,
   "id": "17b6f9ac-de61-4359-9caa-2b88d9f23e07",
   "metadata": {},
   "outputs": [],
   "source": [
    "# freshman['id'].value_counts()"
   ]
  },
  {
   "cell_type": "code",
   "execution_count": 161,
   "id": "48c9f53a-0d7f-416e-8d25-1fe871c25962",
   "metadata": {},
   "outputs": [],
   "source": [
    "# freshman_zero = freshman[freshman['id'] == 508071]"
   ]
  },
  {
   "cell_type": "code",
   "execution_count": 162,
   "id": "85b51932-b3ba-4d5e-b822-c2368e8fd3c5",
   "metadata": {},
   "outputs": [],
   "source": [
    "# freshman_zero[['retained','enrolled_between','time_status','student_year','efc','term_gpa','cip','age_at_start_term','depend_status','w_count','yrs_since_start','reg_before_start']]\\\n",
    "# .sort_values(by=['student_year','yrs_since_start','age_at_start_term',])"
   ]
  },
  {
   "cell_type": "markdown",
   "id": "ca88c45a-9223-4612-9271-0d22c9d08b3d",
   "metadata": {},
   "source": [
    "### Summary of ID assessment\n",
    "- Each individual row is considered an individual observation of retention year over a year based on variables provided. Individual students show up in dataset multiple times. So this is not a measure of whether an individual student is retained over time but a measure of individual instances of year over year retention. With more data provided and further exploration and analysis, more could be done to understand drivers of individual student retention."
   ]
  },
  {
   "cell_type": "markdown",
   "id": "7675f540-fea0-4e03-95e4-9439538f07c0",
   "metadata": {
    "jp-MarkdownHeadingCollapsed": true,
    "tags": []
   },
   "source": [
    "## Impute (for later)"
   ]
  },
  {
   "cell_type": "code",
   "execution_count": 17,
   "id": "b7c5e949-3133-4edd-8936-702bb40335b5",
   "metadata": {},
   "outputs": [],
   "source": [
    "# efc\n"
   ]
  },
  {
   "cell_type": "code",
   "execution_count": 18,
   "id": "189e48df-0fd9-4158-ac34-ad24c6c76c6d",
   "metadata": {},
   "outputs": [],
   "source": [
    "# hs_gpa"
   ]
  },
  {
   "cell_type": "markdown",
   "id": "7a700694-d05a-4d3c-bb6d-489410f48778",
   "metadata": {
    "jp-MarkdownHeadingCollapsed": true,
    "tags": []
   },
   "source": [
    "## Split"
   ]
  },
  {
   "cell_type": "code",
   "execution_count": 19,
   "id": "26e4d39d-9b12-4b7c-9dc9-13c0fa39a1aa",
   "metadata": {},
   "outputs": [
    {
     "data": {
      "text/plain": [
       "(140800, 87)"
      ]
     },
     "execution_count": 19,
     "metadata": {},
     "output_type": "execute_result"
    }
   ],
   "source": [
    "# Test Functions\n",
    "students = wrangle.prep_student_data(wrangle.acquire_student_data())\n",
    "students.shape"
   ]
  },
  {
   "cell_type": "code",
   "execution_count": 20,
   "id": "ad0c588c-6227-4393-bc4b-620c11931816",
   "metadata": {},
   "outputs": [
    {
     "data": {
      "text/plain": [
       "(78848, 87)"
      ]
     },
     "execution_count": 20,
     "metadata": {},
     "output_type": "execute_result"
    }
   ],
   "source": [
    "# Split Data for further exploration\n",
    "target = 'retained'\n",
    "train, validate, test = wrangle.split_data(students, target)\n",
    "train.shape"
   ]
  },
  {
   "cell_type": "code",
   "execution_count": 21,
   "id": "1994b14c-4aef-4122-87bb-3c2109e48327",
   "metadata": {},
   "outputs": [
    {
     "data": {
      "text/plain": [
       "(78848, 86)"
      ]
     },
     "execution_count": 21,
     "metadata": {},
     "output_type": "execute_result"
    }
   ],
   "source": [
    "# Split for modeling\n",
    "target = 'retained'\n",
    "X_train, y_train = wrangle.model_split(train,target)\n",
    "X_validate, y_validate = wrangle.model_split(validate,target)\n",
    "X_test, y_test = wrangle.model_split(test,target)\n",
    "X_train.shape"
   ]
  },
  {
   "cell_type": "markdown",
   "id": "b478182b-e61b-4e9e-8e62-cdc30b46deb3",
   "metadata": {
    "tags": []
   },
   "source": [
    "### Scaling"
   ]
  },
  {
   "cell_type": "code",
   "execution_count": 22,
   "id": "2328ce2a-ea7a-4700-80f1-286394f251a1",
   "metadata": {},
   "outputs": [
    {
     "data": {
      "text/plain": [
       "(78848, 13)"
      ]
     },
     "execution_count": 22,
     "metadata": {},
     "output_type": "execute_result"
    }
   ],
   "source": [
    "# Scale data\n",
    "train_scaled, validate_scaled, test_scaled = wrangle.scale_data(train,validate,test)\n",
    "train_scaled.shape"
   ]
  },
  {
   "cell_type": "markdown",
   "id": "8bce4cff-e820-4298-9f07-b15e4227c8ba",
   "metadata": {
    "tags": []
   },
   "source": [
    "# Initial EDA"
   ]
  },
  {
   "cell_type": "markdown",
   "id": "367f2f04-4912-49c9-850a-776f3f324e74",
   "metadata": {
    "jp-MarkdownHeadingCollapsed": true,
    "tags": []
   },
   "source": [
    "## Univariate (students df used)"
   ]
  },
  {
   "cell_type": "code",
   "execution_count": 23,
   "id": "00dc5611-31fa-4131-9b44-62fec9eb3568",
   "metadata": {},
   "outputs": [],
   "source": [
    "# students.shape"
   ]
  },
  {
   "cell_type": "markdown",
   "id": "987a2d44-2ce7-4edd-88a6-22c4c4b3e47c",
   "metadata": {},
   "source": [
    "- (448176, 22)"
   ]
  },
  {
   "cell_type": "code",
   "execution_count": 24,
   "id": "27ca65be-0fb1-439a-89f2-d759bc688eae",
   "metadata": {},
   "outputs": [],
   "source": [
    "# students.describe(include='all')"
   ]
  },
  {
   "cell_type": "markdown",
   "id": "d4bbca7f-4f28-497b-a895-48dcce44f219",
   "metadata": {},
   "source": [
    "- efc, hs_gpa, and term_gpa have missing data. efc has a suspicious max. \n",
    "- 1 key variable (id), 17 categorical, 4 continuous (efc,hs_gpa,term_gpa,reg_before_start)"
   ]
  },
  {
   "cell_type": "code",
   "execution_count": 25,
   "id": "9857fca9-0a7c-47dd-a575-8aa103e89611",
   "metadata": {},
   "outputs": [],
   "source": [
    "# students.info()"
   ]
  },
  {
   "cell_type": "code",
   "execution_count": 26,
   "id": "20c9aa27-0bb4-4034-b3e3-43292bac67ac",
   "metadata": {},
   "outputs": [],
   "source": [
    "# students.isnull().sum()"
   ]
  },
  {
   "cell_type": "markdown",
   "id": "52b385fb-7e8f-421c-b4d1-ebdfd28a0375",
   "metadata": {},
   "source": [
    "Missing\n",
    "- efc: 128245\n",
    "- hs_gpa: 247365\n",
    "- term_gpa: 89"
   ]
  },
  {
   "cell_type": "code",
   "execution_count": 27,
   "id": "3505b6b3-a0bb-43e5-9531-9fe670f76d1c",
   "metadata": {},
   "outputs": [],
   "source": [
    "# students.isnull().mean()"
   ]
  },
  {
   "cell_type": "markdown",
   "id": "45827ee7-8af7-42e1-8819-1b31ebdb8929",
   "metadata": {},
   "source": [
    "Percent Missing\n",
    "- efc: 0.286149 (Impute efc)\n",
    "- hs_gpa: 0.551937 (Potentially drop hs_gpa)\n",
    "- term_gpa: 0.000199 (Do not worry about term_gpa)"
   ]
  },
  {
   "cell_type": "code",
   "execution_count": 28,
   "id": "f32418c3-5cfe-4f58-abba-e0e0119b2f45",
   "metadata": {},
   "outputs": [],
   "source": [
    "# students.hist(figsize=(40,20), bins =20)\n",
    "# plt.show()"
   ]
  },
  {
   "cell_type": "markdown",
   "id": "b78ff197-45d5-4dd8-8268-4a850f427253",
   "metadata": {},
   "source": [
    "- Explore term_gpa: spike near 0.0, spike near 4.0, 2.0 and higher seems to be a much larger group than 2.0 and below.\n",
    "- Explore reg_before_start: spike between 75 and 100, below 75 higher than above 100, \n",
    "        - external research shows an average of 85 days for reg to spring semester and 140 for reg to fall (Possible Feature)\n",
    "- hs_gpa shows a normal distribution around just below 3.0. Could be good for impute.\n",
    "- efc looks suspect still"
   ]
  },
  {
   "cell_type": "code",
   "execution_count": 29,
   "id": "747eb597-c132-4d8f-97a9-1839efeaeb5c",
   "metadata": {},
   "outputs": [],
   "source": [
    "# variables = students.columns[students.dtypes == 'object']\n",
    "\n",
    "# for col in variables:\n",
    "#     print(f'{col}\\n\\n\\n{students[col].value_counts(dropna=False)}\\n\\n')"
   ]
  },
  {
   "cell_type": "markdown",
   "id": "f7687501-607c-4b81-bdd3-1e01a1b48bb6",
   "metadata": {},
   "source": [
    "- One hot encode categorical columns\n",
    "- Replace (1,0): retained, enrolled_between, sex, time_status, pell_ever, academic_standing, fa_recd, w_count\n",
    "- Create dummies: race_ethn, fgen, student_year, enroll_type, cip, age_at_start_term, act, depend_status, yrs_before_start"
   ]
  },
  {
   "cell_type": "code",
   "execution_count": 30,
   "id": "eeebb0ad-7754-459d-9e31-6539d225bdaa",
   "metadata": {},
   "outputs": [],
   "source": [
    "# students.cip.value_counts(normalize = True)"
   ]
  },
  {
   "cell_type": "code",
   "execution_count": 31,
   "id": "d8e9cd96-d586-4021-88b2-633ba36f22fe",
   "metadata": {},
   "outputs": [
    {
     "data": {
      "text/plain": [
       "32188"
      ]
     },
     "execution_count": 31,
     "metadata": {},
     "output_type": "execute_result"
    }
   ],
   "source": [
    "train.id.nunique()"
   ]
  },
  {
   "cell_type": "code",
   "execution_count": 32,
   "id": "f1cd062e-d2a0-42bc-b0e6-b66ff8e6f6d3",
   "metadata": {},
   "outputs": [
    {
     "data": {
      "text/plain": [
       "38301"
      ]
     },
     "execution_count": 32,
     "metadata": {},
     "output_type": "execute_result"
    }
   ],
   "source": [
    "students.id.nunique()"
   ]
  },
  {
   "cell_type": "markdown",
   "id": "c91db8cf-cfa2-4b52-aa51-df834b025d55",
   "metadata": {},
   "source": [
    "- 52: almost 19% \n",
    "- 24: 12% \n",
    "- 50, 42, 26: 6%\n",
    "- 43, 13, 23, 15, 30, 51, 44, 31, 45, 11, 49, 54, 9, 40, 3, 27 between 5% and 1%\n",
    "- 16, 38, 5, 14, 10, 1, 32, 29 below 1$"
   ]
  },
  {
   "cell_type": "markdown",
   "id": "834ffe80-92d1-47a4-8766-a06065ab0534",
   "metadata": {},
   "source": [
    "### Univariate Summary:\n",
    "\n",
    "- efc: 1/3 missing, suspicious max (impute?)\n",
    "- hs_gpa: 55% missing, potentially drop, normal distribution possibly (impute or drop?)\n",
    "- term_gpa only missing a few, spike near 0.0, spike near 4.0, 2.0 and higher seems to be a much larger group than 2.0 and below. (possible clusters?)\n",
    "- reg_before_start spike between 75 and 100, below 75 higher than above 100, external research shows an average of 85 days for reg to spring semester and 140 for reg to fall (Possible Feature, cluster or both)\n",
    "- Change cip into major types and one hot encode\n",
    "- Rank values by their Retention percentage (feature?)"
   ]
  },
  {
   "cell_type": "markdown",
   "id": "4259e635-2b40-4143-8dc4-54b085899b7c",
   "metadata": {
    "jp-MarkdownHeadingCollapsed": true,
    "tags": []
   },
   "source": [
    "##  Bivariate (Train df used)"
   ]
  },
  {
   "cell_type": "code",
   "execution_count": 33,
   "id": "626b76fb-f3ee-43ef-b49e-f7d50d6e04d5",
   "metadata": {},
   "outputs": [],
   "source": [
    "# train.info()"
   ]
  },
  {
   "cell_type": "code",
   "execution_count": 34,
   "id": "0df918d9-bc32-4912-9ae0-5866b93d712e",
   "metadata": {},
   "outputs": [],
   "source": [
    "# columns = train.columns[train.dtypes == 'object']\n",
    "# for col in columns:\n",
    "#     plt.figure(figsize=(15,8))\n",
    "#     print(f'{col}\\n\\n--------------------------------------------------------------')\n",
    "#     print(f'{train.groupby(\"retained\")[col].value_counts().sort_values(ascending=False)}')\n",
    "#     sns.countplot(train[col], hue=train['retained'])\n",
    "#     plt.show()\n",
    "#     print(f'{train.groupby(col)[\"retained\"].value_counts(normalize=True).sort_values(ascending=False)}')\n",
    "#     print(f'=======================================================\\n\\n')"
   ]
  },
  {
   "cell_type": "code",
   "execution_count": 35,
   "id": "ea4c935c-f93d-4d4f-b8ae-002ae7df7bca",
   "metadata": {},
   "outputs": [],
   "source": [
    "# columns = train.columns[(train.dtypes == 'int') | (train.dtypes == 'float') | (train.dtypes == 'uint8')]\n",
    "# # print(f'Not Retained:\\n\\n')\n",
    "# # print(f'{train[train[\"retained\"]==\"N\"].describe()}\\n')\n",
    "# # print(f'Retained:\\n\\n')\n",
    "# # print(f'{train[train[\"retained\"]==\"Y\"].describe()}\\n')\n",
    "# for col in columns:\n",
    "#     print(f'{col}\\n\\n--------------------------------------------------------------')\n",
    "#     sns.barplot(x='retained', y=col, data= train)\n",
    "#     plt.show()\n",
    "#     print(f'=======================================================\\n\\n')"
   ]
  },
  {
   "cell_type": "code",
   "execution_count": 36,
   "id": "52da662b-00db-4bea-b628-c4775b85e0ee",
   "metadata": {},
   "outputs": [],
   "source": [
    "# sns.pairplot(train, kind='reg', plot_kws={'line_kws':{'color':'red'}},corner=True)"
   ]
  },
  {
   "cell_type": "code",
   "execution_count": 69,
   "id": "848d89f2-339a-4630-b58a-93a042708dde",
   "metadata": {},
   "outputs": [],
   "source": [
    "# # Perform a Pearson Correlation on the dataset\n",
    "# plt.figure(figsize=(4,20))\n",
    "# correlate = train.corr()\n",
    "# # Plot the Correlation on a heatmap\n",
    "# sns.heatmap(correlate.loc[['retained']].T, annot=True, cmap='coolwarm')\n",
    "# plt.show()"
   ]
  },
  {
   "cell_type": "markdown",
   "id": "23b8f798-1c5d-440f-83c8-edcbeab921d5",
   "metadata": {},
   "source": [
    "- slight correlation between enrolled_between, term_gpa, academic standing. with a slight negative correlation to freshman status"
   ]
  },
  {
   "cell_type": "code",
   "execution_count": 38,
   "id": "e1207da8-0388-4f42-a0a8-2da7133f3b9a",
   "metadata": {},
   "outputs": [],
   "source": [
    "# plt.figure(figsize=(15,8))\n",
    "# sns.relplot(x='term_gpa',y='reg_before_start',data=train,col='retained',row='title',height=10)\n",
    "# plt.show()"
   ]
  },
  {
   "cell_type": "markdown",
   "id": "ef6473dd-3e04-448c-80ad-010062844619",
   "metadata": {
    "tags": []
   },
   "source": [
    "### Bivariate Summary: \n",
    "\n",
    "- race_ethn: mostly white/hispanic population\n",
    "- fgen: mostly first generation with little difference in retention\n",
    "- year: negative correlation between class year and population size. Juniors had the lowest retention rate. \n",
    "- enroll_type: most students were first time college students out of high school. Did not show much difference in retention between different types.\n",
    "- cip: 52, 24 had highest population, 42,43,50,26 followed with next biggest group. (POSSIBLE CLUSTERS) Out of big groups 24 showed the lowest retention rate.\n",
    "- age: 19-22 by far the largest population. 18 and under had lowest retention(did they transfer?)\n",
    "- yr_since_start: 0 had lowest retention, 1 and 6 or more had next lowest, 5, 2, 4, 3 (EXPLORE IN MULTI)\n",
    "\n",
    "Following showed low retention stutus\n",
    "- w_count\n",
    "- communication major\n",
    "- computer information systems\n",
    "- engineering\n",
    "- liberal arts\n",
    "- philosophy and religious studies\n",
    "- 18 or younger\n",
    "- 23 to 29\n",
    "- act_NADA\n",
    "- depend_status_IND\n",
    "-yrs_since_start_0\n",
    "-yrs_since_start_1\n",
    "\n"
   ]
  },
  {
   "cell_type": "markdown",
   "id": "71a84e77-b94c-4af3-b769-72539083e5fb",
   "metadata": {
    "tags": []
   },
   "source": [
    "## Questions to answer"
   ]
  },
  {
   "cell_type": "markdown",
   "id": "4392f344-71e4-49e1-b0bd-edb693d48ea7",
   "metadata": {
    "tags": []
   },
   "source": [
    "## Question 1: How did area of study affect retention?"
   ]
  },
  {
   "cell_type": "code",
   "execution_count": 322,
   "id": "e215ff8c-5112-4230-a82c-d1358cc4e29a",
   "metadata": {},
   "outputs": [
    {
     "data": {
      "text/html": [
       "<div>\n",
       "<style scoped>\n",
       "    .dataframe tbody tr th:only-of-type {\n",
       "        vertical-align: middle;\n",
       "    }\n",
       "\n",
       "    .dataframe tbody tr th {\n",
       "        vertical-align: top;\n",
       "    }\n",
       "\n",
       "    .dataframe thead th {\n",
       "        text-align: right;\n",
       "    }\n",
       "</style>\n",
       "<table border=\"1\" class=\"dataframe\">\n",
       "  <thead>\n",
       "    <tr style=\"text-align: right;\">\n",
       "      <th></th>\n",
       "      <th>index</th>\n",
       "      <th>count</th>\n",
       "      <th>percent</th>\n",
       "      <th>percent_retained</th>\n",
       "      <th>percent_not_retained</th>\n",
       "    </tr>\n",
       "  </thead>\n",
       "  <tbody>\n",
       "    <tr>\n",
       "      <th>0</th>\n",
       "      <td>area,_ethnic,_cultural,_gender,_and_group_studies</td>\n",
       "      <td>224.0</td>\n",
       "      <td>0.002841</td>\n",
       "      <td>0.6830</td>\n",
       "      <td>0.4324</td>\n",
       "    </tr>\n",
       "    <tr>\n",
       "      <th>4</th>\n",
       "      <td>communications_technologies/technicians_and_support_services</td>\n",
       "      <td>37.0</td>\n",
       "      <td>0.000469</td>\n",
       "      <td>0.5676</td>\n",
       "      <td>0.3173</td>\n",
       "    </tr>\n",
       "    <tr>\n",
       "      <th>5</th>\n",
       "      <td>computer_and_information_sciences_and_support_services</td>\n",
       "      <td>1951.0</td>\n",
       "      <td>0.024744</td>\n",
       "      <td>0.6827</td>\n",
       "      <td>0.3170</td>\n",
       "    </tr>\n",
       "    <tr>\n",
       "      <th>7</th>\n",
       "      <td>engineering</td>\n",
       "      <td>255.0</td>\n",
       "      <td>0.003234</td>\n",
       "      <td>0.6784</td>\n",
       "      <td>0.3023</td>\n",
       "    </tr>\n",
       "    <tr>\n",
       "      <th>8</th>\n",
       "      <td>engineering/engineering-related_technologies/technicians</td>\n",
       "      <td>2987.0</td>\n",
       "      <td>0.037883</td>\n",
       "      <td>0.6977</td>\n",
       "      <td>0.2983</td>\n",
       "    </tr>\n",
       "    <tr>\n",
       "      <th>14</th>\n",
       "      <td>liberal_arts_and_sciences,_general_studies_and_humanities</td>\n",
       "      <td>12343.0</td>\n",
       "      <td>0.156542</td>\n",
       "      <td>0.5991</td>\n",
       "      <td>0.2777</td>\n",
       "    </tr>\n",
       "    <tr>\n",
       "      <th>19</th>\n",
       "      <td>philosophy_and_religious_studies</td>\n",
       "      <td>174.0</td>\n",
       "      <td>0.002207</td>\n",
       "      <td>0.6322</td>\n",
       "      <td>0.2587</td>\n",
       "    </tr>\n",
       "    <tr>\n",
       "      <th>25</th>\n",
       "      <td>visual_and_performing_arts</td>\n",
       "      <td>5375.0</td>\n",
       "      <td>0.068169</td>\n",
       "      <td>0.6975</td>\n",
       "      <td>0.2304</td>\n",
       "    </tr>\n",
       "  </tbody>\n",
       "</table>\n",
       "</div>"
      ],
      "text/plain": [
       "                                                           index    count  \\\n",
       "0              area,_ethnic,_cultural,_gender,_and_group_studies    224.0   \n",
       "4   communications_technologies/technicians_and_support_services     37.0   \n",
       "5         computer_and_information_sciences_and_support_services   1951.0   \n",
       "7                                                    engineering    255.0   \n",
       "8       engineering/engineering-related_technologies/technicians   2987.0   \n",
       "14     liberal_arts_and_sciences,_general_studies_and_humanities  12343.0   \n",
       "19                              philosophy_and_religious_studies    174.0   \n",
       "25                                    visual_and_performing_arts   5375.0   \n",
       "\n",
       "     percent  percent_retained  percent_not_retained  \n",
       "0   0.002841            0.6830                0.4324  \n",
       "4   0.000469            0.5676                0.3173  \n",
       "5   0.024744            0.6827                0.3170  \n",
       "7   0.003234            0.6784                0.3023  \n",
       "8   0.037883            0.6977                0.2983  \n",
       "14  0.156542            0.5991                0.2777  \n",
       "19  0.002207            0.6322                0.2587  \n",
       "25  0.068169            0.6975                0.2304  "
      ]
     },
     "execution_count": 322,
     "metadata": {},
     "output_type": "execute_result"
    }
   ],
   "source": [
    "# Count of instances of study catagory\n",
    "count = list(train.title.value_counts().sort_index().values)\n",
    "# Percent of each area of study to the whole\n",
    "percent = list(train.title.value_counts(normalize=True).sort_index().values)\n",
    "# Percent of retained in each area of study\n",
    "percent_retained = list(train[['retained','title']].groupby('title').mean().round(4).retained.values)\n",
    "# Percent not retained in each area of study\n",
    "percent_not_retained = [round(num , 4) for num in list(1 - train[['retained','title']].groupby('title').mean().sort_values(by='retained').retained.values)]\n",
    "# Mean retention rate of all instances\n",
    "overall_mean_retention = train.retained.mean()\n",
    "# Variable names for df assignment\n",
    "columns = list(train.title.sort_values().unique())\n",
    "# Create Df\n",
    "study_df = pd.DataFrame([count, percent, percent_retained, percent_not_retained] , index = ['count','percent','percent_retained','percent_not_retained'] ,columns = columns).T.reset_index()\n",
    "# Show areas of study with less retention than the average and sort by not retained\n",
    "df = study_df[study_df['percent_retained'] < overall_mean_retention].sort_values(by='percent_not_retained',ascending=False)\n",
    "df"
   ]
  },
  {
   "cell_type": "code",
   "execution_count": 323,
   "id": "73adccad-32e5-4acb-9dd8-08b0b888ebc3",
   "metadata": {},
   "outputs": [
    {
     "data": {
      "text/plain": [
       "<AxesSubplot:xlabel='percent', ylabel='percent_not_retained'>"
      ]
     },
     "execution_count": 323,
     "metadata": {},
     "output_type": "execute_result"
    },
    {
     "data": {
      "image/png": "[encoded data removed]",
      "text/plain": [
       "<Figure size 1080x720 with 1 Axes>"
      ]
     },
     "metadata": {
      "needs_background": "light"
     },
     "output_type": "display_data"
    }
   ],
   "source": [
    "plt.figure(figsize=(15,10))\n",
    "sns.scatterplot(x='percent',y='percent_not_retained', data=study_df, hue='index')"
   ]
  },
  {
   "cell_type": "code",
   "execution_count": null,
   "id": "fd37717a-f562-4653-a90a-f28eb44d3d65",
   "metadata": {},
   "outputs": [],
   "source": []
  },
  {
   "cell_type": "code",
   "execution_count": null,
   "id": "8daec63a-832a-4288-975e-e6443847d466",
   "metadata": {},
   "outputs": [],
   "source": []
  },
  {
   "cell_type": "code",
   "execution_count": null,
   "id": "ae1026a2-be89-4685-b0f3-8972d916e88d",
   "metadata": {},
   "outputs": [],
   "source": []
  },
  {
   "cell_type": "code",
   "execution_count": null,
   "id": "5d0bf9ef-2c71-4c34-939a-1c9557614d7e",
   "metadata": {},
   "outputs": [],
   "source": []
  },
  {
   "cell_type": "code",
   "execution_count": null,
   "id": "4c8a8b39-73b0-4c5b-b4b1-1da5212abd75",
   "metadata": {},
   "outputs": [],
   "source": []
  },
  {
   "cell_type": "code",
   "execution_count": null,
   "id": "181e5b19-c4af-4dbd-9b1a-15794ded3e3e",
   "metadata": {},
   "outputs": [],
   "source": []
  },
  {
   "cell_type": "code",
   "execution_count": null,
   "id": "d7fa42e7-4642-4c2b-9b4a-8b2e08964a0e",
   "metadata": {},
   "outputs": [],
   "source": []
  },
  {
   "cell_type": "code",
   "execution_count": null,
   "id": "93631d20-ed19-437b-a672-210dcbb7bec9",
   "metadata": {},
   "outputs": [],
   "source": []
  },
  {
   "cell_type": "code",
   "execution_count": 41,
   "id": "b931f03d-5ace-4616-8d30-4dffe6a7c998",
   "metadata": {},
   "outputs": [],
   "source": [
    "# Hypothesis Test"
   ]
  },
  {
   "cell_type": "markdown",
   "id": "0214bc84-7a93-4396-8500-5d7086ebe440",
   "metadata": {},
   "source": [
    "### Question 1 Summary:"
   ]
  },
  {
   "cell_type": "markdown",
   "id": "26528f5c-8832-44ec-b4a7-7938481a3650",
   "metadata": {
    "tags": []
   },
   "source": [
    "## Question 2: Does a students age combined with area of study affect retention?"
   ]
  },
  {
   "cell_type": "code",
   "execution_count": 42,
   "id": "af4ee29d-edeb-467d-b67d-e1c08c1dcd22",
   "metadata": {},
   "outputs": [],
   "source": [
    "# Data"
   ]
  },
  {
   "cell_type": "code",
   "execution_count": 43,
   "id": "fec72e34-88ea-4fae-adf1-b76cc442a3d8",
   "metadata": {},
   "outputs": [],
   "source": [
    "# Viz"
   ]
  },
  {
   "cell_type": "code",
   "execution_count": 44,
   "id": "496ab634-9a02-468e-86a2-8dbd81b03121",
   "metadata": {},
   "outputs": [],
   "source": [
    "# Hypothesis Test"
   ]
  },
  {
   "cell_type": "markdown",
   "id": "bb5aa0e5-719a-42ea-90a5-9338b69cf891",
   "metadata": {},
   "source": [
    "### Question 2 Summary:"
   ]
  },
  {
   "cell_type": "markdown",
   "id": "97418ed0-08c0-427f-b5d2-fc9f62774526",
   "metadata": {
    "tags": []
   },
   "source": [
    "## Question 3: How did the number of years since the student start affect retention?"
   ]
  },
  {
   "cell_type": "code",
   "execution_count": 45,
   "id": "023455d4-416d-49e8-9d12-71a5634dcc3c",
   "metadata": {},
   "outputs": [],
   "source": [
    "# Data"
   ]
  },
  {
   "cell_type": "code",
   "execution_count": 46,
   "id": "0a64ebd7-e64d-4bac-9d1b-41e4f284f11e",
   "metadata": {},
   "outputs": [],
   "source": [
    "# Viz"
   ]
  },
  {
   "cell_type": "code",
   "execution_count": 47,
   "id": "49641623-d2d5-4cd1-8b89-df0e5f3c7435",
   "metadata": {},
   "outputs": [],
   "source": [
    "# Hypothesis Test"
   ]
  },
  {
   "cell_type": "markdown",
   "id": "00773b9d-20e8-4135-8b24-61231c009e9f",
   "metadata": {},
   "source": [
    "### Question 3 Summary:"
   ]
  },
  {
   "cell_type": "markdown",
   "id": "275c3020-8651-4298-b57c-c05e82c0d707",
   "metadata": {
    "tags": []
   },
   "source": [
    "## Question 4: Does the students class status (Freshman, Sophmore,etc..) vs the years since a student started affect retention?"
   ]
  },
  {
   "cell_type": "code",
   "execution_count": 48,
   "id": "603e6add-0c55-4ef4-b2d6-56203df25d31",
   "metadata": {},
   "outputs": [],
   "source": [
    "# Data"
   ]
  },
  {
   "cell_type": "code",
   "execution_count": 49,
   "id": "5a779fdd-159c-473e-9cde-e516be81d7f9",
   "metadata": {},
   "outputs": [],
   "source": [
    "# Viz"
   ]
  },
  {
   "cell_type": "code",
   "execution_count": 50,
   "id": "e986f2c9-6e3a-4f34-bbc7-7bea4e7360d1",
   "metadata": {},
   "outputs": [],
   "source": [
    "# Hypothesis Test"
   ]
  },
  {
   "cell_type": "markdown",
   "id": "3b3cf4c2-dedf-41bb-8242-30267bf46473",
   "metadata": {},
   "source": [
    "### Question 4 Summary:"
   ]
  },
  {
   "cell_type": "markdown",
   "id": "81d23eb9-d84b-45a8-b77b-fb1d0afb78e6",
   "metadata": {
    "tags": []
   },
   "source": [
    "## Question 5: Does a students full time or part time status affect retention?"
   ]
  },
  {
   "cell_type": "code",
   "execution_count": 51,
   "id": "74f88eb8-583c-4818-ab72-f8ca7c050b19",
   "metadata": {
    "tags": []
   },
   "outputs": [],
   "source": [
    "# Data"
   ]
  },
  {
   "cell_type": "code",
   "execution_count": 52,
   "id": "22015e6a-3e7a-4efa-b897-e5ea9b1bf249",
   "metadata": {},
   "outputs": [],
   "source": [
    "# Viz"
   ]
  },
  {
   "cell_type": "code",
   "execution_count": 53,
   "id": "7ed48408-f590-4cb0-9e6d-4646a4409023",
   "metadata": {},
   "outputs": [],
   "source": [
    "# Hypothesis Test"
   ]
  },
  {
   "cell_type": "markdown",
   "id": "c1bea201-040f-4a59-9ee4-28f4217f0c7c",
   "metadata": {},
   "source": [
    "### Question 5 Summary:"
   ]
  },
  {
   "cell_type": "markdown",
   "id": "df8366a2-b904-4fee-94af-cde783f02156",
   "metadata": {
    "tags": []
   },
   "source": [
    "## Question 6: Does the students full time / part time status combined with the students dependent status affect retention?"
   ]
  },
  {
   "cell_type": "code",
   "execution_count": 54,
   "id": "f8f6172e-a3ee-4703-a269-555320ecc4a3",
   "metadata": {},
   "outputs": [],
   "source": [
    "# Data"
   ]
  },
  {
   "cell_type": "code",
   "execution_count": 55,
   "id": "68dc074f-c885-40cd-a4a4-2877cb88f65c",
   "metadata": {},
   "outputs": [],
   "source": [
    "# Viz"
   ]
  },
  {
   "cell_type": "code",
   "execution_count": 56,
   "id": "f5163e60-acf3-4fc3-8677-a379f8b459dd",
   "metadata": {},
   "outputs": [],
   "source": [
    "# Hypothesis Test"
   ]
  },
  {
   "cell_type": "markdown",
   "id": "b3ca6f21-4ea0-495f-9c7b-9941a2705915",
   "metadata": {},
   "source": [
    "### Question 6 Summary:"
   ]
  },
  {
   "cell_type": "code",
   "execution_count": null,
   "id": "607f55b1-78fb-4127-b5b8-70e3a895274e",
   "metadata": {},
   "outputs": [],
   "source": []
  },
  {
   "cell_type": "markdown",
   "id": "c0bf6211-4bad-48bd-9af7-bf7426cfd782",
   "metadata": {
    "tags": []
   },
   "source": [
    "## Question 7: Does the students w_count affect retention?"
   ]
  },
  {
   "cell_type": "code",
   "execution_count": 57,
   "id": "8b13a7db-96a3-4825-b358-d7ae5b026605",
   "metadata": {},
   "outputs": [],
   "source": [
    "# Data"
   ]
  },
  {
   "cell_type": "code",
   "execution_count": 58,
   "id": "aa58b5ce-61dc-45e2-a1cf-49fb1ecdc3e0",
   "metadata": {},
   "outputs": [],
   "source": [
    "# Viz"
   ]
  },
  {
   "cell_type": "code",
   "execution_count": 59,
   "id": "1f4cd311-c854-4fbe-99bf-2f486a08c7b7",
   "metadata": {},
   "outputs": [],
   "source": [
    "# Hypothesis Test"
   ]
  },
  {
   "cell_type": "markdown",
   "id": "cf1c06f3-93a8-48b2-9b60-d34c14ba61d2",
   "metadata": {},
   "source": [
    "### Question 7 Summary:"
   ]
  },
  {
   "cell_type": "code",
   "execution_count": null,
   "id": "14ed55e8-2820-4267-9ffa-613b07d4da44",
   "metadata": {},
   "outputs": [],
   "source": []
  },
  {
   "cell_type": "markdown",
   "id": "be81fda3-8fe8-484f-a9bf-18b725ea9156",
   "metadata": {
    "tags": []
   },
   "source": [
    "## Question 8: Does the students financial aid status and pell_grant status affect retention?"
   ]
  },
  {
   "cell_type": "code",
   "execution_count": 60,
   "id": "4d6c7421-2004-435d-973d-00c8c801fe9f",
   "metadata": {},
   "outputs": [],
   "source": [
    "# Data"
   ]
  },
  {
   "cell_type": "code",
   "execution_count": 61,
   "id": "cc5a3f36-ba74-4a0f-b6ca-23e2299686a0",
   "metadata": {},
   "outputs": [],
   "source": [
    "# Viz"
   ]
  },
  {
   "cell_type": "code",
   "execution_count": 62,
   "id": "f88f4d49-c685-4d5b-95d9-eabf8d357ed7",
   "metadata": {},
   "outputs": [],
   "source": [
    "# Hypothesis Test"
   ]
  },
  {
   "cell_type": "markdown",
   "id": "ed4c664c-6285-4397-ad2e-07a416bd2101",
   "metadata": {},
   "source": [
    "### Question 8 Summary:"
   ]
  },
  {
   "cell_type": "code",
   "execution_count": null,
   "id": "34587b85-ec7f-4aae-a8bb-3fff6f13d774",
   "metadata": {},
   "outputs": [],
   "source": []
  },
  {
   "cell_type": "markdown",
   "id": "7d8f67e8-cf05-43fb-a31a-33e4b2714c20",
   "metadata": {
    "tags": []
   },
   "source": [
    "## Question 9: How does a students expected family contribution affect retention?"
   ]
  },
  {
   "cell_type": "code",
   "execution_count": 63,
   "id": "90f6dc49-0fbf-4c5d-b33c-d988dc0ea3d7",
   "metadata": {},
   "outputs": [],
   "source": [
    "# Data"
   ]
  },
  {
   "cell_type": "code",
   "execution_count": 64,
   "id": "337ccf29-81a1-48d6-b8b9-6550a3c51687",
   "metadata": {},
   "outputs": [],
   "source": [
    "# Viz"
   ]
  },
  {
   "cell_type": "code",
   "execution_count": 65,
   "id": "9cb24390-7ec0-4afc-b3bf-4a275668f0d2",
   "metadata": {},
   "outputs": [],
   "source": [
    "# Hypothesis Test"
   ]
  },
  {
   "cell_type": "markdown",
   "id": "28ce6052-b4eb-4153-a29a-c212fc1592cc",
   "metadata": {},
   "source": [
    "### Question 9 Summary:"
   ]
  },
  {
   "cell_type": "code",
   "execution_count": null,
   "id": "222313b7-6983-4d60-96f1-572777251f51",
   "metadata": {},
   "outputs": [],
   "source": []
  },
  {
   "cell_type": "markdown",
   "id": "68a04548-5dcc-4526-b74a-79e9b0514dd7",
   "metadata": {
    "tags": []
   },
   "source": [
    "## Question 10: Does a students term gpa or hs gpa affect retention?"
   ]
  },
  {
   "cell_type": "code",
   "execution_count": 66,
   "id": "c4e3396f-e638-4258-8792-07a6be34ebf7",
   "metadata": {},
   "outputs": [],
   "source": [
    "# Data"
   ]
  },
  {
   "cell_type": "code",
   "execution_count": 67,
   "id": "adc039b9-841f-4f81-b8a3-a898ad152c89",
   "metadata": {},
   "outputs": [],
   "source": [
    "# Viz"
   ]
  },
  {
   "cell_type": "code",
   "execution_count": 68,
   "id": "a3992765-ab2b-4a15-91bc-48173d796730",
   "metadata": {},
   "outputs": [],
   "source": [
    "# Hypothesis Test"
   ]
  },
  {
   "cell_type": "markdown",
   "id": "ac0cc87b-b06b-44cf-af73-6a034ce797ee",
   "metadata": {},
   "source": [
    "### Question 10 Summary:"
   ]
  },
  {
   "cell_type": "markdown",
   "id": "2bc7474f-a6b1-4a78-ae82-6bac2937e4f6",
   "metadata": {
    "jp-MarkdownHeadingCollapsed": true,
    "tags": []
   },
   "source": [
    "## Questions Summary:\n",
    "\n",
    "- Q1:\n",
    "- Q2:\n",
    "- Q3:\n",
    "- Q4:\n",
    "- Q5:\n",
    "- Q6:\n",
    "- Q7:\n",
    "- Q8:\n",
    "- Q9:\n",
    "- Q10:\n"
   ]
  },
  {
   "cell_type": "markdown",
   "id": "143407de-1443-4d8f-a371-70c87bc6f6ae",
   "metadata": {
    "tags": []
   },
   "source": [
    "\n",
    "# TODO\n",
    "\n",
    "## Bivariate and multivariate explore (Reaction with target?)\n",
    "\n",
    "- Create and answer questions\n",
    "\n",
    "- Explore possible feature engineering\n",
    "\n",
    "## Feature Engineering/Clustering\n",
    "\n",
    "- term_gpa only missing a few, spike near 0.0, spike near 4.0, 2.0 and higher seems to be a much larger group than 2.0 and below. (possible clusters?)\n",
    "\n",
    "- reg_before_start spike between 75 and 100, below 75 higher than above 100, external research shows an average of 85 days for reg to spring semester and 140 for reg to fall (Possible Feature, cluster or both)\n",
    "\n",
    "## Model\n",
    "\n",
    "- initial models\n",
    "\n",
    "- ensemable\n",
    "\n",
    "## Finish MVP\n",
    "\n",
    "# Questions beyond the data\n",
    "- Does data account for major changes? \n",
    "- Which students were fall to fall and spring to spring?\n",
    "\n",
    "## Later TODO\n",
    "\n",
    "- Address nulls\n",
    "\n",
    "    - efc: 1/3 missing, suspicious max (impute?)\n",
    "\n",
    "    - hs_gpa: 55% missing, potentially drop, normal distribution possibly (impute or drop?)\n",
    "\n",
    "- Comparing subgroups to overall retention by scaling smaller groups up and see how it affects over all retention\n",
    "\n",
    "- Rank values by their Retention percentage (feature?)\n",
    "\n",
    "- Spherical Kmeans"
   ]
  },
  {
   "cell_type": "markdown",
   "id": "5b967753-d2b1-48f3-b239-76f1ed8a7009",
   "metadata": {},
   "source": [
    "## Initial EDA Summary:"
   ]
  },
  {
   "cell_type": "markdown",
   "id": "2e84cc68-6fa1-4b60-b492-00c4c5e6877d",
   "metadata": {
    "tags": []
   },
   "source": [
    "# Feature Exploration"
   ]
  },
  {
   "cell_type": "markdown",
   "id": "1a9fa814-0ec8-4829-940a-6f400a81b96d",
   "metadata": {
    "tags": []
   },
   "source": [
    "## Clustering"
   ]
  },
  {
   "cell_type": "markdown",
   "id": "6c8790eb-1ac4-4f57-80fd-78cd1cb5b9fb",
   "metadata": {
    "tags": []
   },
   "source": [
    "### K-modes"
   ]
  },
  {
   "cell_type": "code",
   "execution_count": null,
   "id": "8cc97612-b54e-4a24-9add-5155992638bb",
   "metadata": {},
   "outputs": [],
   "source": []
  },
  {
   "cell_type": "markdown",
   "id": "b1bb693e-db0c-4ccf-9d4d-75c75592641a",
   "metadata": {},
   "source": [
    "#### K-Modes Summary:"
   ]
  },
  {
   "cell_type": "markdown",
   "id": "2c8ca5ff-2fa8-402a-a624-6a9a9b054bed",
   "metadata": {
    "tags": []
   },
   "source": [
    "### K-prototypes"
   ]
  },
  {
   "cell_type": "code",
   "execution_count": null,
   "id": "4d32cdd2-d0c5-4532-a8d5-5b917b9d1d32",
   "metadata": {},
   "outputs": [],
   "source": []
  },
  {
   "cell_type": "markdown",
   "id": "b557c4e0-2abb-4735-979f-c2b5cac40a4c",
   "metadata": {},
   "source": [
    "#### K-prototypes Summary: "
   ]
  },
  {
   "cell_type": "markdown",
   "id": "46206380-a486-4821-8dd7-2613493e62ea",
   "metadata": {
    "tags": []
   },
   "source": [
    "### DBSCAN"
   ]
  },
  {
   "cell_type": "code",
   "execution_count": null,
   "id": "419f70cc-109a-4f6d-b492-5a30dfc14401",
   "metadata": {},
   "outputs": [],
   "source": []
  },
  {
   "cell_type": "markdown",
   "id": "fded7606-4ee8-4b15-80bc-859a9738ee21",
   "metadata": {},
   "source": [
    "#### DBSCAN Summary:"
   ]
  },
  {
   "cell_type": "markdown",
   "id": "0f95c50e-eb7d-4fe7-9877-dbc52623d691",
   "metadata": {
    "tags": []
   },
   "source": [
    "### Hierarchical Clustering"
   ]
  },
  {
   "cell_type": "code",
   "execution_count": null,
   "id": "0d474b88-f9f5-4b9a-ad38-067be6f9ddc7",
   "metadata": {},
   "outputs": [],
   "source": []
  },
  {
   "cell_type": "markdown",
   "id": "d3f96e85-c205-431c-a6da-2250e74477c9",
   "metadata": {},
   "source": [
    "#### Hierarchical Clustering Summary:"
   ]
  },
  {
   "cell_type": "markdown",
   "id": "756ee6f2-b20f-4cf1-b5a5-7ac59e49a811",
   "metadata": {},
   "source": [
    "### Clustering Summary:"
   ]
  },
  {
   "cell_type": "markdown",
   "id": "c82f1f8a-d0c8-46b1-a996-bf4feb106b76",
   "metadata": {
    "tags": []
   },
   "source": [
    "## Dimensionality Reduction"
   ]
  },
  {
   "cell_type": "code",
   "execution_count": null,
   "id": "892fcbc5-7ed0-498d-ab3b-5b79ca012fc3",
   "metadata": {},
   "outputs": [],
   "source": []
  },
  {
   "cell_type": "markdown",
   "id": "3f371e24-b890-491f-a9c4-448af05e6817",
   "metadata": {},
   "source": [
    "### Dimensionality Reduction and Feature Exploration Summary:"
   ]
  },
  {
   "cell_type": "markdown",
   "id": "abe0501a-7f8e-426d-9601-53f417746220",
   "metadata": {
    "tags": []
   },
   "source": [
    "# Modeling"
   ]
  },
  {
   "cell_type": "markdown",
   "id": "116a72c6-ef7a-41da-840b-6214f7f94348",
   "metadata": {
    "tags": []
   },
   "source": [
    "## Baseline:"
   ]
  },
  {
   "cell_type": "code",
   "execution_count": null,
   "id": "241947e9-1582-423d-a35d-3bd181ad4c20",
   "metadata": {},
   "outputs": [],
   "source": []
  },
  {
   "cell_type": "markdown",
   "id": "5a5b6f9f-d1c1-437c-8227-33e8be8559e1",
   "metadata": {},
   "source": [
    "### Baseline Summary:"
   ]
  },
  {
   "cell_type": "markdown",
   "id": "0fe808e6-aa27-4594-a3c3-f71c4a66965e",
   "metadata": {
    "tags": []
   },
   "source": [
    "## Evaluation Metrics"
   ]
  },
  {
   "cell_type": "code",
   "execution_count": null,
   "id": "f117265a-07ed-467b-9169-a13db22c350e",
   "metadata": {},
   "outputs": [],
   "source": []
  },
  {
   "cell_type": "markdown",
   "id": "1520f8c0-fab5-4254-b95d-8e31b0cbd207",
   "metadata": {
    "tags": []
   },
   "source": [
    "## Train and Validate Initial Models:"
   ]
  },
  {
   "cell_type": "markdown",
   "id": "a6142f7c-9acd-4d8a-91f9-85e947a51654",
   "metadata": {
    "tags": []
   },
   "source": [
    "### Decision Tree"
   ]
  },
  {
   "cell_type": "code",
   "execution_count": null,
   "id": "23746f93-466a-4d24-8fab-875f5b7f718b",
   "metadata": {},
   "outputs": [],
   "source": []
  },
  {
   "cell_type": "markdown",
   "id": "ddbdfead-bb2e-43bb-a7c9-a1779bd2069d",
   "metadata": {},
   "source": [
    "#### Decision Tree Summary: "
   ]
  },
  {
   "cell_type": "markdown",
   "id": "c0168990-f1da-4ddb-84cc-d683bbe0ced2",
   "metadata": {
    "tags": []
   },
   "source": [
    "### Random Forest"
   ]
  },
  {
   "cell_type": "code",
   "execution_count": null,
   "id": "27caf08b-410c-4c74-9ba0-b4452e0229a5",
   "metadata": {},
   "outputs": [],
   "source": []
  },
  {
   "cell_type": "markdown",
   "id": "655ef631-1594-4bfe-ad23-ad9b9c6ab530",
   "metadata": {},
   "source": [
    "#### Random Forst Summary:"
   ]
  },
  {
   "cell_type": "markdown",
   "id": "57e869ff-b9c9-469f-83c2-f3af4d00239d",
   "metadata": {
    "tags": []
   },
   "source": [
    "### KNN"
   ]
  },
  {
   "cell_type": "code",
   "execution_count": null,
   "id": "7c9e7aa8-cb65-4868-81a1-eb01aec98aff",
   "metadata": {},
   "outputs": [],
   "source": []
  },
  {
   "cell_type": "markdown",
   "id": "01a7abc4-15cb-4507-9af0-c9fac7756dc0",
   "metadata": {},
   "source": [
    "#### KNN Summary:"
   ]
  },
  {
   "cell_type": "markdown",
   "id": "a45e6b76-ee34-459a-bd59-5b99934ba81a",
   "metadata": {
    "tags": []
   },
   "source": [
    "### Logistic Regression"
   ]
  },
  {
   "cell_type": "code",
   "execution_count": null,
   "id": "f166ff10-f3b0-43f3-ab83-d8f7da905ba0",
   "metadata": {},
   "outputs": [],
   "source": []
  },
  {
   "cell_type": "markdown",
   "id": "2687dd48-484c-47bf-92fe-a5aa0deb2b9c",
   "metadata": {},
   "source": [
    "#### Logistic Regression Summary:"
   ]
  },
  {
   "cell_type": "markdown",
   "id": "bc60a288-9bff-4868-b68d-b98347e6d512",
   "metadata": {
    "tags": []
   },
   "source": [
    "### SVM"
   ]
  },
  {
   "cell_type": "code",
   "execution_count": null,
   "id": "eebd9b79-1bc3-4402-9f8b-00f4d7e510f2",
   "metadata": {},
   "outputs": [],
   "source": []
  },
  {
   "cell_type": "markdown",
   "id": "573989b4-ecfb-4658-875f-f33ef7f50686",
   "metadata": {},
   "source": [
    "#### SVM Summary:"
   ]
  },
  {
   "cell_type": "markdown",
   "id": "b5677135-d179-4b20-925e-9e9122788870",
   "metadata": {
    "tags": []
   },
   "source": [
    "### Ensemble"
   ]
  },
  {
   "cell_type": "code",
   "execution_count": null,
   "id": "c452a2e6-32c8-43e6-a02c-46d1ee03f295",
   "metadata": {},
   "outputs": [],
   "source": []
  },
  {
   "cell_type": "markdown",
   "id": "11ff80bf-9c09-40ad-bcd8-7902422855b0",
   "metadata": {},
   "source": [
    "#### Ensemble Summary:"
   ]
  },
  {
   "cell_type": "code",
   "execution_count": null,
   "id": "cbf388ab-2087-4ee1-8a56-79b3b3e281aa",
   "metadata": {},
   "outputs": [],
   "source": []
  },
  {
   "cell_type": "markdown",
   "id": "752bc558-4234-4dbc-9d60-b365ed2daaff",
   "metadata": {},
   "source": [
    "### Train and Validate Initial Models Summary:"
   ]
  },
  {
   "cell_type": "markdown",
   "id": "fd99a94b-195a-4dc5-bf95-e58a291d7563",
   "metadata": {
    "tags": []
   },
   "source": [
    "## Test Final Models"
   ]
  },
  {
   "cell_type": "code",
   "execution_count": null,
   "id": "0a6c7151-82aa-4a5f-9142-274423319207",
   "metadata": {},
   "outputs": [],
   "source": []
  },
  {
   "cell_type": "markdown",
   "id": "c1d19514-1c22-4a70-ad37-f37aaa4d9de8",
   "metadata": {},
   "source": [
    "### Test Final Model Summary:"
   ]
  },
  {
   "cell_type": "markdown",
   "id": "51af8802-fa89-4251-937d-324d77d38c33",
   "metadata": {},
   "source": [
    "## Modeling Summary:"
   ]
  },
  {
   "cell_type": "markdown",
   "id": "7ece60a8-2480-4277-bbfd-47b6e40ff66b",
   "metadata": {
    "tags": []
   },
   "source": [
    "# Conclusion:"
   ]
  },
  {
   "cell_type": "code",
   "execution_count": null,
   "id": "7f014b15-266f-409d-8552-f9b6ef705e21",
   "metadata": {},
   "outputs": [],
   "source": []
  }
 ],
 "metadata": {
  "kernelspec": {
   "display_name": "Python 3 (ipykernel)",
   "language": "python",
   "name": "python3"
  },
  "language_info": {
   "codemirror_mode": {
    "name": "ipython",
    "version": 3
   },
   "file_extension": ".py",
   "mimetype": "text/x-python",
   "name": "python",
   "nbconvert_exporter": "python",
   "pygments_lexer": "ipython3",
   "version": "3.9.7"
  }
 },
 "nbformat": 4,
 "nbformat_minor": 5
}
