{
 "cells": [
  {
   "cell_type": "markdown",
   "id": "4648ebee-10c0-482d-849f-a91a36888992",
   "metadata": {
    "tags": []
   },
   "source": [
    "# Retention Project Modeling Workbook"
   ]
  },
  {
   "cell_type": "markdown",
   "id": "684914ad-c9dd-4afa-a328-3323eabde8b0",
   "metadata": {},
   "source": [
    "## Questions beyond the data\n",
    "\n",
    "- Does data account for major changes? \n",
    "- Which students were fall to fall and spring to spring?\n",
    "- How to account for students who skip a semester?\n",
    "- How to make each student a single row and seperate students into subsamples?"
   ]
  },
  {
   "cell_type": "code",
   "execution_count": 1,
   "id": "ca524210-36be-4daf-9409-c005d55d012f",
   "metadata": {},
   "outputs": [],
   "source": [
    "# Import for Data Manipulation\n",
    "import pandas as pd\n",
    "import numpy as np \n",
    "\n",
    "# Import for Data Visualization\n",
    "import seaborn as sns\n",
    "from matplotlib import pyplot as plt\n",
    "import squarify\n",
    "\n",
    "# Import for data acquisition and prep\n",
    "import wrangle\n",
    "\n",
    "# Import for Scaling and Spliting the data\n",
    "from sklearn.model_selection import train_test_split\n",
    "from sklearn.preprocessing import MinMaxScaler\n",
    "from sklearn.impute import SimpleImputer\n",
    "\n",
    "# Import for hypothesis testing\n",
    "from scipy import stats\n",
    "\n",
    "# Import for Classification models\n",
    "from sklearn.tree import DecisionTreeClassifier, plot_tree\n",
    "from sklearn.ensemble import RandomForestClassifier\n",
    "from sklearn.neighbors import KNeighborsClassifier\n",
    "from sklearn.linear_model import LogisticRegression\n",
    "\n",
    "# Import for analysis of classification models\n",
    "from sklearn.metrics import classification_report\n",
    "from sklearn.metrics import confusion_matrix\n",
    "\n",
    "# Import for Clustering\n",
    "from sklearn.cluster import KMeans\n",
    "\n",
    "# Import to ignore warnings\n",
    "import warnings\n",
    "warnings.filterwarnings('ignore')\n",
    "\n",
    "# Set to see all rows and columns\n",
    "pd.options.display.max_columns = None\n",
    "pd.options.display.max_rows = None\n",
    "pd.options.display.max_colwidth = None"
   ]
  },
  {
   "cell_type": "code",
   "execution_count": 2,
   "id": "80f83b27-06b7-438e-a150-6c3166260f23",
   "metadata": {
    "tags": []
   },
   "outputs": [],
   "source": [
    "# Test Functions\n",
    "students, sparse_dummies = wrangle.prep_student_data(wrangle.acquire_student_data())\n",
    "# students.head()"
   ]
  },
  {
   "cell_type": "code",
   "execution_count": 3,
   "id": "4b68cdb0-f9ce-4a89-8dd6-79a046f6a01c",
   "metadata": {
    "tags": []
   },
   "outputs": [],
   "source": [
    "# Split Data for further exploration\n",
    "target = 'retained'\n",
    "train, validate, test = wrangle.split_data(students, target)\n",
    "# train.head()"
   ]
  },
  {
   "cell_type": "code",
   "execution_count": 4,
   "id": "2f825082-23d7-4ffd-b90a-59d7c2ad410f",
   "metadata": {
    "tags": []
   },
   "outputs": [
    {
     "data": {
      "text/html": [
       "<div>\n",
       "<style scoped>\n",
       "    .dataframe tbody tr th:only-of-type {\n",
       "        vertical-align: middle;\n",
       "    }\n",
       "\n",
       "    .dataframe tbody tr th {\n",
       "        vertical-align: top;\n",
       "    }\n",
       "\n",
       "    .dataframe thead th {\n",
       "        text-align: right;\n",
       "    }\n",
       "</style>\n",
       "<table border=\"1\" class=\"dataframe\">\n",
       "  <thead>\n",
       "    <tr style=\"text-align: right;\">\n",
       "      <th></th>\n",
       "      <th>reg_before_start</th>\n",
       "      <th>term_gpa</th>\n",
       "    </tr>\n",
       "  </thead>\n",
       "  <tbody>\n",
       "    <tr>\n",
       "      <th>434221</th>\n",
       "      <td>0.898204</td>\n",
       "      <td>0.305556</td>\n",
       "    </tr>\n",
       "    <tr>\n",
       "      <th>357083</th>\n",
       "      <td>0.239521</td>\n",
       "      <td>0.750000</td>\n",
       "    </tr>\n",
       "    <tr>\n",
       "      <th>418485</th>\n",
       "      <td>0.497006</td>\n",
       "      <td>0.500000</td>\n",
       "    </tr>\n",
       "    <tr>\n",
       "      <th>178811</th>\n",
       "      <td>0.407186</td>\n",
       "      <td>1.000000</td>\n",
       "    </tr>\n",
       "    <tr>\n",
       "      <th>100114</th>\n",
       "      <td>0.497006</td>\n",
       "      <td>0.639167</td>\n",
       "    </tr>\n",
       "  </tbody>\n",
       "</table>\n",
       "</div>"
      ],
      "text/plain": [
       "        reg_before_start  term_gpa\n",
       "434221          0.898204  0.305556\n",
       "357083          0.239521  0.750000\n",
       "418485          0.497006  0.500000\n",
       "178811          0.407186  1.000000\n",
       "100114          0.497006  0.639167"
      ]
     },
     "execution_count": 4,
     "metadata": {},
     "output_type": "execute_result"
    }
   ],
   "source": [
    "# Scale data\n",
    "train_scaled, validate_scaled, test_scaled = wrangle.scale_data(train,validate,test)\n",
    "train_scaled.head()"
   ]
  },
  {
   "cell_type": "markdown",
   "id": "48970fa8-5d9b-4a01-844c-b0b839791a6e",
   "metadata": {
    "tags": []
   },
   "source": [
    "# TODO\n",
    "\n",
    "## Feature Engineering\n",
    "\n",
    "- term_gpa only missing a few, spike near 0.0, spike near 4.0, 2.0 and higher seems to be a much larger group than 2.0 and below. (possible clusters?)\n",
    "\n",
    "- reg_before_start spike between 75 and 100, below 75 higher than above 100, external research shows an average of 85 days for reg to spring semester and 140 for reg to fall (Possible Feature, cluster or both)\n",
    "\n",
    "- column for major change status? Does this affect other columns stats?\n",
    "\n",
    "- How to account for students who skip a semester (Counted as not retained but returned the following semester)?\n",
    "\n",
    "## Clustering\n",
    "\n",
    "- term gpa clusters?\n",
    "\n",
    "- reg_before_start cluster?\n",
    "\n",
    "- efc cluster?\n",
    "\n",
    "- catagorical clustering?\n",
    "\n",
    "- Spherical Kmeans\n",
    "\n",
    "- Distance measures? (Jaccard)\n",
    "\n",
    "## Dimensionality reduction\n",
    "\n",
    "- How do you compare smaller populations importance of retention to the overall population?\n",
    "\n",
    "- Rank values by their Retention percentage (feature? or dimensionality reduction? (regularization?))\n",
    "\n",
    "## Model\n",
    "\n",
    "- Relationship between models and scale types. What needs what data\n",
    "\n",
    "- model distance types"
   ]
  },
  {
   "cell_type": "markdown",
   "id": "92d8a730-b9ae-44b7-8b72-77a5eb0b8c4f",
   "metadata": {
    "tags": []
   },
   "source": [
    "# Feature Exploration"
   ]
  },
  {
   "cell_type": "code",
   "execution_count": null,
   "id": "c8d57cea-960b-4500-9352-4aeb53de7d28",
   "metadata": {},
   "outputs": [],
   "source": []
  },
  {
   "cell_type": "code",
   "execution_count": null,
   "id": "d5f0bf63-b6d7-4466-86f1-779b6eb0b808",
   "metadata": {},
   "outputs": [],
   "source": []
  },
  {
   "cell_type": "markdown",
   "id": "eed648df-b58b-4815-b0c6-b2b7c427d316",
   "metadata": {
    "tags": []
   },
   "source": [
    "## Feature Engineering"
   ]
  },
  {
   "cell_type": "code",
   "execution_count": null,
   "id": "f6695a4b-8b42-4bb4-bb40-05795b7bc6fb",
   "metadata": {},
   "outputs": [],
   "source": []
  },
  {
   "cell_type": "code",
   "execution_count": null,
   "id": "ed3f8ec3-8b31-4a74-adba-184f581bb489",
   "metadata": {},
   "outputs": [],
   "source": []
  },
  {
   "cell_type": "markdown",
   "id": "0ba0186a-a7a5-4671-9de0-9fbe2b4bd3ee",
   "metadata": {},
   "source": [
    "### Feature Engineering Summary:"
   ]
  },
  {
   "cell_type": "markdown",
   "id": "19813692-ce14-4207-bf1d-b26a3048cf0a",
   "metadata": {
    "tags": []
   },
   "source": [
    "## Clustering"
   ]
  },
  {
   "cell_type": "markdown",
   "id": "d4bed17f-67cd-43b4-9c19-2ea47a8a5bc3",
   "metadata": {
    "tags": []
   },
   "source": [
    "### K-modes"
   ]
  },
  {
   "cell_type": "code",
   "execution_count": 5,
   "id": "8cc97612-b54e-4a24-9add-5155992638bb",
   "metadata": {
    "tags": []
   },
   "outputs": [],
   "source": [
    "# from kmodes.kmodes import KModes\n",
    "\n",
    "# # reproduce results on small soybean data set\n",
    "# x = np.genfromtxt('soybean.csv', dtype=int, delimiter=',')[:, :-1]\n",
    "# y = np.genfromtxt('soybean.csv', dtype=str, delimiter=',', usecols=(35, ))\n",
    "\n",
    "# kmodes_huang = KModes(n_clusters=4, init='Huang', verbose=1)\n",
    "# kmodes_huang.fit(x)\n",
    "\n",
    "# # Print cluster centroids of the trained model.\n",
    "# print('k-modes (Huang) centroids:')\n",
    "# print(kmodes_huang.cluster_centroids_)\n",
    "# # Print training statistics\n",
    "# print(f'Final training cost: {kmodes_huang.cost_}')\n",
    "# print(f'Training iterations: {kmodes_huang.n_iter_}')\n",
    "\n",
    "# kmodes_cao = KModes(n_clusters=4, init='Cao', verbose=1)\n",
    "# kmodes_cao.fit(x)\n",
    "\n",
    "# # Print cluster centroids of the trained model.\n",
    "# print('k-modes (Cao) centroids:')\n",
    "# print(kmodes_cao.cluster_centroids_)\n",
    "# # Print training statistics\n",
    "# print(f'Final training cost: {kmodes_cao.cost_}')\n",
    "# print(f'Training iterations: {kmodes_cao.n_iter_}')\n",
    "\n",
    "# print('Results tables:')\n",
    "# for result in (kmodes_huang, kmodes_cao):\n",
    "#     classtable = np.zeros((4, 4), dtype=int)\n",
    "#     for ii, _ in enumerate(y):\n",
    "#         classtable[int(y[ii][-1]) - 1, result.labels_[ii]] += 1\n",
    "\n",
    "#     print(\"\\n\")\n",
    "#     print(\"    | Cl. 1 | Cl. 2 | Cl. 3 | Cl. 4 |\")\n",
    "#     print(\"----|-------|-------|-------|-------|\")\n",
    "#     for ii in range(4):\n",
    "#         prargs = tuple([ii + 1] + list(classtable[ii, :]))\n",
    "#         print(\" D{0} |    {1:>2} |    {2:>2} |    {3:>2} |    {4:>2} |\".format(*prargs))\n"
   ]
  },
  {
   "cell_type": "markdown",
   "id": "dde3915c-b96d-449f-97fa-ff26ada295c6",
   "metadata": {},
   "source": [
    "#### K-Modes Summary:"
   ]
  },
  {
   "cell_type": "markdown",
   "id": "df1a8a8c-ab65-40e2-9e30-66e9d1467351",
   "metadata": {
    "tags": []
   },
   "source": [
    "### K-prototypes"
   ]
  },
  {
   "cell_type": "code",
   "execution_count": 6,
   "id": "4d32cdd2-d0c5-4532-a8d5-5b917b9d1d32",
   "metadata": {
    "tags": []
   },
   "outputs": [],
   "source": [
    "# from kmodes.kprototypes import KPrototypes\n",
    "\n",
    "# # stocks with their market caps, sectors and countries\n",
    "# syms = np.genfromtxt('stocks.csv', dtype=str, delimiter=',')[:, 0]\n",
    "# X = np.genfromtxt('stocks.csv', dtype=object, delimiter=',')[:, 1:]\n",
    "# X[:, 0] = X[:, 0].astype(float)\n",
    "\n",
    "# kproto = KPrototypes(n_clusters=4, init='Cao', verbose=2)\n",
    "# clusters = kproto.fit_predict(X, categorical=[1, 2])\n",
    "\n",
    "# # Print cluster centroids of the trained model.\n",
    "# print(kproto.cluster_centroids_)\n",
    "# # Print training statistics\n",
    "# print(kproto.cost_)\n",
    "# print(kproto.n_iter_)\n",
    "\n",
    "# for s, c in zip(syms, clusters):\n",
    "#     print(f\"Symbol: {s}, cluster:{c}\")"
   ]
  },
  {
   "cell_type": "markdown",
   "id": "b4fa0b3e-0061-488f-a303-4772ae73a49f",
   "metadata": {},
   "source": [
    "#### K-prototypes Summary: "
   ]
  },
  {
   "cell_type": "markdown",
   "id": "11f65cf5-9ab3-4e82-b6e2-49ec8ab6d196",
   "metadata": {
    "tags": []
   },
   "source": [
    "### CART"
   ]
  },
  {
   "cell_type": "code",
   "execution_count": null,
   "id": "419f70cc-109a-4f6d-b492-5a30dfc14401",
   "metadata": {
    "tags": []
   },
   "outputs": [],
   "source": []
  },
  {
   "cell_type": "markdown",
   "id": "af6203d8-ca56-4cc1-900f-0d41fddfd479",
   "metadata": {},
   "source": [
    "#### CART Summary:"
   ]
  },
  {
   "cell_type": "markdown",
   "id": "10079e8d-299d-40ff-95a0-71868cb9bd4d",
   "metadata": {
    "tags": []
   },
   "source": [
    "### Hierarchical Clustering"
   ]
  },
  {
   "cell_type": "code",
   "execution_count": null,
   "id": "0d474b88-f9f5-4b9a-ad38-067be6f9ddc7",
   "metadata": {
    "tags": []
   },
   "outputs": [],
   "source": []
  },
  {
   "cell_type": "markdown",
   "id": "3ef91697-a398-458b-8b18-f787ac348bc8",
   "metadata": {},
   "source": [
    "#### Hierarchical Clustering Summary:"
   ]
  },
  {
   "cell_type": "markdown",
   "id": "82ed3a8c-18b2-4d6c-b7b8-ca0638120df0",
   "metadata": {
    "tags": []
   },
   "source": [
    "### SVM or tree reduction"
   ]
  },
  {
   "cell_type": "code",
   "execution_count": null,
   "id": "a961560f-d929-4559-956e-4861cade2a85",
   "metadata": {
    "tags": []
   },
   "outputs": [],
   "source": []
  },
  {
   "cell_type": "markdown",
   "id": "17e4a6e1-3d33-4f79-a381-1eec765af390",
   "metadata": {},
   "source": [
    "#### SVM or tree reduction Summary:"
   ]
  },
  {
   "cell_type": "markdown",
   "id": "37167d47-ed66-43c9-9d75-e9c23b758b22",
   "metadata": {},
   "source": [
    "### Clustering Summary:"
   ]
  },
  {
   "cell_type": "markdown",
   "id": "0331a241-9e01-4186-b7c8-4f1c5d57d158",
   "metadata": {
    "tags": []
   },
   "source": [
    "## Dimensionality Reduction"
   ]
  },
  {
   "cell_type": "code",
   "execution_count": 7,
   "id": "fbeb523a-de98-41d0-b98d-65e3de992f28",
   "metadata": {
    "tags": []
   },
   "outputs": [],
   "source": [
    "#train[train.columns[train.dtypes != 'object']].head()"
   ]
  },
  {
   "cell_type": "markdown",
   "id": "0add719d-f151-4a67-8e98-fcf5dad15512",
   "metadata": {
    "tags": []
   },
   "source": [
    "### Statistical Reduction"
   ]
  },
  {
   "cell_type": "code",
   "execution_count": 8,
   "id": "766bcaed-2915-4faf-891d-46f82f732c3b",
   "metadata": {},
   "outputs": [
    {
     "name": "stdout",
     "output_type": "stream",
     "text": [
      "race_ethn\n",
      "\n",
      "\n",
      "White                               263676\n",
      "Hispanic                             96997\n",
      "African American                     28147\n",
      "Two or more races                    18238\n",
      "Asian                                17760\n",
      "Missing/Unknown                      16043\n",
      "American Indian/Alaskan Native        2903\n",
      "Two or More Races                     2151\n",
      "International                         1405\n",
      "Native Hawaiian/Pacific Islander       766\n",
      "Name: race_ethn, dtype: int64\n",
      "\n",
      "\n",
      "fgen\n",
      "\n",
      "\n",
      "1GY    232156\n",
      "1GN    184874\n",
      "1GX     31056\n",
      "Name: fgen, dtype: int64\n",
      "\n",
      "\n",
      "student_year\n",
      "\n",
      "\n",
      "FR    122967\n",
      "JU    115323\n",
      "SE    105466\n",
      "SO    104330\n",
      "Name: student_year, dtype: int64\n",
      "\n",
      "\n",
      "enroll_type\n",
      "\n",
      "\n",
      "TRANSFER    232940\n",
      "FIRST       212915\n",
      "CONC          2231\n",
      "Name: enroll_type, dtype: int64\n",
      "\n",
      "\n",
      "cip\n",
      "\n",
      "\n",
      "52    84283\n",
      "24    53784\n",
      "50    29942\n",
      "42    28328\n",
      "26    27477\n",
      "43    22258\n",
      "13    19317\n",
      "23    17899\n",
      "15    17834\n",
      "30    16912\n",
      "51    16506\n",
      "44    14714\n",
      "31    14529\n",
      "45    13595\n",
      "11    11601\n",
      "49    11208\n",
      "54     9687\n",
      "9      9549\n",
      "40     8268\n",
      "3      7899\n",
      "27     4465\n",
      "16     4008\n",
      "38     1437\n",
      "5      1433\n",
      "14      970\n",
      "10      158\n",
      "1        20\n",
      "32        3\n",
      "29        2\n",
      "Name: cip, dtype: int64\n",
      "\n",
      "\n",
      "age_at_start_term\n",
      "\n",
      "\n",
      "19-22         171587\n",
      "23-29         146280\n",
      "30-older       91452\n",
      "18-younger     38767\n",
      "Name: age_at_start_term, dtype: int64\n",
      "\n",
      "\n",
      "act\n",
      "\n",
      "\n",
      "NADA          237743\n",
      "20 or more    123708\n",
      "Under 20       86635\n",
      "Name: act, dtype: int64\n",
      "\n",
      "\n",
      "depend_status\n",
      "\n",
      "\n",
      "IND    168514\n",
      "DEP    151344\n",
      "unk    128228\n",
      "Name: depend_status, dtype: int64\n",
      "\n",
      "\n",
      "yrs_since_start\n",
      "\n",
      "\n",
      "0            120882\n",
      "1            113863\n",
      "2             71936\n",
      "6 or more     48137\n",
      "3             46100\n",
      "4             29061\n",
      "5             18107\n",
      "Name: yrs_since_start, dtype: int64\n",
      "\n",
      "\n",
      "title\n",
      "\n",
      "\n",
      "business,_management,_marketing,_and_related_support_services                       84283\n",
      "liberal_arts_and_sciences,_general_studies_and_humanities                           53784\n",
      "visual_and_performing_arts                                                          29942\n",
      "psychology                                                                          28328\n",
      "biological_and_biomedical_sciences                                                  27477\n",
      "homeland_security,_law_enforcement,_firefighting_and_related_protective_services    22258\n",
      "education                                                                           19317\n",
      "english_language_and_literature/letters                                             17899\n",
      "engineering/engineering-related_technologies/technicians                            17834\n",
      "multi/interdisciplinary_studies                                                     16912\n",
      "health_professions_and_related_programs                                             16506\n",
      "public_administration_and_social_service_professions                                14714\n",
      "parks,_recreation,_leisure,_fitness,_and_kinesiology                                14529\n",
      "social_sciences                                                                     13595\n",
      "computer_and_information_sciences_and_support_services                              11601\n",
      "transportation_and_materials_moving                                                 11208\n",
      "history                                                                              9687\n",
      "communication,_journalism,_and_related_programs                                      9549\n",
      "physical_sciences                                                                    8268\n",
      "natural_resources_and_conservation                                                   7899\n",
      "mathematics_and_statistics                                                           4465\n",
      "foreign_languages,_literatures,_and_linguistics                                      4008\n",
      "philosophy_and_religious_studies                                                     1437\n",
      "area,_ethnic,_cultural,_gender,_and_group_studies                                    1433\n",
      "engineering                                                                           970\n",
      "communications_technologies/technicians_and_support_services                          158\n",
      "agricultural/animal/plant/veterinary_science_and_related_fields                        20\n",
      "basic_skills_and_developmental/remedial_education                                       3\n",
      "military_technologies_and_applied_sciences                                              2\n",
      "Name: title, dtype: int64\n",
      "\n",
      "\n"
     ]
    }
   ],
   "source": [
    "variables = students.columns[students.dtypes == 'object']\n",
    "\n",
    "for col in variables:\n",
    "    print(f'{col}\\n\\n\\n{students[col].value_counts(dropna=False)}\\n\\n')"
   ]
  },
  {
   "cell_type": "markdown",
   "id": "417082e7-9cea-43a2-b27b-804e8c922b0d",
   "metadata": {},
   "source": []
  },
  {
   "cell_type": "code",
   "execution_count": null,
   "id": "695c4046-c2a3-4075-98cd-77caa6fac36a",
   "metadata": {},
   "outputs": [],
   "source": []
  },
  {
   "cell_type": "code",
   "execution_count": null,
   "id": "eaa26bca-ad2f-4913-ba21-efe86a79af75",
   "metadata": {},
   "outputs": [],
   "source": []
  },
  {
   "cell_type": "code",
   "execution_count": null,
   "id": "4302b1b4-d37c-4b4c-bf94-1db89dfe74b0",
   "metadata": {},
   "outputs": [],
   "source": []
  },
  {
   "cell_type": "code",
   "execution_count": null,
   "id": "2543226e-0fde-4a47-a178-b27d8e519940",
   "metadata": {},
   "outputs": [],
   "source": []
  },
  {
   "cell_type": "code",
   "execution_count": null,
   "id": "246e1658-3c82-423b-a690-3a84b92ad197",
   "metadata": {},
   "outputs": [],
   "source": []
  },
  {
   "cell_type": "code",
   "execution_count": null,
   "id": "6225a135-5793-425f-885c-90e7a269e065",
   "metadata": {},
   "outputs": [],
   "source": []
  },
  {
   "cell_type": "markdown",
   "id": "75ff81e6-ed13-46d5-8542-b5850d76553d",
   "metadata": {},
   "source": [
    "#### Statistical Reduction Summary:"
   ]
  },
  {
   "cell_type": "markdown",
   "id": "5af7ce69-83bd-4b67-9f59-b5cf8f4eb4ce",
   "metadata": {
    "tags": []
   },
   "source": [
    "### SelectKBest"
   ]
  },
  {
   "cell_type": "code",
   "execution_count": 9,
   "id": "113de884-385a-4f22-ba24-c3521e9afd94",
   "metadata": {
    "tags": []
   },
   "outputs": [],
   "source": [
    "# # Import selectkbest from sklearn\n",
    "# from sklearn.feature_selection import SelectKBest, chi2\n",
    "\n",
    "# df = train[train.columns[train.dtypes != 'object']].head()\n",
    "\n",
    "# X_df = df.drop(columns ='retained')\n",
    "# y_df = df.retained\n",
    "\n",
    "# # select K best features\n",
    "# X_best = SelectKBest(chi2, k='all').fit(X_df,y_df)\n",
    "\n",
    "# X_df_X_best = X_best.transform(X_df)\n",
    " \n",
    "# feature_mask = X_best.get_support()\n",
    "\n",
    "# f_feature = X_df.iloc[:,feature_mask].columns.tolist()\n",
    "\n",
    "# f_feature"
   ]
  },
  {
   "cell_type": "code",
   "execution_count": 10,
   "id": "c692a619-6deb-44d6-8180-bff8155681f7",
   "metadata": {
    "tags": []
   },
   "outputs": [],
   "source": [
    "# X_df.columns"
   ]
  },
  {
   "cell_type": "code",
   "execution_count": 11,
   "id": "3a564875-96d9-416b-a677-f3cc2f9bef8b",
   "metadata": {
    "tags": []
   },
   "outputs": [],
   "source": [
    "# train[['depend_status','yrs_since_start']].value_counts(normalize=True)\n",
    "# train.shape"
   ]
  },
  {
   "cell_type": "code",
   "execution_count": 12,
   "id": "06541270-66c3-4437-ac1b-8fd24da2fe74",
   "metadata": {
    "tags": []
   },
   "outputs": [],
   "source": [
    "# train.groupby(['depend_status','yrs_since_start']).retained.mean()"
   ]
  },
  {
   "cell_type": "code",
   "execution_count": 13,
   "id": "5b9db248-4521-4788-b69e-97a2d1151503",
   "metadata": {
    "tags": []
   },
   "outputs": [],
   "source": [
    "# train.act.value_counts(normalize=True)"
   ]
  },
  {
   "cell_type": "code",
   "execution_count": 14,
   "id": "0473ed15-13a5-4e38-88a2-9e191ddcab96",
   "metadata": {
    "tags": []
   },
   "outputs": [],
   "source": [
    "# train.groupby(['depend_status','yrs_since_start','act']).retained.mean().sort_values()"
   ]
  },
  {
   "cell_type": "markdown",
   "id": "1d093b6d-cc33-4a69-b9f8-2f7790326fbc",
   "metadata": {},
   "source": [
    "#### SelectKBest Summary: Need to fix later. SelectKBest is just returning the last columns in the column list with no data. Running low on time come back round 2."
   ]
  },
  {
   "cell_type": "markdown",
   "id": "a141aca2-e9fa-4f6c-8afe-b446f962eca5",
   "metadata": {
    "tags": []
   },
   "source": [
    "### Recursive Feature Elimination"
   ]
  },
  {
   "cell_type": "code",
   "execution_count": 15,
   "id": "1bd4efe6-e2f8-4961-b4e9-2ef6bddffddc",
   "metadata": {
    "tags": []
   },
   "outputs": [],
   "source": [
    "# # Import RFE from Sklearn\n",
    "# from sklearn.feature_selection import RFE\n",
    "\n",
    "# # initialize Linear Regression model\n",
    "# lm = LinearRegression()\n",
    "\n",
    "# # Create Recursive Feature Elimination model\n",
    "# rfe = RFE(lm, n_features_to_select=3)\n",
    "\n",
    "# # fit the model\n",
    "# rfe.fit(X_train_scaled, y_train)\n",
    "\n",
    "# # get mask of columns selected\n",
    "# feature_mask = rfe.support_\n",
    "\n",
    "# # get list of selected column names\n",
    "# rfe_feature = X_train_scaled.iloc[:,feature_mask].columns.tolist()\n",
    "\n",
    "# # Create list of variables and their ranking\n",
    "\n",
    "# # ranks\n",
    "# var_ranks = rfe.ranking_\n",
    "\n",
    "# # names\n",
    "# var_names = X_train_scaled.columns.tolist()\n",
    "\n",
    "# # combine to dataframe\n",
    "# rfe_ranks_df = pd.DataFrame({'Variable' : var_names, 'Rank' : var_ranks})\n",
    "\n",
    "# # sort\n",
    "# rfe_ranks_df.sort_values('Rank')"
   ]
  },
  {
   "cell_type": "markdown",
   "id": "510845b8-c0d2-4e86-aaad-3faa182ea42e",
   "metadata": {},
   "source": [
    "#### RFE Summary:"
   ]
  },
  {
   "cell_type": "markdown",
   "id": "897109b3-7f1b-492f-958e-fe0d1ded0a3d",
   "metadata": {
    "jp-MarkdownHeadingCollapsed": true,
    "tags": []
   },
   "source": [
    "### Dimensionality Reduction and Feature Exploration Summary:"
   ]
  },
  {
   "cell_type": "markdown",
   "id": "6152796f-0b5f-4d14-ad02-d5c6ddb29102",
   "metadata": {
    "tags": []
   },
   "source": [
    "# Modeling"
   ]
  },
  {
   "cell_type": "markdown",
   "id": "8407b318-3e0f-472d-999a-462ed29ba6c9",
   "metadata": {
    "tags": []
   },
   "source": [
    "## Baseline:"
   ]
  },
  {
   "cell_type": "code",
   "execution_count": 41,
   "id": "aabba0d2-4553-4fe0-b8c9-ee8ab86cd870",
   "metadata": {},
   "outputs": [],
   "source": [
    "model_train = train[train.columns[(train.dtypes != 'object') & (train.columns != 'id')]]\n",
    "model_validate = validate[validate.columns[(validate.dtypes != 'object') & (validate.columns != 'id')]]\n",
    "model_test = train[test.columns[(test.dtypes != 'object') & (test.columns != 'id')]]"
   ]
  },
  {
   "cell_type": "code",
   "execution_count": 42,
   "id": "241947e9-1582-423d-a35d-3bd181ad4c20",
   "metadata": {
    "tags": []
   },
   "outputs": [],
   "source": [
    "# model_train.head()"
   ]
  },
  {
   "cell_type": "code",
   "execution_count": 43,
   "id": "0df1642b-e3a3-4619-b6a5-6904bd8c8097",
   "metadata": {
    "tags": []
   },
   "outputs": [
    {
     "name": "stdout",
     "output_type": "stream",
     "text": [
      "              precision    recall  f1-score   support\n",
      "\n",
      "           0       0.00      0.00      0.00     80251\n",
      "           1       0.68      1.00      0.81    170676\n",
      "\n",
      "    accuracy                           0.68    250927\n",
      "   macro avg       0.34      0.50      0.40    250927\n",
      "weighted avg       0.46      0.68      0.55    250927\n",
      "\n"
     ]
    }
   ],
   "source": [
    "# Setting a baseline of Retained or 1\n",
    "\n",
    "# We use the DummyClassifier from sklearn to create a baseline accuracy.\n",
    "from sklearn.dummy import DummyClassifier \n",
    "\n",
    "# Here we create and fit the model\n",
    "dummy = DummyClassifier(strategy='most_frequent', random_state = 1729, constant = None)\n",
    "dummy.fit(model_train[model_train.columns[model_train.columns != 'retained']], model_train.retained)   \n",
    "\n",
    "# Here we create our predictions\n",
    "y_pred = dummy.predict(model_train[model_train.columns[model_train.columns != 'retained']])\n",
    "\n",
    "# Check report for current baseline accuracy: 0.73\n",
    "print(classification_report(model_train.retained, y_pred))"
   ]
  },
  {
   "cell_type": "markdown",
   "id": "e310a10b-3645-4943-b886-4a75bc272499",
   "metadata": {
    "tags": []
   },
   "source": [
    "### Baseline Summary: Our baseline value will be retained as it is the mode of retention predictions."
   ]
  },
  {
   "cell_type": "markdown",
   "id": "03295794-e610-40fd-8929-dd944de8a8f3",
   "metadata": {
    "tags": []
   },
   "source": [
    "## Evaluation Metrics"
   ]
  },
  {
   "cell_type": "markdown",
   "id": "d982fe09-b40f-4886-89fb-4790a89792c8",
   "metadata": {},
   "source": [
    "The metric I will use for evaluation is \n"
   ]
  },
  {
   "cell_type": "markdown",
   "id": "eaaefebd-6de3-470a-877a-41ff36f3c381",
   "metadata": {
    "tags": []
   },
   "source": [
    "## Train Initial Models:"
   ]
  },
  {
   "cell_type": "markdown",
   "id": "7e43945c-c94a-462f-a0b7-c9f101c8e808",
   "metadata": {
    "tags": []
   },
   "source": [
    "### Decision Tree"
   ]
  },
  {
   "cell_type": "code",
   "execution_count": 44,
   "id": "38d89631-2700-4e4c-94e0-75af77e318e7",
   "metadata": {
    "tags": []
   },
   "outputs": [],
   "source": [
    "# train[train.columns[train.dtypes != 'object']].head()"
   ]
  },
  {
   "cell_type": "code",
   "execution_count": 45,
   "id": "23746f93-466a-4d24-8fab-875f5b7f718b",
   "metadata": {
    "tags": []
   },
   "outputs": [
    {
     "name": "stdout",
     "output_type": "stream",
     "text": [
      "              precision    recall  f1-score   support\n",
      "\n",
      "           0       0.81      0.52      0.63     80251\n",
      "           1       0.81      0.94      0.87    170676\n",
      "\n",
      "    accuracy                           0.81    250927\n",
      "   macro avg       0.81      0.73      0.75    250927\n",
      "weighted avg       0.81      0.81      0.79    250927\n",
      "\n"
     ]
    }
   ],
   "source": [
    "# Import the sklearn Decision Tree Classifier\n",
    "from sklearn.tree import DecisionTreeClassifier\n",
    "\n",
    "# Split the data\n",
    "x_train_dt, y_train_dt = wrangle.model_split(model_train, 'retained')\n",
    "\n",
    "# Create the model\n",
    "dtc = DecisionTreeClassifier(max_depth=4, random_state=1729)\n",
    "\n",
    "# Fit the model to training set\n",
    "dtc = dtc.fit(x_train_dt, y_train_dt)\n",
    "\n",
    "# Predict on trianing set\n",
    "y_pred_dt = dtc.predict(x_train_dt)\n",
    "\n",
    "# Print the report\n",
    "print(classification_report(y_train_dt, y_pred_dt))"
   ]
  },
  {
   "cell_type": "code",
   "execution_count": 46,
   "id": "953cfe00-59bc-4cef-9ecb-d50e71d0d3a6",
   "metadata": {
    "tags": []
   },
   "outputs": [
    {
     "data": {
      "image/png": "[encoded data removed]",
      "text/plain": [
       "<Figure size 1800x1440 with 1 Axes>"
      ]
     },
     "metadata": {
      "needs_background": "light"
     },
     "output_type": "display_data"
    }
   ],
   "source": [
    "plt.figure(figsize=(25,20))\n",
    "plot_tree(dtc, feature_names = x_train_dt.columns, class_names=['Yes','No'])\n",
    "plt.show()"
   ]
  },
  {
   "cell_type": "markdown",
   "id": "94f5e7e6-d313-4114-87aa-5c683fd66165",
   "metadata": {
    "jp-MarkdownHeadingCollapsed": true,
    "tags": []
   },
   "source": [
    "#### Decision Tree Summary: "
   ]
  },
  {
   "cell_type": "markdown",
   "id": "40b048a7-add1-4007-90f5-922fbe9003b8",
   "metadata": {
    "tags": []
   },
   "source": [
    "### Random Forest"
   ]
  },
  {
   "cell_type": "code",
   "execution_count": 47,
   "id": "27caf08b-410c-4c74-9ba0-b4452e0229a5",
   "metadata": {
    "tags": []
   },
   "outputs": [
    {
     "name": "stdout",
     "output_type": "stream",
     "text": [
      "              precision    recall  f1-score   support\n",
      "\n",
      "           0       0.88      0.28      0.42     80251\n",
      "           1       0.74      0.98      0.85    170676\n",
      "\n",
      "    accuracy                           0.76    250927\n",
      "   macro avg       0.81      0.63      0.63    250927\n",
      "weighted avg       0.79      0.76      0.71    250927\n",
      "\n"
     ]
    }
   ],
   "source": [
    "x_train_rf, y_train_rf = wrangle.model_split(model_train, 'retained')\n",
    "rf = RandomForestClassifier(min_samples_leaf=3,\n",
    "                            max_depth=3, \n",
    "                            random_state=1729)\n",
    "rf.fit(x_train_rf, y_train_rf)\n",
    "y_pred_rf = rf.predict(x_train_rf)\n",
    "\n",
    "print(classification_report(y_train_rf, y_pred_rf))"
   ]
  },
  {
   "cell_type": "markdown",
   "id": "56603832-bb17-4dd2-a075-c92ecd130198",
   "metadata": {},
   "source": [
    "#### Random Forst Summary:"
   ]
  },
  {
   "cell_type": "markdown",
   "id": "aeb94aa8-65eb-47a2-a266-1236ef47ab0e",
   "metadata": {
    "tags": []
   },
   "source": [
    "### KNN"
   ]
  },
  {
   "cell_type": "code",
   "execution_count": 48,
   "id": "7c9e7aa8-cb65-4868-81a1-eb01aec98aff",
   "metadata": {
    "tags": []
   },
   "outputs": [],
   "source": [
    "# # Import the sklearn knn classifier\n",
    "# from sklearn.neighbors import KNeighborsClassifier\n",
    "# from sklearn.preprocessing import StandardScaler\n",
    "\n",
    "# # split the data\n",
    "# x_train, y_train, = wrangle.model_split(model_train, 'retained')\n",
    "# x_validate, y_validate, = wrangle.model_split(model_validate, 'retained')\n",
    "# x_test, y_test, = wrangle.model_split(model_test, 'retained')\n",
    "\n",
    "# stan_scal = StandardScaler()\n",
    "# x_train = stan_scal.fit_transform(x_train)\n",
    "# x_validate = stan_scal.transform(x_validate)\n",
    "# x_test = stan_scal.transform(x_test)\n",
    "\n",
    "# error_rate = []\n",
    "# for i in range(1,20):\n",
    "#     knn = KNeighborsClassifier(n_neighbors=i)\n",
    "#     knn.fit(x_train,y_train)\n",
    "#     pred_i = knn.predict(x_test)\n",
    "#     error_rate.append(np.mean(pred_i != y_test.T))\n",
    "\n",
    "# plt.figure(figsize=(10,6))\n",
    "# plt.plot(range(1,40),error_rate,color='blue', linestyle='dashed',marker='o',markerfacecolor='red', markersize=10)\n",
    "# plt.title('Error Rate vs. K Value')\n",
    "# plt.xlabel('K')\n",
    "# plt.ylabel('Error Rate')\n",
    "# req_k_value = error_rate.index(min(error_rate))+1\n",
    "# print(\"Minimum error:-\",min(error_rate),\"at K =\",req_k_value)\n"
   ]
  },
  {
   "cell_type": "code",
   "execution_count": 49,
   "id": "f8f84bc2-36ad-4b89-9461-ec842495345f",
   "metadata": {
    "tags": []
   },
   "outputs": [],
   "source": [
    "# pred_i.dtype"
   ]
  },
  {
   "cell_type": "code",
   "execution_count": 50,
   "id": "39f1371f-0b60-467a-b3ce-08569b172993",
   "metadata": {
    "tags": []
   },
   "outputs": [],
   "source": [
    "# # Create the model\n",
    "# knn = KNeighborsClassifier(n_neighbors=, metric='jaccard')\n",
    "\n",
    "# # Fit the model to training set\n",
    "# knn.fit(x_train_knn, y_train_knn)\n",
    "\n",
    "# # Predict on training set\n",
    "# y_pred_knn = knn.predict(x_train_knn)\n",
    "\n",
    "# # Print the report\n",
    "# print(classification_report(y_train_knn, y_pred_knn))"
   ]
  },
  {
   "cell_type": "markdown",
   "id": "2ac2acfa-633b-4561-a245-35aed051608b",
   "metadata": {},
   "source": [
    "#### KNN Summary:"
   ]
  },
  {
   "cell_type": "markdown",
   "id": "ff034986-8c34-4017-8526-83fb245b3ea1",
   "metadata": {
    "tags": []
   },
   "source": [
    "### Logistic Regression"
   ]
  },
  {
   "cell_type": "code",
   "execution_count": 51,
   "id": "f166ff10-f3b0-43f3-ab83-d8f7da905ba0",
   "metadata": {
    "tags": []
   },
   "outputs": [
    {
     "name": "stdout",
     "output_type": "stream",
     "text": [
      "              precision    recall  f1-score   support\n",
      "\n",
      "           0       0.77      0.56      0.65     80251\n",
      "           1       0.82      0.92      0.87    170676\n",
      "\n",
      "    accuracy                           0.81    250927\n",
      "   macro avg       0.79      0.74      0.76    250927\n",
      "weighted avg       0.80      0.81      0.80    250927\n",
      "\n"
     ]
    }
   ],
   "source": [
    "# Import sklearn logistic Regression classifier\n",
    "from sklearn.linear_model import LogisticRegression\n",
    "\n",
    "# Split the data\n",
    "x_train_lr, y_train_lr = wrangle.model_split(model_train, 'retained')\n",
    "\n",
    "# Create the model\n",
    "logit = LogisticRegression(C=10, random_state=1729)\n",
    "\n",
    "# Fit the model to training set\n",
    "logit.fit(x_train_lr, y_train_lr)\n",
    "\n",
    "# Predict on training set\n",
    "y_pred_lr = logit.predict(x_train_lr)\n",
    "\n",
    "# Print the report\n",
    "print(classification_report(y_train_lr, y_pred_lr))"
   ]
  },
  {
   "cell_type": "markdown",
   "id": "8ef17b5d-5aea-4525-b117-1b6ba068d35f",
   "metadata": {},
   "source": [
    "#### Logistic Regression Summary:"
   ]
  },
  {
   "cell_type": "markdown",
   "id": "a89370b6-626d-44b9-b48f-d032d871449e",
   "metadata": {
    "tags": []
   },
   "source": [
    "### SVM"
   ]
  },
  {
   "cell_type": "code",
   "execution_count": null,
   "id": "eebd9b79-1bc3-4402-9f8b-00f4d7e510f2",
   "metadata": {
    "tags": []
   },
   "outputs": [],
   "source": []
  },
  {
   "cell_type": "markdown",
   "id": "999df8df-e192-4ece-8975-7de9143dd4a3",
   "metadata": {},
   "source": [
    "#### SVM Summary:"
   ]
  },
  {
   "cell_type": "markdown",
   "id": "fc73fade-3a04-46c2-b7fd-1c61ea6b28de",
   "metadata": {
    "tags": []
   },
   "source": [
    "### Ensemble"
   ]
  },
  {
   "cell_type": "code",
   "execution_count": null,
   "id": "c452a2e6-32c8-43e6-a02c-46d1ee03f295",
   "metadata": {
    "tags": []
   },
   "outputs": [],
   "source": []
  },
  {
   "cell_type": "markdown",
   "id": "d6084e72-d0f6-4459-801c-1221a6612b7c",
   "metadata": {},
   "source": [
    "#### Ensemble Summary:"
   ]
  },
  {
   "cell_type": "markdown",
   "id": "e252b3ac-a91e-4857-b3cc-02214efd0b47",
   "metadata": {
    "jp-MarkdownHeadingCollapsed": true,
    "tags": []
   },
   "source": [
    "### Train Initial Models Summary:"
   ]
  },
  {
   "cell_type": "markdown",
   "id": "00a802c9-8770-4b76-957b-1c5e2229bee4",
   "metadata": {
    "tags": []
   },
   "source": [
    "## Validate Top Models"
   ]
  },
  {
   "cell_type": "code",
   "execution_count": null,
   "id": "df7817a5-85b1-44c5-a7ff-8b242a5a433c",
   "metadata": {},
   "outputs": [],
   "source": []
  },
  {
   "cell_type": "code",
   "execution_count": 52,
   "id": "f485430e-2646-40c1-beb3-1c571a41f682",
   "metadata": {
    "tags": []
   },
   "outputs": [
    {
     "name": "stdout",
     "output_type": "stream",
     "text": [
      "              precision    recall  f1-score   support\n",
      "\n",
      "           0       0.81      0.52      0.63     34394\n",
      "           1       0.81      0.94      0.87     73147\n",
      "\n",
      "    accuracy                           0.81    107541\n",
      "   macro avg       0.81      0.73      0.75    107541\n",
      "weighted avg       0.81      0.81      0.79    107541\n",
      "\n"
     ]
    }
   ],
   "source": [
    "# Validate Decision Tree\n",
    "x_validate_dt, y_validate_dt = wrangle.model_split(model_validate, 'retained')\n",
    "y_pred_val_dt = dtc.predict(x_validate_dt)\n",
    "\n",
    "print(classification_report(y_validate_dt, y_pred_val_dt))"
   ]
  },
  {
   "cell_type": "code",
   "execution_count": 53,
   "id": "b552aa77-b2d3-4cb1-8fed-0fd2e06f3835",
   "metadata": {
    "tags": []
   },
   "outputs": [
    {
     "name": "stdout",
     "output_type": "stream",
     "text": [
      "              precision    recall  f1-score   support\n",
      "\n",
      "           0       0.88      0.28      0.42     34394\n",
      "           1       0.74      0.98      0.85     73147\n",
      "\n",
      "    accuracy                           0.76    107541\n",
      "   macro avg       0.81      0.63      0.63    107541\n",
      "weighted avg       0.79      0.76      0.71    107541\n",
      "\n"
     ]
    }
   ],
   "source": [
    "# Validate Random Forest \n",
    "x_validate_rf, y_validate_rf = wrangle.model_split(model_validate, 'retained')\n",
    "y_pred_val_rf = rf.predict(x_validate_rf)\n",
    "\n",
    "print(classification_report(y_validate_rf, y_pred_val_rf))"
   ]
  },
  {
   "cell_type": "code",
   "execution_count": 54,
   "id": "30bee4cf-915b-4fbc-8b48-b187407fb82c",
   "metadata": {
    "tags": []
   },
   "outputs": [],
   "source": [
    "# # Validate KNN\n",
    "# x_validate_knn, y_validate_knn = wrangle.model_split(model_validate, 'retained')\n",
    "# y_pred_val_knn = knn.predict(x_validate_knn)\n",
    "\n",
    "# print(classification_report(y_validate_knn, y_pred_val_knn))"
   ]
  },
  {
   "cell_type": "code",
   "execution_count": 55,
   "id": "ef846933-f2a5-4979-b2a5-0de74cedf68a",
   "metadata": {
    "tags": []
   },
   "outputs": [
    {
     "name": "stdout",
     "output_type": "stream",
     "text": [
      "              precision    recall  f1-score   support\n",
      "\n",
      "           0       0.77      0.56      0.65     34394\n",
      "           1       0.82      0.92      0.87     73147\n",
      "\n",
      "    accuracy                           0.81    107541\n",
      "   macro avg       0.79      0.74      0.76    107541\n",
      "weighted avg       0.80      0.81      0.80    107541\n",
      "\n"
     ]
    }
   ],
   "source": [
    "# # Validate Logistic Regression\n",
    "x_validate_lr, y_validate_lr = wrangle.model_split(model_validate, 'retained')\n",
    "y_pred_val_lr = logit.predict(x_validate_lr)\n",
    "\n",
    "print(classification_report(y_validate_lr, y_pred_val_lr))"
   ]
  },
  {
   "cell_type": "markdown",
   "id": "8f08579f-026c-455f-b852-445c7080d8d6",
   "metadata": {},
   "source": [
    "### Validate Summary:"
   ]
  },
  {
   "cell_type": "markdown",
   "id": "b4468a58-3eb5-4846-8c22-15ca8ac6be77",
   "metadata": {
    "tags": []
   },
   "source": [
    "## Test Final Model"
   ]
  },
  {
   "cell_type": "code",
   "execution_count": 56,
   "id": "0a6c7151-82aa-4a5f-9142-274423319207",
   "metadata": {
    "tags": []
   },
   "outputs": [
    {
     "name": "stdout",
     "output_type": "stream",
     "text": [
      "              precision    recall  f1-score   support\n",
      "\n",
      "           0       0.81      0.52      0.63     34394\n",
      "           1       0.81      0.94      0.87     73147\n",
      "\n",
      "    accuracy                           0.81    107541\n",
      "   macro avg       0.81      0.73      0.75    107541\n",
      "weighted avg       0.81      0.81      0.79    107541\n",
      "\n"
     ]
    }
   ],
   "source": [
    "# Test on Decision Tree\n",
    "x_test_dt, y_test_dt, = wrangle.model_split(model_validate, 'retained')\n",
    "y_pred_test_dt = dtc.predict(x_test_dt)\n",
    "\n",
    "print(classification_report(y_test_dt, y_pred_test_dt))"
   ]
  },
  {
   "cell_type": "markdown",
   "id": "8419b766-77b7-4f08-9c53-e2cb44225bf4",
   "metadata": {},
   "source": [
    "### Test Final Model Summary:"
   ]
  },
  {
   "cell_type": "markdown",
   "id": "84fbc52a-7f41-418f-8719-1e914bce4e72",
   "metadata": {},
   "source": [
    "## Modeling Summary:"
   ]
  },
  {
   "cell_type": "markdown",
   "id": "e457f447-c4b9-4cbc-bef0-116f587a6d1e",
   "metadata": {
    "tags": []
   },
   "source": [
    "# Conclusion:"
   ]
  }
 ],
 "metadata": {
  "kernelspec": {
   "display_name": "Python 3 (ipykernel)",
   "language": "python",
   "name": "python3"
  },
  "language_info": {
   "codemirror_mode": {
    "name": "ipython",
    "version": 3
   },
   "file_extension": ".py",
   "mimetype": "text/x-python",
   "name": "python",
   "nbconvert_exporter": "python",
   "pygments_lexer": "ipython3",
   "version": "3.9.7"
  }
 },
 "nbformat": 4,
 "nbformat_minor": 5
}
